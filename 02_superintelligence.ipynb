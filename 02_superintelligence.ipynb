{
  "nbformat": 4,
  "nbformat_minor": 0,
  "metadata": {
    "colab": {
      "name": "02_superintelligence.ipynb",
      "provenance": [],
      "collapsed_sections": [],
      "authorship_tag": "ABX9TyNi+0AxyiArLG96cZARg2dy",
      "include_colab_link": true
    },
    "kernelspec": {
      "name": "python3",
      "display_name": "Python 3"
    },
    "language_info": {
      "name": "python"
    }
  },
  "cells": [
    {
      "cell_type": "markdown",
      "metadata": {
        "id": "view-in-github",
        "colab_type": "text"
      },
      "source": [
        "<a href=\"https://colab.research.google.com/github/michaelsyao/AI_in_Finance/blob/main/02_superintelligence.ipynb\" target=\"_parent\"><img src=\"https://colab.research.google.com/assets/colab-badge.svg\" alt=\"Open In Colab\"/></a>"
      ]
    },
    {
      "cell_type": "code",
      "execution_count": null,
      "metadata": {
        "id": "NErG_v0wQxU_"
      },
      "outputs": [],
      "source": [
        "import gym\n",
        "import numpy as np\n",
        "import pandas as pd\n",
        "np.random.seed(100)"
      ]
    },
    {
      "cell_type": "code",
      "source": [
        "env = gym.make('CartPole-v0')"
      ],
      "metadata": {
        "id": "YodYS2twQ9NF"
      },
      "execution_count": null,
      "outputs": []
    },
    {
      "cell_type": "code",
      "source": [
        "env.seed(100)"
      ],
      "metadata": {
        "colab": {
          "base_uri": "https://localhost:8080/"
        },
        "id": "yjHSXdIRQ_d5",
        "outputId": "77ae818a-7b4d-4ce1-bc7e-111e232a39dc"
      },
      "execution_count": null,
      "outputs": [
        {
          "output_type": "execute_result",
          "data": {
            "text/plain": [
              "[100]"
            ]
          },
          "metadata": {},
          "execution_count": 3
        }
      ]
    },
    {
      "cell_type": "code",
      "source": [
        "action_size = env.action_space.n\n",
        "action_size"
      ],
      "metadata": {
        "id": "fvujgULVRB0e",
        "colab": {
          "base_uri": "https://localhost:8080/"
        },
        "outputId": "b9ffe39a-dba7-4f2b-e311-9b77e1a90a9a"
      },
      "execution_count": null,
      "outputs": [
        {
          "output_type": "execute_result",
          "data": {
            "text/plain": [
              "2"
            ]
          },
          "metadata": {},
          "execution_count": 4
        }
      ]
    },
    {
      "cell_type": "code",
      "source": [
        "[env.action_space.sample() for _ in range(10)]"
      ],
      "metadata": {
        "colab": {
          "base_uri": "https://localhost:8080/"
        },
        "id": "VtEGjG-drRUZ",
        "outputId": "d838d721-d92b-4e38-8700-f279f239a2ac"
      },
      "execution_count": null,
      "outputs": [
        {
          "output_type": "execute_result",
          "data": {
            "text/plain": [
              "[0, 0, 0, 1, 0, 0, 1, 0, 0, 1]"
            ]
          },
          "metadata": {},
          "execution_count": 10
        }
      ]
    },
    {
      "cell_type": "code",
      "source": [
        "state_size = env.observation_space.shape[0]\n",
        "state_size"
      ],
      "metadata": {
        "colab": {
          "base_uri": "https://localhost:8080/"
        },
        "id": "9NGTuazOrTZH",
        "outputId": "03cdd222-5deb-471d-dc7b-570334145538"
      },
      "execution_count": null,
      "outputs": [
        {
          "output_type": "execute_result",
          "data": {
            "text/plain": [
              "4"
            ]
          },
          "metadata": {},
          "execution_count": 6
        }
      ]
    },
    {
      "cell_type": "code",
      "source": [
        "state = env.reset()\n",
        "state  # [cart position, cart velocity, pole angle, pole angular velocity]"
      ],
      "metadata": {
        "colab": {
          "base_uri": "https://localhost:8080/"
        },
        "id": "L0icJ477rU-h",
        "outputId": "efaf5fea-3b5d-4b35-efce-5294cf0bf626"
      },
      "execution_count": null,
      "outputs": [
        {
          "output_type": "execute_result",
          "data": {
            "text/plain": [
              "array([ 0.00767905,  0.00816652, -0.00339356, -0.00722042])"
            ]
          },
          "metadata": {},
          "execution_count": 12
        }
      ]
    },
    {
      "cell_type": "code",
      "source": [
        "state, reward, done, _ = env.step(env.action_space.sample())\n",
        "state, reward, done, _"
      ],
      "metadata": {
        "colab": {
          "base_uri": "https://localhost:8080/"
        },
        "id": "NfCTkRD-rW_Y",
        "outputId": "63fde266-e557-40ae-baa6-b5e8c29e89a8"
      },
      "execution_count": null,
      "outputs": [
        {
          "output_type": "execute_result",
          "data": {
            "text/plain": [
              "(array([ 0.00784239,  0.20333697, -0.00353797, -0.30097212]), 1.0, False, {})"
            ]
          },
          "metadata": {},
          "execution_count": 13
        }
      ]
    },
    {
      "cell_type": "code",
      "source": [
        "env.step?"
      ],
      "metadata": {
        "id": "H9T59thXtYgM"
      },
      "execution_count": null,
      "outputs": []
    },
    {
      "cell_type": "code",
      "source": [
        "%%time\n",
        "data = pd.DataFrame()\n",
        "state = env.reset()\n",
        "length = []\n",
        "for run in range(25000):\n",
        "    done = False\n",
        "    prev_state = env.reset()\n",
        "    treward = 1\n",
        "    results = []\n",
        "    while not done:\n",
        "        action = env.action_space.sample()\n",
        "        state, reward, done, _ = env.step(action)\n",
        "        results.append({'s1': prev_state[0], 's2': prev_state[1],\n",
        "                        's3': prev_state[2], 's4': prev_state[3],\n",
        "                        'a': action, 'r': reward})\n",
        "        treward += reward if not done else 0\n",
        "        prev_state = state\n",
        "    if treward >= 110:\n",
        "        data = data.append(pd.DataFrame(results))\n",
        "        length.append(treward)"
      ],
      "metadata": {
        "colab": {
          "base_uri": "https://localhost:8080/"
        },
        "id": "1rN5D6xrrYv-",
        "outputId": "d9e5f655-e520-4804-f863-defe4813e3a9"
      },
      "execution_count": null,
      "outputs": [
        {
          "output_type": "stream",
          "name": "stdout",
          "text": [
            "CPU times: user 9.43 s, sys: 337 ms, total: 9.77 s\n",
            "Wall time: 9.39 s\n"
          ]
        }
      ]
    },
    {
      "cell_type": "code",
      "source": [
        "length"
      ],
      "metadata": {
        "colab": {
          "base_uri": "https://localhost:8080/"
        },
        "id": "pSdvdd9H8Ut7",
        "outputId": "f0a8d7a8-1ad8-4740-b0e4-12ed12b0ad80"
      },
      "execution_count": null,
      "outputs": [
        {
          "output_type": "execute_result",
          "data": {
            "text/plain": [
              "[111.0, 144.0, 124.0, 124.0, 110.0, 115.0]"
            ]
          },
          "metadata": {},
          "execution_count": 16
        }
      ]
    },
    {
      "cell_type": "code",
      "source": [
        "np.array(length).mean()"
      ],
      "metadata": {
        "colab": {
          "base_uri": "https://localhost:8080/"
        },
        "id": "i6-uALTg8Xmu",
        "outputId": "899b2258-7ad5-4142-9e83-38b133b97f54"
      },
      "execution_count": null,
      "outputs": [
        {
          "output_type": "execute_result",
          "data": {
            "text/plain": [
              "121.33333333333333"
            ]
          },
          "metadata": {},
          "execution_count": 17
        }
      ]
    },
    {
      "cell_type": "code",
      "source": [
        "data.info()"
      ],
      "metadata": {
        "colab": {
          "base_uri": "https://localhost:8080/"
        },
        "id": "VdyqcNHu8Za8",
        "outputId": "13ae7882-092f-4889-8849-b8f79212a7c9"
      },
      "execution_count": null,
      "outputs": [
        {
          "output_type": "stream",
          "name": "stdout",
          "text": [
            "<class 'pandas.core.frame.DataFrame'>\n",
            "Int64Index: 728 entries, 0 to 114\n",
            "Data columns (total 6 columns):\n",
            " #   Column  Non-Null Count  Dtype  \n",
            "---  ------  --------------  -----  \n",
            " 0   s1      728 non-null    float64\n",
            " 1   s2      728 non-null    float64\n",
            " 2   s3      728 non-null    float64\n",
            " 3   s4      728 non-null    float64\n",
            " 4   a       728 non-null    int64  \n",
            " 5   r       728 non-null    float64\n",
            "dtypes: float64(5), int64(1)\n",
            "memory usage: 39.8 KB\n"
          ]
        }
      ]
    },
    {
      "cell_type": "code",
      "source": [
        "np.array(length).sum()"
      ],
      "metadata": {
        "colab": {
          "base_uri": "https://localhost:8080/"
        },
        "id": "Ih_aTjsP8evU",
        "outputId": "fe7eec22-7fe5-4bf7-ef97-b7b9068b8394"
      },
      "execution_count": null,
      "outputs": [
        {
          "output_type": "execute_result",
          "data": {
            "text/plain": [
              "728.0"
            ]
          },
          "metadata": {},
          "execution_count": 19
        }
      ]
    },
    {
      "cell_type": "code",
      "source": [
        "data.tail()"
      ],
      "metadata": {
        "colab": {
          "base_uri": "https://localhost:8080/",
          "height": 206
        },
        "id": "pc6pRQF99CP_",
        "outputId": "fcdc8bb8-73d3-4435-fa3f-3861c0be937f"
      },
      "execution_count": null,
      "outputs": [
        {
          "output_type": "execute_result",
          "data": {
            "text/html": [
              "<div>\n",
              "<style scoped>\n",
              "    .dataframe tbody tr th:only-of-type {\n",
              "        vertical-align: middle;\n",
              "    }\n",
              "\n",
              "    .dataframe tbody tr th {\n",
              "        vertical-align: top;\n",
              "    }\n",
              "\n",
              "    .dataframe thead th {\n",
              "        text-align: right;\n",
              "    }\n",
              "</style>\n",
              "<table border=\"1\" class=\"dataframe\">\n",
              "  <thead>\n",
              "    <tr style=\"text-align: right;\">\n",
              "      <th></th>\n",
              "      <th>s1</th>\n",
              "      <th>s2</th>\n",
              "      <th>s3</th>\n",
              "      <th>s4</th>\n",
              "      <th>a</th>\n",
              "      <th>r</th>\n",
              "    </tr>\n",
              "  </thead>\n",
              "  <tbody>\n",
              "    <tr>\n",
              "      <th>110</th>\n",
              "      <td>-0.705951</td>\n",
              "      <td>-0.017090</td>\n",
              "      <td>-0.174099</td>\n",
              "      <td>-0.495957</td>\n",
              "      <td>0</td>\n",
              "      <td>1.0</td>\n",
              "    </tr>\n",
              "    <tr>\n",
              "      <th>111</th>\n",
              "      <td>-0.706293</td>\n",
              "      <td>-0.209384</td>\n",
              "      <td>-0.184018</td>\n",
              "      <td>-0.262802</td>\n",
              "      <td>1</td>\n",
              "      <td>1.0</td>\n",
              "    </tr>\n",
              "    <tr>\n",
              "      <th>112</th>\n",
              "      <td>-0.710480</td>\n",
              "      <td>-0.012178</td>\n",
              "      <td>-0.189274</td>\n",
              "      <td>-0.607414</td>\n",
              "      <td>0</td>\n",
              "      <td>1.0</td>\n",
              "    </tr>\n",
              "    <tr>\n",
              "      <th>113</th>\n",
              "      <td>-0.710724</td>\n",
              "      <td>-0.204220</td>\n",
              "      <td>-0.201422</td>\n",
              "      <td>-0.379810</td>\n",
              "      <td>1</td>\n",
              "      <td>1.0</td>\n",
              "    </tr>\n",
              "    <tr>\n",
              "      <th>114</th>\n",
              "      <td>-0.714808</td>\n",
              "      <td>-0.006893</td>\n",
              "      <td>-0.209018</td>\n",
              "      <td>-0.728635</td>\n",
              "      <td>1</td>\n",
              "      <td>1.0</td>\n",
              "    </tr>\n",
              "  </tbody>\n",
              "</table>\n",
              "</div>"
            ],
            "text/plain": [
              "           s1        s2        s3        s4  a    r\n",
              "110 -0.705951 -0.017090 -0.174099 -0.495957  0  1.0\n",
              "111 -0.706293 -0.209384 -0.184018 -0.262802  1  1.0\n",
              "112 -0.710480 -0.012178 -0.189274 -0.607414  0  1.0\n",
              "113 -0.710724 -0.204220 -0.201422 -0.379810  1  1.0\n",
              "114 -0.714808 -0.006893 -0.209018 -0.728635  1  1.0"
            ]
          },
          "metadata": {},
          "execution_count": 20
        }
      ]
    },
    {
      "cell_type": "code",
      "source": [
        "np.array(length).cumsum()"
      ],
      "metadata": {
        "colab": {
          "base_uri": "https://localhost:8080/"
        },
        "id": "QoRNc6Nj9OBp",
        "outputId": "efa5b201-3627-497d-b97b-d2ec85b1f45d"
      },
      "execution_count": null,
      "outputs": [
        {
          "output_type": "execute_result",
          "data": {
            "text/plain": [
              "array([111., 255., 379., 503., 613., 728.])"
            ]
          },
          "metadata": {},
          "execution_count": 22
        }
      ]
    },
    {
      "cell_type": "code",
      "source": [
        "length_cumsum = np.array(length).cumsum()"
      ],
      "metadata": {
        "id": "2mdumcnd9WQF"
      },
      "execution_count": null,
      "outputs": []
    },
    {
      "cell_type": "code",
      "source": [
        "for i in range(len(length_cumsum)):\n",
        "  print(data.iloc[[int(length_cumsum[i])-1]])\n",
        "  print()"
      ],
      "metadata": {
        "colab": {
          "base_uri": "https://localhost:8080/"
        },
        "id": "-WtSnY7g9gnk",
        "outputId": "9f48cbd6-e11c-478f-d3f2-573cfbf72bf4"
      },
      "execution_count": null,
      "outputs": [
        {
          "output_type": "stream",
          "name": "stdout",
          "text": [
            "           s1        s2        s3        s4  a    r\n",
            "110  0.061613 -1.149625  0.194306  1.743786  0  1.0\n",
            "\n",
            "           s1        s2        s3        s4  a    r\n",
            "143  0.291524  0.982865 -0.209023 -1.531715  1  1.0\n",
            "\n",
            "           s1        s2        s3        s4  a    r\n",
            "123 -1.516885 -1.028251  0.201864  1.696197  1  1.0\n",
            "\n",
            "           s1       s2       s3       s4  a    r\n",
            "123  2.152674  2.38401 -0.18995 -1.35057  1  1.0\n",
            "\n",
            "          s1        s2        s3       s4  a    r\n",
            "109 -0.63553 -1.000287  0.191542  1.19692  1  1.0\n",
            "\n",
            "           s1        s2        s3        s4  a    r\n",
            "114 -0.714808 -0.006893 -0.209018 -0.728635  1  1.0\n",
            "\n"
          ]
        }
      ]
    },
    {
      "cell_type": "code",
      "source": [
        "12*2*np.pi / 360"
      ],
      "metadata": {
        "colab": {
          "base_uri": "https://localhost:8080/"
        },
        "id": "REKuxfdW9-6X",
        "outputId": "1fa96ae4-c1a9-48e7-a048-3079013ba699"
      },
      "execution_count": null,
      "outputs": [
        {
          "output_type": "execute_result",
          "data": {
            "text/plain": [
              "0.20943951023931953"
            ]
          },
          "metadata": {},
          "execution_count": 25
        }
      ]
    },
    {
      "cell_type": "code",
      "source": [
        "from pylab import plt\n",
        "plt.style.use('seaborn')\n",
        "%matplotlib inline"
      ],
      "metadata": {
        "id": "7AuFy_au9GAR"
      },
      "execution_count": null,
      "outputs": []
    },
    {
      "cell_type": "code",
      "source": [
        "import tensorflow as tf\n",
        "tf.random.set_seed(100)"
      ],
      "metadata": {
        "id": "5vWUsF4OAI2N"
      },
      "execution_count": null,
      "outputs": []
    },
    {
      "cell_type": "code",
      "source": [
        "from keras.layers import Dense\n",
        "from keras.models import Sequential"
      ],
      "metadata": {
        "id": "xNCINCUjAVof"
      },
      "execution_count": null,
      "outputs": []
    },
    {
      "cell_type": "code",
      "source": [
        "model = Sequential()\n",
        "model.add(Dense(64, activation='relu',\n",
        "                input_dim=env.observation_space.shape[0]))\n",
        "model.add(Dense(1, activation='sigmoid'))\n",
        "model.compile(loss='binary_crossentropy',\n",
        "              optimizer='adam',\n",
        "              metrics=['acc'])"
      ],
      "metadata": {
        "id": "C4-kjQhSAYEJ"
      },
      "execution_count": null,
      "outputs": []
    },
    {
      "cell_type": "code",
      "source": [
        "model.summary()"
      ],
      "metadata": {
        "colab": {
          "base_uri": "https://localhost:8080/"
        },
        "id": "XF9wHkXbAZx9",
        "outputId": "52244a06-4a3c-4eb5-b84a-18a88afaaf8a"
      },
      "execution_count": null,
      "outputs": [
        {
          "output_type": "stream",
          "name": "stdout",
          "text": [
            "Model: \"sequential_1\"\n",
            "_________________________________________________________________\n",
            " Layer (type)                Output Shape              Param #   \n",
            "=================================================================\n",
            " dense_2 (Dense)             (None, 64)                320       \n",
            "                                                                 \n",
            " dense_3 (Dense)             (None, 1)                 65        \n",
            "                                                                 \n",
            "=================================================================\n",
            "Total params: 385\n",
            "Trainable params: 385\n",
            "Non-trainable params: 0\n",
            "_________________________________________________________________\n"
          ]
        }
      ]
    },
    {
      "cell_type": "code",
      "source": [
        "%%time\n",
        "model.fit(data[['s1', 's2', 's3', 's4']], data['a'],\n",
        "          epochs=25, verbose=False, validation_split=0.2)"
      ],
      "metadata": {
        "colab": {
          "base_uri": "https://localhost:8080/"
        },
        "id": "ARI0RGtBFfuY",
        "outputId": "478a97be-c50b-4dac-afd9-5efbd950c636"
      },
      "execution_count": null,
      "outputs": [
        {
          "output_type": "stream",
          "name": "stdout",
          "text": [
            "CPU times: user 1.54 s, sys: 62.5 ms, total: 1.6 s\n",
            "Wall time: 1.88 s\n"
          ]
        },
        {
          "output_type": "execute_result",
          "data": {
            "text/plain": [
              "<keras.callbacks.History at 0x7f0a95f02b10>"
            ]
          },
          "metadata": {},
          "execution_count": 32
        }
      ]
    },
    {
      "cell_type": "code",
      "source": [
        "res = pd.DataFrame(model.history.history)\n",
        "res.tail(3)"
      ],
      "metadata": {
        "colab": {
          "base_uri": "https://localhost:8080/",
          "height": 143
        },
        "id": "fZGAkPixF69A",
        "outputId": "06370290-99b5-4d92-da08-6acea786aa1b"
      },
      "execution_count": null,
      "outputs": [
        {
          "output_type": "execute_result",
          "data": {
            "text/html": [
              "<div>\n",
              "<style scoped>\n",
              "    .dataframe tbody tr th:only-of-type {\n",
              "        vertical-align: middle;\n",
              "    }\n",
              "\n",
              "    .dataframe tbody tr th {\n",
              "        vertical-align: top;\n",
              "    }\n",
              "\n",
              "    .dataframe thead th {\n",
              "        text-align: right;\n",
              "    }\n",
              "</style>\n",
              "<table border=\"1\" class=\"dataframe\">\n",
              "  <thead>\n",
              "    <tr style=\"text-align: right;\">\n",
              "      <th></th>\n",
              "      <th>loss</th>\n",
              "      <th>acc</th>\n",
              "      <th>val_loss</th>\n",
              "      <th>val_acc</th>\n",
              "    </tr>\n",
              "  </thead>\n",
              "  <tbody>\n",
              "    <tr>\n",
              "      <th>22</th>\n",
              "      <td>0.653544</td>\n",
              "      <td>0.608247</td>\n",
              "      <td>0.656452</td>\n",
              "      <td>0.602740</td>\n",
              "    </tr>\n",
              "    <tr>\n",
              "      <th>23</th>\n",
              "      <td>0.653062</td>\n",
              "      <td>0.606529</td>\n",
              "      <td>0.656126</td>\n",
              "      <td>0.589041</td>\n",
              "    </tr>\n",
              "    <tr>\n",
              "      <th>24</th>\n",
              "      <td>0.653088</td>\n",
              "      <td>0.603093</td>\n",
              "      <td>0.656027</td>\n",
              "      <td>0.602740</td>\n",
              "    </tr>\n",
              "  </tbody>\n",
              "</table>\n",
              "</div>"
            ],
            "text/plain": [
              "        loss       acc  val_loss   val_acc\n",
              "22  0.653544  0.608247  0.656452  0.602740\n",
              "23  0.653062  0.606529  0.656126  0.589041\n",
              "24  0.653088  0.603093  0.656027  0.602740"
            ]
          },
          "metadata": {},
          "execution_count": 33
        }
      ]
    },
    {
      "cell_type": "code",
      "source": [
        "res.plot(figsize=(10, 6), style='--');"
      ],
      "metadata": {
        "colab": {
          "base_uri": "https://localhost:8080/",
          "height": 374
        },
        "id": "Q9ad77jHF9ln",
        "outputId": "f81c85f1-8882-42db-87bd-f40504a5afb6"
      },
      "execution_count": null,
      "outputs": [
        {
          "output_type": "display_data",
          "data": {
            "image/png": "[encoded data removed]",
            "text/plain": [
              "<Figure size 720x432 with 1 Axes>"
            ]
          },
          "metadata": {
            "needs_background": "light"
          }
        }
      ]
    },
    {
      "cell_type": "code",
      "source": [
        "def epoch():\n",
        "    done = False\n",
        "    state = env.reset()\n",
        "    treward = 1\n",
        "    while not done:\n",
        "        action = np.where(model.predict(np.atleast_2d(state))[0][0] > 0.5, 1, 0)\n",
        "        state, reward, done, _ = env.step(action)\n",
        "        treward += reward if not done else 0\n",
        "    return treward"
      ],
      "metadata": {
        "id": "6qa2ep_zHAiw"
      },
      "execution_count": null,
      "outputs": []
    },
    {
      "cell_type": "code",
      "source": [
        "length"
      ],
      "metadata": {
        "colab": {
          "base_uri": "https://localhost:8080/"
        },
        "id": "tkr3X0W3bxD2",
        "outputId": "2ec9d315-0bec-4d0d-9f1d-2d179dd0bc68"
      },
      "execution_count": null,
      "outputs": [
        {
          "output_type": "execute_result",
          "data": {
            "text/plain": [
              "[111.0, 144.0, 124.0, 124.0, 110.0, 115.0]"
            ]
          },
          "metadata": {},
          "execution_count": 42
        }
      ]
    },
    {
      "cell_type": "code",
      "source": [
        "epoch()"
      ],
      "metadata": {
        "colab": {
          "base_uri": "https://localhost:8080/"
        },
        "id": "d2mq0l4CHZKg",
        "outputId": "bf5daa20-6bba-4c95-fe7b-7073541d498a"
      },
      "execution_count": null,
      "outputs": [
        {
          "output_type": "execute_result",
          "data": {
            "text/plain": [
              "200.0"
            ]
          },
          "metadata": {},
          "execution_count": 36
        }
      ]
    },
    {
      "cell_type": "code",
      "source": [
        "res = np.array([epoch() for _ in range(100)])\n",
        "res"
      ],
      "metadata": {
        "colab": {
          "base_uri": "https://localhost:8080/"
        },
        "id": "Z-9YVttHHaiy",
        "outputId": "f422bbef-f304-4975-fb7b-5e5334df3efc"
      },
      "execution_count": null,
      "outputs": [
        {
          "output_type": "execute_result",
          "data": {
            "text/plain": [
              "array([200., 200., 200., 200., 200., 200., 200., 200., 200., 200., 200.,\n",
              "       200., 200., 200., 200., 200., 200., 200., 200., 200., 200., 200.,\n",
              "       200., 200., 200., 200., 200., 200., 200., 200., 200., 200., 200.,\n",
              "       200., 200., 200., 200., 200., 200., 200., 200., 200., 200., 200.,\n",
              "       200., 200., 200., 200., 200., 200., 200., 200., 200., 200., 200.,\n",
              "       200., 200., 200., 200., 200., 200., 200., 200., 200., 200., 200.,\n",
              "       200., 200., 200., 200., 200., 200., 200., 200., 200., 200., 200.,\n",
              "       200., 200., 200., 200., 200., 200., 200., 200., 200., 200., 200.,\n",
              "       200., 200., 200., 200., 200., 200., 200., 200., 200., 200., 200.,\n",
              "       200.])"
            ]
          },
          "metadata": {},
          "execution_count": 37
        }
      ]
    },
    {
      "cell_type": "code",
      "source": [
        "res.mean()"
      ],
      "metadata": {
        "colab": {
          "base_uri": "https://localhost:8080/"
        },
        "id": "MMcjrNibHcKP",
        "outputId": "c01b8d7a-f7af-422b-fecb-c3e746bb0fb1"
      },
      "execution_count": null,
      "outputs": [
        {
          "output_type": "execute_result",
          "data": {
            "text/plain": [
              "200.0"
            ]
          },
          "metadata": {},
          "execution_count": 38
        }
      ]
    },
    {
      "cell_type": "code",
      "source": [
        "np.array(length).mean()"
      ],
      "metadata": {
        "colab": {
          "base_uri": "https://localhost:8080/"
        },
        "id": "TWPvLoWLHeKz",
        "outputId": "bcbd8bac-ef0c-4789-cc9a-5b3b7b191cea"
      },
      "execution_count": null,
      "outputs": [
        {
          "output_type": "execute_result",
          "data": {
            "text/plain": [
              "121.33333333333333"
            ]
          },
          "metadata": {},
          "execution_count": 39
        }
      ]
    },
    {
      "cell_type": "code",
      "source": [
        "data.info()"
      ],
      "metadata": {
        "colab": {
          "base_uri": "https://localhost:8080/"
        },
        "id": "4G37xXGRbZxJ",
        "outputId": "286b0dc0-1108-48c2-89e9-4f74ab8c68ad"
      },
      "execution_count": null,
      "outputs": [
        {
          "output_type": "stream",
          "name": "stdout",
          "text": [
            "<class 'pandas.core.frame.DataFrame'>\n",
            "Int64Index: 728 entries, 0 to 114\n",
            "Data columns (total 6 columns):\n",
            " #   Column  Non-Null Count  Dtype  \n",
            "---  ------  --------------  -----  \n",
            " 0   s1      728 non-null    float64\n",
            " 1   s2      728 non-null    float64\n",
            " 2   s3      728 non-null    float64\n",
            " 3   s4      728 non-null    float64\n",
            " 4   a       728 non-null    int64  \n",
            " 5   r       728 non-null    float64\n",
            "dtypes: float64(5), int64(1)\n",
            "memory usage: 39.8 KB\n"
          ]
        }
      ]
    },
    {
      "cell_type": "code",
      "source": [
        "np.array(length).sum()"
      ],
      "metadata": {
        "colab": {
          "base_uri": "https://localhost:8080/"
        },
        "id": "xPe6ohsybcfz",
        "outputId": "3fddf907-0d1a-4e2f-debb-7e2bfabe2bee"
      },
      "execution_count": null,
      "outputs": [
        {
          "output_type": "execute_result",
          "data": {
            "text/plain": [
              "728.0"
            ]
          },
          "metadata": {},
          "execution_count": 44
        }
      ]
    },
    {
      "cell_type": "code",
      "source": [
        "data.tail()"
      ],
      "metadata": {
        "colab": {
          "base_uri": "https://localhost:8080/",
          "height": 206
        },
        "id": "GFOYVc75bnle",
        "outputId": "97fa6e1d-ae2b-4a3b-9b4c-cdcbe5c688ab"
      },
      "execution_count": null,
      "outputs": [
        {
          "output_type": "execute_result",
          "data": {
            "text/html": [
              "<div>\n",
              "<style scoped>\n",
              "    .dataframe tbody tr th:only-of-type {\n",
              "        vertical-align: middle;\n",
              "    }\n",
              "\n",
              "    .dataframe tbody tr th {\n",
              "        vertical-align: top;\n",
              "    }\n",
              "\n",
              "    .dataframe thead th {\n",
              "        text-align: right;\n",
              "    }\n",
              "</style>\n",
              "<table border=\"1\" class=\"dataframe\">\n",
              "  <thead>\n",
              "    <tr style=\"text-align: right;\">\n",
              "      <th></th>\n",
              "      <th>s1</th>\n",
              "      <th>s2</th>\n",
              "      <th>s3</th>\n",
              "      <th>s4</th>\n",
              "      <th>a</th>\n",
              "      <th>r</th>\n",
              "    </tr>\n",
              "  </thead>\n",
              "  <tbody>\n",
              "    <tr>\n",
              "      <th>110</th>\n",
              "      <td>-0.705951</td>\n",
              "      <td>-0.017090</td>\n",
              "      <td>-0.174099</td>\n",
              "      <td>-0.495957</td>\n",
              "      <td>0</td>\n",
              "      <td>1.0</td>\n",
              "    </tr>\n",
              "    <tr>\n",
              "      <th>111</th>\n",
              "      <td>-0.706293</td>\n",
              "      <td>-0.209384</td>\n",
              "      <td>-0.184018</td>\n",
              "      <td>-0.262802</td>\n",
              "      <td>1</td>\n",
              "      <td>1.0</td>\n",
              "    </tr>\n",
              "    <tr>\n",
              "      <th>112</th>\n",
              "      <td>-0.710480</td>\n",
              "      <td>-0.012178</td>\n",
              "      <td>-0.189274</td>\n",
              "      <td>-0.607414</td>\n",
              "      <td>0</td>\n",
              "      <td>1.0</td>\n",
              "    </tr>\n",
              "    <tr>\n",
              "      <th>113</th>\n",
              "      <td>-0.710724</td>\n",
              "      <td>-0.204220</td>\n",
              "      <td>-0.201422</td>\n",
              "      <td>-0.379810</td>\n",
              "      <td>1</td>\n",
              "      <td>1.0</td>\n",
              "    </tr>\n",
              "    <tr>\n",
              "      <th>114</th>\n",
              "      <td>-0.714808</td>\n",
              "      <td>-0.006893</td>\n",
              "      <td>-0.209018</td>\n",
              "      <td>-0.728635</td>\n",
              "      <td>1</td>\n",
              "      <td>1.0</td>\n",
              "    </tr>\n",
              "  </tbody>\n",
              "</table>\n",
              "</div>"
            ],
            "text/plain": [
              "           s1        s2        s3        s4  a    r\n",
              "110 -0.705951 -0.017090 -0.174099 -0.495957  0  1.0\n",
              "111 -0.706293 -0.209384 -0.184018 -0.262802  1  1.0\n",
              "112 -0.710480 -0.012178 -0.189274 -0.607414  0  1.0\n",
              "113 -0.710724 -0.204220 -0.201422 -0.379810  1  1.0\n",
              "114 -0.714808 -0.006893 -0.209018 -0.728635  1  1.0"
            ]
          },
          "metadata": {},
          "execution_count": 46
        }
      ]
    },
    {
      "cell_type": "code",
      "source": [
        "np.array(length).cumsum()"
      ],
      "metadata": {
        "colab": {
          "base_uri": "https://localhost:8080/"
        },
        "id": "M3hNEktfcDBp",
        "outputId": "6cdee7c9-e26e-4a02-945d-64db6f1741fd"
      },
      "execution_count": null,
      "outputs": [
        {
          "output_type": "execute_result",
          "data": {
            "text/plain": [
              "array([111., 255., 379., 503., 613., 728.])"
            ]
          },
          "metadata": {},
          "execution_count": 47
        }
      ]
    },
    {
      "cell_type": "code",
      "source": [
        "length_cumsum = np.array(length).cumsum()"
      ],
      "metadata": {
        "id": "KKzPhl4mcM6d"
      },
      "execution_count": null,
      "outputs": []
    },
    {
      "cell_type": "code",
      "source": [
        "for i in range(len(length_cumsum)):\n",
        "  print(data.iloc[[int(length_cumsum[i])-1]])\n",
        "  print()"
      ],
      "metadata": {
        "colab": {
          "base_uri": "https://localhost:8080/"
        },
        "id": "yqDKF8r9cVpo",
        "outputId": "2eb2444a-6e90-4f02-f097-ef7042daabe5"
      },
      "execution_count": null,
      "outputs": [
        {
          "output_type": "stream",
          "name": "stdout",
          "text": [
            "           s1        s2        s3        s4  a    r\n",
            "110  0.061613 -1.149625  0.194306  1.743786  0  1.0\n",
            "\n",
            "           s1        s2        s3        s4  a    r\n",
            "143  0.291524  0.982865 -0.209023 -1.531715  1  1.0\n",
            "\n",
            "           s1        s2        s3        s4  a    r\n",
            "123 -1.516885 -1.028251  0.201864  1.696197  1  1.0\n",
            "\n",
            "           s1       s2       s3       s4  a    r\n",
            "123  2.152674  2.38401 -0.18995 -1.35057  1  1.0\n",
            "\n",
            "          s1        s2        s3       s4  a    r\n",
            "109 -0.63553 -1.000287  0.191542  1.19692  1  1.0\n",
            "\n",
            "           s1        s2        s3        s4  a    r\n",
            "114 -0.714808 -0.006893 -0.209018 -0.728635  1  1.0\n",
            "\n"
          ]
        }
      ]
    },
    {
      "cell_type": "code",
      "source": [
        ""
      ],
      "metadata": {
        "id": "TSbG_wW8cjh6"
      },
      "execution_count": null,
      "outputs": []
    }
  ]
}