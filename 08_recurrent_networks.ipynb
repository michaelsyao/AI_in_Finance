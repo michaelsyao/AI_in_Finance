{
  "nbformat": 4,
  "nbformat_minor": 0,
  "metadata": {
    "colab": {
      "name": "08_recurrent_networks.ipynb",
      "provenance": [],
      "authorship_tag": "ABX9TyOCUhm8B+rq9btT/JSaahdq",
      "include_colab_link": true
    },
    "kernelspec": {
      "name": "python3",
      "display_name": "Python 3"
    },
    "language_info": {
      "name": "python"
    }
  },
  "cells": [
    {
      "cell_type": "markdown",
      "metadata": {
        "id": "view-in-github",
        "colab_type": "text"
      },
      "source": [
        "<a href=\"https://colab.research.google.com/github/michaelsyao/AI_in_Finance/blob/main/08_recurrent_networks.ipynb\" target=\"_parent\"><img src=\"https://colab.research.google.com/assets/colab-badge.svg\" alt=\"Open In Colab\"/></a>"
      ]
    },
    {
      "cell_type": "markdown",
      "source": [
        "## First Example"
      ],
      "metadata": {
        "id": "LwO2GxqyzUOr"
      }
    },
    {
      "cell_type": "code",
      "source": [
        "import os\n",
        "import random\n",
        "import numpy as np\n",
        "import pandas as pd\n",
        "import tensorflow as tf\n",
        "\n",
        "from pprint import pprint\n",
        "from pylab import plt, mpl\n",
        "\n",
        "plt.style.use('seaborn')\n",
        "mpl.rcParams['savefig.dpi'] = 300\n",
        "mpl.rcParams['font.family'] = 'serif'\n",
        "pd.set_option('precision', 4)\n",
        "np.set_printoptions(suppress=True, precision=4)\n",
        "os.environ['PYTHONHASHSEED'] = '0'"
      ],
      "metadata": {
        "id": "2yVX_5fOzUzZ"
      },
      "execution_count": 1,
      "outputs": []
    },
    {
      "cell_type": "code",
      "source": [
        "def set_seeds(seed=100):\n",
        "    random.seed(seed)\n",
        "    np.random.seed(seed)\n",
        "    tf.random.set_seed(seed)\n",
        "set_seeds()"
      ],
      "metadata": {
        "id": "YmE8brUK6eFa"
      },
      "execution_count": 2,
      "outputs": []
    },
    {
      "cell_type": "code",
      "source": [
        "a = np.arange(100)\n",
        "a"
      ],
      "metadata": {
        "colab": {
          "base_uri": "https://localhost:8080/"
        },
        "id": "8i7yzKki6gY5",
        "outputId": "ea2a6724-d3bc-4f30-b2ff-b0aa3adefdd3"
      },
      "execution_count": 3,
      "outputs": [
        {
          "output_type": "execute_result",
          "data": {
            "text/plain": [
              "array([ 0,  1,  2,  3,  4,  5,  6,  7,  8,  9, 10, 11, 12, 13, 14, 15, 16,\n",
              "       17, 18, 19, 20, 21, 22, 23, 24, 25, 26, 27, 28, 29, 30, 31, 32, 33,\n",
              "       34, 35, 36, 37, 38, 39, 40, 41, 42, 43, 44, 45, 46, 47, 48, 49, 50,\n",
              "       51, 52, 53, 54, 55, 56, 57, 58, 59, 60, 61, 62, 63, 64, 65, 66, 67,\n",
              "       68, 69, 70, 71, 72, 73, 74, 75, 76, 77, 78, 79, 80, 81, 82, 83, 84,\n",
              "       85, 86, 87, 88, 89, 90, 91, 92, 93, 94, 95, 96, 97, 98, 99])"
            ]
          },
          "metadata": {},
          "execution_count": 3
        }
      ]
    },
    {
      "cell_type": "code",
      "source": [
        "a = a.reshape((len(a), -1))"
      ],
      "metadata": {
        "id": "dB2RbE3I6jen"
      },
      "execution_count": 4,
      "outputs": []
    },
    {
      "cell_type": "code",
      "source": [
        "a.shape"
      ],
      "metadata": {
        "colab": {
          "base_uri": "https://localhost:8080/"
        },
        "id": "S18I6eIm60MF",
        "outputId": "d30032ba-9c71-47a0-89e7-d19b0ccec01f"
      },
      "execution_count": 5,
      "outputs": [
        {
          "output_type": "execute_result",
          "data": {
            "text/plain": [
              "(100, 1)"
            ]
          },
          "metadata": {},
          "execution_count": 5
        }
      ]
    },
    {
      "cell_type": "code",
      "source": [
        "a[:5]"
      ],
      "metadata": {
        "colab": {
          "base_uri": "https://localhost:8080/"
        },
        "id": "J9vn1XwG63iG",
        "outputId": "e9e3ff2b-4181-4843-f184-065a946e8ca1"
      },
      "execution_count": 6,
      "outputs": [
        {
          "output_type": "execute_result",
          "data": {
            "text/plain": [
              "array([[0],\n",
              "       [1],\n",
              "       [2],\n",
              "       [3],\n",
              "       [4]])"
            ]
          },
          "metadata": {},
          "execution_count": 6
        }
      ]
    },
    {
      "cell_type": "code",
      "source": [
        "from keras.preprocessing.sequence import TimeseriesGenerator"
      ],
      "metadata": {
        "id": "KxOHMEl064wm"
      },
      "execution_count": 7,
      "outputs": []
    },
    {
      "cell_type": "code",
      "source": [
        "TimeseriesGenerator?"
      ],
      "metadata": {
        "id": "ONQzkQ87HZhN"
      },
      "execution_count": 8,
      "outputs": []
    },
    {
      "cell_type": "code",
      "source": [
        "data = np.array([[i] for i in range(16)])\n",
        "targets = np.array([[i] for i in range(16)])"
      ],
      "metadata": {
        "id": "EYGS3LiTwSGb"
      },
      "execution_count": 47,
      "outputs": []
    },
    {
      "cell_type": "code",
      "source": [
        "data_gen = TimeseriesGenerator(data, targets,\n",
        "                               length = 10, sampling_rate=2,\n",
        "                               batch_size=2)\n",
        "pprint(list(data_gen))"
      ],
      "metadata": {
        "colab": {
          "base_uri": "https://localhost:8080/"
        },
        "id": "gl_o0Ve-wrbD",
        "outputId": "cf63beac-fc81-4de1-f21d-0368cf75d156"
      },
      "execution_count": 48,
      "outputs": [
        {
          "output_type": "stream",
          "name": "stdout",
          "text": [
            "[(array([[[0],\n",
            "        [2],\n",
            "        [4],\n",
            "        [6],\n",
            "        [8]],\n",
            "\n",
            "       [[1],\n",
            "        [3],\n",
            "        [5],\n",
            "        [7],\n",
            "        [9]]]),\n",
            "  array([[10],\n",
            "       [11]])),\n",
            " (array([[[ 2],\n",
            "        [ 4],\n",
            "        [ 6],\n",
            "        [ 8],\n",
            "        [10]],\n",
            "\n",
            "       [[ 3],\n",
            "        [ 5],\n",
            "        [ 7],\n",
            "        [ 9],\n",
            "        [11]]]),\n",
            "  array([[12],\n",
            "       [13]])),\n",
            " (array([[[ 4],\n",
            "        [ 6],\n",
            "        [ 8],\n",
            "        [10],\n",
            "        [12]],\n",
            "\n",
            "       [[ 5],\n",
            "        [ 7],\n",
            "        [ 9],\n",
            "        [11],\n",
            "        [13]]]),\n",
            "  array([[14],\n",
            "       [15]]))]\n"
          ]
        }
      ]
    },
    {
      "cell_type": "code",
      "source": [
        "data_gen = TimeseriesGenerator(data, targets,\n",
        "                               length = 10, sampling_rate=3,\n",
        "                               batch_size=2)\n",
        "pprint(list(data_gen))"
      ],
      "metadata": {
        "colab": {
          "base_uri": "https://localhost:8080/"
        },
        "id": "AI4Qg7dw5o07",
        "outputId": "e8aa7123-5449-4144-f8cb-edadef6ddee8"
      },
      "execution_count": 49,
      "outputs": [
        {
          "output_type": "stream",
          "name": "stdout",
          "text": [
            "[(array([[[ 0],\n",
            "        [ 3],\n",
            "        [ 6],\n",
            "        [ 9]],\n",
            "\n",
            "       [[ 1],\n",
            "        [ 4],\n",
            "        [ 7],\n",
            "        [10]]]),\n",
            "  array([[10],\n",
            "       [11]])),\n",
            " (array([[[ 2],\n",
            "        [ 5],\n",
            "        [ 8],\n",
            "        [11]],\n",
            "\n",
            "       [[ 3],\n",
            "        [ 6],\n",
            "        [ 9],\n",
            "        [12]]]),\n",
            "  array([[12],\n",
            "       [13]])),\n",
            " (array([[[ 4],\n",
            "        [ 7],\n",
            "        [10],\n",
            "        [13]],\n",
            "\n",
            "       [[ 5],\n",
            "        [ 8],\n",
            "        [11],\n",
            "        [14]]]),\n",
            "  array([[14],\n",
            "       [15]]))]\n"
          ]
        }
      ]
    },
    {
      "cell_type": "code",
      "source": [
        "lags = 3"
      ],
      "metadata": {
        "id": "RfY-YtIX66cj"
      },
      "execution_count": 50,
      "outputs": []
    },
    {
      "cell_type": "code",
      "source": [
        "g = TimeseriesGenerator(a, a, length=lags, batch_size=5)"
      ],
      "metadata": {
        "id": "mqyZeZKf67su"
      },
      "execution_count": 51,
      "outputs": []
    },
    {
      "cell_type": "code",
      "source": [
        "pprint(list(g)[0])"
      ],
      "metadata": {
        "colab": {
          "base_uri": "https://localhost:8080/"
        },
        "id": "cauLQcvr69NW",
        "outputId": "8fd57b00-41ff-4de2-d659-f3cf944aa9d2"
      },
      "execution_count": 52,
      "outputs": [
        {
          "output_type": "stream",
          "name": "stdout",
          "text": [
            "(array([[[0],\n",
            "        [1],\n",
            "        [2]],\n",
            "\n",
            "       [[1],\n",
            "        [2],\n",
            "        [3]],\n",
            "\n",
            "       [[2],\n",
            "        [3],\n",
            "        [4]],\n",
            "\n",
            "       [[3],\n",
            "        [4],\n",
            "        [5]],\n",
            "\n",
            "       [[4],\n",
            "        [5],\n",
            "        [6]]]),\n",
            " array([[3],\n",
            "       [4],\n",
            "       [5],\n",
            "       [6],\n",
            "       [7]]))\n"
          ]
        }
      ]
    },
    {
      "cell_type": "code",
      "source": [
        "(list(g)[0][0]).shape # A 3D tensor, with shape [samples in each batch, timesteps, features]"
      ],
      "metadata": {
        "colab": {
          "base_uri": "https://localhost:8080/"
        },
        "id": "0lxf7UWy_8wF",
        "outputId": "6df7caf3-3ea3-445d-8d05-40ab168eb559"
      },
      "execution_count": 53,
      "outputs": [
        {
          "output_type": "execute_result",
          "data": {
            "text/plain": [
              "(5, 3, 1)"
            ]
          },
          "metadata": {},
          "execution_count": 53
        }
      ]
    },
    {
      "cell_type": "code",
      "source": [
        "from keras.models import Sequential\n",
        "from keras.layers import SimpleRNN, LSTM, Dense"
      ],
      "metadata": {
        "id": "9R5m64Pi9mcA"
      },
      "execution_count": 54,
      "outputs": []
    },
    {
      "cell_type": "code",
      "source": [
        "model = Sequential()\n",
        "model.add(SimpleRNN(100, activation='relu',\n",
        "                    input_shape=(lags, 1)))\n",
        "model.add(Dense(1, activation='linear'))\n",
        "\n",
        "model.compile(optimizer='adagrad', loss='mse',\n",
        "              metrics=['mae'])"
      ],
      "metadata": {
        "id": "Kp4hPpiRRMLB"
      },
      "execution_count": 55,
      "outputs": []
    },
    {
      "cell_type": "code",
      "source": [
        "model.summary()"
      ],
      "metadata": {
        "colab": {
          "base_uri": "https://localhost:8080/"
        },
        "id": "cADFJoR5RQBa",
        "outputId": "cc5524f8-7b92-4f7d-eb78-faf81b25c5d5"
      },
      "execution_count": 56,
      "outputs": [
        {
          "output_type": "stream",
          "name": "stdout",
          "text": [
            "Model: \"sequential_1\"\n",
            "_________________________________________________________________\n",
            " Layer (type)                Output Shape              Param #   \n",
            "=================================================================\n",
            " simple_rnn_1 (SimpleRNN)    (None, 100)               10200     \n",
            "                                                                 \n",
            " dense_1 (Dense)             (None, 1)                 101       \n",
            "                                                                 \n",
            "=================================================================\n",
            "Total params: 10,301\n",
            "Trainable params: 10,301\n",
            "Non-trainable params: 0\n",
            "_________________________________________________________________\n"
          ]
        }
      ]
    },
    {
      "cell_type": "code",
      "source": [
        "# Dimension\n",
        "# 1 of (3,1)\n",
        "# (1+1)*100 + 100*100 = 10200\n",
        "# (100+1)*1 = 101"
      ],
      "metadata": {
        "id": "RyK8AhrFLYIe"
      },
      "execution_count": 57,
      "outputs": []
    },
    {
      "cell_type": "code",
      "source": [
        "%%time\n",
        "h = model.fit(g, epochs=1000, steps_per_epoch=5,\n",
        "            verbose=False)"
      ],
      "metadata": {
        "colab": {
          "base_uri": "https://localhost:8080/"
        },
        "id": "p2uJEC_0RRhy",
        "outputId": "3353c727-6346-44da-8e05-dd9170fa372a"
      },
      "execution_count": 58,
      "outputs": [
        {
          "output_type": "stream",
          "name": "stdout",
          "text": [
            "CPU times: user 44.4 s, sys: 1.7 s, total: 46.1 s\n",
            "Wall time: 52.9 s\n"
          ]
        }
      ]
    },
    {
      "cell_type": "code",
      "source": [
        "# we only put g into the formula"
      ],
      "metadata": {
        "id": "DWZ0QE1jL9q_"
      },
      "execution_count": 59,
      "outputs": []
    },
    {
      "cell_type": "code",
      "source": [
        "res = pd.DataFrame(h.history)"
      ],
      "metadata": {
        "id": "zsp-VfNBRTaA"
      },
      "execution_count": 60,
      "outputs": []
    },
    {
      "cell_type": "code",
      "source": [
        "res.tail(3)"
      ],
      "metadata": {
        "colab": {
          "base_uri": "https://localhost:8080/",
          "height": 143
        },
        "id": "hSBHAetsRV9M",
        "outputId": "f51934da-589a-4e37-8bf4-f9501f379ef4"
      },
      "execution_count": 61,
      "outputs": [
        {
          "output_type": "execute_result",
          "data": {
            "text/html": [
              "\n",
              "  <div id=\"df-c62ab873-582c-4220-b69c-4e3502770a2a\">\n",
              "    <div class=\"colab-df-container\">\n",
              "      <div>\n",
              "<style scoped>\n",
              "    .dataframe tbody tr th:only-of-type {\n",
              "        vertical-align: middle;\n",
              "    }\n",
              "\n",
              "    .dataframe tbody tr th {\n",
              "        vertical-align: top;\n",
              "    }\n",
              "\n",
              "    .dataframe thead th {\n",
              "        text-align: right;\n",
              "    }\n",
              "</style>\n",
              "<table border=\"1\" class=\"dataframe\">\n",
              "  <thead>\n",
              "    <tr style=\"text-align: right;\">\n",
              "      <th></th>\n",
              "      <th>loss</th>\n",
              "      <th>mae</th>\n",
              "    </tr>\n",
              "  </thead>\n",
              "  <tbody>\n",
              "    <tr>\n",
              "      <th>997</th>\n",
              "      <td>0.9138</td>\n",
              "      <td>0.7862</td>\n",
              "    </tr>\n",
              "    <tr>\n",
              "      <th>998</th>\n",
              "      <td>0.4042</td>\n",
              "      <td>0.5765</td>\n",
              "    </tr>\n",
              "    <tr>\n",
              "      <th>999</th>\n",
              "      <td>0.5702</td>\n",
              "      <td>0.6318</td>\n",
              "    </tr>\n",
              "  </tbody>\n",
              "</table>\n",
              "</div>\n",
              "      <button class=\"colab-df-convert\" onclick=\"convertToInteractive('df-c62ab873-582c-4220-b69c-4e3502770a2a')\"\n",
              "              title=\"Convert this dataframe to an interactive table.\"\n",
              "              style=\"display:none;\">\n",
              "        \n",
              "  <svg xmlns=\"http://www.w3.org/2000/svg\" height=\"24px\"viewBox=\"0 0 24 24\"\n",
              "       width=\"24px\">\n",
              "    <path d=\"M0 0h24v24H0V0z\" fill=\"none\"/>\n",
              "    <path d=\"M18.56 5.44l.94 2.06.94-2.06 2.06-.94-2.06-.94-.94-2.06-.94 2.06-2.06.94zm-11 1L8.5 8.5l.94-2.06 2.06-.94-2.06-.94L8.5 2.5l-.94 2.06-2.06.94zm10 10l.94 2.06.94-2.06 2.06-.94-2.06-.94-.94-2.06-.94 2.06-2.06.94z\"/><path d=\"M17.41 7.96l-1.37-1.37c-.4-.4-.92-.59-1.43-.59-.52 0-1.04.2-1.43.59L10.3 9.45l-7.72 7.72c-.78.78-.78 2.05 0 2.83L4 21.41c.39.39.9.59 1.41.59.51 0 1.02-.2 1.41-.59l7.78-7.78 2.81-2.81c.8-.78.8-2.07 0-2.86zM5.41 20L4 18.59l7.72-7.72 1.47 1.35L5.41 20z\"/>\n",
              "  </svg>\n",
              "      </button>\n",
              "      \n",
              "  <style>\n",
              "    .colab-df-container {\n",
              "      display:flex;\n",
              "      flex-wrap:wrap;\n",
              "      gap: 12px;\n",
              "    }\n",
              "\n",
              "    .colab-df-convert {\n",
              "      background-color: #E8F0FE;\n",
              "      border: none;\n",
              "      border-radius: 50%;\n",
              "      cursor: pointer;\n",
              "      display: none;\n",
              "      fill: #1967D2;\n",
              "      height: 32px;\n",
              "      padding: 0 0 0 0;\n",
              "      width: 32px;\n",
              "    }\n",
              "\n",
              "    .colab-df-convert:hover {\n",
              "      background-color: #E2EBFA;\n",
              "      box-shadow: 0px 1px 2px rgba(60, 64, 67, 0.3), 0px 1px 3px 1px rgba(60, 64, 67, 0.15);\n",
              "      fill: #174EA6;\n",
              "    }\n",
              "\n",
              "    [theme=dark] .colab-df-convert {\n",
              "      background-color: #3B4455;\n",
              "      fill: #D2E3FC;\n",
              "    }\n",
              "\n",
              "    [theme=dark] .colab-df-convert:hover {\n",
              "      background-color: #434B5C;\n",
              "      box-shadow: 0px 1px 3px 1px rgba(0, 0, 0, 0.15);\n",
              "      filter: drop-shadow(0px 1px 2px rgba(0, 0, 0, 0.3));\n",
              "      fill: #FFFFFF;\n",
              "    }\n",
              "  </style>\n",
              "\n",
              "      <script>\n",
              "        const buttonEl =\n",
              "          document.querySelector('#df-c62ab873-582c-4220-b69c-4e3502770a2a button.colab-df-convert');\n",
              "        buttonEl.style.display =\n",
              "          google.colab.kernel.accessAllowed ? 'block' : 'none';\n",
              "\n",
              "        async function convertToInteractive(key) {\n",
              "          const element = document.querySelector('#df-c62ab873-582c-4220-b69c-4e3502770a2a');\n",
              "          const dataTable =\n",
              "            await google.colab.kernel.invokeFunction('convertToInteractive',\n",
              "                                                     [key], {});\n",
              "          if (!dataTable) return;\n",
              "\n",
              "          const docLinkHtml = 'Like what you see? Visit the ' +\n",
              "            '<a target=\"_blank\" href=https://colab.research.google.com/notebooks/data_table.ipynb>data table notebook</a>'\n",
              "            + ' to learn more about interactive tables.';\n",
              "          element.innerHTML = '';\n",
              "          dataTable['output_type'] = 'display_data';\n",
              "          await google.colab.output.renderOutput(dataTable, element);\n",
              "          const docLink = document.createElement('div');\n",
              "          docLink.innerHTML = docLinkHtml;\n",
              "          element.appendChild(docLink);\n",
              "        }\n",
              "      </script>\n",
              "    </div>\n",
              "  </div>\n",
              "  "
            ],
            "text/plain": [
              "       loss     mae\n",
              "997  0.9138  0.7862\n",
              "998  0.4042  0.5765\n",
              "999  0.5702  0.6318"
            ]
          },
          "metadata": {},
          "execution_count": 61
        }
      ]
    },
    {
      "cell_type": "code",
      "source": [
        "res.iloc[10:].plot(figsize=(10, 6), style=['--', '--']);"
      ],
      "metadata": {
        "colab": {
          "base_uri": "https://localhost:8080/",
          "height": 374
        },
        "id": "wYPCcJVwRXtr",
        "outputId": "4fe7fbd0-8fdd-4217-a231-a54dc7d260dd"
      },
      "execution_count": 62,
      "outputs": [
        {
          "output_type": "display_data",
          "data": {
            "image/png": "[encoded data removed]",
            "text/plain": [
              "<Figure size 720x432 with 1 Axes>"
            ]
          },
          "metadata": {
            "needs_background": "light"
          }
        }
      ]
    },
    {
      "cell_type": "code",
      "source": [
        "x = np.array([21, 22, 23]).reshape((1, lags, 1))\n",
        "y = model.predict(x, verbose=False)\n",
        "int(round(y[0, 0]))"
      ],
      "metadata": {
        "colab": {
          "base_uri": "https://localhost:8080/"
        },
        "id": "LuD0n8TvRpqx",
        "outputId": "aac496a6-4429-4437-ccbc-3c8950d199b9"
      },
      "execution_count": 63,
      "outputs": [
        {
          "output_type": "execute_result",
          "data": {
            "text/plain": [
              "23"
            ]
          },
          "metadata": {},
          "execution_count": 63
        }
      ]
    },
    {
      "cell_type": "code",
      "source": [
        "x = np.array([87, 88, 89]).reshape((1, lags, 1))\n",
        "y = model.predict(x, verbose=False)\n",
        "int(round(y[0, 0]))"
      ],
      "metadata": {
        "colab": {
          "base_uri": "https://localhost:8080/"
        },
        "id": "Ig9sdr_GRrk3",
        "outputId": "5f72d651-fb01-48ec-98e7-88be7452d4c7"
      },
      "execution_count": 64,
      "outputs": [
        {
          "output_type": "execute_result",
          "data": {
            "text/plain": [
              "91"
            ]
          },
          "metadata": {},
          "execution_count": 64
        }
      ]
    },
    {
      "cell_type": "code",
      "source": [
        "x = np.array([187, 188, 189]).reshape((1, lags, 1))\n",
        "y = model.predict(x, verbose=False)\n",
        "int(round(y[0, 0]))"
      ],
      "metadata": {
        "colab": {
          "base_uri": "https://localhost:8080/"
        },
        "id": "z2fxsonARtPf",
        "outputId": "470838d8-9f93-40f0-f3d0-676abd414b4e"
      },
      "execution_count": 65,
      "outputs": [
        {
          "output_type": "execute_result",
          "data": {
            "text/plain": [
              "193"
            ]
          },
          "metadata": {},
          "execution_count": 65
        }
      ]
    },
    {
      "cell_type": "code",
      "source": [
        "x = np.array([1187, 1188, 1189]).reshape((1, lags, 1))\n",
        "y = model.predict(x, verbose=False)\n",
        "int(round(y[0, 0]))"
      ],
      "metadata": {
        "colab": {
          "base_uri": "https://localhost:8080/"
        },
        "id": "RtBD1w5LRu17",
        "outputId": "d17c22a3-1a4e-4eaf-80a9-c88958fefc4e"
      },
      "execution_count": 66,
      "outputs": [
        {
          "output_type": "execute_result",
          "data": {
            "text/plain": [
              "1222"
            ]
          },
          "metadata": {},
          "execution_count": 66
        }
      ]
    },
    {
      "cell_type": "markdown",
      "source": [
        "## Second Example"
      ],
      "metadata": {
        "id": "Gm0k_2mQRb1n"
      }
    },
    {
      "cell_type": "code",
      "source": [
        "def transform(x):\n",
        "    y = 0.05 * x ** 2 + 0.2 * x + np.sin(x) + 5\n",
        "    y += np.random.standard_normal(len(x)) * 0.2\n",
        "    return y"
      ],
      "metadata": {
        "id": "1VDNuWrRRfuO"
      },
      "execution_count": 67,
      "outputs": []
    },
    {
      "cell_type": "code",
      "source": [
        "x = np.linspace(-2 * np.pi, 2 * np.pi, 500)\n",
        "a = transform(x)"
      ],
      "metadata": {
        "id": "eJKmGMhuRhIt"
      },
      "execution_count": 68,
      "outputs": []
    },
    {
      "cell_type": "code",
      "source": [
        "plt.figure(figsize=(10, 6))\n",
        "plt.plot(x, a);"
      ],
      "metadata": {
        "colab": {
          "base_uri": "https://localhost:8080/",
          "height": 373
        },
        "id": "JZpT0xFqXow9",
        "outputId": "a28513c6-0a9c-4c28-e98d-79d687bd394d"
      },
      "execution_count": 69,
      "outputs": [
        {
          "output_type": "display_data",
          "data": {
            "image/png": "[encoded data removed]",
            "text/plain": [
              "<Figure size 720x432 with 1 Axes>"
            ]
          },
          "metadata": {
            "needs_background": "light"
          }
        }
      ]
    },
    {
      "cell_type": "code",
      "source": [
        "a = a.reshape((len(a), -1))\n",
        "a.shape"
      ],
      "metadata": {
        "colab": {
          "base_uri": "https://localhost:8080/"
        },
        "id": "iQ3zTE0cXsMT",
        "outputId": "9a05fb5a-97ff-4a55-a13b-3f285c7b4c66"
      },
      "execution_count": 82,
      "outputs": [
        {
          "output_type": "execute_result",
          "data": {
            "text/plain": [
              "(500, 1)"
            ]
          },
          "metadata": {},
          "execution_count": 82
        }
      ]
    },
    {
      "cell_type": "code",
      "source": [
        "a[:5]"
      ],
      "metadata": {
        "colab": {
          "base_uri": "https://localhost:8080/"
        },
        "id": "9-jwmtbmXt-U",
        "outputId": "062a19fd-fad3-407a-b693-15ee808ae1bb"
      },
      "execution_count": 71,
      "outputs": [
        {
          "output_type": "execute_result",
          "data": {
            "text/plain": [
              "array([[5.3673],\n",
              "       [5.8002],\n",
              "       [5.9768],\n",
              "       [5.7102],\n",
              "       [5.9715]])"
            ]
          },
          "metadata": {},
          "execution_count": 71
        }
      ]
    },
    {
      "cell_type": "code",
      "source": [
        "lags = 5"
      ],
      "metadata": {
        "id": "JZiqAjN_XvwJ"
      },
      "execution_count": 72,
      "outputs": []
    },
    {
      "cell_type": "code",
      "source": [
        "g = TimeseriesGenerator(a, a, length=lags, batch_size=5)"
      ],
      "metadata": {
        "id": "_UtRWOx2XxTO"
      },
      "execution_count": 73,
      "outputs": []
    },
    {
      "cell_type": "code",
      "source": [
        "model = Sequential()\n",
        "\n",
        "model.add(SimpleRNN(500, activation='relu', input_shape=(lags, 1)))\n",
        "model.add(Dense(1, activation='linear'))\n",
        "\n",
        "model.compile(optimizer='rmsprop', loss='mse', metrics=['mae'])"
      ],
      "metadata": {
        "id": "nNKT2t__Xy-d"
      },
      "execution_count": 74,
      "outputs": []
    },
    {
      "cell_type": "code",
      "source": [
        "model.summary()"
      ],
      "metadata": {
        "colab": {
          "base_uri": "https://localhost:8080/"
        },
        "id": "j1aY-DT2X03t",
        "outputId": "00a2e448-8900-46f3-bd38-b9d26b7ed853"
      },
      "execution_count": 75,
      "outputs": [
        {
          "output_type": "stream",
          "name": "stdout",
          "text": [
            "Model: \"sequential_2\"\n",
            "_________________________________________________________________\n",
            " Layer (type)                Output Shape              Param #   \n",
            "=================================================================\n",
            " simple_rnn_2 (SimpleRNN)    (None, 500)               251000    \n",
            "                                                                 \n",
            " dense_2 (Dense)             (None, 1)                 501       \n",
            "                                                                 \n",
            "=================================================================\n",
            "Total params: 251,501\n",
            "Trainable params: 251,501\n",
            "Non-trainable params: 0\n",
            "_________________________________________________________________\n"
          ]
        }
      ]
    },
    {
      "cell_type": "code",
      "source": [
        "# (1+1)*500 +500*500 = 251000\n",
        "#(500+1)*1 = 501"
      ],
      "metadata": {
        "id": "qlKm0iGVdX3n"
      },
      "execution_count": 83,
      "outputs": []
    },
    {
      "cell_type": "code",
      "source": [
        "%%time\n",
        "model.fit(g, epochs=500,\n",
        "          steps_per_epoch=10,\n",
        "          verbose=False)"
      ],
      "metadata": {
        "colab": {
          "base_uri": "https://localhost:8080/"
        },
        "id": "GFKGZ4nHX2om",
        "outputId": "3a0446da-1569-4409-c615-fa13633a6e6b"
      },
      "execution_count": 76,
      "outputs": [
        {
          "output_type": "stream",
          "name": "stdout",
          "text": [
            "CPU times: user 1min 43s, sys: 8.08 s, total: 1min 51s\n",
            "Wall time: 1min 26s\n"
          ]
        },
        {
          "output_type": "execute_result",
          "data": {
            "text/plain": [
              "<keras.callbacks.History at 0x7fd424659890>"
            ]
          },
          "metadata": {},
          "execution_count": 76
        }
      ]
    },
    {
      "cell_type": "code",
      "source": [
        "x = np.linspace(-6 * np.pi, 6 * np.pi, 1000)\n",
        "d = transform(x)"
      ],
      "metadata": {
        "id": "HLLPas58X4jC"
      },
      "execution_count": 77,
      "outputs": []
    },
    {
      "cell_type": "code",
      "source": [
        "g_ = TimeseriesGenerator(d, d, length=lags, batch_size=len(d))"
      ],
      "metadata": {
        "id": "v9LnRQAYX6Lw"
      },
      "execution_count": 78,
      "outputs": []
    },
    {
      "cell_type": "code",
      "source": [
        "len(list(g_))\n",
        "list(g_)"
      ],
      "metadata": {
        "colab": {
          "base_uri": "https://localhost:8080/"
        },
        "id": "FyfhhukEiD6f",
        "outputId": "4240e9b1-0edc-4852-fd2a-9bba505c8997"
      },
      "execution_count": 85,
      "outputs": [
        {
          "output_type": "execute_result",
          "data": {
            "text/plain": [
              "[(array([[19.1706, 19.4008, 19.2016, 18.8897, 19.2257],\n",
              "         [19.4008, 19.2016, 18.8897, 19.2257, 18.5908],\n",
              "         [19.2016, 18.8897, 19.2257, 18.5908, 19.6125],\n",
              "         ...,\n",
              "         [25.7457, 26.0779, 25.9117, 25.9159, 26.1981],\n",
              "         [26.0779, 25.9117, 25.9159, 26.1981, 26.3752],\n",
              "         [25.9117, 25.9159, 26.1981, 26.3752, 26.5049]]),\n",
              "  array([18.5908, 19.6125, 19.43  , 18.9547, 18.5864, 18.7631, 18.8504,\n",
              "         18.7521, 18.7945, 18.837 , 18.4949, 18.5906, 18.5169, 18.545 ,\n",
              "         18.6086, 18.0556, 18.4269, 18.7201, 18.2545, 18.1107, 18.1251,\n",
              "         18.3644, 17.824 , 18.1864, 17.4579, 18.3619, 17.9994, 18.2414,\n",
              "         17.8104, 17.9298, 18.3062, 17.5739, 17.9135, 17.2283, 17.1018,\n",
              "         17.7018, 17.5161, 17.3508, 17.3896, 17.2279, 17.3306, 17.3622,\n",
              "         17.3413, 17.0821, 17.1762, 17.0822, 16.9544, 16.7037, 16.1843,\n",
              "         16.6239, 16.5421, 16.1941, 16.5969, 16.3646, 16.0147, 16.3789,\n",
              "         16.2843, 16.2809, 15.731 , 15.9894, 15.6302, 15.1399, 15.5246,\n",
              "         15.4809, 15.8957, 15.4385, 15.5754, 15.1108, 15.2926, 14.7967,\n",
              "         15.1563, 14.5991, 15.0262, 14.648 , 14.4373, 14.2837, 14.5712,\n",
              "         14.1234, 14.2753, 14.0218, 14.0722, 13.9534, 13.7351, 13.5722,\n",
              "         13.4226, 13.6869, 13.5402, 13.7913, 13.3661, 12.8999, 13.4579,\n",
              "         12.8563, 13.151 , 12.8258, 12.9958, 12.7217, 12.4781, 12.4131,\n",
              "         12.3345, 12.3017, 12.7854, 12.3258, 12.2664, 12.4089, 11.884 ,\n",
              "         11.8696, 11.8191, 11.7257, 12.1652, 11.6659, 11.4454, 11.5748,\n",
              "         11.4425, 11.2989, 11.5745, 11.0185, 11.4076, 11.6114, 11.7336,\n",
              "         11.5175, 11.1193, 11.0932, 11.2988, 11.232 , 10.8072, 10.5055,\n",
              "         10.8217, 11.2044, 10.8296, 10.5333, 10.6252, 10.8914, 10.8181,\n",
              "         10.6423, 10.7085, 10.5798, 10.5965, 10.3139, 10.3192, 10.4228,\n",
              "         10.4262, 10.3166, 10.6249, 10.6095, 10.7283, 10.4612, 10.3268,\n",
              "         10.2659,  9.9923, 10.4803, 10.1769, 10.6157, 10.5204, 10.5292,\n",
              "         10.6324, 10.3799, 10.3862, 10.2258, 10.2406, 10.2918, 10.4907,\n",
              "         10.3306, 10.452 , 10.4241, 10.3029, 10.9049, 10.4001, 10.5333,\n",
              "          9.9558, 10.3009, 10.421 , 10.5434, 10.1805, 10.4863, 10.0399,\n",
              "         10.2336, 10.2976, 10.7016, 10.3247, 10.6287,  9.8749, 10.1221,\n",
              "         10.3362, 10.0901, 10.4739, 10.0573, 10.4276, 10.0498, 10.1272,\n",
              "         10.4091, 10.0326, 10.2501, 10.1589, 10.1073, 10.4939, 10.1935,\n",
              "         10.0352, 10.0439,  9.7709, 10.0406, 10.0593, 10.0956, 10.2588,\n",
              "          9.9364,  9.5777,  9.8254,  9.6293,  9.5584,  9.523 ,  9.6359,\n",
              "          9.4178,  9.6006,  9.128 ,  8.8707,  9.3705,  9.0479,  9.1894,\n",
              "          8.8736,  8.8016,  9.1987,  8.9958,  9.0333,  8.9805,  8.7857,\n",
              "          9.1775,  8.8879,  9.2721,  9.0144,  8.774 ,  8.5717,  8.3955,\n",
              "          8.305 ,  8.4149,  8.5187,  8.0488,  8.1903,  7.8808,  8.0874,\n",
              "          8.1092,  8.1334,  7.9268,  7.6763,  7.6618,  7.6749,  7.5638,\n",
              "          7.6042,  7.521 ,  7.6119,  7.0707,  7.3342,  7.0234,  7.0983,\n",
              "          6.8213,  7.0312,  6.6707,  6.7339,  7.2967,  6.9034,  6.9087,\n",
              "          6.4934,  6.8335,  6.4821,  6.3804,  6.5413,  6.4073,  6.5739,\n",
              "          6.0173,  6.0677,  6.0811,  6.1455,  5.9876,  6.0177,  5.9256,\n",
              "          6.1303,  5.7926,  5.7827,  5.8396,  5.769 ,  5.8008,  5.4652,\n",
              "          5.7043,  5.6209,  5.4479,  5.2678,  5.6043,  5.5177,  5.5076,\n",
              "          5.4227,  5.7486,  5.2446,  5.431 ,  5.3273,  5.0037,  5.4188,\n",
              "          5.1244,  5.532 ,  5.5375,  5.442 ,  5.4658,  5.2667,  5.4925,\n",
              "          5.5374,  5.5785,  5.609 ,  5.0681,  5.428 ,  4.8819,  5.5707,\n",
              "          5.2554,  5.4515,  5.3103,  5.4916,  5.5609,  5.2213,  5.348 ,\n",
              "          5.4074,  5.6381,  5.4533,  5.482 ,  5.9931,  5.048 ,  5.6864,\n",
              "          5.607 ,  5.762 ,  5.8156,  5.9039,  5.4975,  5.9309,  5.8132,\n",
              "          5.6209,  5.9331,  5.4879,  5.9346,  5.7955,  6.116 ,  5.7368,\n",
              "          5.8081,  5.843 ,  5.8519,  5.6597,  5.9689,  5.837 ,  6.1775,\n",
              "          6.1855,  5.7811,  6.0641,  6.1083,  5.9357,  6.3812,  6.1221,\n",
              "          6.2249,  6.0649,  6.294 ,  6.7441,  6.0587,  6.2574,  6.2559,\n",
              "          6.3135,  6.2001,  5.8606,  6.0026,  6.3159,  5.8789,  6.3415,\n",
              "          6.2613,  6.2821,  6.3156,  6.1813,  6.3119,  5.9485,  6.2088,\n",
              "          6.1737,  5.9397,  6.0888,  6.5104,  6.2089,  5.803 ,  5.8262,\n",
              "          6.2508,  5.6852,  6.2891,  5.7833,  5.9711,  5.9128,  5.8743,\n",
              "          5.9872,  6.4116,  6.1561,  5.9911,  5.298 ,  5.7027,  5.921 ,\n",
              "          5.5474,  6.028 ,  5.6148,  5.5177,  5.3169,  5.4287,  5.5965,\n",
              "          5.3531,  5.189 ,  5.6132,  5.4507,  5.1143,  5.2963,  5.0379,\n",
              "          5.2084,  4.874 ,  4.9913,  5.1782,  4.5485,  4.7932,  4.7506,\n",
              "          4.5315,  4.523 ,  4.3494,  4.5357,  5.1373,  4.2598,  4.549 ,\n",
              "          4.617 ,  4.4438,  4.3567,  4.7835,  4.1506,  4.2664,  4.169 ,\n",
              "          4.1785,  4.0249,  3.9174,  3.9947,  3.7934,  3.9177,  4.1822,\n",
              "          4.3521,  4.2615,  3.7537,  3.5708,  3.9651,  3.8272,  3.9373,\n",
              "          4.0218,  4.0641,  4.1993,  3.6874,  3.832 ,  3.9327,  3.9675,\n",
              "          3.6055,  3.8974,  3.742 ,  4.057 ,  3.8291,  3.3811,  3.6753,\n",
              "          3.58  ,  4.0581,  3.616 ,  3.6894,  3.6712,  3.7611,  3.9792,\n",
              "          3.8283,  3.9761,  4.1885,  3.9898,  3.9973,  4.2084,  4.0058,\n",
              "          4.2899,  3.8335,  4.2386,  3.8958,  4.0849,  4.4764,  4.2379,\n",
              "          4.6226,  4.2151,  4.2202,  3.8703,  4.2129,  4.3165,  4.2099,\n",
              "          4.2975,  4.6503,  4.9272,  4.6615,  4.5769,  4.7765,  4.891 ,\n",
              "          4.6509,  5.108 ,  5.0728,  4.9749,  5.243 ,  4.9805,  4.9327,\n",
              "          5.1405,  5.1261,  5.4243,  5.1326,  5.5014,  5.1825,  5.7081,\n",
              "          5.7824,  5.4784,  5.3779,  5.9549,  5.3585,  5.4184,  6.1916,\n",
              "          5.5798,  5.8173,  5.7253,  5.7398,  6.0234,  5.9353,  5.9382,\n",
              "          5.8296,  6.426 ,  5.9012,  6.3459,  6.1474,  6.1238,  6.1944,\n",
              "          6.2158,  5.8885,  6.2791,  6.1879,  5.7743,  6.4599,  6.3227,\n",
              "          6.5334,  6.3402,  6.2667,  6.5114,  6.2712,  6.3683,  6.7377,\n",
              "          6.5879,  6.4305,  6.5537,  6.7233,  6.6432,  6.7744,  6.4725,\n",
              "          6.5153,  6.3374,  6.7924,  6.4638,  6.3011,  6.3551,  6.7408,\n",
              "          6.2639,  6.3618,  6.5275,  6.2595,  6.7794,  6.4604,  6.3191,\n",
              "          6.391 ,  6.3775,  6.2163,  6.4368,  6.4216,  6.4103,  6.2012,\n",
              "          6.291 ,  6.1182,  6.2976,  6.3619,  5.7925,  5.9406,  6.328 ,\n",
              "          6.166 ,  6.0651,  5.9801,  6.1776,  5.9869,  6.2519,  5.8691,\n",
              "          6.0173,  6.4228,  5.9188,  6.0623,  6.0486,  6.0614,  5.6448,\n",
              "          5.9388,  5.7977,  5.9543,  5.8964,  5.9256,  5.6903,  5.8292,\n",
              "          6.1676,  5.9593,  5.8203,  6.0628,  5.6904,  6.1082,  5.8079,\n",
              "          5.4723,  5.6971,  5.8411,  5.9638,  5.6356,  6.0003,  5.9093,\n",
              "          5.6921,  5.9264,  5.6089,  5.4543,  6.2566,  6.0768,  6.2508,\n",
              "          5.8868,  6.1909,  6.1888,  6.1656,  5.9359,  5.9882,  6.0107,\n",
              "          5.857 ,  6.1769,  6.33  ,  6.5158,  6.3957,  6.4978,  6.3796,\n",
              "          6.7221,  6.324 ,  6.3544,  6.3311,  6.9969,  6.7128,  6.6384,\n",
              "          6.9876,  7.1233,  6.7531,  7.3923,  7.07  ,  7.3847,  6.9897,\n",
              "          7.0513,  7.3603,  6.9822,  7.1496,  6.9178,  7.4375,  7.481 ,\n",
              "          7.6416,  7.7464,  7.6468,  7.5734,  7.6795,  7.8308,  8.0313,\n",
              "          8.0329,  8.0749,  8.4245,  8.1895,  8.1074,  8.1933,  8.3681,\n",
              "          8.639 ,  8.712 ,  8.5633,  8.6433,  8.8684,  9.1205,  8.8642,\n",
              "          9.0231,  9.1652,  8.8458,  9.1201,  9.3422,  9.2106,  9.3247,\n",
              "          9.3157,  9.2813,  9.3369,  9.6643,  9.6788,  9.9713,  9.6762,\n",
              "          9.7944,  9.9083,  9.9975, 10.3864, 10.2288, 10.0873, 10.5223,\n",
              "         10.0718, 10.5202, 10.3682, 10.3613, 10.204 , 10.702 , 10.071 ,\n",
              "         10.5284, 10.5051, 10.7576, 10.495 , 10.5834, 10.9796, 11.3183,\n",
              "         10.8957, 10.6686, 10.8582, 11.0717, 11.2392, 11.3531, 11.2789,\n",
              "         11.3631, 11.2128, 11.0746, 11.2023, 11.3403, 11.1736, 10.9577,\n",
              "         11.3171, 11.5533, 11.2772, 11.4865, 11.2017, 11.1942, 11.3468,\n",
              "         11.176 , 10.8158, 11.3653, 10.7788, 11.1708, 11.4656, 11.1913,\n",
              "         11.1281, 11.2804, 11.3429, 11.1762, 11.755 , 11.5347, 11.5687,\n",
              "         11.2699, 11.3885, 10.9253, 11.4407, 11.169 , 11.1797, 11.3687,\n",
              "         11.2967, 11.1753, 11.4583, 11.2652, 11.6467, 11.2564, 11.1767,\n",
              "         11.3808, 11.6369, 11.3307, 11.3652, 10.9444, 11.5351, 11.6552,\n",
              "         11.5301, 11.4712, 11.4305, 11.5174, 11.2886, 11.6578, 11.3503,\n",
              "         11.4687, 11.9884, 12.1116, 11.6091, 11.6761, 12.1516, 12.1242,\n",
              "         11.6863, 12.1243, 12.1624, 11.9182, 12.1885, 12.457 , 11.9795,\n",
              "         12.3488, 12.286 , 11.9088, 12.2992, 12.2039, 12.6756, 12.3308,\n",
              "         12.4851, 12.5602, 12.5467, 12.2545, 12.9348, 12.849 , 13.1406,\n",
              "         12.8584, 13.1152, 13.2236, 12.9199, 13.0628, 13.4864, 13.5689,\n",
              "         13.6482, 13.0938, 13.157 , 13.5706, 14.3356, 13.8905, 13.812 ,\n",
              "         14.393 , 14.1387, 13.9076, 14.205 , 13.9885, 14.6046, 14.8986,\n",
              "         14.7621, 14.7689, 14.9307, 14.6761, 15.0935, 15.0369, 15.3859,\n",
              "         15.2167, 15.2272, 15.321 , 16.0733, 15.4177, 15.9212, 15.7135,\n",
              "         15.8184, 15.8388, 16.3839, 16.0242, 16.2654, 16.382 , 16.3671,\n",
              "         16.5117, 17.1004, 16.6447, 16.3564, 16.7342, 17.3099, 17.2035,\n",
              "         17.0406, 17.0525, 17.6423, 17.3989, 17.6671, 17.5551, 17.6678,\n",
              "         17.7204, 18.0923, 18.0502, 18.0912, 18.1481, 18.1676, 18.1996,\n",
              "         18.2207, 18.4864, 18.2045, 18.4221, 18.83  , 18.5642, 18.6721,\n",
              "         18.85  , 19.0875, 18.6874, 18.7211, 19.0306, 18.9111, 19.0977,\n",
              "         18.7761, 19.0042, 19.3036, 19.2056, 19.2552, 19.5175, 19.4786,\n",
              "         19.0395, 19.6891, 19.3316, 19.9023, 19.7692, 19.6615, 20.023 ,\n",
              "         20.2057, 19.9615, 19.662 , 19.94  , 19.9779, 19.6596, 19.7816,\n",
              "         20.1268, 20.5252, 20.4395, 20.3091, 20.0554, 20.1182, 20.1371,\n",
              "         20.5694, 19.9458, 20.7392, 20.3387, 20.3118, 20.5115, 20.5742,\n",
              "         20.4984, 20.5153, 20.617 , 20.8526, 20.9114, 20.3688, 20.5967,\n",
              "         20.6722, 20.6298, 20.652 , 20.9554, 20.8555, 20.9188, 20.79  ,\n",
              "         20.7276, 21.1754, 20.661 , 21.1444, 21.1178, 21.0626, 21.1018,\n",
              "         21.0982, 21.5366, 21.3538, 21.0773, 21.094 , 21.3476, 21.3321,\n",
              "         21.6221, 21.5221, 21.7674, 21.4652, 21.8041, 22.1018, 21.6759,\n",
              "         21.9149, 21.7856, 21.9149, 22.2177, 22.4538, 22.0077, 22.0568,\n",
              "         22.4736, 22.2852, 22.5666, 22.6941, 22.8398, 22.6763, 22.3991,\n",
              "         22.8241, 22.7879, 22.9683, 23.3784, 23.1098, 23.2627, 23.7519,\n",
              "         24.1032, 23.8162, 23.8718, 23.5622, 24.1218, 24.0824, 23.868 ,\n",
              "         24.06  , 24.1495, 24.2686, 24.6172, 24.5369, 24.6145, 24.9035,\n",
              "         25.2931, 25.1612, 25.0647, 25.3677, 25.4345, 25.3813, 25.744 ,\n",
              "         25.7457, 26.0779, 25.9117, 25.9159, 26.1981, 26.3752, 26.5049,\n",
              "         26.5475]))]"
            ]
          },
          "metadata": {},
          "execution_count": 85
        }
      ]
    },
    {
      "cell_type": "code",
      "source": [
        "list(g_)[0][0].shape # first [0] is batch one\n",
        "                     # second [0] is x"
      ],
      "metadata": {
        "colab": {
          "base_uri": "https://localhost:8080/"
        },
        "id": "oWktGe_PjAZV",
        "outputId": "9fa9bf21-c2ad-4794-ebf6-149a2811327a"
      },
      "execution_count": 86,
      "outputs": [
        {
          "output_type": "execute_result",
          "data": {
            "text/plain": [
              "(995, 5)"
            ]
          },
          "metadata": {},
          "execution_count": 86
        }
      ]
    },
    {
      "cell_type": "code",
      "source": [
        "f = list(g_)[0][0].reshape((len(d) - lags, lags, 1))\n",
        "f"
      ],
      "metadata": {
        "colab": {
          "base_uri": "https://localhost:8080/"
        },
        "id": "_kc3KDbYX73n",
        "outputId": "5b9a28eb-58ad-4e31-c42a-6ae18e18dcee"
      },
      "execution_count": 88,
      "outputs": [
        {
          "output_type": "execute_result",
          "data": {
            "text/plain": [
              "array([[[19.1706],\n",
              "        [19.4008],\n",
              "        [19.2016],\n",
              "        [18.8897],\n",
              "        [19.2257]],\n",
              "\n",
              "       [[19.4008],\n",
              "        [19.2016],\n",
              "        [18.8897],\n",
              "        [19.2257],\n",
              "        [18.5908]],\n",
              "\n",
              "       [[19.2016],\n",
              "        [18.8897],\n",
              "        [19.2257],\n",
              "        [18.5908],\n",
              "        [19.6125]],\n",
              "\n",
              "       ...,\n",
              "\n",
              "       [[25.7457],\n",
              "        [26.0779],\n",
              "        [25.9117],\n",
              "        [25.9159],\n",
              "        [26.1981]],\n",
              "\n",
              "       [[26.0779],\n",
              "        [25.9117],\n",
              "        [25.9159],\n",
              "        [26.1981],\n",
              "        [26.3752]],\n",
              "\n",
              "       [[25.9117],\n",
              "        [25.9159],\n",
              "        [26.1981],\n",
              "        [26.3752],\n",
              "        [26.5049]]])"
            ]
          },
          "metadata": {},
          "execution_count": 88
        }
      ]
    },
    {
      "cell_type": "code",
      "source": [
        "y = model.predict(f, verbose=False)"
      ],
      "metadata": {
        "id": "WUaLT8mzX9LK"
      },
      "execution_count": 80,
      "outputs": []
    },
    {
      "cell_type": "code",
      "source": [
        "plt.figure(figsize=(10, 6))\n",
        "\n",
        "plt.plot(x[lags:], d[lags:], label='data', alpha=0.75)\n",
        "plt.plot(x[lags:], y, 'r.', label='pred', ms=3)\n",
        "\n",
        "plt.axvline(-2 * np.pi, c='g', ls='--')\n",
        "plt.axvline(2 * np.pi, c='g', ls='--')\n",
        "\n",
        "plt.text(-15, 22, 'out-of-sample')\n",
        "plt.text(-2, 22, 'in-sample')\n",
        "plt.text(10, 22, 'out-of-sample')\n",
        "plt.legend();"
      ],
      "metadata": {
        "colab": {
          "base_uri": "https://localhost:8080/",
          "height": 373
        },
        "id": "AzqwGqBmX-eG",
        "outputId": "c7ed8b6b-b6c0-4fe9-bf17-7a02532bdf6d"
      },
      "execution_count": 81,
      "outputs": [
        {
          "output_type": "display_data",
          "data": {
            "image/png": "[encoded data removed]",
            "text/plain": [
              "<Figure size 720x432 with 1 Axes>"
            ]
          },
          "metadata": {
            "needs_background": "light"
          }
        }
      ]
    },
    {
      "cell_type": "code",
      "source": [
        "d = d.reshape (len(d), -1)\n",
        "g_ = TimeseriesGenerator(d, d, length = lags, batch_size = 5)\n",
        "y_ = model.predict(g_,  verbose = False)"
      ],
      "metadata": {
        "id": "r3FKgFjPYAA_"
      },
      "execution_count": 91,
      "outputs": []
    },
    {
      "cell_type": "code",
      "source": [
        "y_.shape"
      ],
      "metadata": {
        "colab": {
          "base_uri": "https://localhost:8080/"
        },
        "id": "PzfRAlTNvvuR",
        "outputId": "d34ffb62-c418-4348-f133-ef69650c7040"
      },
      "execution_count": 92,
      "outputs": [
        {
          "output_type": "execute_result",
          "data": {
            "text/plain": [
              "(995, 1)"
            ]
          },
          "metadata": {},
          "execution_count": 92
        }
      ]
    },
    {
      "cell_type": "code",
      "source": [
        "(y != y_).sum()"
      ],
      "metadata": {
        "colab": {
          "base_uri": "https://localhost:8080/"
        },
        "id": "z0QrYrmLv5gA",
        "outputId": "9e50f973-0e96-49ed-e89f-dbce16adb3a2"
      },
      "execution_count": 94,
      "outputs": [
        {
          "output_type": "execute_result",
          "data": {
            "text/plain": [
              "10"
            ]
          },
          "metadata": {},
          "execution_count": 94
        }
      ]
    },
    {
      "cell_type": "code",
      "source": [
        ""
      ],
      "metadata": {
        "id": "mfkbQCXLwNHa"
      },
      "execution_count": null,
      "outputs": []
    }
  ]
}