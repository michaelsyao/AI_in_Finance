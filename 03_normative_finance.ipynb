{
  "nbformat": 4,
  "nbformat_minor": 0,
  "metadata": {
    "colab": {
      "name": "03_normative_finance.ipynb",
      "provenance": [],
      "collapsed_sections": [],
      "authorship_tag": "ABX9TyOMCtn+1ILh88Fw5lwrbbua",
      "include_colab_link": true
    },
    "kernelspec": {
      "name": "python3",
      "display_name": "Python 3"
    },
    "language_info": {
      "name": "python"
    }
  },
  "cells": [
    {
      "cell_type": "markdown",
      "metadata": {
        "id": "view-in-github",
        "colab_type": "text"
      },
      "source": [
        "<a href=\"https://colab.research.google.com/github/michaelsyao/AI_in_Finance/blob/main/03_normative_finance.ipynb\" target=\"_parent\"><img src=\"https://colab.research.google.com/assets/colab-badge.svg\" alt=\"Open In Colab\"/></a>"
      ]
    },
    {
      "cell_type": "markdown",
      "source": [
        "## Normative Finance"
      ],
      "metadata": {
        "id": "o38_LyloxIuF"
      }
    },
    {
      "cell_type": "markdown",
      "source": [
        "### Uncertainty and Risk"
      ],
      "metadata": {
        "id": "uH1CYp0wxPgh"
      }
    },
    {
      "cell_type": "code",
      "source": [
        "import numpy as np"
      ],
      "metadata": {
        "id": "7YTZbFs2xVEi"
      },
      "execution_count": 117,
      "outputs": []
    },
    {
      "cell_type": "code",
      "source": [
        "S0 = 10\n",
        "B0 = 10"
      ],
      "metadata": {
        "id": "LdrAxpubxWOs"
      },
      "execution_count": 118,
      "outputs": []
    },
    {
      "cell_type": "code",
      "source": [
        "S1 = np.array((20, 5))\n",
        "B1 = np.array((11, 11))"
      ],
      "metadata": {
        "id": "lwc4N7v8xXuM"
      },
      "execution_count": 119,
      "outputs": []
    },
    {
      "cell_type": "code",
      "source": [
        "M0 = np.array((S0, B0))\n",
        "M0"
      ],
      "metadata": {
        "colab": {
          "base_uri": "https://localhost:8080/"
        },
        "id": "3NHByCqbxah-",
        "outputId": "9a9d6f65-ace9-4360-a8ac-53b3458763e6"
      },
      "execution_count": 120,
      "outputs": [
        {
          "output_type": "execute_result",
          "data": {
            "text/plain": [
              "array([10, 10])"
            ]
          },
          "metadata": {},
          "execution_count": 120
        }
      ]
    },
    {
      "cell_type": "code",
      "source": [
        "M1 = np.array((S1, B1)).T\n",
        "M1"
      ],
      "metadata": {
        "colab": {
          "base_uri": "https://localhost:8080/"
        },
        "id": "vUxBvTjGxb0a",
        "outputId": "f9efd04d-4a3b-4365-dd7e-f36337f7cc3f"
      },
      "execution_count": 121,
      "outputs": [
        {
          "output_type": "execute_result",
          "data": {
            "text/plain": [
              "array([[20, 11],\n",
              "       [ 5, 11]])"
            ]
          },
          "metadata": {},
          "execution_count": 121
        }
      ]
    },
    {
      "cell_type": "code",
      "source": [
        "K = 14.5"
      ],
      "metadata": {
        "id": "sCKCapbzxdH4"
      },
      "execution_count": 122,
      "outputs": []
    },
    {
      "cell_type": "code",
      "source": [
        "C1 = np.maximum(S1 - K, 0)\n",
        "C1"
      ],
      "metadata": {
        "colab": {
          "base_uri": "https://localhost:8080/"
        },
        "id": "jE3mYk5pxecJ",
        "outputId": "4437e8af-8419-453c-9e66-d6d508f159be"
      },
      "execution_count": 123,
      "outputs": [
        {
          "output_type": "execute_result",
          "data": {
            "text/plain": [
              "array([5.5, 0. ])"
            ]
          },
          "metadata": {},
          "execution_count": 123
        }
      ]
    },
    {
      "cell_type": "code",
      "source": [
        "phi = np.linalg.solve(M1, C1)\n",
        "phi"
      ],
      "metadata": {
        "colab": {
          "base_uri": "https://localhost:8080/"
        },
        "id": "jP1C0hoMxfiK",
        "outputId": "68498b57-65df-45a3-bbf2-1ad909d8a473"
      },
      "execution_count": 124,
      "outputs": [
        {
          "output_type": "execute_result",
          "data": {
            "text/plain": [
              "array([ 0.36666667, -0.16666667])"
            ]
          },
          "metadata": {},
          "execution_count": 124
        }
      ]
    },
    {
      "cell_type": "code",
      "source": [
        "np.allclose(C1, np.dot(M1, phi))"
      ],
      "metadata": {
        "colab": {
          "base_uri": "https://localhost:8080/"
        },
        "id": "J37aJb6PxgyC",
        "outputId": "515485f9-00ab-480c-d0f7-48f5a95e7ea3"
      },
      "execution_count": 125,
      "outputs": [
        {
          "output_type": "execute_result",
          "data": {
            "text/plain": [
              "True"
            ]
          },
          "metadata": {},
          "execution_count": 125
        }
      ]
    },
    {
      "cell_type": "code",
      "source": [
        "C0 = np.dot(M0, phi)\n",
        "C0"
      ],
      "metadata": {
        "colab": {
          "base_uri": "https://localhost:8080/"
        },
        "id": "ORijd5cYxiF4",
        "outputId": "c2176ee2-3be4-4353-cf46-3e8fa6bf8691"
      },
      "execution_count": 126,
      "outputs": [
        {
          "output_type": "execute_result",
          "data": {
            "text/plain": [
              "2.0"
            ]
          },
          "metadata": {},
          "execution_count": 126
        }
      ]
    },
    {
      "cell_type": "markdown",
      "source": [
        "## Expected Utility Theory"
      ],
      "metadata": {
        "id": "Dm8r67JoxlFC"
      }
    },
    {
      "cell_type": "code",
      "source": [
        "def u(x):\n",
        "    return np.sqrt(x)"
      ],
      "metadata": {
        "id": "cnfLD99wxqJK"
      },
      "execution_count": 127,
      "outputs": []
    },
    {
      "cell_type": "code",
      "source": [
        "phi_A = np.array((0.75, 0.25))\n",
        "phi_D = np.array((0.25, 0.75))"
      ],
      "metadata": {
        "id": "kwcKAtAgxudZ"
      },
      "execution_count": 128,
      "outputs": []
    },
    {
      "cell_type": "code",
      "source": [
        "np.dot(M0, phi_A) == np.dot(M0, phi_D)"
      ],
      "metadata": {
        "colab": {
          "base_uri": "https://localhost:8080/"
        },
        "id": "RlKpG56zxv0R",
        "outputId": "8254e6f5-cfcc-455f-8443-27316890695c"
      },
      "execution_count": 129,
      "outputs": [
        {
          "output_type": "execute_result",
          "data": {
            "text/plain": [
              "True"
            ]
          },
          "metadata": {},
          "execution_count": 129
        }
      ]
    },
    {
      "cell_type": "code",
      "source": [
        "A1 = np.dot(M1, phi_A)\n",
        "A1"
      ],
      "metadata": {
        "colab": {
          "base_uri": "https://localhost:8080/"
        },
        "id": "iC2cmuS_xxo8",
        "outputId": "4e961f66-4c2f-4b69-e619-972f7c6d4e7c"
      },
      "execution_count": 130,
      "outputs": [
        {
          "output_type": "execute_result",
          "data": {
            "text/plain": [
              "array([17.75,  6.5 ])"
            ]
          },
          "metadata": {},
          "execution_count": 130
        }
      ]
    },
    {
      "cell_type": "code",
      "source": [
        "D1 = np.dot(M1, phi_D)\n",
        "D1"
      ],
      "metadata": {
        "colab": {
          "base_uri": "https://localhost:8080/"
        },
        "id": "BZatS-ySxy10",
        "outputId": "408beed2-1366-413a-9fef-0aeb4e75de6c"
      },
      "execution_count": 131,
      "outputs": [
        {
          "output_type": "execute_result",
          "data": {
            "text/plain": [
              "array([13.25,  9.5 ])"
            ]
          },
          "metadata": {},
          "execution_count": 131
        }
      ]
    },
    {
      "cell_type": "code",
      "source": [
        "P = np.array((0.5, 0.5))"
      ],
      "metadata": {
        "id": "2EDTQ62zx0GJ"
      },
      "execution_count": 132,
      "outputs": []
    },
    {
      "cell_type": "code",
      "source": [
        "def EUT(x):\n",
        "    return np.dot(P, u(x))"
      ],
      "metadata": {
        "id": "d62Y3YtMx1ms"
      },
      "execution_count": 133,
      "outputs": []
    },
    {
      "cell_type": "code",
      "source": [
        "EUT(A1)"
      ],
      "metadata": {
        "colab": {
          "base_uri": "https://localhost:8080/"
        },
        "id": "FRU_5uLFyApt",
        "outputId": "e3c118a8-87df-4e4d-95c4-d09f91789c9d"
      },
      "execution_count": 134,
      "outputs": [
        {
          "output_type": "execute_result",
          "data": {
            "text/plain": [
              "3.381292321692286"
            ]
          },
          "metadata": {},
          "execution_count": 134
        }
      ]
    },
    {
      "cell_type": "code",
      "source": [
        "EUT(D1)"
      ],
      "metadata": {
        "colab": {
          "base_uri": "https://localhost:8080/"
        },
        "id": "Og1WpFUeyB9b",
        "outputId": "2b4d756a-f12a-46de-af4c-e8d694411b46"
      },
      "execution_count": 135,
      "outputs": [
        {
          "output_type": "execute_result",
          "data": {
            "text/plain": [
              "3.3611309730623735"
            ]
          },
          "metadata": {},
          "execution_count": 135
        }
      ]
    },
    {
      "cell_type": "code",
      "source": [
        "from scipy.optimize import minimize"
      ],
      "metadata": {
        "id": "acPoeP_yyDKr"
      },
      "execution_count": 136,
      "outputs": []
    },
    {
      "cell_type": "code",
      "source": [
        "w = 10"
      ],
      "metadata": {
        "id": "jHM_N5SHyFS2"
      },
      "execution_count": 137,
      "outputs": []
    },
    {
      "cell_type": "code",
      "source": [
        "cons = {'type': 'eq', 'fun': lambda phi: np.dot(M0, phi) - w}"
      ],
      "metadata": {
        "id": "8xehxvmRyGj5"
      },
      "execution_count": 138,
      "outputs": []
    },
    {
      "cell_type": "code",
      "source": [
        "def EUT_(phi):\n",
        "    x = np.dot(M1, phi)\n",
        "    return EUT(x)"
      ],
      "metadata": {
        "id": "12XwLKipyIAQ"
      },
      "execution_count": 139,
      "outputs": []
    },
    {
      "cell_type": "code",
      "source": [
        "opt = minimize(lambda phi: -EUT_(phi),\n",
        "               x0=phi_A,\n",
        "               constraints=cons)"
      ],
      "metadata": {
        "id": "0xiJ47YtyJem"
      },
      "execution_count": 140,
      "outputs": []
    },
    {
      "cell_type": "code",
      "source": [
        "opt"
      ],
      "metadata": {
        "colab": {
          "base_uri": "https://localhost:8080/"
        },
        "id": "WCSM8mOByLUn",
        "outputId": "65dcc8f7-d77a-4d3a-d34e-b6719741a0e3"
      },
      "execution_count": 141,
      "outputs": [
        {
          "output_type": "execute_result",
          "data": {
            "text/plain": [
              "     fun: -3.385015999493397\n",
              "     jac: array([-1.69249132, -1.69253424])\n",
              " message: 'Optimization terminated successfully.'\n",
              "    nfev: 16\n",
              "     nit: 4\n",
              "    njev: 4\n",
              "  status: 0\n",
              " success: True\n",
              "       x: array([0.61122474, 0.38877526])"
            ]
          },
          "metadata": {},
          "execution_count": 141
        }
      ]
    },
    {
      "cell_type": "code",
      "source": [
        "EUT_(opt['x'])"
      ],
      "metadata": {
        "colab": {
          "base_uri": "https://localhost:8080/"
        },
        "id": "T1kaYLdnyMtN",
        "outputId": "9fe01dfc-98ec-488f-9e60-9199f5721976"
      },
      "execution_count": 142,
      "outputs": [
        {
          "output_type": "execute_result",
          "data": {
            "text/plain": [
              "3.385015999493397"
            ]
          },
          "metadata": {},
          "execution_count": 142
        }
      ]
    },
    {
      "cell_type": "code",
      "source": [
        "np.dot(M0, opt['x'])"
      ],
      "metadata": {
        "colab": {
          "base_uri": "https://localhost:8080/"
        },
        "id": "L_j_Cr4pyOQG",
        "outputId": "bd63b07e-8e60-4b35-8253-75c9578890a7"
      },
      "execution_count": 143,
      "outputs": [
        {
          "output_type": "execute_result",
          "data": {
            "text/plain": [
              "10.0"
            ]
          },
          "metadata": {},
          "execution_count": 143
        }
      ]
    },
    {
      "cell_type": "markdown",
      "source": [
        "## Mean-Variance Portfolio Theory"
      ],
      "metadata": {
        "id": "yTmyRrnyySWF"
      }
    },
    {
      "cell_type": "code",
      "source": [
        "rS = S1 / S0 - 1\n",
        "rS"
      ],
      "metadata": {
        "colab": {
          "base_uri": "https://localhost:8080/"
        },
        "id": "LF7RA1-6yTXu",
        "outputId": "8146fe5d-0c8a-417f-8cf3-f3e8579a0b01"
      },
      "execution_count": 144,
      "outputs": [
        {
          "output_type": "execute_result",
          "data": {
            "text/plain": [
              "array([ 1. , -0.5])"
            ]
          },
          "metadata": {},
          "execution_count": 144
        }
      ]
    },
    {
      "cell_type": "code",
      "source": [
        "rB = B1 / B0 - 1\n",
        "rB"
      ],
      "metadata": {
        "colab": {
          "base_uri": "https://localhost:8080/"
        },
        "id": "-KiTAdIlyV_d",
        "outputId": "8cc85612-a124-4958-eb32-1a55f06d9fc4"
      },
      "execution_count": 145,
      "outputs": [
        {
          "output_type": "execute_result",
          "data": {
            "text/plain": [
              "array([0.1, 0.1])"
            ]
          },
          "metadata": {},
          "execution_count": 145
        }
      ]
    },
    {
      "cell_type": "code",
      "source": [
        "def mu(rX):\n",
        "    return np.dot(P, rX)"
      ],
      "metadata": {
        "id": "guCflSHbyXQ-"
      },
      "execution_count": 146,
      "outputs": []
    },
    {
      "cell_type": "code",
      "source": [
        "mu(rS)"
      ],
      "metadata": {
        "colab": {
          "base_uri": "https://localhost:8080/"
        },
        "id": "sxEGJKCPyY3G",
        "outputId": "19cf090b-c9d8-44a8-d4e1-d18f6b7b40da"
      },
      "execution_count": 147,
      "outputs": [
        {
          "output_type": "execute_result",
          "data": {
            "text/plain": [
              "0.25"
            ]
          },
          "metadata": {},
          "execution_count": 147
        }
      ]
    },
    {
      "cell_type": "code",
      "source": [
        "mu(rB)"
      ],
      "metadata": {
        "colab": {
          "base_uri": "https://localhost:8080/"
        },
        "id": "5eM3hm1ayaKu",
        "outputId": "d0c475ca-447a-410e-f7bd-2c65528eba94"
      },
      "execution_count": 148,
      "outputs": [
        {
          "output_type": "execute_result",
          "data": {
            "text/plain": [
              "0.10000000000000009"
            ]
          },
          "metadata": {},
          "execution_count": 148
        }
      ]
    },
    {
      "cell_type": "code",
      "source": [
        "rM = M1 / M0 - 1\n",
        "rM"
      ],
      "metadata": {
        "colab": {
          "base_uri": "https://localhost:8080/"
        },
        "id": "oFyqsTb3ybY8",
        "outputId": "f53a7b51-5493-44fc-98ce-d643bb832d05"
      },
      "execution_count": 149,
      "outputs": [
        {
          "output_type": "execute_result",
          "data": {
            "text/plain": [
              "array([[ 1. ,  0.1],\n",
              "       [-0.5,  0.1]])"
            ]
          },
          "metadata": {},
          "execution_count": 149
        }
      ]
    },
    {
      "cell_type": "code",
      "source": [
        "mu(rM)"
      ],
      "metadata": {
        "colab": {
          "base_uri": "https://localhost:8080/"
        },
        "id": "IvWcYuotyc1K",
        "outputId": "805288a0-e367-4730-97e3-561a0ac00dd3"
      },
      "execution_count": 150,
      "outputs": [
        {
          "output_type": "execute_result",
          "data": {
            "text/plain": [
              "array([0.25, 0.1 ])"
            ]
          },
          "metadata": {},
          "execution_count": 150
        }
      ]
    },
    {
      "cell_type": "code",
      "source": [
        "def var(rX):\n",
        "    return ((rX - mu(rX)) ** 2).mean()"
      ],
      "metadata": {
        "id": "chbeXHKIyeWU"
      },
      "execution_count": 151,
      "outputs": []
    },
    {
      "cell_type": "code",
      "source": [
        "var(rS)"
      ],
      "metadata": {
        "colab": {
          "base_uri": "https://localhost:8080/"
        },
        "id": "JQSGjRJ1yf-Z",
        "outputId": "997246ea-1d11-468c-921b-e5f8697f2a73"
      },
      "execution_count": 152,
      "outputs": [
        {
          "output_type": "execute_result",
          "data": {
            "text/plain": [
              "0.5625"
            ]
          },
          "metadata": {},
          "execution_count": 152
        }
      ]
    },
    {
      "cell_type": "code",
      "source": [
        "var(rB)"
      ],
      "metadata": {
        "colab": {
          "base_uri": "https://localhost:8080/"
        },
        "id": "UptegfLuyheo",
        "outputId": "e8cc3c6f-b902-4b40-883b-3656a52b5aca"
      },
      "execution_count": 153,
      "outputs": [
        {
          "output_type": "execute_result",
          "data": {
            "text/plain": [
              "0.0"
            ]
          },
          "metadata": {},
          "execution_count": 153
        }
      ]
    },
    {
      "cell_type": "code",
      "source": [
        "def sigma(rX):\n",
        "    return np.sqrt(var(rX))"
      ],
      "metadata": {
        "id": "CMuqNoeXyirl"
      },
      "execution_count": 154,
      "outputs": []
    },
    {
      "cell_type": "code",
      "source": [
        "sigma(rS)"
      ],
      "metadata": {
        "colab": {
          "base_uri": "https://localhost:8080/"
        },
        "id": "gPTkVhBLyj9v",
        "outputId": "f9fda4ce-8b36-458d-ef42-e7e9997c5f8e"
      },
      "execution_count": 155,
      "outputs": [
        {
          "output_type": "execute_result",
          "data": {
            "text/plain": [
              "0.75"
            ]
          },
          "metadata": {},
          "execution_count": 155
        }
      ]
    },
    {
      "cell_type": "code",
      "source": [
        "sigma(rB)"
      ],
      "metadata": {
        "colab": {
          "base_uri": "https://localhost:8080/"
        },
        "id": "A_xezON8ynMV",
        "outputId": "34cbe50b-982c-4fa6-e0c5-9a6f27ffd1b6"
      },
      "execution_count": 156,
      "outputs": [
        {
          "output_type": "execute_result",
          "data": {
            "text/plain": [
              "0.0"
            ]
          },
          "metadata": {},
          "execution_count": 156
        }
      ]
    },
    {
      "cell_type": "code",
      "source": [
        "np.cov(rM.T, aweights=P, ddof=0)"
      ],
      "metadata": {
        "colab": {
          "base_uri": "https://localhost:8080/"
        },
        "id": "pAJmjzCYyodm",
        "outputId": "fdeb3727-09e2-4257-e393-549b7c0a5e0a"
      },
      "execution_count": 157,
      "outputs": [
        {
          "output_type": "execute_result",
          "data": {
            "text/plain": [
              "array([[0.5625, 0.    ],\n",
              "       [0.    , 0.    ]])"
            ]
          },
          "metadata": {},
          "execution_count": 157
        }
      ]
    },
    {
      "cell_type": "code",
      "source": [
        "phi = np.array((0.5, 0.5))"
      ],
      "metadata": {
        "id": "c42oupnSypvv"
      },
      "execution_count": 158,
      "outputs": []
    },
    {
      "cell_type": "code",
      "source": [
        "def mu_phi(phi):\n",
        "    return np.dot(phi, mu(rM))"
      ],
      "metadata": {
        "id": "jE-xYREZyq_6"
      },
      "execution_count": 159,
      "outputs": []
    },
    {
      "cell_type": "code",
      "source": [
        "mu_phi(phi)"
      ],
      "metadata": {
        "colab": {
          "base_uri": "https://localhost:8080/"
        },
        "id": "bAixNZdKyswb",
        "outputId": "73706bb8-db44-467b-a946-4e1a02d086e4"
      },
      "execution_count": 160,
      "outputs": [
        {
          "output_type": "execute_result",
          "data": {
            "text/plain": [
              "0.17500000000000004"
            ]
          },
          "metadata": {},
          "execution_count": 160
        }
      ]
    },
    {
      "cell_type": "code",
      "source": [
        "def var_phi(phi):\n",
        "    cv = np.cov(rM.T, aweights=P, ddof=0)\n",
        "    return np.dot(phi, np.dot(cv, phi))"
      ],
      "metadata": {
        "id": "OBDWhqKSyudy"
      },
      "execution_count": 161,
      "outputs": []
    },
    {
      "cell_type": "code",
      "source": [
        "var_phi(phi)"
      ],
      "metadata": {
        "colab": {
          "base_uri": "https://localhost:8080/"
        },
        "id": "hpAXgo8WywGS",
        "outputId": "6c1e4f68-749a-40dc-b1c6-8c39d8e35069"
      },
      "execution_count": 162,
      "outputs": [
        {
          "output_type": "execute_result",
          "data": {
            "text/plain": [
              "0.140625"
            ]
          },
          "metadata": {},
          "execution_count": 162
        }
      ]
    },
    {
      "cell_type": "code",
      "source": [
        "def sigma_phi(phi):\n",
        "    return var_phi(phi) ** 0.5"
      ],
      "metadata": {
        "id": "qnNSpPE6y_1v"
      },
      "execution_count": 163,
      "outputs": []
    },
    {
      "cell_type": "code",
      "source": [
        "sigma_phi(phi)"
      ],
      "metadata": {
        "colab": {
          "base_uri": "https://localhost:8080/"
        },
        "id": "3PRrjDqXzBX2",
        "outputId": "6fff345c-e6af-4773-f542-32e085cc1fd8"
      },
      "execution_count": 164,
      "outputs": [
        {
          "output_type": "execute_result",
          "data": {
            "text/plain": [
              "0.375"
            ]
          },
          "metadata": {},
          "execution_count": 164
        }
      ]
    },
    {
      "cell_type": "code",
      "source": [
        "from pylab import plt, mpl\n",
        "plt.style.use('seaborn')\n",
        "mpl.rcParams['savefig.dpi'] = 300\n",
        "mpl.rcParams['font.family'] = 'serif'"
      ],
      "metadata": {
        "id": "4vZj4ISozDkN"
      },
      "execution_count": 165,
      "outputs": []
    },
    {
      "cell_type": "code",
      "source": [
        "phi_mcs = np.random.random((2, 200))"
      ],
      "metadata": {
        "id": "dfydtzABzFk3"
      },
      "execution_count": 166,
      "outputs": []
    },
    {
      "cell_type": "code",
      "source": [
        "phi_mcs = (phi_mcs / phi_mcs.sum(axis=0)).T"
      ],
      "metadata": {
        "id": "Ua5mKNoL4Hq8"
      },
      "execution_count": 167,
      "outputs": []
    },
    {
      "cell_type": "code",
      "source": [
        "mcs = np.array([(sigma_phi(phi), mu_phi(phi))\n",
        "                for phi in phi_mcs])"
      ],
      "metadata": {
        "id": "BKXC5tFP4JtX"
      },
      "execution_count": 168,
      "outputs": []
    },
    {
      "cell_type": "code",
      "source": [
        "plt.figure(figsize=(10, 6))\n",
        "plt.plot(mcs[:, 0], mcs[:, 1], 'ro')\n",
        "plt.xlabel('expected volatility')\n",
        "plt.ylabel('expected return');"
      ],
      "metadata": {
        "colab": {
          "base_uri": "https://localhost:8080/",
          "height": 387
        },
        "id": "7746iLHW4Qrp",
        "outputId": "8530ea18-8236-4579-bbc5-ddd410981f3e"
      },
      "execution_count": 169,
      "outputs": [
        {
          "output_type": "display_data",
          "data": {
            "image/png": "[encoded data removed]",
            "text/plain": [
              "<Figure size 720x432 with 1 Axes>"
            ]
          },
          "metadata": {}
        }
      ]
    },
    {
      "cell_type": "code",
      "source": [
        "P = np.ones(3) / 3\n",
        "P"
      ],
      "metadata": {
        "colab": {
          "base_uri": "https://localhost:8080/"
        },
        "id": "MPY9_U9-5LD4",
        "outputId": "37236005-7d1b-411d-af42-63e1122760d7"
      },
      "execution_count": 170,
      "outputs": [
        {
          "output_type": "execute_result",
          "data": {
            "text/plain": [
              "array([0.33333333, 0.33333333, 0.33333333])"
            ]
          },
          "metadata": {},
          "execution_count": 170
        }
      ]
    },
    {
      "cell_type": "code",
      "source": [
        "S1 = np.array((20, 10, 5))"
      ],
      "metadata": {
        "id": "7EtrZHk75PAT"
      },
      "execution_count": 171,
      "outputs": []
    },
    {
      "cell_type": "code",
      "source": [
        "T0 = 10\n",
        "T1 = np.array((1, 12, 13))"
      ],
      "metadata": {
        "id": "03FNKg9E5QsV"
      },
      "execution_count": 172,
      "outputs": []
    },
    {
      "cell_type": "code",
      "source": [
        "M0 = np.array((S0, T0))\n",
        "M0"
      ],
      "metadata": {
        "colab": {
          "base_uri": "https://localhost:8080/"
        },
        "id": "UbwLynbW5Ydl",
        "outputId": "e752be6f-c316-43bd-fc2a-275a7b5356a8"
      },
      "execution_count": 173,
      "outputs": [
        {
          "output_type": "execute_result",
          "data": {
            "text/plain": [
              "array([10, 10])"
            ]
          },
          "metadata": {},
          "execution_count": 173
        }
      ]
    },
    {
      "cell_type": "code",
      "source": [
        "M1 = np.array((S1, T1)).T\n",
        "M1"
      ],
      "metadata": {
        "colab": {
          "base_uri": "https://localhost:8080/"
        },
        "id": "9FFHzSsS5Z0w",
        "outputId": "54721d4b-4c19-4207-dc5b-bea74d179d90"
      },
      "execution_count": 174,
      "outputs": [
        {
          "output_type": "execute_result",
          "data": {
            "text/plain": [
              "array([[20,  1],\n",
              "       [10, 12],\n",
              "       [ 5, 13]])"
            ]
          },
          "metadata": {},
          "execution_count": 174
        }
      ]
    },
    {
      "cell_type": "code",
      "source": [
        "rM = M1 / M0 - 1\n",
        "rM"
      ],
      "metadata": {
        "colab": {
          "base_uri": "https://localhost:8080/"
        },
        "id": "vuSp2DxZ5bdU",
        "outputId": "7d6ccc9c-834d-48d1-e2bf-23a489c66521"
      },
      "execution_count": 175,
      "outputs": [
        {
          "output_type": "execute_result",
          "data": {
            "text/plain": [
              "array([[ 1. , -0.9],\n",
              "       [ 0. ,  0.2],\n",
              "       [-0.5,  0.3]])"
            ]
          },
          "metadata": {},
          "execution_count": 175
        }
      ]
    },
    {
      "cell_type": "code",
      "source": [
        "np.cov(rM.T, aweights=P, ddof=0)"
      ],
      "metadata": {
        "colab": {
          "base_uri": "https://localhost:8080/"
        },
        "id": "NMsMI-ZW7BIg",
        "outputId": "2d33b2bd-ed5f-40c5-861a-8a3293a59a29"
      },
      "execution_count": 176,
      "outputs": [
        {
          "output_type": "execute_result",
          "data": {
            "text/plain": [
              "array([[ 0.38888889, -0.32777778],\n",
              "       [-0.32777778,  0.29555556]])"
            ]
          },
          "metadata": {},
          "execution_count": 176
        }
      ]
    },
    {
      "cell_type": "code",
      "source": [
        "mcs = np.array([(sigma_phi(phi), mu_phi(phi))\n",
        "                for phi in phi_mcs])"
      ],
      "metadata": {
        "id": "LqpxvzvS6iFd"
      },
      "execution_count": 177,
      "outputs": []
    },
    {
      "cell_type": "code",
      "source": [
        "mu(rM)"
      ],
      "metadata": {
        "colab": {
          "base_uri": "https://localhost:8080/"
        },
        "id": "HVaZv-67-k4T",
        "outputId": "7a30473d-b2dc-4fee-f5c7-c80f20cb5621"
      },
      "execution_count": 178,
      "outputs": [
        {
          "output_type": "execute_result",
          "data": {
            "text/plain": [
              "array([ 0.16666667, -0.13333333])"
            ]
          },
          "metadata": {},
          "execution_count": 178
        }
      ]
    },
    {
      "cell_type": "code",
      "source": [
        "plt.figure(figsize=(10, 6))\n",
        "plt.plot(mcs[:, 0], mcs[:, 1], 'ro')\n",
        "plt.xlabel('expected volatility')\n",
        "plt.ylabel('expected return');"
      ],
      "metadata": {
        "colab": {
          "base_uri": "https://localhost:8080/",
          "height": 387
        },
        "id": "F7oNjv1V6m02",
        "outputId": "9df5ae66-b4da-4477-814d-9ec82f60472a"
      },
      "execution_count": 179,
      "outputs": [
        {
          "output_type": "display_data",
          "data": {
            "image/png": "[encoded data removed]",
            "text/plain": [
              "<Figure size 720x432 with 1 Axes>"
            ]
          },
          "metadata": {}
        }
      ]
    },
    {
      "cell_type": "code",
      "source": [
        "cons = {'type': 'eq', 'fun': lambda phi: np.sum(phi) - 1}"
      ],
      "metadata": {
        "id": "SsYjdvOL6ohz"
      },
      "execution_count": 180,
      "outputs": []
    },
    {
      "cell_type": "code",
      "source": [
        "bnds = ((0, 1), (0, 1))"
      ],
      "metadata": {
        "id": "whhfNJR26qnz"
      },
      "execution_count": 181,
      "outputs": []
    },
    {
      "cell_type": "code",
      "source": [
        "min_var = minimize(sigma_phi, (0.5, 0.5),\n",
        "                   constraints=cons, bounds=bnds)"
      ],
      "metadata": {
        "id": "RR255jbH6st4"
      },
      "execution_count": 182,
      "outputs": []
    },
    {
      "cell_type": "code",
      "source": [
        "min_var"
      ],
      "metadata": {
        "colab": {
          "base_uri": "https://localhost:8080/"
        },
        "id": "fh22ELSH6uUs",
        "outputId": "a2252b92-159b-4581-e749-1579ac148139"
      },
      "execution_count": 183,
      "outputs": [
        {
          "output_type": "execute_result",
          "data": {
            "text/plain": [
              "     fun: 0.07481322946905193\n",
              "     jac: array([0.07426564, 0.07528945])\n",
              " message: 'Optimization terminated successfully.'\n",
              "    nfev: 17\n",
              "     nit: 4\n",
              "    njev: 4\n",
              "  status: 0\n",
              " success: True\n",
              "       x: array([0.46511697, 0.53488303])"
            ]
          },
          "metadata": {},
          "execution_count": 183
        }
      ]
    },
    {
      "cell_type": "code",
      "source": [
        "# Defines the sharpe ratio function, assuming a short rate of 0\n",
        "def sharpe(phi):\n",
        "    return mu_phi(phi) / sigma_phi(phi)"
      ],
      "metadata": {
        "id": "-Pc6mwy66v4I"
      },
      "execution_count": 184,
      "outputs": []
    },
    {
      "cell_type": "code",
      "source": [
        "max_sharpe = minimize(lambda phi: -sharpe(phi), (0.5, 0.5),\n",
        "               constraints=cons, bounds=bnds)"
      ],
      "metadata": {
        "id": "Hvkaz9Kb6xqf"
      },
      "execution_count": 185,
      "outputs": []
    },
    {
      "cell_type": "code",
      "source": [
        "max_sharpe"
      ],
      "metadata": {
        "colab": {
          "base_uri": "https://localhost:8080/"
        },
        "id": "-PeE9vi36zsD",
        "outputId": "233e0b07-4a54-4994-ab48-d0db15e36c46"
      },
      "execution_count": 186,
      "outputs": [
        {
          "output_type": "execute_result",
          "data": {
            "text/plain": [
              "     fun: -0.2721654099067235\n",
              "     jac: array([ 0.00012052, -0.00024173])\n",
              " message: 'Optimization terminated successfully.'\n",
              "    nfev: 38\n",
              "     nit: 9\n",
              "    njev: 9\n",
              "  status: 0\n",
              " success: True\n",
              "       x: array([0.66731113, 0.33268887])"
            ]
          },
          "metadata": {},
          "execution_count": 186
        }
      ]
    },
    {
      "cell_type": "code",
      "source": [
        "plt.figure(figsize=(10, 6))\n",
        "plt.plot(mcs[:, 0], mcs[:, 1], 'ro', ms=5)\n",
        "plt.plot(sigma_phi(min_var['x']), mu_phi(min_var['x']),\n",
        "         '^', ms=12.5, label='minimum volatility')\n",
        "plt.plot(sigma_phi(max_sharpe['x']), mu_phi(max_sharpe['x']),\n",
        "         'v', ms=12.5, label='maximum Sharpe ratio')\n",
        "plt.xlabel('expected volatility')\n",
        "plt.ylabel('expected return')\n",
        "plt.legend();"
      ],
      "metadata": {
        "colab": {
          "base_uri": "https://localhost:8080/",
          "height": 387
        },
        "id": "-lPKMBRR62jO",
        "outputId": "a7b9afa8-fcc1-4785-cc6e-502cf0403c7d"
      },
      "execution_count": 187,
      "outputs": [
        {
          "output_type": "display_data",
          "data": {
            "image/png": "[encoded data removed]",
            "text/plain": [
              "<Figure size 720x432 with 1 Axes>"
            ]
          },
          "metadata": {}
        }
      ]
    },
    {
      "cell_type": "code",
      "source": [
        "cons = [{'type': 'eq', 'fun': lambda phi: np.sum(phi) - 1},\n",
        "       {'type': 'eq', 'fun': lambda phi: mu_phi(phi) - target}]"
      ],
      "metadata": {
        "id": "EErXVsl164Vd"
      },
      "execution_count": 188,
      "outputs": []
    },
    {
      "cell_type": "code",
      "source": [
        "bnds = ((0, 1), (0, 1))"
      ],
      "metadata": {
        "id": "NM9vkvQqA4Ig"
      },
      "execution_count": 189,
      "outputs": []
    },
    {
      "cell_type": "code",
      "source": [
        "targets = np.linspace(mu_phi(min_var['x']), 0.16)"
      ],
      "metadata": {
        "id": "yDyntWVMA9hM"
      },
      "execution_count": 190,
      "outputs": []
    },
    {
      "cell_type": "code",
      "source": [
        "frontier = []\n",
        "for target in targets:\n",
        "    phi_eff = minimize(sigma_phi, (0.5, 0.5),\n",
        "                       constraints=cons, bounds=bnds)['x']\n",
        "    frontier.append((sigma_phi(phi_eff), mu_phi(phi_eff)))\n",
        "frontier = np.array(frontier)"
      ],
      "metadata": {
        "id": "2yui3__mA_co"
      },
      "execution_count": 191,
      "outputs": []
    },
    {
      "cell_type": "code",
      "source": [
        "plt.figure(figsize=(10, 6))\n",
        "plt.plot(frontier[:, 0], frontier[:, 1], 'mo', ms=5,\n",
        "         label='efficient frontier')\n",
        "plt.plot(sigma_phi(min_var['x']), mu_phi(min_var['x']),\n",
        "         '^', ms=12.5, label='minimum volatility')\n",
        "plt.plot(sigma_phi(max_sharpe['x']), mu_phi(max_sharpe['x']),\n",
        "         'v', ms=12.5, label='maximum Sharpe ratio')\n",
        "plt.xlabel('expected volatility')\n",
        "plt.ylabel('expected return')\n",
        "plt.legend();"
      ],
      "metadata": {
        "colab": {
          "base_uri": "https://localhost:8080/",
          "height": 387
        },
        "id": "-WTJZN45BBZ5",
        "outputId": "27dd0cc5-ef06-4dc7-d836-1da3e8b7200d"
      },
      "execution_count": 192,
      "outputs": [
        {
          "output_type": "display_data",
          "data": {
            "image/png": "[encoded data removed]",
            "text/plain": [
              "<Figure size 720x432 with 1 Axes>"
            ]
          },
          "metadata": {}
        }
      ]
    },
    {
      "cell_type": "markdown",
      "source": [
        "## Capital Asset Pricing Model"
      ],
      "metadata": {
        "id": "8n3ojYlgBF0d"
      }
    },
    {
      "cell_type": "code",
      "source": [
        "plt.figure(figsize=(10, 6))\n",
        "plt.plot((0, 0.3), (0.01, 0.22), label='capital market line')\n",
        "plt.plot(0, 0.01, 'o', ms=9, label='risk-less asset')\n",
        "plt.plot(0.2, 0.15, '^', ms=9, label='market portfolio')\n",
        "plt.annotate('$(0, \\\\bar{r})$', (0, 0.01), (-0.01, 0.02))\n",
        "plt.annotate('$(\\sigma_M, \\mu_M)$', (0.2, 0.15), (0.19, 0.2), arrowprops = dict())\n",
        "plt.xlabel('expected volatility')\n",
        "plt.ylabel('expected return')\n",
        "plt.legend();"
      ],
      "metadata": {
        "colab": {
          "base_uri": "https://localhost:8080/",
          "height": 387
        },
        "id": "br9g6UihBHwm",
        "outputId": "8f1f7497-6df8-4c89-91c0-15502435e672"
      },
      "execution_count": 193,
      "outputs": [
        {
          "output_type": "display_data",
          "data": {
            "image/png": "[encoded data removed]",
            "text/plain": [
              "<Figure size 720x432 with 1 Axes>"
            ]
          },
          "metadata": {}
        }
      ]
    },
    {
      "cell_type": "markdown",
      "source": [
        "## Capital Market Line"
      ],
      "metadata": {
        "id": "fPGaro0H_1KN"
      }
    },
    {
      "cell_type": "code",
      "source": [
        "r = 0.0025"
      ],
      "metadata": {
        "id": "L6F4Ouj6ACWp"
      },
      "execution_count": 194,
      "outputs": []
    },
    {
      "cell_type": "code",
      "source": [
        "cons = {'type': 'eq',\n",
        "       'fun': lambda phi: np.sum(phi) - 1}"
      ],
      "metadata": {
        "id": "SRHKI839ANH7"
      },
      "execution_count": 195,
      "outputs": []
    },
    {
      "cell_type": "code",
      "source": [
        "# Defines the sharpe ratio function, assuming a short rate of 0\n",
        "def sharpe(phi):\n",
        "    return mu_phi(phi) / sigma_phi(phi)"
      ],
      "metadata": {
        "id": "aMS9WYGRAr68"
      },
      "execution_count": 196,
      "outputs": []
    },
    {
      "cell_type": "code",
      "source": [
        "max_sharpe = minimize(lambda phi: -sharpe(phi), (0.5, 0.5),\n",
        "               constraints=cons, bounds=bnds)"
      ],
      "metadata": {
        "id": "3oF_TDVxAtvu"
      },
      "execution_count": 197,
      "outputs": []
    },
    {
      "cell_type": "code",
      "source": [
        "phi_M = np.array((0.8, 0.2))"
      ],
      "metadata": {
        "id": "rW-B6LIVBIbj"
      },
      "execution_count": 198,
      "outputs": []
    },
    {
      "cell_type": "code",
      "source": [
        "mu_M = mu_phi(phi_M)\n",
        "mu_M"
      ],
      "metadata": {
        "colab": {
          "base_uri": "https://localhost:8080/"
        },
        "id": "a8g3Bkmd-sGG",
        "outputId": "bebae8dc-96df-4bea-90dc-415714671447"
      },
      "execution_count": 199,
      "outputs": [
        {
          "output_type": "execute_result",
          "data": {
            "text/plain": [
              "0.10666666666666666"
            ]
          },
          "metadata": {},
          "execution_count": 199
        }
      ]
    },
    {
      "cell_type": "code",
      "source": [
        "sigma_M = sigma_phi(phi_M)\n",
        "sigma_M"
      ],
      "metadata": {
        "colab": {
          "base_uri": "https://localhost:8080/"
        },
        "id": "GENQ-BBa-uE2",
        "outputId": "313db241-3e4f-467f-fa20-5f26eb40a964"
      },
      "execution_count": 200,
      "outputs": [
        {
          "output_type": "execute_result",
          "data": {
            "text/plain": [
              "0.39474323581566567"
            ]
          },
          "metadata": {},
          "execution_count": 200
        }
      ]
    },
    {
      "cell_type": "code",
      "source": [
        "r = 0.0025"
      ],
      "metadata": {
        "id": "kCI3-4_8-5vq"
      },
      "execution_count": 201,
      "outputs": []
    },
    {
      "cell_type": "code",
      "source": [
        "(mu_M - r)/ sigma_M"
      ],
      "metadata": {
        "colab": {
          "base_uri": "https://localhost:8080/"
        },
        "id": "avm5hTMmxVDM",
        "outputId": "6b788202-a24a-4919-8faa-7d8dea6df48a"
      },
      "execution_count": 202,
      "outputs": [
        {
          "output_type": "execute_result",
          "data": {
            "text/plain": [
              "0.2638846146443144"
            ]
          },
          "metadata": {},
          "execution_count": 202
        }
      ]
    },
    {
      "cell_type": "code",
      "source": [
        "plt.figure(figsize=(10, 6))\n",
        "plt.plot(frontier[:, 0], frontier[:, 1], 'm.', ms=5,\n",
        "         label='efficient frontier')\n",
        "plt.plot(0, r, 'o', ms=9, label='risk-less asset')\n",
        "plt.plot(sigma_M, mu_M, '^', ms=9, label='market portfolio')\n",
        "plt.plot((0, 0.6), (r, r + ((mu_M - r) / sigma_M) * 0.6),\n",
        "         'r', label='capital market line', lw=2.0)\n",
        "plt.annotate('$(0, \\\\bar{r})$', (0, r), (-0.015, r + 0.01))\n",
        "plt.annotate('$(\\sigma_M, \\mu_M)$', (sigma_M, mu_M),\n",
        "             (sigma_M - 0.025, mu_M + 0.01))\n",
        "plt.xlabel('expected volatility')\n",
        "plt.ylabel('expected return')\n",
        "plt.legend();"
      ],
      "metadata": {
        "colab": {
          "base_uri": "https://localhost:8080/",
          "height": 387
        },
        "id": "HqDdK9LI-7NR",
        "outputId": "0b546661-76df-43de-dc3e-b0a553d3dea6"
      },
      "execution_count": 89,
      "outputs": [
        {
          "output_type": "display_data",
          "data": {
            "image/png": "[encoded data removed]",
            "text/plain": [
              "<Figure size 720x432 with 1 Axes>"
            ]
          },
          "metadata": {}
        }
      ]
    },
    {
      "cell_type": "code",
      "source": [
        "def U(p):\n",
        "    mu, sigma = p\n",
        "    return mu - 1 / 2 * (sigma ** 2 + mu ** 2)"
      ],
      "metadata": {
        "id": "tG4BqBmv-81I"
      },
      "execution_count": 90,
      "outputs": []
    },
    {
      "cell_type": "code",
      "source": [
        "cons = {'type': 'eq',\n",
        "        'fun': lambda p: p[0] - (r + (mu_M - r) / sigma_M * p[1])}"
      ],
      "metadata": {
        "id": "3JBKHN_7--__"
      },
      "execution_count": 91,
      "outputs": []
    },
    {
      "cell_type": "code",
      "source": [
        "opt = minimize(lambda p: -U(p), (0.1, 0.3), constraints=cons)\n",
        "opt"
      ],
      "metadata": {
        "id": "WvXLevFG_bW5",
        "colab": {
          "base_uri": "https://localhost:8080/"
        },
        "outputId": "df1b2318-1c85-4c7b-c94c-8ff82c02f7e5"
      },
      "execution_count": 93,
      "outputs": [
        {
          "output_type": "execute_result",
          "data": {
            "text/plain": [
              "     fun: -0.034885186826739426\n",
              "     jac: array([-0.93256102,  0.24608851])\n",
              " message: 'Optimization terminated successfully.'\n",
              "    nfev: 8\n",
              "     nit: 2\n",
              "    njev: 2\n",
              "  status: 0\n",
              " success: True\n",
              "       x: array([0.06743897, 0.2460885 ])"
            ]
          },
          "metadata": {},
          "execution_count": 93
        }
      ]
    },
    {
      "cell_type": "code",
      "source": [
        "# Slope of Tagent Line = - (dU/d(sigma) / (dU/d(mu)))\n",
        "-opt['jac'][1]/opt['jac'][0]"
      ],
      "metadata": {
        "colab": {
          "base_uri": "https://localhost:8080/"
        },
        "id": "pFw6u241vXrX",
        "outputId": "d6a79326-a0a8-4a60-9369-e3a70bc08dd9"
      },
      "execution_count": 107,
      "outputs": [
        {
          "output_type": "execute_result",
          "data": {
            "text/plain": [
              "0.2638846144687371"
            ]
          },
          "metadata": {},
          "execution_count": 107
        }
      ]
    },
    {
      "cell_type": "code",
      "source": [
        "from sympy import *\n",
        "init_printing(use_unicode=False, use_latex=False)"
      ],
      "metadata": {
        "id": "VnmwnbqrTlOA"
      },
      "execution_count": 209,
      "outputs": []
    },
    {
      "cell_type": "code",
      "source": [
        "mu, sigma, b, v = symbols('mu sigma b v')"
      ],
      "metadata": {
        "id": "L3PUaV7PTrrT"
      },
      "execution_count": 210,
      "outputs": []
    },
    {
      "cell_type": "code",
      "source": [
        "mu, sigma, b, v"
      ],
      "metadata": {
        "colab": {
          "base_uri": "https://localhost:8080/"
        },
        "id": "QmjiXOPNx9ei",
        "outputId": "e9e3a964-b310-4bee-ef0d-cd28a74864b2"
      },
      "execution_count": 211,
      "outputs": [
        {
          "output_type": "execute_result",
          "data": {
            "text/plain": [
              "(mu, sigma, b, v)"
            ]
          },
          "metadata": {},
          "execution_count": 211
        }
      ]
    },
    {
      "cell_type": "code",
      "source": [
        "sol = solve('mu - b / 2 * (sigma ** 2 + mu ** 2) - v', mu)\n",
        "sol"
      ],
      "metadata": {
        "colab": {
          "base_uri": "https://localhost:8080/"
        },
        "id": "aU829P55utzr",
        "outputId": "e2c50880-4ad2-4b68-f6f7-ee836140039f"
      },
      "execution_count": 212,
      "outputs": [
        {
          "output_type": "execute_result",
          "data": {
            "text/plain": [
              "        _________________________     _________________________     \n",
              "       /    2      2                 /    2      2                  \n",
              " 1 - \\/  - b *sigma  - 2*b*v + 1   \\/  - b *sigma  - 2*b*v + 1  + 1 \n",
              "[--------------------------------, --------------------------------]\n",
              "                b                                 b                 "
            ]
          },
          "metadata": {},
          "execution_count": 212
        }
      ]
    },
    {
      "cell_type": "code",
      "source": [
        "u1 = sol[0].subs({'b': 1, 'v': 0.1})\n",
        "u1"
      ],
      "metadata": {
        "colab": {
          "base_uri": "https://localhost:8080/"
        },
        "id": "R4A2WS7tuv26",
        "outputId": "6dc13ad0-2f69-4230-a938-127f735ec3b3"
      },
      "execution_count": 213,
      "outputs": [
        {
          "output_type": "execute_result",
          "data": {
            "text/plain": [
              "       ______________\n",
              "      /            2 \n",
              "1 - \\/  0.8 - sigma  "
            ]
          },
          "metadata": {},
          "execution_count": 213
        }
      ]
    },
    {
      "cell_type": "code",
      "source": [
        "u2 = sol[0].subs({'b': 1, 'v': 0.125})\n",
        "u2"
      ],
      "metadata": {
        "colab": {
          "base_uri": "https://localhost:8080/"
        },
        "id": "92uO6oWduzh8",
        "outputId": "b69e03e0-1552-4763-fe72-8d30ddef86ba"
      },
      "execution_count": 218,
      "outputs": [
        {
          "output_type": "execute_result",
          "data": {
            "text/plain": [
              "       _______________\n",
              "      /             2 \n",
              "1 - \\/  0.75 - sigma  "
            ]
          },
          "metadata": {},
          "execution_count": 218
        }
      ]
    },
    {
      "cell_type": "code",
      "source": [
        "f1 = lambdify(sigma, u1)\n",
        "f2 = lambdify(sigma, u2)"
      ],
      "metadata": {
        "id": "3miMSGQZu1hn"
      },
      "execution_count": 219,
      "outputs": []
    },
    {
      "cell_type": "code",
      "source": [
        "sigma_ = np.linspace(0.0, 0.5)\n",
        "u1_ = f1(sigma_)\n",
        "u2_ = f2(sigma_)"
      ],
      "metadata": {
        "id": "1ufgCjl_u3FN"
      },
      "execution_count": 238,
      "outputs": []
    },
    {
      "cell_type": "code",
      "source": [
        "plt.figure(figsize=(10, 6))\n",
        "plt.plot(sigma_, u1_, label='$v=0.1$')\n",
        "plt.plot(sigma_, u2_, '--', label='$v=0.125$')\n",
        "plt.xlabel('expected volatility')\n",
        "plt.ylabel('expected return')\n",
        "plt.legend();"
      ],
      "metadata": {
        "colab": {
          "base_uri": "https://localhost:8080/",
          "height": 387
        },
        "id": "9e6UwaqEu438",
        "outputId": "0ae2e179-6b1a-47fa-f7de-90b49d39460e"
      },
      "execution_count": 239,
      "outputs": [
        {
          "output_type": "display_data",
          "data": {
            "image/png": "[encoded data removed]",
            "text/plain": [
              "<Figure size 720x432 with 1 Axes>"
            ]
          },
          "metadata": {}
        }
      ]
    },
    {
      "cell_type": "code",
      "source": [
        "u = sol[0].subs({'b': 1, 'v': -opt['fun']})\n",
        "u"
      ],
      "metadata": {
        "colab": {
          "base_uri": "https://localhost:8080/"
        },
        "id": "_dtbKrgxu6fK",
        "outputId": "61e42d45-7680-496a-be90-cba0bee605b5"
      },
      "execution_count": 240,
      "outputs": [
        {
          "output_type": "execute_result",
          "data": {
            "text/plain": [
              "                        ________________________________\n",
              "                       /                          2     \n",
              "1 - 2.40208909055988*\\/  - 0.173309264173162*sigma  - 1 "
            ]
          },
          "metadata": {},
          "execution_count": 240
        }
      ]
    },
    {
      "cell_type": "code",
      "source": [
        "f = lambdify(sigma, u)"
      ],
      "metadata": {
        "id": "8LeHu7Ecu8ds"
      },
      "execution_count": 241,
      "outputs": []
    },
    {
      "cell_type": "code",
      "source": [
        "u_ = f(sigma_)"
      ],
      "metadata": {
        "colab": {
          "base_uri": "https://localhost:8080/"
        },
        "id": "szNuXhNMu-A5",
        "outputId": "7951f281-effe-4955-d9e0-63ff47ac245a"
      },
      "execution_count": 242,
      "outputs": [
        {
          "output_type": "stream",
          "name": "stderr",
          "text": [
            "<string>:2: RuntimeWarning: invalid value encountered in sqrt\n"
          ]
        }
      ]
    },
    {
      "cell_type": "code",
      "source": [
        "plt.figure(figsize=(10, 6))\n",
        "plt.plot(0, r, 'o', ms=9, label='risk-less asset')\n",
        "plt.plot(sigma_M, mu_M, '^', ms=9, label='market portfolio')\n",
        "plt.plot(opt['x'][1], opt['x'][0], 'v', ms=9, label='optimal portfolio')\n",
        "plt.plot((0, 0.5), (r, r + (mu_M - r) / sigma_M * 0.5),\n",
        "         label='capital market line', lw=2.0)\n",
        "plt.plot(sigma_, u_, '--', label='$v={}$'.format(-round(opt['fun'], 3)))\n",
        "plt.xlabel('expected volatility')\n",
        "plt.ylabel('expected return')\n",
        "plt.legend();"
      ],
      "metadata": {
        "colab": {
          "base_uri": "https://localhost:8080/",
          "height": 387
        },
        "id": "QQgebMRQu_hg",
        "outputId": "da1e609c-aeef-4ecd-ec8c-8eccd990b2e1"
      },
      "execution_count": 230,
      "outputs": [
        {
          "output_type": "display_data",
          "data": {
            "image/png": "[encoded data removed]",
            "text/plain": [
              "<Figure size 720x432 with 1 Axes>"
            ]
          },
          "metadata": {}
        }
      ]
    },
    {
      "cell_type": "markdown",
      "source": [
        "## Arbitrage Pricing Theory"
      ],
      "metadata": {
        "id": "EUz99GbM-mvw"
      }
    },
    {
      "cell_type": "code",
      "source": [
        "M1"
      ],
      "metadata": {
        "colab": {
          "base_uri": "https://localhost:8080/"
        },
        "id": "stWXavSAvA1n",
        "outputId": "e1c6e05b-63e7-42ff-c23c-e6ebe7e27aaa"
      },
      "execution_count": 243,
      "outputs": [
        {
          "output_type": "execute_result",
          "data": {
            "text/plain": [
              "array([[20,  1],\n",
              "       [10, 12],\n",
              "       [ 5, 13]])"
            ]
          },
          "metadata": {},
          "execution_count": 243
        }
      ]
    },
    {
      "cell_type": "code",
      "source": [
        "M0"
      ],
      "metadata": {
        "colab": {
          "base_uri": "https://localhost:8080/"
        },
        "id": "RNSsAQ8C-qVA",
        "outputId": "54631322-6066-4d2c-feef-c2b3f264bb8e"
      },
      "execution_count": 244,
      "outputs": [
        {
          "output_type": "execute_result",
          "data": {
            "text/plain": [
              "array([10, 10])"
            ]
          },
          "metadata": {},
          "execution_count": 244
        }
      ]
    },
    {
      "cell_type": "code",
      "source": [
        "V1 = np.array((12, 15, 7))"
      ],
      "metadata": {
        "id": "lYvOVl9b-rkV"
      },
      "execution_count": 245,
      "outputs": []
    },
    {
      "cell_type": "code",
      "source": [
        "reg = np.linalg.lstsq(M1, V1, rcond=-1)[0]\n",
        "reg"
      ],
      "metadata": {
        "colab": {
          "base_uri": "https://localhost:8080/"
        },
        "id": "8AAX2rbS-s1X",
        "outputId": "dc5831f2-606a-40c3-c226-518c4b552b44"
      },
      "execution_count": 246,
      "outputs": [
        {
          "output_type": "execute_result",
          "data": {
            "text/plain": [
              "array([0.6141665 , 0.50030531])"
            ]
          },
          "metadata": {},
          "execution_count": 246
        }
      ]
    },
    {
      "cell_type": "code",
      "source": [
        "np.dot(M1, reg)"
      ],
      "metadata": {
        "colab": {
          "base_uri": "https://localhost:8080/"
        },
        "id": "xqMA5hzL-uH5",
        "outputId": "52bc82b3-54bd-4278-83c8-d3d4bb4f61c3"
      },
      "execution_count": 247,
      "outputs": [
        {
          "output_type": "execute_result",
          "data": {
            "text/plain": [
              "array([12.78363525, 12.14532872,  9.57480155])"
            ]
          },
          "metadata": {},
          "execution_count": 247
        }
      ]
    },
    {
      "cell_type": "code",
      "source": [
        "np.dot(M1, reg) - V1"
      ],
      "metadata": {
        "colab": {
          "base_uri": "https://localhost:8080/"
        },
        "id": "UsscG4MX-vb3",
        "outputId": "2ff2adcd-e3f0-4337-fc91-21ad1b740a9b"
      },
      "execution_count": 248,
      "outputs": [
        {
          "output_type": "execute_result",
          "data": {
            "text/plain": [
              "array([ 0.78363525, -2.85467128,  2.57480155])"
            ]
          },
          "metadata": {},
          "execution_count": 248
        }
      ]
    },
    {
      "cell_type": "code",
      "source": [
        "V0 = np.dot(M0, reg)\n",
        "V0"
      ],
      "metadata": {
        "colab": {
          "base_uri": "https://localhost:8080/"
        },
        "id": "mkOCWCOv-xJ3",
        "outputId": "797078f6-6fd4-4c03-caef-2d5e3ebe15fc"
      },
      "execution_count": 249,
      "outputs": [
        {
          "output_type": "execute_result",
          "data": {
            "text/plain": [
              "11.144718094850402"
            ]
          },
          "metadata": {},
          "execution_count": 249
        }
      ]
    },
    {
      "cell_type": "code",
      "source": [
        "U0 = 10\n",
        "U1 = np.array((12, 5, 11))"
      ],
      "metadata": {
        "id": "xarjwCuC-yT9"
      },
      "execution_count": 250,
      "outputs": []
    },
    {
      "cell_type": "code",
      "source": [
        "M0_ = np.array((S0, T0, U0))"
      ],
      "metadata": {
        "id": "O5-HQr8q-z5j"
      },
      "execution_count": 251,
      "outputs": []
    },
    {
      "cell_type": "code",
      "source": [
        "M1_ = np.concatenate((M1.T, np.array([U1,]))).T"
      ],
      "metadata": {
        "id": "7CeU-IZe-1Ne"
      },
      "execution_count": 252,
      "outputs": []
    },
    {
      "cell_type": "code",
      "source": [
        "M1_"
      ],
      "metadata": {
        "colab": {
          "base_uri": "https://localhost:8080/"
        },
        "id": "0w0aQON5-2dR",
        "outputId": "0d9f3e16-3356-46b0-ef24-5f1614f732c4"
      },
      "execution_count": 253,
      "outputs": [
        {
          "output_type": "execute_result",
          "data": {
            "text/plain": [
              "array([[20,  1, 12],\n",
              "       [10, 12,  5],\n",
              "       [ 5, 13, 11]])"
            ]
          },
          "metadata": {},
          "execution_count": 253
        }
      ]
    },
    {
      "cell_type": "code",
      "source": [
        "np.linalg.matrix_rank(M1_)"
      ],
      "metadata": {
        "colab": {
          "base_uri": "https://localhost:8080/"
        },
        "id": "TMvB7O3G-3of",
        "outputId": "65e05356-aa6f-4f98-a1f8-fa812649e28a"
      },
      "execution_count": 254,
      "outputs": [
        {
          "output_type": "execute_result",
          "data": {
            "text/plain": [
              "3"
            ]
          },
          "metadata": {},
          "execution_count": 254
        }
      ]
    },
    {
      "cell_type": "code",
      "source": [
        "reg = np.linalg.lstsq(M1_, V1, rcond=-1)[0]\n",
        "reg"
      ],
      "metadata": {
        "colab": {
          "base_uri": "https://localhost:8080/"
        },
        "id": "WS8jkkUG-4-0",
        "outputId": "672a8566-a886-4b81-cb76-5bd51efc9561"
      },
      "execution_count": 255,
      "outputs": [
        {
          "output_type": "execute_result",
          "data": {
            "text/plain": [
              "array([ 0.9575179 ,  0.72553699, -0.65632458])"
            ]
          },
          "metadata": {},
          "execution_count": 255
        }
      ]
    },
    {
      "cell_type": "code",
      "source": [
        "np.allclose(np.dot(M1_, reg), V1)"
      ],
      "metadata": {
        "colab": {
          "base_uri": "https://localhost:8080/"
        },
        "id": "bjMQU4Mv-6fa",
        "outputId": "12987578-fdf3-4da7-ff41-c660c37f6a9f"
      },
      "execution_count": 256,
      "outputs": [
        {
          "output_type": "execute_result",
          "data": {
            "text/plain": [
              "True"
            ]
          },
          "metadata": {},
          "execution_count": 256
        }
      ]
    },
    {
      "cell_type": "code",
      "source": [
        "V0_ = np.dot(M0_, reg)\n",
        "V0_"
      ],
      "metadata": {
        "colab": {
          "base_uri": "https://localhost:8080/"
        },
        "id": "cbGs1GRi-7wm",
        "outputId": "0b7f5c27-ae26-46e9-f3be-42608dcf5727"
      },
      "execution_count": 257,
      "outputs": [
        {
          "output_type": "execute_result",
          "data": {
            "text/plain": [
              "10.267303102625307"
            ]
          },
          "metadata": {},
          "execution_count": 257
        }
      ]
    },
    {
      "cell_type": "code",
      "source": [
        ""
      ],
      "metadata": {
        "id": "7JLhU8eN-841"
      },
      "execution_count": null,
      "outputs": []
    }
  ]
}