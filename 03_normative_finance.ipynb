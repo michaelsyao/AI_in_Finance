{
  "nbformat": 4,
  "nbformat_minor": 0,
  "metadata": {
    "colab": {
      "name": "03_normative_finance.ipynb",
      "provenance": [],
      "collapsed_sections": [],
      "authorship_tag": "ABX9TyMQ/fcEfxHGov/hKYIaD31W",
      "include_colab_link": true
    },
    "kernelspec": {
      "name": "python3",
      "display_name": "Python 3"
    },
    "language_info": {
      "name": "python"
    }
  },
  "cells": [
    {
      "cell_type": "markdown",
      "metadata": {
        "id": "view-in-github",
        "colab_type": "text"
      },
      "source": [
        "<a href=\"https://colab.research.google.com/github/michaelsyao/AI_in_Finance/blob/main/03_normative_finance.ipynb\" target=\"_parent\"><img src=\"https://colab.research.google.com/assets/colab-badge.svg\" alt=\"Open In Colab\"/></a>"
      ]
    },
    {
      "cell_type": "markdown",
      "source": [
        "## Normative Finance"
      ],
      "metadata": {
        "id": "o38_LyloxIuF"
      }
    },
    {
      "cell_type": "markdown",
      "source": [
        "### Uncertainty and Risk"
      ],
      "metadata": {
        "id": "uH1CYp0wxPgh"
      }
    },
    {
      "cell_type": "code",
      "source": [
        "import numpy as np"
      ],
      "metadata": {
        "id": "7YTZbFs2xVEi"
      },
      "execution_count": 1,
      "outputs": []
    },
    {
      "cell_type": "code",
      "source": [
        "S0 = 10\n",
        "B0 = 10"
      ],
      "metadata": {
        "id": "LdrAxpubxWOs"
      },
      "execution_count": 2,
      "outputs": []
    },
    {
      "cell_type": "code",
      "source": [
        "S1 = np.array((20, 5))\n",
        "B1 = np.array((11, 11))"
      ],
      "metadata": {
        "id": "lwc4N7v8xXuM"
      },
      "execution_count": 3,
      "outputs": []
    },
    {
      "cell_type": "code",
      "source": [
        "M0 = np.array((S0, B0))\n",
        "M0"
      ],
      "metadata": {
        "colab": {
          "base_uri": "https://localhost:8080/"
        },
        "id": "3NHByCqbxah-",
        "outputId": "8a5b6a05-1cc0-4b9f-ede7-cbb95eb3397a"
      },
      "execution_count": 4,
      "outputs": [
        {
          "output_type": "execute_result",
          "data": {
            "text/plain": [
              "array([10, 10])"
            ]
          },
          "metadata": {},
          "execution_count": 4
        }
      ]
    },
    {
      "cell_type": "code",
      "source": [
        "M1 = np.array((S1, B1)).T\n",
        "M1"
      ],
      "metadata": {
        "colab": {
          "base_uri": "https://localhost:8080/"
        },
        "id": "vUxBvTjGxb0a",
        "outputId": "93b0e1e9-6a10-49d7-9a62-34fa4659900e"
      },
      "execution_count": 5,
      "outputs": [
        {
          "output_type": "execute_result",
          "data": {
            "text/plain": [
              "array([[20, 11],\n",
              "       [ 5, 11]])"
            ]
          },
          "metadata": {},
          "execution_count": 5
        }
      ]
    },
    {
      "cell_type": "code",
      "source": [
        "K = 14.5"
      ],
      "metadata": {
        "id": "sCKCapbzxdH4"
      },
      "execution_count": 6,
      "outputs": []
    },
    {
      "cell_type": "code",
      "source": [
        "C1 = np.maximum(S1 - K, 0)\n",
        "C1"
      ],
      "metadata": {
        "colab": {
          "base_uri": "https://localhost:8080/"
        },
        "id": "jE3mYk5pxecJ",
        "outputId": "30c61735-88e8-4c62-c29a-d171ea6ccb66"
      },
      "execution_count": 7,
      "outputs": [
        {
          "output_type": "execute_result",
          "data": {
            "text/plain": [
              "array([5.5, 0. ])"
            ]
          },
          "metadata": {},
          "execution_count": 7
        }
      ]
    },
    {
      "cell_type": "code",
      "source": [
        "phi = np.linalg.solve(M1, C1)\n",
        "phi"
      ],
      "metadata": {
        "colab": {
          "base_uri": "https://localhost:8080/"
        },
        "id": "jP1C0hoMxfiK",
        "outputId": "4576f832-649c-49d0-97e7-2b2ee13296e2"
      },
      "execution_count": 8,
      "outputs": [
        {
          "output_type": "execute_result",
          "data": {
            "text/plain": [
              "array([ 0.36666667, -0.16666667])"
            ]
          },
          "metadata": {},
          "execution_count": 8
        }
      ]
    },
    {
      "cell_type": "code",
      "source": [
        "np.allclose(C1, np.dot(M1, phi))"
      ],
      "metadata": {
        "colab": {
          "base_uri": "https://localhost:8080/"
        },
        "id": "J37aJb6PxgyC",
        "outputId": "b17a345b-783e-41d4-8ee3-eb32c157823d"
      },
      "execution_count": 9,
      "outputs": [
        {
          "output_type": "execute_result",
          "data": {
            "text/plain": [
              "True"
            ]
          },
          "metadata": {},
          "execution_count": 9
        }
      ]
    },
    {
      "cell_type": "code",
      "source": [
        "C0 = np.dot(M0, phi)\n",
        "C0"
      ],
      "metadata": {
        "colab": {
          "base_uri": "https://localhost:8080/"
        },
        "id": "ORijd5cYxiF4",
        "outputId": "b5545438-3bbe-4596-ec60-e25ec42b6f2f"
      },
      "execution_count": 10,
      "outputs": [
        {
          "output_type": "execute_result",
          "data": {
            "text/plain": [
              "2.0"
            ]
          },
          "metadata": {},
          "execution_count": 10
        }
      ]
    },
    {
      "cell_type": "markdown",
      "source": [
        "## Expected Utility Theory"
      ],
      "metadata": {
        "id": "Dm8r67JoxlFC"
      }
    },
    {
      "cell_type": "code",
      "source": [
        "def u(x):\n",
        "    return np.sqrt(x)"
      ],
      "metadata": {
        "id": "cnfLD99wxqJK"
      },
      "execution_count": 11,
      "outputs": []
    },
    {
      "cell_type": "code",
      "source": [
        "phi_A = np.array((0.75, 0.25))\n",
        "phi_D = np.array((0.25, 0.75))"
      ],
      "metadata": {
        "id": "kwcKAtAgxudZ"
      },
      "execution_count": 12,
      "outputs": []
    },
    {
      "cell_type": "code",
      "source": [
        "np.dot(M0, phi_A) == np.dot(M0, phi_D)"
      ],
      "metadata": {
        "colab": {
          "base_uri": "https://localhost:8080/"
        },
        "id": "RlKpG56zxv0R",
        "outputId": "6340667e-c0df-4ef3-db24-cec9830f3c5b"
      },
      "execution_count": 13,
      "outputs": [
        {
          "output_type": "execute_result",
          "data": {
            "text/plain": [
              "True"
            ]
          },
          "metadata": {},
          "execution_count": 13
        }
      ]
    },
    {
      "cell_type": "code",
      "source": [
        "A1 = np.dot(M1, phi_A)\n",
        "A1"
      ],
      "metadata": {
        "colab": {
          "base_uri": "https://localhost:8080/"
        },
        "id": "iC2cmuS_xxo8",
        "outputId": "2365679a-41f6-49ae-a2c8-6985a40f78b1"
      },
      "execution_count": 14,
      "outputs": [
        {
          "output_type": "execute_result",
          "data": {
            "text/plain": [
              "array([17.75,  6.5 ])"
            ]
          },
          "metadata": {},
          "execution_count": 14
        }
      ]
    },
    {
      "cell_type": "code",
      "source": [
        "D1 = np.dot(M1, phi_D)\n",
        "D1"
      ],
      "metadata": {
        "colab": {
          "base_uri": "https://localhost:8080/"
        },
        "id": "BZatS-ySxy10",
        "outputId": "122d7a0a-bf7f-4259-bd1f-d0792a55bb7b"
      },
      "execution_count": 15,
      "outputs": [
        {
          "output_type": "execute_result",
          "data": {
            "text/plain": [
              "array([13.25,  9.5 ])"
            ]
          },
          "metadata": {},
          "execution_count": 15
        }
      ]
    },
    {
      "cell_type": "code",
      "source": [
        "P = np.array((0.5, 0.5))"
      ],
      "metadata": {
        "id": "2EDTQ62zx0GJ"
      },
      "execution_count": 16,
      "outputs": []
    },
    {
      "cell_type": "code",
      "source": [
        "def EUT(x):\n",
        "    return np.dot(P, u(x))"
      ],
      "metadata": {
        "id": "d62Y3YtMx1ms"
      },
      "execution_count": 17,
      "outputs": []
    },
    {
      "cell_type": "code",
      "source": [
        "EUT(A1)"
      ],
      "metadata": {
        "colab": {
          "base_uri": "https://localhost:8080/"
        },
        "id": "FRU_5uLFyApt",
        "outputId": "2a319397-f6a2-439e-9971-1c24bcf024cd"
      },
      "execution_count": 18,
      "outputs": [
        {
          "output_type": "execute_result",
          "data": {
            "text/plain": [
              "3.381292321692286"
            ]
          },
          "metadata": {},
          "execution_count": 18
        }
      ]
    },
    {
      "cell_type": "code",
      "source": [
        "EUT(D1)"
      ],
      "metadata": {
        "colab": {
          "base_uri": "https://localhost:8080/"
        },
        "id": "Og1WpFUeyB9b",
        "outputId": "0fd83a26-9a9e-42ed-bb9a-c7202e69163b"
      },
      "execution_count": 19,
      "outputs": [
        {
          "output_type": "execute_result",
          "data": {
            "text/plain": [
              "3.3611309730623735"
            ]
          },
          "metadata": {},
          "execution_count": 19
        }
      ]
    },
    {
      "cell_type": "code",
      "source": [
        "from scipy.optimize import minimize"
      ],
      "metadata": {
        "id": "acPoeP_yyDKr"
      },
      "execution_count": 20,
      "outputs": []
    },
    {
      "cell_type": "code",
      "source": [
        "w = 10"
      ],
      "metadata": {
        "id": "jHM_N5SHyFS2"
      },
      "execution_count": 21,
      "outputs": []
    },
    {
      "cell_type": "code",
      "source": [
        "cons = {'type': 'eq', 'fun': lambda phi: np.dot(M0, phi) - w}"
      ],
      "metadata": {
        "id": "8xehxvmRyGj5"
      },
      "execution_count": 22,
      "outputs": []
    },
    {
      "cell_type": "code",
      "source": [
        "def EUT_(phi):\n",
        "    x = np.dot(M1, phi)\n",
        "    return EUT(x)"
      ],
      "metadata": {
        "id": "12XwLKipyIAQ"
      },
      "execution_count": 23,
      "outputs": []
    },
    {
      "cell_type": "code",
      "source": [
        "opt = minimize(lambda phi: -EUT_(phi),\n",
        "               x0=phi_A,\n",
        "               constraints=cons)"
      ],
      "metadata": {
        "id": "0xiJ47YtyJem"
      },
      "execution_count": 24,
      "outputs": []
    },
    {
      "cell_type": "code",
      "source": [
        "opt"
      ],
      "metadata": {
        "colab": {
          "base_uri": "https://localhost:8080/"
        },
        "id": "WCSM8mOByLUn",
        "outputId": "0d2c9018-6c88-4545-a3ec-0e35ee6d7177"
      },
      "execution_count": 25,
      "outputs": [
        {
          "output_type": "execute_result",
          "data": {
            "text/plain": [
              "     fun: -3.385015999493397\n",
              "     jac: array([-1.69249132, -1.69253424])\n",
              " message: 'Optimization terminated successfully.'\n",
              "    nfev: 16\n",
              "     nit: 4\n",
              "    njev: 4\n",
              "  status: 0\n",
              " success: True\n",
              "       x: array([0.61122474, 0.38877526])"
            ]
          },
          "metadata": {},
          "execution_count": 25
        }
      ]
    },
    {
      "cell_type": "code",
      "source": [
        "EUT_(opt['x'])"
      ],
      "metadata": {
        "colab": {
          "base_uri": "https://localhost:8080/"
        },
        "id": "T1kaYLdnyMtN",
        "outputId": "cba4e325-9537-469c-aae5-00bdd8f621d8"
      },
      "execution_count": 26,
      "outputs": [
        {
          "output_type": "execute_result",
          "data": {
            "text/plain": [
              "3.385015999493397"
            ]
          },
          "metadata": {},
          "execution_count": 26
        }
      ]
    },
    {
      "cell_type": "code",
      "source": [
        "np.dot(M0, opt['x'])"
      ],
      "metadata": {
        "colab": {
          "base_uri": "https://localhost:8080/"
        },
        "id": "L_j_Cr4pyOQG",
        "outputId": "bebc7f01-5253-47e6-c33c-cda0cc575068"
      },
      "execution_count": 27,
      "outputs": [
        {
          "output_type": "execute_result",
          "data": {
            "text/plain": [
              "10.0"
            ]
          },
          "metadata": {},
          "execution_count": 27
        }
      ]
    },
    {
      "cell_type": "markdown",
      "source": [
        "## Mean-Variance Portfolio Theory"
      ],
      "metadata": {
        "id": "yTmyRrnyySWF"
      }
    },
    {
      "cell_type": "code",
      "source": [
        "rS = S1 / S0 - 1\n",
        "rS"
      ],
      "metadata": {
        "colab": {
          "base_uri": "https://localhost:8080/"
        },
        "id": "LF7RA1-6yTXu",
        "outputId": "9e6c6b9a-31e3-4efc-ca89-abb42ae75173"
      },
      "execution_count": 28,
      "outputs": [
        {
          "output_type": "execute_result",
          "data": {
            "text/plain": [
              "array([ 1. , -0.5])"
            ]
          },
          "metadata": {},
          "execution_count": 28
        }
      ]
    },
    {
      "cell_type": "code",
      "source": [
        "rB = B1 / B0 - 1\n",
        "rB"
      ],
      "metadata": {
        "colab": {
          "base_uri": "https://localhost:8080/"
        },
        "id": "-KiTAdIlyV_d",
        "outputId": "6f69c925-319a-473d-ded2-fed5ac8c6ddb"
      },
      "execution_count": 29,
      "outputs": [
        {
          "output_type": "execute_result",
          "data": {
            "text/plain": [
              "array([0.1, 0.1])"
            ]
          },
          "metadata": {},
          "execution_count": 29
        }
      ]
    },
    {
      "cell_type": "code",
      "source": [
        "def mu(rX):\n",
        "    return np.dot(P, rX)"
      ],
      "metadata": {
        "id": "guCflSHbyXQ-"
      },
      "execution_count": 30,
      "outputs": []
    },
    {
      "cell_type": "code",
      "source": [
        "mu(rS)"
      ],
      "metadata": {
        "colab": {
          "base_uri": "https://localhost:8080/"
        },
        "id": "sxEGJKCPyY3G",
        "outputId": "18f3fa63-e490-4b4d-ef80-948ef4211b2d"
      },
      "execution_count": 31,
      "outputs": [
        {
          "output_type": "execute_result",
          "data": {
            "text/plain": [
              "0.25"
            ]
          },
          "metadata": {},
          "execution_count": 31
        }
      ]
    },
    {
      "cell_type": "code",
      "source": [
        "mu(rB)"
      ],
      "metadata": {
        "colab": {
          "base_uri": "https://localhost:8080/"
        },
        "id": "5eM3hm1ayaKu",
        "outputId": "31e54081-0473-4d20-f6a6-93eb42ee8477"
      },
      "execution_count": 32,
      "outputs": [
        {
          "output_type": "execute_result",
          "data": {
            "text/plain": [
              "0.10000000000000009"
            ]
          },
          "metadata": {},
          "execution_count": 32
        }
      ]
    },
    {
      "cell_type": "code",
      "source": [
        "rM = M1 / M0 - 1\n",
        "rM"
      ],
      "metadata": {
        "colab": {
          "base_uri": "https://localhost:8080/"
        },
        "id": "oFyqsTb3ybY8",
        "outputId": "e61a75fa-ea06-4f72-d839-862469f469b0"
      },
      "execution_count": 33,
      "outputs": [
        {
          "output_type": "execute_result",
          "data": {
            "text/plain": [
              "array([[ 1. ,  0.1],\n",
              "       [-0.5,  0.1]])"
            ]
          },
          "metadata": {},
          "execution_count": 33
        }
      ]
    },
    {
      "cell_type": "code",
      "source": [
        "mu(rM)"
      ],
      "metadata": {
        "colab": {
          "base_uri": "https://localhost:8080/"
        },
        "id": "IvWcYuotyc1K",
        "outputId": "949cf14b-e694-49fd-f471-d0b8f589713d"
      },
      "execution_count": 34,
      "outputs": [
        {
          "output_type": "execute_result",
          "data": {
            "text/plain": [
              "array([0.25, 0.1 ])"
            ]
          },
          "metadata": {},
          "execution_count": 34
        }
      ]
    },
    {
      "cell_type": "code",
      "source": [
        "def var(rX):\n",
        "    return ((rX - mu(rX)) ** 2).mean()"
      ],
      "metadata": {
        "id": "chbeXHKIyeWU"
      },
      "execution_count": 35,
      "outputs": []
    },
    {
      "cell_type": "code",
      "source": [
        "var(rS)"
      ],
      "metadata": {
        "colab": {
          "base_uri": "https://localhost:8080/"
        },
        "id": "JQSGjRJ1yf-Z",
        "outputId": "b63425fb-1167-4faa-e7be-b7b6be219606"
      },
      "execution_count": 36,
      "outputs": [
        {
          "output_type": "execute_result",
          "data": {
            "text/plain": [
              "0.5625"
            ]
          },
          "metadata": {},
          "execution_count": 36
        }
      ]
    },
    {
      "cell_type": "code",
      "source": [
        "var(rB)"
      ],
      "metadata": {
        "colab": {
          "base_uri": "https://localhost:8080/"
        },
        "id": "UptegfLuyheo",
        "outputId": "4769b068-ccda-4d22-b55d-83d30873dcef"
      },
      "execution_count": 37,
      "outputs": [
        {
          "output_type": "execute_result",
          "data": {
            "text/plain": [
              "0.0"
            ]
          },
          "metadata": {},
          "execution_count": 37
        }
      ]
    },
    {
      "cell_type": "code",
      "source": [
        "def sigma(rX):\n",
        "    return np.sqrt(var(rX))"
      ],
      "metadata": {
        "id": "CMuqNoeXyirl"
      },
      "execution_count": 38,
      "outputs": []
    },
    {
      "cell_type": "code",
      "source": [
        "sigma(rS)"
      ],
      "metadata": {
        "colab": {
          "base_uri": "https://localhost:8080/"
        },
        "id": "gPTkVhBLyj9v",
        "outputId": "e37da6b0-5cbd-4bc2-c7bf-21de4b9fcf6e"
      },
      "execution_count": 39,
      "outputs": [
        {
          "output_type": "execute_result",
          "data": {
            "text/plain": [
              "0.75"
            ]
          },
          "metadata": {},
          "execution_count": 39
        }
      ]
    },
    {
      "cell_type": "code",
      "source": [
        "sigma(rB)"
      ],
      "metadata": {
        "colab": {
          "base_uri": "https://localhost:8080/"
        },
        "id": "A_xezON8ynMV",
        "outputId": "7e1859a7-29c6-4cd5-be10-b3f53817ad5e"
      },
      "execution_count": 40,
      "outputs": [
        {
          "output_type": "execute_result",
          "data": {
            "text/plain": [
              "0.0"
            ]
          },
          "metadata": {},
          "execution_count": 40
        }
      ]
    },
    {
      "cell_type": "code",
      "source": [
        "np.cov(rM.T, aweights=P, ddof=0)"
      ],
      "metadata": {
        "colab": {
          "base_uri": "https://localhost:8080/"
        },
        "id": "pAJmjzCYyodm",
        "outputId": "b95e4a6d-0fc8-4bea-cfdf-bd4ff858c74a"
      },
      "execution_count": 41,
      "outputs": [
        {
          "output_type": "execute_result",
          "data": {
            "text/plain": [
              "array([[0.5625, 0.    ],\n",
              "       [0.    , 0.    ]])"
            ]
          },
          "metadata": {},
          "execution_count": 41
        }
      ]
    },
    {
      "cell_type": "code",
      "source": [
        "phi = np.array((0.5, 0.5))"
      ],
      "metadata": {
        "id": "c42oupnSypvv"
      },
      "execution_count": 42,
      "outputs": []
    },
    {
      "cell_type": "code",
      "source": [
        "def mu_phi(phi):\n",
        "    return np.dot(phi, mu(rM))"
      ],
      "metadata": {
        "id": "jE-xYREZyq_6"
      },
      "execution_count": 43,
      "outputs": []
    },
    {
      "cell_type": "code",
      "source": [
        "mu_phi(phi)"
      ],
      "metadata": {
        "colab": {
          "base_uri": "https://localhost:8080/"
        },
        "id": "bAixNZdKyswb",
        "outputId": "57910207-9062-499a-b302-82ebb1a9b59c"
      },
      "execution_count": 44,
      "outputs": [
        {
          "output_type": "execute_result",
          "data": {
            "text/plain": [
              "0.17500000000000004"
            ]
          },
          "metadata": {},
          "execution_count": 44
        }
      ]
    },
    {
      "cell_type": "code",
      "source": [
        "def var_phi(phi):\n",
        "    cv = np.cov(rM.T, aweights=P, ddof=0)\n",
        "    return np.dot(phi, np.dot(cv, phi))"
      ],
      "metadata": {
        "id": "OBDWhqKSyudy"
      },
      "execution_count": 45,
      "outputs": []
    },
    {
      "cell_type": "code",
      "source": [
        "var_phi(phi)"
      ],
      "metadata": {
        "colab": {
          "base_uri": "https://localhost:8080/"
        },
        "id": "hpAXgo8WywGS",
        "outputId": "c0e37c85-1a78-4ae3-baa6-4e8a7fe6d578"
      },
      "execution_count": 46,
      "outputs": [
        {
          "output_type": "execute_result",
          "data": {
            "text/plain": [
              "0.140625"
            ]
          },
          "metadata": {},
          "execution_count": 46
        }
      ]
    },
    {
      "cell_type": "code",
      "source": [
        "def sigma_phi(phi):\n",
        "    return var_phi(phi) ** 0.5"
      ],
      "metadata": {
        "id": "qnNSpPE6y_1v"
      },
      "execution_count": 47,
      "outputs": []
    },
    {
      "cell_type": "code",
      "source": [
        "sigma_phi(phi)"
      ],
      "metadata": {
        "colab": {
          "base_uri": "https://localhost:8080/"
        },
        "id": "3PRrjDqXzBX2",
        "outputId": "767398b3-0e55-4e4d-c017-0c0cb598554f"
      },
      "execution_count": 48,
      "outputs": [
        {
          "output_type": "execute_result",
          "data": {
            "text/plain": [
              "0.375"
            ]
          },
          "metadata": {},
          "execution_count": 48
        }
      ]
    },
    {
      "cell_type": "code",
      "source": [
        "from pylab import plt, mpl\n",
        "plt.style.use('seaborn')\n",
        "mpl.rcParams['savefig.dpi'] = 300\n",
        "mpl.rcParams['font.family'] = 'serif'"
      ],
      "metadata": {
        "id": "4vZj4ISozDkN"
      },
      "execution_count": 49,
      "outputs": []
    },
    {
      "cell_type": "code",
      "source": [
        "phi_mcs = np.random.random((2, 200))"
      ],
      "metadata": {
        "id": "dfydtzABzFk3"
      },
      "execution_count": 50,
      "outputs": []
    },
    {
      "cell_type": "code",
      "source": [
        "phi_mcs = (phi_mcs / phi_mcs.sum(axis=0)).T"
      ],
      "metadata": {
        "id": "Ua5mKNoL4Hq8"
      },
      "execution_count": 51,
      "outputs": []
    },
    {
      "cell_type": "code",
      "source": [
        "mcs = np.array([(sigma_phi(phi), mu_phi(phi))\n",
        "                for phi in phi_mcs])"
      ],
      "metadata": {
        "id": "BKXC5tFP4JtX"
      },
      "execution_count": 52,
      "outputs": []
    },
    {
      "cell_type": "code",
      "source": [
        "plt.figure(figsize=(10, 6))\n",
        "plt.plot(mcs[:, 0], mcs[:, 1], 'ro')\n",
        "plt.xlabel('expected volatility')\n",
        "plt.ylabel('expected return');"
      ],
      "metadata": {
        "colab": {
          "base_uri": "https://localhost:8080/",
          "height": 387
        },
        "id": "7746iLHW4Qrp",
        "outputId": "208c7add-b3db-4d79-80a2-3a0b728cbfec"
      },
      "execution_count": 53,
      "outputs": [
        {
          "output_type": "display_data",
          "data": {
            "image/png": "[encoded data removed]",
            "text/plain": [
              "<Figure size 720x432 with 1 Axes>"
            ]
          },
          "metadata": {}
        }
      ]
    },
    {
      "cell_type": "code",
      "source": [
        "P = np.ones(3) / 3\n",
        "P"
      ],
      "metadata": {
        "colab": {
          "base_uri": "https://localhost:8080/"
        },
        "id": "MPY9_U9-5LD4",
        "outputId": "a38bf55b-a300-42cc-b9f3-c120053a8195"
      },
      "execution_count": 54,
      "outputs": [
        {
          "output_type": "execute_result",
          "data": {
            "text/plain": [
              "array([0.33333333, 0.33333333, 0.33333333])"
            ]
          },
          "metadata": {},
          "execution_count": 54
        }
      ]
    },
    {
      "cell_type": "code",
      "source": [
        "S1 = np.array((20, 10, 5))"
      ],
      "metadata": {
        "id": "7EtrZHk75PAT"
      },
      "execution_count": 55,
      "outputs": []
    },
    {
      "cell_type": "code",
      "source": [
        "T0 = 10\n",
        "T1 = np.array((1, 12, 13))"
      ],
      "metadata": {
        "id": "03FNKg9E5QsV"
      },
      "execution_count": 56,
      "outputs": []
    },
    {
      "cell_type": "code",
      "source": [
        "M0 = np.array((S0, T0))\n",
        "M0"
      ],
      "metadata": {
        "colab": {
          "base_uri": "https://localhost:8080/"
        },
        "id": "UbwLynbW5Ydl",
        "outputId": "ec911650-8be9-42b2-851a-1b72bb325a30"
      },
      "execution_count": 57,
      "outputs": [
        {
          "output_type": "execute_result",
          "data": {
            "text/plain": [
              "array([10, 10])"
            ]
          },
          "metadata": {},
          "execution_count": 57
        }
      ]
    },
    {
      "cell_type": "code",
      "source": [
        "M1 = np.array((S1, T1)).T\n",
        "M1"
      ],
      "metadata": {
        "colab": {
          "base_uri": "https://localhost:8080/"
        },
        "id": "9FFHzSsS5Z0w",
        "outputId": "91f8b026-3292-4432-b6a5-8130c3552f91"
      },
      "execution_count": 58,
      "outputs": [
        {
          "output_type": "execute_result",
          "data": {
            "text/plain": [
              "array([[20,  1],\n",
              "       [10, 12],\n",
              "       [ 5, 13]])"
            ]
          },
          "metadata": {},
          "execution_count": 58
        }
      ]
    },
    {
      "cell_type": "code",
      "source": [
        "rM = M1 / M0 - 1\n",
        "rM"
      ],
      "metadata": {
        "colab": {
          "base_uri": "https://localhost:8080/"
        },
        "id": "vuSp2DxZ5bdU",
        "outputId": "635b9b11-6abc-4d84-83fb-1e629799eb9e"
      },
      "execution_count": 59,
      "outputs": [
        {
          "output_type": "execute_result",
          "data": {
            "text/plain": [
              "array([[ 1. , -0.9],\n",
              "       [ 0. ,  0.2],\n",
              "       [-0.5,  0.3]])"
            ]
          },
          "metadata": {},
          "execution_count": 59
        }
      ]
    },
    {
      "cell_type": "code",
      "source": [
        "np.cov(rM.T, aweights=P, ddof=0)"
      ],
      "metadata": {
        "colab": {
          "base_uri": "https://localhost:8080/"
        },
        "id": "NMsMI-ZW7BIg",
        "outputId": "9141beb2-4878-4c71-d953-8665dc77a4c4"
      },
      "execution_count": 60,
      "outputs": [
        {
          "output_type": "execute_result",
          "data": {
            "text/plain": [
              "array([[ 0.38888889, -0.32777778],\n",
              "       [-0.32777778,  0.29555556]])"
            ]
          },
          "metadata": {},
          "execution_count": 60
        }
      ]
    },
    {
      "cell_type": "code",
      "source": [
        "mcs = np.array([(sigma_phi(phi), mu_phi(phi))\n",
        "                for phi in phi_mcs])"
      ],
      "metadata": {
        "id": "LqpxvzvS6iFd"
      },
      "execution_count": 61,
      "outputs": []
    },
    {
      "cell_type": "code",
      "source": [
        "mu(rM)"
      ],
      "metadata": {
        "colab": {
          "base_uri": "https://localhost:8080/"
        },
        "id": "HVaZv-67-k4T",
        "outputId": "ae8b35f0-3a37-432c-bb5c-623500f45a1e"
      },
      "execution_count": 62,
      "outputs": [
        {
          "output_type": "execute_result",
          "data": {
            "text/plain": [
              "array([ 0.16666667, -0.13333333])"
            ]
          },
          "metadata": {},
          "execution_count": 62
        }
      ]
    },
    {
      "cell_type": "code",
      "source": [
        "plt.figure(figsize=(10, 6))\n",
        "plt.plot(mcs[:, 0], mcs[:, 1], 'ro')\n",
        "plt.xlabel('expected volatility')\n",
        "plt.ylabel('expected return');"
      ],
      "metadata": {
        "colab": {
          "base_uri": "https://localhost:8080/",
          "height": 387
        },
        "id": "F7oNjv1V6m02",
        "outputId": "aa4d943c-fd26-4f1f-a138-b831081a2c38"
      },
      "execution_count": 63,
      "outputs": [
        {
          "output_type": "display_data",
          "data": {
            "image/png": "[encoded data removed]",
            "text/plain": [
              "<Figure size 720x432 with 1 Axes>"
            ]
          },
          "metadata": {}
        }
      ]
    },
    {
      "cell_type": "code",
      "source": [
        "cons = {'type': 'eq', 'fun': lambda phi: np.sum(phi) - 1}"
      ],
      "metadata": {
        "id": "SsYjdvOL6ohz"
      },
      "execution_count": 64,
      "outputs": []
    },
    {
      "cell_type": "code",
      "source": [
        "bnds = ((0, 1), (0, 1))"
      ],
      "metadata": {
        "id": "whhfNJR26qnz"
      },
      "execution_count": 65,
      "outputs": []
    },
    {
      "cell_type": "code",
      "source": [
        "min_var = minimize(sigma_phi, (0.5, 0.5),\n",
        "                   constraints=cons, bounds=bnds)"
      ],
      "metadata": {
        "id": "RR255jbH6st4"
      },
      "execution_count": 66,
      "outputs": []
    },
    {
      "cell_type": "code",
      "source": [
        "min_var"
      ],
      "metadata": {
        "colab": {
          "base_uri": "https://localhost:8080/"
        },
        "id": "fh22ELSH6uUs",
        "outputId": "e406aeab-a335-4b9b-812f-c8e6648c11f6"
      },
      "execution_count": 67,
      "outputs": [
        {
          "output_type": "execute_result",
          "data": {
            "text/plain": [
              "     fun: 0.07481322946905193\n",
              "     jac: array([0.07426564, 0.07528945])\n",
              " message: 'Optimization terminated successfully.'\n",
              "    nfev: 17\n",
              "     nit: 4\n",
              "    njev: 4\n",
              "  status: 0\n",
              " success: True\n",
              "       x: array([0.46511697, 0.53488303])"
            ]
          },
          "metadata": {},
          "execution_count": 67
        }
      ]
    },
    {
      "cell_type": "code",
      "source": [
        "# Defines the sharpe ratio function, assuming a short rate of 0\n",
        "def sharpe(phi):\n",
        "    return mu_phi(phi) / sigma_phi(phi)"
      ],
      "metadata": {
        "id": "-Pc6mwy66v4I"
      },
      "execution_count": 68,
      "outputs": []
    },
    {
      "cell_type": "code",
      "source": [
        "max_sharpe = minimize(lambda phi: -sharpe(phi), (0.5, 0.5),\n",
        "               constraints=cons, bounds=bnds)"
      ],
      "metadata": {
        "id": "Hvkaz9Kb6xqf"
      },
      "execution_count": 69,
      "outputs": []
    },
    {
      "cell_type": "code",
      "source": [
        "max_sharpe"
      ],
      "metadata": {
        "colab": {
          "base_uri": "https://localhost:8080/"
        },
        "id": "-PeE9vi36zsD",
        "outputId": "29f3309a-8193-48e7-9b39-21a278da3543"
      },
      "execution_count": 70,
      "outputs": [
        {
          "output_type": "execute_result",
          "data": {
            "text/plain": [
              "     fun: -0.2721654099067235\n",
              "     jac: array([ 0.00012052, -0.00024173])\n",
              " message: 'Optimization terminated successfully.'\n",
              "    nfev: 38\n",
              "     nit: 9\n",
              "    njev: 9\n",
              "  status: 0\n",
              " success: True\n",
              "       x: array([0.66731113, 0.33268887])"
            ]
          },
          "metadata": {},
          "execution_count": 70
        }
      ]
    },
    {
      "cell_type": "code",
      "source": [
        "plt.figure(figsize=(10, 6))\n",
        "plt.plot(mcs[:, 0], mcs[:, 1], 'ro', ms=5)\n",
        "plt.plot(sigma_phi(min_var['x']), mu_phi(min_var['x']),\n",
        "         '^', ms=12.5, label='minimum volatility')\n",
        "plt.plot(sigma_phi(max_sharpe['x']), mu_phi(max_sharpe['x']),\n",
        "         'v', ms=12.5, label='maximum Sharpe ratio')\n",
        "plt.xlabel('expected volatility')\n",
        "plt.ylabel('expected return')\n",
        "plt.legend();"
      ],
      "metadata": {
        "colab": {
          "base_uri": "https://localhost:8080/",
          "height": 387
        },
        "id": "-lPKMBRR62jO",
        "outputId": "a21c4fe0-0a4e-43ca-9eae-a2309b57a44a"
      },
      "execution_count": 71,
      "outputs": [
        {
          "output_type": "display_data",
          "data": {
            "image/png": "[encoded data removed]",
            "text/plain": [
              "<Figure size 720x432 with 1 Axes>"
            ]
          },
          "metadata": {}
        }
      ]
    },
    {
      "cell_type": "code",
      "source": [
        "cons = [{'type': 'eq', 'fun': lambda phi: np.sum(phi) - 1},\n",
        "       {'type': 'eq', 'fun': lambda phi: mu_phi(phi) - target}]"
      ],
      "metadata": {
        "id": "EErXVsl164Vd"
      },
      "execution_count": 72,
      "outputs": []
    },
    {
      "cell_type": "code",
      "source": [
        "bnds = ((0, 1), (0, 1))"
      ],
      "metadata": {
        "id": "NM9vkvQqA4Ig"
      },
      "execution_count": 73,
      "outputs": []
    },
    {
      "cell_type": "code",
      "source": [
        "targets = np.linspace(mu_phi(min_var['x']), 0.16)"
      ],
      "metadata": {
        "id": "yDyntWVMA9hM"
      },
      "execution_count": 74,
      "outputs": []
    },
    {
      "cell_type": "code",
      "source": [
        "frontier = []\n",
        "for target in targets:\n",
        "    phi_eff = minimize(sigma_phi, (0.5, 0.5),\n",
        "                       constraints=cons, bounds=bnds)['x']\n",
        "    frontier.append((sigma_phi(phi_eff), mu_phi(phi_eff)))\n",
        "frontier = np.array(frontier)"
      ],
      "metadata": {
        "id": "2yui3__mA_co"
      },
      "execution_count": 75,
      "outputs": []
    },
    {
      "cell_type": "code",
      "source": [
        "plt.figure(figsize=(10, 6))\n",
        "plt.plot(frontier[:, 0], frontier[:, 1], 'mo', ms=5,\n",
        "         label='efficient frontier')\n",
        "plt.plot(sigma_phi(min_var['x']), mu_phi(min_var['x']),\n",
        "         '^', ms=12.5, label='minimum volatility')\n",
        "plt.plot(sigma_phi(max_sharpe['x']), mu_phi(max_sharpe['x']),\n",
        "         'v', ms=12.5, label='maximum Sharpe ratio')\n",
        "plt.xlabel('expected volatility')\n",
        "plt.ylabel('expected return')\n",
        "plt.legend();"
      ],
      "metadata": {
        "colab": {
          "base_uri": "https://localhost:8080/",
          "height": 387
        },
        "id": "-WTJZN45BBZ5",
        "outputId": "82d39991-535a-4b33-d545-d7450b291432"
      },
      "execution_count": 76,
      "outputs": [
        {
          "output_type": "display_data",
          "data": {
            "image/png": "[encoded data removed]",
            "text/plain": [
              "<Figure size 720x432 with 1 Axes>"
            ]
          },
          "metadata": {}
        }
      ]
    },
    {
      "cell_type": "markdown",
      "source": [
        "## Capital Asset Pricing Model"
      ],
      "metadata": {
        "id": "8n3ojYlgBF0d"
      }
    },
    {
      "cell_type": "code",
      "source": [
        "plt.figure(figsize=(10, 6))\n",
        "plt.plot((0, 0.3), (0.01, 0.22), label='capital market line')\n",
        "plt.plot(0, 0.01, 'o', ms=9, label='risk-less asset')\n",
        "plt.plot(0.2, 0.15, '^', ms=9, label='market portfolio')\n",
        "plt.annotate('$(0, \\\\bar{r})$', (0, 0.01), (-0.01, 0.02))\n",
        "plt.annotate('$(\\sigma_M, \\mu_M)$', (0.2, 0.15), (0.19, 0.2), arrowprops = dict())\n",
        "plt.xlabel('expected volatility')\n",
        "plt.ylabel('expected return')\n",
        "plt.legend();"
      ],
      "metadata": {
        "colab": {
          "base_uri": "https://localhost:8080/",
          "height": 387
        },
        "id": "br9g6UihBHwm",
        "outputId": "bb21504b-435b-4855-ebd0-426ba52deda0"
      },
      "execution_count": 77,
      "outputs": [
        {
          "output_type": "display_data",
          "data": {
            "image/png": "[encoded data removed]",
            "text/plain": [
              "<Figure size 720x432 with 1 Axes>"
            ]
          },
          "metadata": {}
        }
      ]
    },
    {
      "cell_type": "markdown",
      "source": [
        "## Capital Market Line"
      ],
      "metadata": {
        "id": "fPGaro0H_1KN"
      }
    },
    {
      "cell_type": "code",
      "source": [
        "r = 0.0025"
      ],
      "metadata": {
        "id": "L6F4Ouj6ACWp"
      },
      "execution_count": 78,
      "outputs": []
    },
    {
      "cell_type": "code",
      "source": [
        "cons = {'type': 'eq',\n",
        "       'fun': lambda phi: np.sum(phi) - 1}"
      ],
      "metadata": {
        "id": "SRHKI839ANH7"
      },
      "execution_count": 79,
      "outputs": []
    },
    {
      "cell_type": "code",
      "source": [
        "# Defines the sharpe ratio function, assuming a short rate of 0\n",
        "def sharpe(phi):\n",
        "    return mu_phi(phi) / sigma_phi(phi)"
      ],
      "metadata": {
        "id": "aMS9WYGRAr68"
      },
      "execution_count": 80,
      "outputs": []
    },
    {
      "cell_type": "code",
      "source": [
        "max_sharpe = minimize(lambda phi: -sharpe(phi), (0.5, 0.5),\n",
        "               constraints=cons, bounds=bnds)"
      ],
      "metadata": {
        "id": "3oF_TDVxAtvu"
      },
      "execution_count": 81,
      "outputs": []
    },
    {
      "cell_type": "code",
      "source": [
        "phi_M = np.array((0.8, 0.2))"
      ],
      "metadata": {
        "id": "rW-B6LIVBIbj"
      },
      "execution_count": 82,
      "outputs": []
    },
    {
      "cell_type": "code",
      "source": [
        "mu_M = mu_phi(phi_M)\n",
        "mu_M"
      ],
      "metadata": {
        "colab": {
          "base_uri": "https://localhost:8080/"
        },
        "id": "a8g3Bkmd-sGG",
        "outputId": "31638316-3e37-4189-fe27-768af1f9124e"
      },
      "execution_count": 86,
      "outputs": [
        {
          "output_type": "execute_result",
          "data": {
            "text/plain": [
              "0.10666666666666666"
            ]
          },
          "metadata": {},
          "execution_count": 86
        }
      ]
    },
    {
      "cell_type": "code",
      "source": [
        "sigma_M = sigma_phi(phi_M)\n",
        "sigma_M"
      ],
      "metadata": {
        "colab": {
          "base_uri": "https://localhost:8080/"
        },
        "id": "GENQ-BBa-uE2",
        "outputId": "bb10114f-20fb-4a8f-ec7c-dfce6f7c5c5a"
      },
      "execution_count": 87,
      "outputs": [
        {
          "output_type": "execute_result",
          "data": {
            "text/plain": [
              "0.39474323581566567"
            ]
          },
          "metadata": {},
          "execution_count": 87
        }
      ]
    },
    {
      "cell_type": "code",
      "source": [
        "r = 0.0025"
      ],
      "metadata": {
        "id": "kCI3-4_8-5vq"
      },
      "execution_count": 88,
      "outputs": []
    },
    {
      "cell_type": "code",
      "source": [
        "plt.figure(figsize=(10, 6))\n",
        "plt.plot(frontier[:, 0], frontier[:, 1], 'm.', ms=5,\n",
        "         label='efficient frontier')\n",
        "plt.plot(0, r, 'o', ms=9, label='risk-less asset')\n",
        "plt.plot(sigma_M, mu_M, '^', ms=9, label='market portfolio')\n",
        "plt.plot((0, 0.6), (r, r + ((mu_M - r) / sigma_M) * 0.6),\n",
        "         'r', label='capital market line', lw=2.0)\n",
        "plt.annotate('$(0, \\\\bar{r})$', (0, r), (-0.015, r + 0.01))\n",
        "plt.annotate('$(\\sigma_M, \\mu_M)$', (sigma_M, mu_M),\n",
        "             (sigma_M - 0.025, mu_M + 0.01))\n",
        "plt.xlabel('expected volatility')\n",
        "plt.ylabel('expected return')\n",
        "plt.legend();"
      ],
      "metadata": {
        "colab": {
          "base_uri": "https://localhost:8080/",
          "height": 387
        },
        "id": "HqDdK9LI-7NR",
        "outputId": "0b546661-76df-43de-dc3e-b0a553d3dea6"
      },
      "execution_count": 89,
      "outputs": [
        {
          "output_type": "display_data",
          "data": {
            "image/png": "[encoded data removed]",
            "text/plain": [
              "<Figure size 720x432 with 1 Axes>"
            ]
          },
          "metadata": {}
        }
      ]
    },
    {
      "cell_type": "code",
      "source": [
        "def U(p):\n",
        "    mu, sigma = p\n",
        "    return mu - 1 / 2 * (sigma ** 2 + mu ** 2)"
      ],
      "metadata": {
        "id": "tG4BqBmv-81I"
      },
      "execution_count": 90,
      "outputs": []
    },
    {
      "cell_type": "code",
      "source": [
        "cons = {'type': 'eq',\n",
        "        'fun': lambda p: p[0] - (r + (mu_M - r) / sigma_M * p[1])}"
      ],
      "metadata": {
        "id": "3JBKHN_7--__"
      },
      "execution_count": 91,
      "outputs": []
    },
    {
      "cell_type": "code",
      "source": [
        "opt = minimize(lambda p: -U(p), (0.1, 0.3), constraints=cons)\n",
        "opt"
      ],
      "metadata": {
        "id": "WvXLevFG_bW5",
        "colab": {
          "base_uri": "https://localhost:8080/"
        },
        "outputId": "df1b2318-1c85-4c7b-c94c-8ff82c02f7e5"
      },
      "execution_count": 93,
      "outputs": [
        {
          "output_type": "execute_result",
          "data": {
            "text/plain": [
              "     fun: -0.034885186826739426\n",
              "     jac: array([-0.93256102,  0.24608851])\n",
              " message: 'Optimization terminated successfully.'\n",
              "    nfev: 8\n",
              "     nit: 2\n",
              "    njev: 2\n",
              "  status: 0\n",
              " success: True\n",
              "       x: array([0.06743897, 0.2460885 ])"
            ]
          },
          "metadata": {},
          "execution_count": 93
        }
      ]
    },
    {
      "cell_type": "code",
      "source": [
        "from sympy import *\n",
        "init_printing(use_unicode=False, use_latex=False)"
      ],
      "metadata": {
        "id": "VnmwnbqrTlOA"
      },
      "execution_count": 94,
      "outputs": []
    },
    {
      "cell_type": "code",
      "source": [
        ""
      ],
      "metadata": {
        "id": "L3PUaV7PTrrT"
      },
      "execution_count": null,
      "outputs": []
    }
  ]
}