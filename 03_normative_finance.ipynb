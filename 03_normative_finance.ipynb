{
  "nbformat": 4,
  "nbformat_minor": 0,
  "metadata": {
    "colab": {
      "name": "03_normative_finance.ipynb",
      "provenance": [],
      "collapsed_sections": [],
      "authorship_tag": "ABX9TyOe1B5AHc7QpNYHzKfASZug",
      "include_colab_link": true
    },
    "kernelspec": {
      "name": "python3",
      "display_name": "Python 3"
    },
    "language_info": {
      "name": "python"
    }
  },
  "cells": [
    {
      "cell_type": "markdown",
      "metadata": {
        "id": "view-in-github",
        "colab_type": "text"
      },
      "source": [
        "<a href=\"https://colab.research.google.com/github/michaelsyao/AI_in_Finance/blob/main/03_normative_finance.ipynb\" target=\"_parent\"><img src=\"https://colab.research.google.com/assets/colab-badge.svg\" alt=\"Open In Colab\"/></a>"
      ]
    },
    {
      "cell_type": "markdown",
      "source": [
        "## Normative Finance"
      ],
      "metadata": {
        "id": "o38_LyloxIuF"
      }
    },
    {
      "cell_type": "markdown",
      "source": [
        "### Uncertainty and Risk"
      ],
      "metadata": {
        "id": "uH1CYp0wxPgh"
      }
    },
    {
      "cell_type": "code",
      "source": [
        "import numpy as np"
      ],
      "metadata": {
        "id": "7YTZbFs2xVEi"
      },
      "execution_count": 1,
      "outputs": []
    },
    {
      "cell_type": "code",
      "source": [
        "S0 = 10\n",
        "B0 = 10"
      ],
      "metadata": {
        "id": "LdrAxpubxWOs"
      },
      "execution_count": 2,
      "outputs": []
    },
    {
      "cell_type": "code",
      "source": [
        "S1 = np.array((20, 5))\n",
        "B1 = np.array((11, 11))"
      ],
      "metadata": {
        "id": "lwc4N7v8xXuM"
      },
      "execution_count": 3,
      "outputs": []
    },
    {
      "cell_type": "code",
      "source": [
        "M0 = np.array((S0, B0))\n",
        "M0"
      ],
      "metadata": {
        "colab": {
          "base_uri": "https://localhost:8080/"
        },
        "id": "3NHByCqbxah-",
        "outputId": "c3029d7f-eb75-478b-c633-3405d98f97ae"
      },
      "execution_count": 4,
      "outputs": [
        {
          "output_type": "execute_result",
          "data": {
            "text/plain": [
              "array([10, 10])"
            ]
          },
          "metadata": {},
          "execution_count": 4
        }
      ]
    },
    {
      "cell_type": "code",
      "source": [
        "M1 = np.array((S1, B1)).T\n",
        "M1"
      ],
      "metadata": {
        "colab": {
          "base_uri": "https://localhost:8080/"
        },
        "id": "vUxBvTjGxb0a",
        "outputId": "61860ba7-503f-4781-f44a-087e3f75dc34"
      },
      "execution_count": 5,
      "outputs": [
        {
          "output_type": "execute_result",
          "data": {
            "text/plain": [
              "array([[20, 11],\n",
              "       [ 5, 11]])"
            ]
          },
          "metadata": {},
          "execution_count": 5
        }
      ]
    },
    {
      "cell_type": "code",
      "source": [
        "K = 14.5"
      ],
      "metadata": {
        "id": "sCKCapbzxdH4"
      },
      "execution_count": 6,
      "outputs": []
    },
    {
      "cell_type": "code",
      "source": [
        "C1 = np.maximum(S1 - K, 0)\n",
        "C1"
      ],
      "metadata": {
        "colab": {
          "base_uri": "https://localhost:8080/"
        },
        "id": "jE3mYk5pxecJ",
        "outputId": "3c99de5c-2005-446b-94e1-703c15225e37"
      },
      "execution_count": 7,
      "outputs": [
        {
          "output_type": "execute_result",
          "data": {
            "text/plain": [
              "array([5.5, 0. ])"
            ]
          },
          "metadata": {},
          "execution_count": 7
        }
      ]
    },
    {
      "cell_type": "code",
      "source": [
        "phi = np.linalg.solve(M1, C1)\n",
        "phi"
      ],
      "metadata": {
        "colab": {
          "base_uri": "https://localhost:8080/"
        },
        "id": "jP1C0hoMxfiK",
        "outputId": "4d5a91fc-cb53-43cf-d2e7-bd90941f86c9"
      },
      "execution_count": 8,
      "outputs": [
        {
          "output_type": "execute_result",
          "data": {
            "text/plain": [
              "array([ 0.36666667, -0.16666667])"
            ]
          },
          "metadata": {},
          "execution_count": 8
        }
      ]
    },
    {
      "cell_type": "code",
      "source": [
        "np.allclose(C1, np.dot(M1, phi))"
      ],
      "metadata": {
        "colab": {
          "base_uri": "https://localhost:8080/"
        },
        "id": "J37aJb6PxgyC",
        "outputId": "c4e3dda7-f18d-4fe6-f525-759df86bff99"
      },
      "execution_count": 9,
      "outputs": [
        {
          "output_type": "execute_result",
          "data": {
            "text/plain": [
              "True"
            ]
          },
          "metadata": {},
          "execution_count": 9
        }
      ]
    },
    {
      "cell_type": "code",
      "source": [
        "C0 = np.dot(M0, phi)\n",
        "C0"
      ],
      "metadata": {
        "colab": {
          "base_uri": "https://localhost:8080/"
        },
        "id": "ORijd5cYxiF4",
        "outputId": "004b6300-a2bb-4d27-e8e4-b5a9070bc6cf"
      },
      "execution_count": 10,
      "outputs": [
        {
          "output_type": "execute_result",
          "data": {
            "text/plain": [
              "2.0"
            ]
          },
          "metadata": {},
          "execution_count": 10
        }
      ]
    },
    {
      "cell_type": "markdown",
      "source": [
        "## Expected Utility Theory"
      ],
      "metadata": {
        "id": "Dm8r67JoxlFC"
      }
    },
    {
      "cell_type": "code",
      "source": [
        "def u(x):\n",
        "    return np.sqrt(x)"
      ],
      "metadata": {
        "id": "cnfLD99wxqJK"
      },
      "execution_count": 11,
      "outputs": []
    },
    {
      "cell_type": "code",
      "source": [
        "phi_A = np.array((0.75, 0.25))\n",
        "phi_D = np.array((0.25, 0.75))"
      ],
      "metadata": {
        "id": "kwcKAtAgxudZ"
      },
      "execution_count": 12,
      "outputs": []
    },
    {
      "cell_type": "code",
      "source": [
        "np.dot(M0, phi_A) == np.dot(M0, phi_D)"
      ],
      "metadata": {
        "colab": {
          "base_uri": "https://localhost:8080/"
        },
        "id": "RlKpG56zxv0R",
        "outputId": "2d235861-6ad7-440b-ca8b-349c6ae4fff3"
      },
      "execution_count": 13,
      "outputs": [
        {
          "output_type": "execute_result",
          "data": {
            "text/plain": [
              "True"
            ]
          },
          "metadata": {},
          "execution_count": 13
        }
      ]
    },
    {
      "cell_type": "code",
      "source": [
        "A1 = np.dot(M1, phi_A)\n",
        "A1"
      ],
      "metadata": {
        "colab": {
          "base_uri": "https://localhost:8080/"
        },
        "id": "iC2cmuS_xxo8",
        "outputId": "9f56d287-b454-4d70-a36d-51709752bb12"
      },
      "execution_count": 14,
      "outputs": [
        {
          "output_type": "execute_result",
          "data": {
            "text/plain": [
              "array([17.75,  6.5 ])"
            ]
          },
          "metadata": {},
          "execution_count": 14
        }
      ]
    },
    {
      "cell_type": "code",
      "source": [
        "D1 = np.dot(M1, phi_D)\n",
        "D1"
      ],
      "metadata": {
        "colab": {
          "base_uri": "https://localhost:8080/"
        },
        "id": "BZatS-ySxy10",
        "outputId": "a6c0388d-8702-479f-f8ed-a1247ce55132"
      },
      "execution_count": 15,
      "outputs": [
        {
          "output_type": "execute_result",
          "data": {
            "text/plain": [
              "array([13.25,  9.5 ])"
            ]
          },
          "metadata": {},
          "execution_count": 15
        }
      ]
    },
    {
      "cell_type": "code",
      "source": [
        "P = np.array((0.5, 0.5))"
      ],
      "metadata": {
        "id": "2EDTQ62zx0GJ"
      },
      "execution_count": 16,
      "outputs": []
    },
    {
      "cell_type": "code",
      "source": [
        "def EUT(x):\n",
        "    return np.dot(P, u(x))"
      ],
      "metadata": {
        "id": "d62Y3YtMx1ms"
      },
      "execution_count": 17,
      "outputs": []
    },
    {
      "cell_type": "code",
      "source": [
        "EUT(A1)"
      ],
      "metadata": {
        "colab": {
          "base_uri": "https://localhost:8080/"
        },
        "id": "FRU_5uLFyApt",
        "outputId": "ed8611d1-8860-4df6-a5eb-8b169e8302e1"
      },
      "execution_count": 18,
      "outputs": [
        {
          "output_type": "execute_result",
          "data": {
            "text/plain": [
              "3.381292321692286"
            ]
          },
          "metadata": {},
          "execution_count": 18
        }
      ]
    },
    {
      "cell_type": "code",
      "source": [
        "EUT(D1)"
      ],
      "metadata": {
        "colab": {
          "base_uri": "https://localhost:8080/"
        },
        "id": "Og1WpFUeyB9b",
        "outputId": "4debf02d-1f62-47ed-9354-b192d68153c4"
      },
      "execution_count": 19,
      "outputs": [
        {
          "output_type": "execute_result",
          "data": {
            "text/plain": [
              "3.3611309730623735"
            ]
          },
          "metadata": {},
          "execution_count": 19
        }
      ]
    },
    {
      "cell_type": "code",
      "source": [
        "from scipy.optimize import minimize"
      ],
      "metadata": {
        "id": "acPoeP_yyDKr"
      },
      "execution_count": 20,
      "outputs": []
    },
    {
      "cell_type": "code",
      "source": [
        "w = 10"
      ],
      "metadata": {
        "id": "jHM_N5SHyFS2"
      },
      "execution_count": 21,
      "outputs": []
    },
    {
      "cell_type": "code",
      "source": [
        "cons = {'type': 'eq', 'fun': lambda phi: np.dot(M0, phi) - w}"
      ],
      "metadata": {
        "id": "8xehxvmRyGj5"
      },
      "execution_count": 22,
      "outputs": []
    },
    {
      "cell_type": "code",
      "source": [
        "def EUT_(phi):\n",
        "    x = np.dot(M1, phi)\n",
        "    return EUT(x)"
      ],
      "metadata": {
        "id": "12XwLKipyIAQ"
      },
      "execution_count": 23,
      "outputs": []
    },
    {
      "cell_type": "code",
      "source": [
        "opt = minimize(lambda phi: -EUT_(phi),\n",
        "               x0=phi_A,\n",
        "               constraints=cons)"
      ],
      "metadata": {
        "id": "0xiJ47YtyJem"
      },
      "execution_count": 24,
      "outputs": []
    },
    {
      "cell_type": "code",
      "source": [
        "opt"
      ],
      "metadata": {
        "colab": {
          "base_uri": "https://localhost:8080/"
        },
        "id": "WCSM8mOByLUn",
        "outputId": "911e4c39-7732-473b-f2ec-c8b4e1d6ae6a"
      },
      "execution_count": 25,
      "outputs": [
        {
          "output_type": "execute_result",
          "data": {
            "text/plain": [
              "     fun: -3.385015999493397\n",
              "     jac: array([-1.69249132, -1.69253424])\n",
              " message: 'Optimization terminated successfully.'\n",
              "    nfev: 16\n",
              "     nit: 4\n",
              "    njev: 4\n",
              "  status: 0\n",
              " success: True\n",
              "       x: array([0.61122474, 0.38877526])"
            ]
          },
          "metadata": {},
          "execution_count": 25
        }
      ]
    },
    {
      "cell_type": "code",
      "source": [
        "EUT_(opt['x'])"
      ],
      "metadata": {
        "colab": {
          "base_uri": "https://localhost:8080/"
        },
        "id": "T1kaYLdnyMtN",
        "outputId": "eb2f92d1-e5c9-45d0-94f0-379fc6eb52b6"
      },
      "execution_count": 26,
      "outputs": [
        {
          "output_type": "execute_result",
          "data": {
            "text/plain": [
              "3.385015999493397"
            ]
          },
          "metadata": {},
          "execution_count": 26
        }
      ]
    },
    {
      "cell_type": "code",
      "source": [
        "np.dot(M0, opt['x'])"
      ],
      "metadata": {
        "colab": {
          "base_uri": "https://localhost:8080/"
        },
        "id": "L_j_Cr4pyOQG",
        "outputId": "d93bb96d-a0e3-4459-d714-e194641ec118"
      },
      "execution_count": 27,
      "outputs": [
        {
          "output_type": "execute_result",
          "data": {
            "text/plain": [
              "10.0"
            ]
          },
          "metadata": {},
          "execution_count": 27
        }
      ]
    },
    {
      "cell_type": "markdown",
      "source": [
        "## Mean-Variance Portfolio Theory"
      ],
      "metadata": {
        "id": "yTmyRrnyySWF"
      }
    },
    {
      "cell_type": "code",
      "source": [
        "rS = S1 / S0 - 1\n",
        "rS"
      ],
      "metadata": {
        "colab": {
          "base_uri": "https://localhost:8080/"
        },
        "id": "LF7RA1-6yTXu",
        "outputId": "9e01ccec-f4cb-435d-9eaa-5a1e8e54a5b6"
      },
      "execution_count": 28,
      "outputs": [
        {
          "output_type": "execute_result",
          "data": {
            "text/plain": [
              "array([ 1. , -0.5])"
            ]
          },
          "metadata": {},
          "execution_count": 28
        }
      ]
    },
    {
      "cell_type": "code",
      "source": [
        "rB = B1 / B0 - 1\n",
        "rB"
      ],
      "metadata": {
        "colab": {
          "base_uri": "https://localhost:8080/"
        },
        "id": "-KiTAdIlyV_d",
        "outputId": "d55a9b3b-f438-4665-ade7-1f1467bc2d1a"
      },
      "execution_count": 29,
      "outputs": [
        {
          "output_type": "execute_result",
          "data": {
            "text/plain": [
              "array([0.1, 0.1])"
            ]
          },
          "metadata": {},
          "execution_count": 29
        }
      ]
    },
    {
      "cell_type": "code",
      "source": [
        "def mu(rX):\n",
        "    return np.dot(P, rX)"
      ],
      "metadata": {
        "id": "guCflSHbyXQ-"
      },
      "execution_count": 30,
      "outputs": []
    },
    {
      "cell_type": "code",
      "source": [
        "mu(rS)"
      ],
      "metadata": {
        "colab": {
          "base_uri": "https://localhost:8080/"
        },
        "id": "sxEGJKCPyY3G",
        "outputId": "f9ff419a-6833-43d6-8706-48b7dbce84f8"
      },
      "execution_count": 31,
      "outputs": [
        {
          "output_type": "execute_result",
          "data": {
            "text/plain": [
              "0.25"
            ]
          },
          "metadata": {},
          "execution_count": 31
        }
      ]
    },
    {
      "cell_type": "code",
      "source": [
        "mu(rB)"
      ],
      "metadata": {
        "colab": {
          "base_uri": "https://localhost:8080/"
        },
        "id": "5eM3hm1ayaKu",
        "outputId": "59231969-c37e-41de-b224-2ef788c8d1ce"
      },
      "execution_count": 32,
      "outputs": [
        {
          "output_type": "execute_result",
          "data": {
            "text/plain": [
              "0.10000000000000009"
            ]
          },
          "metadata": {},
          "execution_count": 32
        }
      ]
    },
    {
      "cell_type": "code",
      "source": [
        "rM = M1 / M0 - 1\n",
        "rM"
      ],
      "metadata": {
        "colab": {
          "base_uri": "https://localhost:8080/"
        },
        "id": "oFyqsTb3ybY8",
        "outputId": "70b60850-5d9a-4889-ec1e-f24e4f17a789"
      },
      "execution_count": 33,
      "outputs": [
        {
          "output_type": "execute_result",
          "data": {
            "text/plain": [
              "array([[ 1. ,  0.1],\n",
              "       [-0.5,  0.1]])"
            ]
          },
          "metadata": {},
          "execution_count": 33
        }
      ]
    },
    {
      "cell_type": "code",
      "source": [
        "mu(rM)"
      ],
      "metadata": {
        "colab": {
          "base_uri": "https://localhost:8080/"
        },
        "id": "IvWcYuotyc1K",
        "outputId": "43338a39-f1d9-45b5-9686-b7272b2808f1"
      },
      "execution_count": 34,
      "outputs": [
        {
          "output_type": "execute_result",
          "data": {
            "text/plain": [
              "array([0.25, 0.1 ])"
            ]
          },
          "metadata": {},
          "execution_count": 34
        }
      ]
    },
    {
      "cell_type": "code",
      "source": [
        "def var(rX):\n",
        "    return ((rX - mu(rX)) ** 2).mean()"
      ],
      "metadata": {
        "id": "chbeXHKIyeWU"
      },
      "execution_count": 35,
      "outputs": []
    },
    {
      "cell_type": "code",
      "source": [
        "var(rS)"
      ],
      "metadata": {
        "colab": {
          "base_uri": "https://localhost:8080/"
        },
        "id": "JQSGjRJ1yf-Z",
        "outputId": "746fdee6-4fb9-4cea-8d2e-78ddc9fa513f"
      },
      "execution_count": 36,
      "outputs": [
        {
          "output_type": "execute_result",
          "data": {
            "text/plain": [
              "0.5625"
            ]
          },
          "metadata": {},
          "execution_count": 36
        }
      ]
    },
    {
      "cell_type": "code",
      "source": [
        "var(rB)"
      ],
      "metadata": {
        "colab": {
          "base_uri": "https://localhost:8080/"
        },
        "id": "UptegfLuyheo",
        "outputId": "aab1ae28-f640-490f-e687-e366342a5889"
      },
      "execution_count": 38,
      "outputs": [
        {
          "output_type": "execute_result",
          "data": {
            "text/plain": [
              "0.0"
            ]
          },
          "metadata": {},
          "execution_count": 38
        }
      ]
    },
    {
      "cell_type": "code",
      "source": [
        "def sigma(rX):\n",
        "    return np.sqrt(var(rX))"
      ],
      "metadata": {
        "id": "CMuqNoeXyirl"
      },
      "execution_count": 39,
      "outputs": []
    },
    {
      "cell_type": "code",
      "source": [
        "sigma(rS)"
      ],
      "metadata": {
        "colab": {
          "base_uri": "https://localhost:8080/"
        },
        "id": "gPTkVhBLyj9v",
        "outputId": "13247af1-a74a-4c18-a145-a2a0352b842f"
      },
      "execution_count": 40,
      "outputs": [
        {
          "output_type": "execute_result",
          "data": {
            "text/plain": [
              "0.75"
            ]
          },
          "metadata": {},
          "execution_count": 40
        }
      ]
    },
    {
      "cell_type": "code",
      "source": [
        "sigma(rB)"
      ],
      "metadata": {
        "colab": {
          "base_uri": "https://localhost:8080/"
        },
        "id": "A_xezON8ynMV",
        "outputId": "b1e041ef-196f-4d1d-f24d-53f801eac271"
      },
      "execution_count": 41,
      "outputs": [
        {
          "output_type": "execute_result",
          "data": {
            "text/plain": [
              "0.0"
            ]
          },
          "metadata": {},
          "execution_count": 41
        }
      ]
    },
    {
      "cell_type": "code",
      "source": [
        "np.cov(rM.T, aweights=P, ddof=0)"
      ],
      "metadata": {
        "colab": {
          "base_uri": "https://localhost:8080/"
        },
        "id": "pAJmjzCYyodm",
        "outputId": "12e09b29-565d-4f1a-9c71-4b0fb567b60b"
      },
      "execution_count": 45,
      "outputs": [
        {
          "output_type": "execute_result",
          "data": {
            "text/plain": [
              "array([[0.5625, 0.    ],\n",
              "       [0.    , 0.    ]])"
            ]
          },
          "metadata": {},
          "execution_count": 45
        }
      ]
    },
    {
      "cell_type": "code",
      "source": [
        "phi = np.array((0.5, 0.5))"
      ],
      "metadata": {
        "id": "c42oupnSypvv"
      },
      "execution_count": 48,
      "outputs": []
    },
    {
      "cell_type": "code",
      "source": [
        "def mu_phi(phi):\n",
        "    return np.dot(phi, mu(rM))"
      ],
      "metadata": {
        "id": "jE-xYREZyq_6"
      },
      "execution_count": 49,
      "outputs": []
    },
    {
      "cell_type": "code",
      "source": [
        "mu_phi(phi)"
      ],
      "metadata": {
        "colab": {
          "base_uri": "https://localhost:8080/"
        },
        "id": "bAixNZdKyswb",
        "outputId": "f26c8a2a-68ca-4eb5-9fc3-e5c951f896a0"
      },
      "execution_count": 50,
      "outputs": [
        {
          "output_type": "execute_result",
          "data": {
            "text/plain": [
              "0.17500000000000004"
            ]
          },
          "metadata": {},
          "execution_count": 50
        }
      ]
    },
    {
      "cell_type": "code",
      "source": [
        "def var_phi(phi):\n",
        "    cv = np.cov(rM.T, aweights=P, ddof=0)\n",
        "    return np.dot(phi, np.dot(cv, phi))"
      ],
      "metadata": {
        "id": "OBDWhqKSyudy"
      },
      "execution_count": 51,
      "outputs": []
    },
    {
      "cell_type": "code",
      "source": [
        "var_phi(phi)"
      ],
      "metadata": {
        "colab": {
          "base_uri": "https://localhost:8080/"
        },
        "id": "hpAXgo8WywGS",
        "outputId": "53fef54c-6761-49e3-cd39-f04b37ff623f"
      },
      "execution_count": 52,
      "outputs": [
        {
          "output_type": "execute_result",
          "data": {
            "text/plain": [
              "0.140625"
            ]
          },
          "metadata": {},
          "execution_count": 52
        }
      ]
    },
    {
      "cell_type": "code",
      "source": [
        "def sigma_phi(phi):\n",
        "    return var_phi(phi) ** 0.5"
      ],
      "metadata": {
        "id": "qnNSpPE6y_1v"
      },
      "execution_count": 53,
      "outputs": []
    },
    {
      "cell_type": "code",
      "source": [
        "sigma_phi(phi)"
      ],
      "metadata": {
        "colab": {
          "base_uri": "https://localhost:8080/"
        },
        "id": "3PRrjDqXzBX2",
        "outputId": "9276fa0e-96d8-4771-da66-c748f33f2d78"
      },
      "execution_count": 56,
      "outputs": [
        {
          "output_type": "execute_result",
          "data": {
            "text/plain": [
              "0.375"
            ]
          },
          "metadata": {},
          "execution_count": 56
        }
      ]
    },
    {
      "cell_type": "code",
      "source": [
        "from pylab import plt, mpl\n",
        "plt.style.use('seaborn')\n",
        "mpl.rcParams['savefig.dpi'] = 300\n",
        "mpl.rcParams['font.family'] = 'serif'"
      ],
      "metadata": {
        "id": "4vZj4ISozDkN"
      },
      "execution_count": 57,
      "outputs": []
    },
    {
      "cell_type": "code",
      "source": [
        "phi_mcs = np.random.random((2, 200))"
      ],
      "metadata": {
        "id": "dfydtzABzFk3"
      },
      "execution_count": 58,
      "outputs": []
    },
    {
      "cell_type": "code",
      "source": [
        "phi_mcs = (phi_mcs / phi_mcs.sum(axis=0)).T"
      ],
      "metadata": {
        "id": "Ua5mKNoL4Hq8"
      },
      "execution_count": 66,
      "outputs": []
    },
    {
      "cell_type": "code",
      "source": [
        "mcs = np.array([(sigma_phi(phi), mu_phi(phi))\n",
        "                for phi in phi_mcs])"
      ],
      "metadata": {
        "id": "BKXC5tFP4JtX"
      },
      "execution_count": 67,
      "outputs": []
    },
    {
      "cell_type": "code",
      "source": [
        "plt.figure(figsize=(10, 6))\n",
        "plt.plot(mcs[:, 0], mcs[:, 1], 'ro')\n",
        "plt.xlabel('expected volatility')\n",
        "plt.ylabel('expected return');"
      ],
      "metadata": {
        "colab": {
          "base_uri": "https://localhost:8080/",
          "height": 387
        },
        "id": "7746iLHW4Qrp",
        "outputId": "edafed48-ca2b-4379-b705-3f0a71bdbafe"
      },
      "execution_count": 68,
      "outputs": [
        {
          "output_type": "display_data",
          "data": {
            "image/png": "[encoded data removed]",
            "text/plain": [
              "<Figure size 720x432 with 1 Axes>"
            ]
          },
          "metadata": {}
        }
      ]
    },
    {
      "cell_type": "code",
      "source": [
        "P = np.ones(3) / 3\n",
        "P"
      ],
      "metadata": {
        "colab": {
          "base_uri": "https://localhost:8080/"
        },
        "id": "MPY9_U9-5LD4",
        "outputId": "75d265f6-30af-47f6-a97b-e799afc33b85"
      },
      "execution_count": 69,
      "outputs": [
        {
          "output_type": "execute_result",
          "data": {
            "text/plain": [
              "array([0.33333333, 0.33333333, 0.33333333])"
            ]
          },
          "metadata": {},
          "execution_count": 69
        }
      ]
    },
    {
      "cell_type": "code",
      "source": [
        "S1 = np.array((20, 10, 5))"
      ],
      "metadata": {
        "id": "7EtrZHk75PAT"
      },
      "execution_count": 70,
      "outputs": []
    },
    {
      "cell_type": "code",
      "source": [
        "T0 = 10\n",
        "T1 = np.array((1, 12, 13))"
      ],
      "metadata": {
        "id": "03FNKg9E5QsV"
      },
      "execution_count": 71,
      "outputs": []
    },
    {
      "cell_type": "code",
      "source": [
        "M0 = np.array((S0, T0))\n",
        "M0"
      ],
      "metadata": {
        "colab": {
          "base_uri": "https://localhost:8080/"
        },
        "id": "UbwLynbW5Ydl",
        "outputId": "03d6a493-7185-49e1-e8e8-50340e1bf7c6"
      },
      "execution_count": 72,
      "outputs": [
        {
          "output_type": "execute_result",
          "data": {
            "text/plain": [
              "array([10, 10])"
            ]
          },
          "metadata": {},
          "execution_count": 72
        }
      ]
    },
    {
      "cell_type": "code",
      "source": [
        "M1 = np.array((S1, T1)).T\n",
        "M1"
      ],
      "metadata": {
        "colab": {
          "base_uri": "https://localhost:8080/"
        },
        "id": "9FFHzSsS5Z0w",
        "outputId": "2d0d0dfb-5e2f-40c6-8749-bdfd9f3082f3"
      },
      "execution_count": 73,
      "outputs": [
        {
          "output_type": "execute_result",
          "data": {
            "text/plain": [
              "array([[20,  1],\n",
              "       [10, 12],\n",
              "       [ 5, 13]])"
            ]
          },
          "metadata": {},
          "execution_count": 73
        }
      ]
    },
    {
      "cell_type": "code",
      "source": [
        ""
      ],
      "metadata": {
        "id": "vuSp2DxZ5bdU"
      },
      "execution_count": null,
      "outputs": []
    }
  ]
}