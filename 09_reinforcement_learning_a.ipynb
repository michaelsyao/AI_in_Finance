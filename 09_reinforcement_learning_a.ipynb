{
  "cells": [
    {
      "cell_type": "markdown",
      "metadata": {
        "id": "view-in-github",
        "colab_type": "text"
      },
      "source": [
        "<a href=\"https://colab.research.google.com/github/michaelsyao/AI_in_Finance/blob/main/09_reinforcement_learning_a.ipynb\" target=\"_parent\"><img src=\"https://colab.research.google.com/assets/colab-badge.svg\" alt=\"Open In Colab\"/></a>"
      ]
    },
    {
      "cell_type": "markdown",
      "metadata": {
        "id": "O1IgjXtLfbfo"
      },
      "source": [
        "## Imports"
      ]
    },
    {
      "cell_type": "code",
      "execution_count": 1,
      "metadata": {
        "id": "ZIIoT-tRfcJ6"
      },
      "outputs": [],
      "source": [
        "import os\n",
        "import math\n",
        "import random\n",
        "import numpy as np\n",
        "import pandas as pd\n",
        "from pylab import plt, mpl\n",
        "plt.style.use('seaborn')\n",
        "mpl.rcParams['savefig.dpi'] = 300\n",
        "mpl.rcParams['font.family'] = 'serif'\n",
        "np.set_printoptions(precision=4, suppress=True)\n",
        "os.environ['PYTHONHASHSEED'] = '0'"
      ]
    },
    {
      "cell_type": "markdown",
      "metadata": {
        "id": "PUaGti8RfilZ"
      },
      "source": [
        "## `CartPole` Environment "
      ]
    },
    {
      "cell_type": "code",
      "execution_count": 2,
      "metadata": {
        "id": "RciY7HGKfj4j"
      },
      "outputs": [],
      "source": [
        "import gym"
      ]
    },
    {
      "cell_type": "code",
      "execution_count": 3,
      "metadata": {
        "id": "NJ-mW4jQfmEW"
      },
      "outputs": [],
      "source": [
        "env = gym.make('CartPole-v0')"
      ]
    },
    {
      "cell_type": "code",
      "execution_count": 4,
      "metadata": {
        "colab": {
          "base_uri": "https://localhost:8080/"
        },
        "id": "KqjKMM1wfnYn",
        "outputId": "b87e7e9d-83fe-4e51-f91a-47c850ab77e9"
      },
      "outputs": [
        {
          "output_type": "execute_result",
          "data": {
            "text/plain": [
              "[100]"
            ]
          },
          "metadata": {},
          "execution_count": 4
        }
      ],
      "source": [
        "env.seed(100)\n",
        "env.action_space.seed(100)"
      ]
    },
    {
      "cell_type": "code",
      "execution_count": 5,
      "metadata": {
        "colab": {
          "base_uri": "https://localhost:8080/"
        },
        "id": "VfyeFyfRfo9a",
        "outputId": "e1ccbaf1-f764-409f-e6fe-29a1dd406720"
      },
      "outputs": [
        {
          "output_type": "execute_result",
          "data": {
            "text/plain": [
              "Box(-3.4028234663852886e+38, 3.4028234663852886e+38, (4,), float32)"
            ]
          },
          "metadata": {},
          "execution_count": 5
        }
      ],
      "source": [
        "env.observation_space"
      ]
    },
    {
      "cell_type": "code",
      "execution_count": 6,
      "metadata": {
        "colab": {
          "base_uri": "https://localhost:8080/"
        },
        "id": "IyViC4Jcfqn2",
        "outputId": "c81afe7c-095e-4524-8569-9542176f52f7"
      },
      "outputs": [
        {
          "output_type": "execute_result",
          "data": {
            "text/plain": [
              "array([-4.8  ,   -inf, -0.419,   -inf], dtype=float16)"
            ]
          },
          "metadata": {},
          "execution_count": 6
        }
      ],
      "source": [
        "env.observation_space.low.astype(np.float16)"
      ]
    },
    {
      "cell_type": "code",
      "execution_count": 7,
      "metadata": {
        "colab": {
          "base_uri": "https://localhost:8080/"
        },
        "id": "2hjr3ZhGftVg",
        "outputId": "9b3bbc7e-5909-4921-9bb6-5c6724b8f18a"
      },
      "outputs": [
        {
          "output_type": "execute_result",
          "data": {
            "text/plain": [
              "array([4.8  ,   inf, 0.419,   inf], dtype=float16)"
            ]
          },
          "metadata": {},
          "execution_count": 7
        }
      ],
      "source": [
        "env.observation_space.high.astype(np.float16)"
      ]
    },
    {
      "cell_type": "code",
      "execution_count": 8,
      "metadata": {
        "id": "FVRJW_b4fu1Q"
      },
      "outputs": [],
      "source": [
        "state = env.reset()"
      ]
    },
    {
      "cell_type": "code",
      "execution_count": 9,
      "metadata": {
        "colab": {
          "base_uri": "https://localhost:8080/"
        },
        "id": "guAiOHXffwYY",
        "outputId": "cdae7cfc-340c-4d91-bf5a-5736afb7872a"
      },
      "outputs": [
        {
          "output_type": "execute_result",
          "data": {
            "text/plain": [
              "array([-0.0163,  0.0238, -0.0392, -0.0148])"
            ]
          },
          "metadata": {},
          "execution_count": 9
        }
      ],
      "source": [
        "state"
      ]
    },
    {
      "cell_type": "code",
      "execution_count": 10,
      "metadata": {
        "colab": {
          "base_uri": "https://localhost:8080/"
        },
        "id": "_VKR8HhpfyFj",
        "outputId": "4feb1761-2137-4455-b1df-dff1887d199c"
      },
      "outputs": [
        {
          "output_type": "execute_result",
          "data": {
            "text/plain": [
              "Discrete(2)"
            ]
          },
          "metadata": {},
          "execution_count": 10
        }
      ],
      "source": [
        "env.action_space"
      ]
    },
    {
      "cell_type": "code",
      "execution_count": 11,
      "metadata": {
        "colab": {
          "base_uri": "https://localhost:8080/"
        },
        "id": "cKdTFMmTfzsH",
        "outputId": "d9b44a94-91e1-4124-dca4-be86fb8d89f3"
      },
      "outputs": [
        {
          "output_type": "execute_result",
          "data": {
            "text/plain": [
              "2"
            ]
          },
          "metadata": {},
          "execution_count": 11
        }
      ],
      "source": [
        "env.action_space.n"
      ]
    },
    {
      "cell_type": "code",
      "execution_count": 12,
      "metadata": {
        "colab": {
          "base_uri": "https://localhost:8080/"
        },
        "id": "_PK5BahXf1Tz",
        "outputId": "63d7e4cf-9783-437f-b712-271b4286f02f"
      },
      "outputs": [
        {
          "output_type": "execute_result",
          "data": {
            "text/plain": [
              "1"
            ]
          },
          "metadata": {},
          "execution_count": 12
        }
      ],
      "source": [
        "env.action_space.sample()"
      ]
    },
    {
      "cell_type": "code",
      "execution_count": 13,
      "metadata": {
        "colab": {
          "base_uri": "https://localhost:8080/"
        },
        "id": "4RO168fJf87d",
        "outputId": "97ac4548-1760-4699-f5ff-f0f6dc1f915c"
      },
      "outputs": [
        {
          "output_type": "execute_result",
          "data": {
            "text/plain": [
              "0"
            ]
          },
          "metadata": {},
          "execution_count": 13
        }
      ],
      "source": [
        "env.action_space.sample() "
      ]
    },
    {
      "cell_type": "code",
      "execution_count": 14,
      "metadata": {
        "colab": {
          "base_uri": "https://localhost:8080/"
        },
        "id": "RKGXbHkjf-Od",
        "outputId": "9ade8877-40cf-46a3-e039-4477188ba01c"
      },
      "outputs": [
        {
          "output_type": "execute_result",
          "data": {
            "text/plain": [
              "1"
            ]
          },
          "metadata": {},
          "execution_count": 14
        }
      ],
      "source": [
        "a = env.action_space.sample()\n",
        "a"
      ]
    },
    {
      "cell_type": "code",
      "execution_count": 15,
      "metadata": {
        "colab": {
          "base_uri": "https://localhost:8080/"
        },
        "id": "313Mza_2f_0q",
        "outputId": "4a59c1fa-4d46-464f-c6aa-0e0ff69e7ce9"
      },
      "outputs": [
        {
          "output_type": "execute_result",
          "data": {
            "text/plain": [
              "(array([-0.0158,  0.2195, -0.0395, -0.3196]), 1.0, False, {})"
            ]
          },
          "metadata": {},
          "execution_count": 15
        }
      ],
      "source": [
        "state, reward, done, info = env.step(a)\n",
        "state, reward, done, info"
      ]
    },
    {
      "cell_type": "code",
      "execution_count": 16,
      "metadata": {
        "colab": {
          "base_uri": "https://localhost:8080/"
        },
        "id": "g4aLRxWIgBeB",
        "outputId": "843c5fd1-1ef3-42f9-b142-9dc8b2e6f418"
      },
      "outputs": [
        {
          "output_type": "stream",
          "name": "stdout",
          "text": [
            "step= 1 | state=[-0.0423  0.1982  0.0256 -0.2476] | action=1 | reward=1.0\n",
            "step= 2 | state=[-0.0383  0.0028  0.0206  0.0531] | action=0 | reward=1.0\n",
            "step= 3 | state=[-0.0383  0.1976  0.0217 -0.2331] | action=1 | reward=1.0\n",
            "step= 4 | state=[-0.0343  0.0022  0.017   0.0664] | action=0 | reward=1.0\n",
            "step= 5 | state=[-0.0343  0.197   0.0184 -0.2209] | action=1 | reward=1.0\n",
            "step= 6 | state=[-0.0304  0.0016  0.0139  0.0775] | action=0 | reward=1.0\n",
            "step= 7 | state=[-0.0303  0.1966  0.0155 -0.2107] | action=1 | reward=1.0\n",
            "step= 8 | state=[-0.0264  0.0012  0.0113  0.0868] | action=0 | reward=1.0\n",
            "step= 9 | state=[-0.0264  0.1962  0.013  -0.2023] | action=1 | reward=1.0\n",
            "step=10 | state=[-0.0224  0.3911  0.009  -0.4908] | action=1 | reward=1.0\n",
            "step=11 | state=[-0.0146  0.5861 -0.0009 -0.7807] | action=1 | reward=1.0\n",
            "step=12 | state=[-0.0029  0.7812 -0.0165 -1.0736] | action=1 | reward=1.0\n",
            "step=13 | state=[ 0.0127  0.9766 -0.0379 -1.3714] | action=1 | reward=1.0\n",
            "step=14 | state=[ 0.0323  1.1722 -0.0654 -1.6758] | action=1 | reward=1.0\n",
            "step=15 | state=[ 0.0557  0.9779 -0.0989 -1.4041] | action=0 | reward=1.0\n",
            "step=16 | state=[ 0.0753  0.7841 -0.127  -1.1439] | action=0 | reward=1.0\n",
            "step=17 | state=[ 0.0909  0.5908 -0.1498 -0.8936] | action=0 | reward=1.0\n",
            "step=18 | state=[ 0.1028  0.7876 -0.1677 -1.2294] | action=1 | reward=1.0\n",
            "step=19 | state=[ 0.1185  0.9845 -0.1923 -1.5696] | action=1 | reward=1.0\n",
            "step=20 | state=[ 0.1382  0.7921 -0.2237 -1.3425] | action=0 | reward=1.0\n",
            "*** FAILED ***\n"
          ]
        }
      ],
      "source": [
        "env.reset()\n",
        "for e in range(1, 200):\n",
        "    a = env.action_space.sample()\n",
        "    state, reward, done, info = env.step(a) \n",
        "    print(f'step={e:2d} | state={state} | action={a} | reward={reward}')\n",
        "    if done and (e + 1) < 200:\n",
        "        print('*** FAILED ***')\n",
        "        break"
      ]
    },
    {
      "cell_type": "code",
      "execution_count": 17,
      "metadata": {
        "colab": {
          "base_uri": "https://localhost:8080/"
        },
        "id": "ou3MSCUngEE1",
        "outputId": "7519cd19-03b6-427e-a8ae-da56970d8223"
      },
      "outputs": [
        {
          "output_type": "execute_result",
          "data": {
            "text/plain": [
              "True"
            ]
          },
          "metadata": {},
          "execution_count": 17
        }
      ],
      "source": [
        "done"
      ]
    },
    {
      "cell_type": "code",
      "execution_count": 18,
      "metadata": {
        "id": "_wLh7BnBgHEk"
      },
      "outputs": [],
      "source": [
        "## Dimensionality Reduction"
      ]
    },
    {
      "cell_type": "markdown",
      "metadata": {
        "id": "tY1FhFTtga0B"
      },
      "source": [
        "## Dimensionality Reduction"
      ]
    },
    {
      "cell_type": "markdown",
      "metadata": {
        "id": "4FxMTxf2gdBa"
      },
      "source": [
        "See http://kvfrans.com/simple-algoritms-for-solving-cartpole/."
      ]
    },
    {
      "cell_type": "code",
      "execution_count": 19,
      "metadata": {
        "id": "4mfiMnyPgJyg"
      },
      "outputs": [],
      "source": [
        "np.random.seed(100)"
      ]
    },
    {
      "cell_type": "code",
      "execution_count": 20,
      "metadata": {
        "id": "rBrQi8rrgZuG"
      },
      "outputs": [],
      "source": [
        "weights = np.random.random(4) * 2 - 1"
      ]
    },
    {
      "cell_type": "code",
      "execution_count": 21,
      "metadata": {
        "colab": {
          "base_uri": "https://localhost:8080/"
        },
        "id": "KFZB8vN-gl8P",
        "outputId": "038c5ec2-65f4-4a4a-9ca0-3ce881543ff8"
      },
      "outputs": [
        {
          "output_type": "execute_result",
          "data": {
            "text/plain": [
              "array([ 0.0868, -0.4433, -0.151 ,  0.6896])"
            ]
          },
          "metadata": {},
          "execution_count": 21
        }
      ],
      "source": [
        "weights"
      ]
    },
    {
      "cell_type": "code",
      "execution_count": 22,
      "metadata": {
        "id": "tpP4XHeygoS_"
      },
      "outputs": [],
      "source": [
        "state = env.reset()"
      ]
    },
    {
      "cell_type": "code",
      "execution_count": 23,
      "metadata": {
        "colab": {
          "base_uri": "https://localhost:8080/"
        },
        "id": "iif9U4H2gqrA",
        "outputId": "9cdace12-c7ba-4096-abf7-4038768e4dfd"
      },
      "outputs": [
        {
          "output_type": "execute_result",
          "data": {
            "text/plain": [
              "array([-0.0347, -0.0103,  0.047 , -0.0315])"
            ]
          },
          "metadata": {},
          "execution_count": 23
        }
      ],
      "source": [
        "state"
      ]
    },
    {
      "cell_type": "code",
      "execution_count": 24,
      "metadata": {
        "colab": {
          "base_uri": "https://localhost:8080/"
        },
        "id": "ZwS1yGXlgsO6",
        "outputId": "4d66fbfc-785a-4793-835f-36c0d4399a0a"
      },
      "outputs": [
        {
          "output_type": "execute_result",
          "data": {
            "text/plain": [
              "-0.02725361929630797"
            ]
          },
          "metadata": {},
          "execution_count": 24
        }
      ],
      "source": [
        "s = np.dot(state, weights)\n",
        "s"
      ]
    },
    {
      "cell_type": "markdown",
      "metadata": {
        "id": "tjIY0bfGguFs"
      },
      "source": [
        "## Action Rule"
      ]
    },
    {
      "cell_type": "code",
      "execution_count": 25,
      "metadata": {
        "id": "unG8l-h8gv7l"
      },
      "outputs": [],
      "source": [
        "if s < 0:\n",
        "    a = 0\n",
        "else:\n",
        "    a = 1"
      ]
    },
    {
      "cell_type": "code",
      "execution_count": 26,
      "metadata": {
        "colab": {
          "base_uri": "https://localhost:8080/"
        },
        "id": "wnfWZRKug2CE",
        "outputId": "c5032755-d561-4a56-ae54-31340649dde6"
      },
      "outputs": [
        {
          "output_type": "execute_result",
          "data": {
            "text/plain": [
              "0"
            ]
          },
          "metadata": {},
          "execution_count": 26
        }
      ],
      "source": [
        "a"
      ]
    },
    {
      "cell_type": "markdown",
      "metadata": {
        "id": "Y-Zr2Hsvg6hQ"
      },
      "source": [
        "## Total Reward per Episode"
      ]
    },
    {
      "cell_type": "code",
      "execution_count": 27,
      "metadata": {
        "id": "ucZyr0a7g8Bi"
      },
      "outputs": [],
      "source": [
        "def run_episode(env, weights):  \n",
        "    state = env.reset()\n",
        "    treward = 0\n",
        "    for _ in range(200):\n",
        "        s = np.dot(state, weights)\n",
        "        a = 0 if s < 0 else 1\n",
        "        state, reward, done, info = env.step(a)\n",
        "        treward += reward\n",
        "        if done:\n",
        "            break\n",
        "    return treward"
      ]
    },
    {
      "cell_type": "code",
      "execution_count": 28,
      "metadata": {
        "colab": {
          "base_uri": "https://localhost:8080/"
        },
        "id": "Bi35i4JSg_qw",
        "outputId": "83ee1bbe-dd46-46c3-e213-1671959f2226"
      },
      "outputs": [
        {
          "output_type": "execute_result",
          "data": {
            "text/plain": [
              "41.0"
            ]
          },
          "metadata": {},
          "execution_count": 28
        }
      ],
      "source": [
        "run_episode(env, weights)"
      ]
    },
    {
      "cell_type": "markdown",
      "metadata": {
        "id": "czrGQbfz2uGk"
      },
      "source": [
        "## Simple Learning "
      ]
    },
    {
      "cell_type": "code",
      "execution_count": 29,
      "metadata": {
        "id": "AwXSU04h2v90"
      },
      "outputs": [],
      "source": [
        "def set_seeds(seed=100):\n",
        "    random.seed(seed)\n",
        "    np.random.seed(seed)\n",
        "    env.seed(seed)"
      ]
    },
    {
      "cell_type": "code",
      "execution_count": 30,
      "metadata": {
        "id": "kZRqzN7a2xTb"
      },
      "outputs": [],
      "source": [
        "set_seeds()\n",
        "num_episodes = 1000"
      ]
    },
    {
      "cell_type": "code",
      "execution_count": 31,
      "metadata": {
        "colab": {
          "base_uri": "https://localhost:8080/"
        },
        "id": "pSsp0zvT2yg7",
        "outputId": "d99938eb-d529-4ff9-bd4e-d3e076a29100"
      },
      "outputs": [
        {
          "output_type": "stream",
          "name": "stdout",
          "text": [
            "UPDATE  | episode=1\n",
            "UPDATE  | episode=2\n",
            "SUCCESS | episode=13\n"
          ]
        }
      ],
      "source": [
        "besttreward = 0\n",
        "for e in range(1, num_episodes + 1):\n",
        "    weights = np.random.rand(4) * 2 - 1\n",
        "    treward = run_episode(env, weights)\n",
        "    if treward > besttreward:\n",
        "        besttreward = treward\n",
        "        bestweights = weights\n",
        "        if treward == 200:\n",
        "            print(f'SUCCESS | episode={e}')\n",
        "            break\n",
        "        print(f'UPDATE  | episode={e}')"
      ]
    },
    {
      "cell_type": "code",
      "execution_count": 32,
      "metadata": {
        "colab": {
          "base_uri": "https://localhost:8080/"
        },
        "id": "GnExl2DX20V_",
        "outputId": "bc4c7d00-00bf-41ee-900c-ee8909b920e3"
      },
      "outputs": [
        {
          "output_type": "execute_result",
          "data": {
            "text/plain": [
              "array([-0.4282,  0.7048,  0.95  ,  0.7697])"
            ]
          },
          "metadata": {},
          "execution_count": 32
        }
      ],
      "source": [
        "weights"
      ]
    },
    {
      "cell_type": "markdown",
      "metadata": {
        "id": "4PDSm67Q24cp"
      },
      "source": [
        "## Testing the Results"
      ]
    },
    {
      "cell_type": "code",
      "execution_count": 33,
      "metadata": {
        "colab": {
          "base_uri": "https://localhost:8080/"
        },
        "id": "KqCr8W2f246l",
        "outputId": "27cfd4bc-9126-4be7-d724-561f99b4ee34"
      },
      "outputs": [
        {
          "output_type": "execute_result",
          "data": {
            "text/plain": [
              "[200.0, 200.0, 200.0, 200.0, 200.0, 200.0, 200.0, 200.0, 200.0, 200.0]"
            ]
          },
          "metadata": {},
          "execution_count": 33
        }
      ],
      "source": [
        "res = []\n",
        "for _ in range(100):\n",
        "    treward = run_episode(env, weights)\n",
        "    res.append(treward)\n",
        "res[:10]"
      ]
    },
    {
      "cell_type": "code",
      "execution_count": 34,
      "metadata": {
        "colab": {
          "base_uri": "https://localhost:8080/"
        },
        "id": "tDHB-X5w2706",
        "outputId": "8b95a02f-722c-4627-e2e8-043f6553a32b"
      },
      "outputs": [
        {
          "output_type": "execute_result",
          "data": {
            "text/plain": [
              "200.0"
            ]
          },
          "metadata": {},
          "execution_count": 34
        }
      ],
      "source": [
        "sum(res) / len(res)"
      ]
    },
    {
      "cell_type": "markdown",
      "metadata": {
        "id": "jcitH8oo2-iR"
      },
      "source": [
        "## DNN Learning"
      ]
    },
    {
      "cell_type": "code",
      "execution_count": 35,
      "metadata": {
        "id": "_Gacxepc3ABq"
      },
      "outputs": [],
      "source": [
        "import logging\n",
        "import tensorflow as tf\n",
        "#tf.get_logger().setLevel(logging.ERROR)"
      ]
    },
    {
      "cell_type": "code",
      "execution_count": 36,
      "metadata": {
        "id": "9TaPcykX3CfG"
      },
      "outputs": [],
      "source": [
        "#from tensorflow.python.framework.ops import disable_eager_execution\n",
        "#disable_eager_execution()"
      ]
    },
    {
      "cell_type": "code",
      "execution_count": 37,
      "metadata": {
        "id": "1b75tl_A3Enx"
      },
      "outputs": [],
      "source": [
        "from keras.layers import Dense, Dropout\n",
        "from keras.models import Sequential\n",
        "from tensorflow.keras.optimizers import Adam, RMSprop\n",
        "from sklearn.metrics import accuracy_score\n",
        "import random"
      ]
    },
    {
      "cell_type": "code",
      "execution_count": 38,
      "metadata": {
        "id": "mDWJ4atw3GOD"
      },
      "outputs": [],
      "source": [
        "def set_seeds(seed=100):\n",
        "    random.seed(seed)\n",
        "    np.random.seed(seed)\n",
        "    tf.random.set_seed(seed)\n",
        "    env.seed(seed)\n",
        "    env.action_space.seed(seed)"
      ]
    },
    {
      "cell_type": "code",
      "execution_count": 39,
      "metadata": {
        "id": "r2okbPNV4jk_"
      },
      "outputs": [],
      "source": [
        "class NNAgent:\n",
        "    def __init__(self):\n",
        "        self.max = 0\n",
        "        self.scores = list()\n",
        "        self.memory = list()\n",
        "        self.model = self._build_model()\n",
        "        \n",
        "    def _build_model(self):\n",
        "        model = Sequential()\n",
        "        model.add(Dense(24, input_dim=4,\n",
        "                        activation='relu'))\n",
        "        model.add(Dense(1, activation='sigmoid'))\n",
        "        model.compile(loss='binary_crossentropy',\n",
        "                      optimizer=RMSprop(learning_rate=0.001))\n",
        "        return model\n",
        "        \n",
        "    def act(self, state):\n",
        "        if random.random() <= 0.5:\n",
        "            return env.action_space.sample()\n",
        "        action = np.where(self.model.predict(\n",
        "            state, batch_size=None)[0, 0] > 0.5, 1, 0)\n",
        "        return action\n",
        "                    \n",
        "    def train_model(self, state, action):\n",
        "        self.model.fit(state, np.array([action,]),\n",
        "                       epochs=1, verbose=False)\n",
        "        \n",
        "    # the method to learn from interacting with the environment\n",
        "    def learn(self, episodes):\n",
        "        for e in range(1, episodes + 1):\n",
        "            state = env.reset()\n",
        "            for _ in range(201):\n",
        "                state = np.reshape(state, [1, 4])\n",
        "                action = self.act(state)\n",
        "                next_state, reward, done, info = env.step(action)\n",
        "                if done:\n",
        "                    score = _ + 1\n",
        "                    self.scores.append(score)\n",
        "                    self.max = max(score, self.max)\n",
        "                    print('episode: {:4d}/{} | score: {:3d} | max: {:3d}'\n",
        "                          .format(e, episodes, score, self.max), end='\\r')\n",
        "                    break\n",
        "                self.memory.append((state, action))\n",
        "                self.train_model(state, action)\n",
        "                state = next_state"
      ]
    },
    {
      "cell_type": "code",
      "execution_count": null,
      "metadata": {
        "id": "6rX54hSc4yce"
      },
      "outputs": [],
      "source": [
        "set_seeds(100)\n",
        "agent = NNAgent()"
      ]
    },
    {
      "cell_type": "code",
      "execution_count": null,
      "metadata": {
        "id": "KnBltU4Z7QnO"
      },
      "outputs": [],
      "source": [
        "episodes = 1000"
      ]
    },
    {
      "cell_type": "code",
      "execution_count": null,
      "metadata": {
        "colab": {
          "base_uri": "https://localhost:8080/"
        },
        "id": "6mS5cJ-37RzY",
        "outputId": "cdd03e41-da10-477b-f52c-7313b8c62b6e"
      },
      "outputs": [
        {
          "output_type": "stream",
          "name": "stderr",
          "text": [
            "/usr/local/lib/python3.7/dist-packages/keras/engine/training_v1.py:2079: UserWarning: `Model.state_updates` will be removed in a future version. This property should not be used in TensorFlow 2.0, as `updates` are applied automatically.\n",
            "  updates=self.state_updates,\n"
          ]
        },
        {
          "output_type": "stream",
          "name": "stdout",
          "text": [
            ""
          ]
        }
      ],
      "source": [
        "agent.learn(episodes)"
      ]
    },
    {
      "cell_type": "code",
      "execution_count": null,
      "metadata": {
        "colab": {
          "base_uri": "https://localhost:8080/"
        },
        "id": "lXPSVoH47vKU",
        "outputId": "e4c8dcbc-37cf-45d2-b8b4-b91218b23240"
      },
      "outputs": [
        {
          "output_type": "execute_result",
          "data": {
            "text/plain": [
              "13.942"
            ]
          },
          "metadata": {},
          "execution_count": 43
        }
      ],
      "source": [
        "sum(agent.scores) / len(agent.scores)"
      ]
    },
    {
      "cell_type": "code",
      "execution_count": null,
      "metadata": {
        "colab": {
          "base_uri": "https://localhost:8080/"
        },
        "id": "wb8jHS2k77yL",
        "outputId": "844b4122-7778-43ba-dc0b-9b76667860da"
      },
      "outputs": [
        {
          "output_type": "execute_result",
          "data": {
            "text/plain": [
              "array([[-0.0163,  0.0238, -0.0392, -0.0148],\n",
              "       [-0.0158,  0.2195, -0.0395, -0.3196],\n",
              "       [-0.0114,  0.0249, -0.0459, -0.0396],\n",
              "       ...,\n",
              "       [-0.0657, -1.3498,  0.0954,  2.0551],\n",
              "       [-0.0927, -1.1557,  0.1365,  1.7934],\n",
              "       [-0.1158, -0.9624,  0.1724,  1.546 ]])"
            ]
          },
          "metadata": {},
          "execution_count": 44
        }
      ],
      "source": [
        "f = np.array([m[0][0] for m in agent.memory])\n",
        "f"
      ]
    },
    {
      "cell_type": "code",
      "execution_count": null,
      "metadata": {
        "colab": {
          "base_uri": "https://localhost:8080/"
        },
        "id": "73LUh-ra79ec",
        "outputId": "b0bf3706-9937-4b05-aaa4-32c71029fc7a"
      },
      "outputs": [
        {
          "output_type": "execute_result",
          "data": {
            "text/plain": [
              "array([1, 0, 0, ..., 1, 1, 0])"
            ]
          },
          "metadata": {},
          "execution_count": 45
        }
      ],
      "source": [
        "l = np.array([m[1] for m in agent.memory])\n",
        "l"
      ]
    },
    {
      "cell_type": "code",
      "execution_count": null,
      "metadata": {
        "colab": {
          "base_uri": "https://localhost:8080/"
        },
        "id": "07MzGdZ87_A2",
        "outputId": "f119e520-a621-4472-ef76-ac69ebc520e7"
      },
      "outputs": [
        {
          "output_type": "execute_result",
          "data": {
            "text/plain": [
              "0.7477205995982074"
            ]
          },
          "metadata": {},
          "execution_count": 46
        }
      ],
      "source": [
        "accuracy_score(np.where(agent.model.predict(f) > 0.5, 1, 0), l)"
      ]
    },
    {
      "cell_type": "code",
      "execution_count": null,
      "metadata": {
        "id": "SMs33vp58AkK"
      },
      "outputs": [],
      "source": [
        ""
      ]
    },
    {
      "cell_type": "markdown",
      "metadata": {
        "id": "_jgqEHIt8CUs"
      },
      "source": [
        "## Q Learning"
      ]
    },
    {
      "cell_type": "markdown",
      "metadata": {
        "id": "VulOab4R8F5t"
      },
      "source": [
        "See https://keon.io/deep-q-learning/"
      ]
    },
    {
      "cell_type": "code",
      "execution_count": null,
      "metadata": {
        "id": "35jXhx5K8G0F"
      },
      "outputs": [],
      "source": [
        "from collections import deque\n",
        "from tensorflow.keras.optimizers import Adam, RMSprop"
      ]
    },
    {
      "cell_type": "code",
      "execution_count": null,
      "metadata": {
        "id": "wZc8fCLC0-SM"
      },
      "outputs": [],
      "source": [
        "class DQLAgent:\n",
        "    def __init__(self, gamma=0.95, hu=24, opt=Adam,\n",
        "           lr=0.001, finish=False):\n",
        "        self.finish = finish\n",
        "        self.epsilon = 1.0\n",
        "        self.epsilon_min = 0.01\n",
        "        self.epsilon_decay = 0.995\n",
        "        self.gamma = gamma\n",
        "        self.batch_size = 32\n",
        "        self.max_treward = 0\n",
        "        self.averages = list()\n",
        "        self.memory = deque(maxlen=2000)\n",
        "        self.osn = env.observation_space.shape[0]\n",
        "        self.model = self._build_model(hu, opt, lr)\n",
        "        \n",
        "    def _build_model(self, hu, opt, lr):\n",
        "        model = Sequential()\n",
        "        model.add(Dense(hu, input_dim=self.osn,\n",
        "                        activation='relu'))\n",
        "        model.add(Dense(hu, activation='relu'))\n",
        "        model.add(Dense(env.action_space.n, activation='linear'))\n",
        "        model.compile(loss='mse', optimizer=opt(lr=lr))\n",
        "        return model\n",
        "        \n",
        "    def act(self, state):\n",
        "        if random.random() <= self.epsilon:\n",
        "            return env.action_space.sample()\n",
        "        action = self.model.predict(state)[0]\n",
        "        return np.argmax(action)\n",
        "    \n",
        "    def replay(self):\n",
        "        batch = random.sample(self.memory, self.batch_size)\n",
        "        for state, action, reward, next_state, done in batch:\n",
        "            if not done:\n",
        "                reward += self.gamma * np.amax(\n",
        "                    self.model.predict(next_state)[0])\n",
        "            target = self.model.predict(state)\n",
        "            target[0, action] = reward\n",
        "            self.model.fit(state, target, epochs=1,\n",
        "                           verbose=False)\n",
        "        if self.epsilon > self.epsilon_min:\n",
        "            self.epsilon *= self.epsilon_decay\n",
        "    \n",
        "    def learn(self, episodes):\n",
        "        trewards = []\n",
        "        for e in range(1, episodes + 1):\n",
        "            state = env.reset()\n",
        "            state = np.reshape(state, [1, self.osn])\n",
        "            for _ in range(5000):\n",
        "                action = self.act(state)\n",
        "                next_state, reward, done, info = env.step(action)\n",
        "                next_state = np.reshape(next_state,\n",
        "                                        [1, self.osn])\n",
        "                self.memory.append([state, action, reward,\n",
        "                                     next_state, done])\n",
        "                state = next_state\n",
        "                if done:\n",
        "                    treward = _ + 1 #treward here record how many times agent interact with env.\n",
        "                    trewards.append(treward)\n",
        "                    av = sum(trewards[-25:]) / 25\n",
        "                    self.averages.append(av)\n",
        "                    self.max_treward = max(self.max_treward, treward)\n",
        "                    templ = 'episode: {:4d}/{} | treward: {:4d} | '\n",
        "                    templ += 'av: {:6.1f} | max: {:4d}'\n",
        "                    print(templ.format(e, episodes, treward, av,\n",
        "                                       self.max_treward), end='\\r')\n",
        "                    break\n",
        "            if av > 195 and self.finish:\n",
        "                print()\n",
        "                break\n",
        "\n",
        "            if len(self.memory) > self.batch_size:\n",
        "                self.replay()\n",
        "                \n",
        "    def test(self, episodes):\n",
        "        trewards = []\n",
        "        for e in range(1, episodes + 1):\n",
        "            state = env.reset()\n",
        "            for _ in range(5001):\n",
        "                state = np.reshape(state, [1, self.osn])\n",
        "                action = np.argmax(self.model.predict(state)[0])\n",
        "                next_state, reward, done, info = env.step(action)\n",
        "                state = next_state\n",
        "                if done:\n",
        "                    treward = _ + 1\n",
        "                    trewards.append(treward)\n",
        "                    #print('episode: {:4d}/{} | treward: {:4d}'\n",
        "                    #      .format(e, episodes, treward), end='\\r')\n",
        "                    print('episode: {:4d}/{} | treward: {:4d}'\n",
        "                          .format(e, episodes, treward))\n",
        "                    break\n",
        "        return trewards"
      ]
    },
    {
      "cell_type": "code",
      "execution_count": null,
      "metadata": {
        "id": "3PAzrH601MKc"
      },
      "outputs": [],
      "source": [
        "episodes = 1000"
      ]
    },
    {
      "cell_type": "code",
      "execution_count": null,
      "metadata": {
        "colab": {
          "base_uri": "https://localhost:8080/"
        },
        "id": "lzA5rR961OUh",
        "outputId": "f84da864-3160-48b0-df1d-ee9d5d55f9ef"
      },
      "outputs": [
        {
          "output_type": "stream",
          "name": "stderr",
          "text": [
            "/usr/local/lib/python3.7/dist-packages/keras/optimizer_v2/adam.py:105: UserWarning: The `lr` argument is deprecated, use `learning_rate` instead.\n",
            "  super(Adam, self).__init__(name, **kwargs)\n"
          ]
        }
      ],
      "source": [
        "set_seeds(100)\n",
        "agent = DQLAgent(finish=True)"
      ]
    },
    {
      "cell_type": "code",
      "execution_count": null,
      "metadata": {
        "colab": {
          "base_uri": "https://localhost:8080/"
        },
        "id": "99_u4I8w1Py8",
        "outputId": "82051eb7-aecd-4d25-99db-920c58ee648b"
      },
      "outputs": [
        {
          "output_type": "stream",
          "name": "stderr",
          "text": [
            "/usr/local/lib/python3.7/dist-packages/keras/engine/training_v1.py:2079: UserWarning: `Model.state_updates` will be removed in a future version. This property should not be used in TensorFlow 2.0, as `updates` are applied automatically.\n",
            "  updates=self.state_updates,\n"
          ]
        },
        {
          "output_type": "stream",
          "name": "stdout",
          "text": [
            "CPU times: user 4min 24s, sys: 10.6 s, total: 4min 35s\n",
            "Wall time: 4min 15s\n"
          ]
        }
      ],
      "source": [
        "%time agent.learn(episodes)"
      ]
    },
    {
      "cell_type": "code",
      "execution_count": null,
      "metadata": {
        "colab": {
          "base_uri": "https://localhost:8080/",
          "height": 387
        },
        "id": "aQJOw1ij1RF5",
        "outputId": "b5b4f808-d3db-46ad-900e-421bdada5e64"
      },
      "outputs": [
        {
          "output_type": "display_data",
          "data": {
            "image/png": "[encoded data removed]",
            "text/plain": [
              "<Figure size 720x432 with 1 Axes>"
            ]
          },
          "metadata": {
            "needs_background": "light"
          }
        }
      ],
      "source": [
        "plt.figure(figsize=(10, 6))\n",
        "x = range(len(agent.averages))\n",
        "y = np.polyval(np.polyfit(x, agent.averages, deg=3), x)\n",
        "plt.plot(agent.averages, label='moving average')\n",
        "plt.plot(x, y, 'r--', label='trend')\n",
        "plt.xlabel('episodes')\n",
        "plt.ylabel('total reward')\n",
        "plt.legend();"
      ]
    },
    {
      "cell_type": "code",
      "execution_count": null,
      "metadata": {
        "colab": {
          "base_uri": "https://localhost:8080/"
        },
        "id": "C7aeg3c61Srr",
        "outputId": "eb3ebf86-471c-463f-df8f-6b092401ea86"
      },
      "outputs": [
        {
          "output_type": "stream",
          "name": "stdout",
          "text": [
            "episode:    1/100 | treward:  200\n",
            "episode:    2/100 | treward:  200\n",
            "episode:    3/100 | treward:  200\n",
            "episode:    4/100 | treward:  200\n",
            "episode:    5/100 | treward:  200\n",
            "episode:    6/100 | treward:   86\n",
            "episode:    7/100 | treward:  200\n",
            "episode:    8/100 | treward:  200\n",
            "episode:    9/100 | treward:  200\n",
            "episode:   10/100 | treward:  200\n",
            "episode:   11/100 | treward:  186\n",
            "episode:   12/100 | treward:  200\n",
            "episode:   13/100 | treward:  194\n",
            "episode:   14/100 | treward:  136\n",
            "episode:   15/100 | treward:  126\n",
            "episode:   16/100 | treward:  200\n",
            "episode:   17/100 | treward:  166\n",
            "episode:   18/100 | treward:  200\n",
            "episode:   19/100 | treward:  200\n",
            "episode:   20/100 | treward:   81\n",
            "episode:   21/100 | treward:  200\n",
            "episode:   22/100 | treward:  200\n",
            "episode:   23/100 | treward:  200\n",
            "episode:   24/100 | treward:  160\n",
            "episode:   25/100 | treward:  116\n",
            "episode:   26/100 | treward:  200\n",
            "episode:   27/100 | treward:  200\n",
            "episode:   28/100 | treward:  122\n",
            "episode:   29/100 | treward:  200\n",
            "episode:   30/100 | treward:  187\n",
            "episode:   31/100 | treward:  177\n",
            "episode:   32/100 | treward:  100\n",
            "episode:   33/100 | treward:  200\n",
            "episode:   34/100 | treward:  167\n",
            "episode:   35/100 | treward:  164\n",
            "episode:   36/100 | treward:  186\n",
            "episode:   37/100 | treward:  200\n",
            "episode:   38/100 | treward:  200\n",
            "episode:   39/100 | treward:  124\n",
            "episode:   40/100 | treward:  200\n",
            "episode:   41/100 | treward:   94\n",
            "episode:   42/100 | treward:  200\n",
            "episode:   43/100 | treward:  200\n",
            "episode:   44/100 | treward:  200\n",
            "episode:   45/100 | treward:  109\n",
            "episode:   46/100 | treward:  200\n",
            "episode:   47/100 | treward:   79\n",
            "episode:   48/100 | treward:   84\n",
            "episode:   49/100 | treward:  170\n",
            "episode:   50/100 | treward:  200\n",
            "episode:   51/100 | treward:   92\n",
            "episode:   52/100 | treward:  200\n",
            "episode:   53/100 | treward:  174\n",
            "episode:   54/100 | treward:   98\n",
            "episode:   55/100 | treward:   95\n",
            "episode:   56/100 | treward:  200\n",
            "episode:   57/100 | treward:  164\n",
            "episode:   58/100 | treward:  112\n",
            "episode:   59/100 | treward:   84\n",
            "episode:   60/100 | treward:  200\n",
            "episode:   61/100 | treward:  163\n",
            "episode:   62/100 | treward:  200\n",
            "episode:   63/100 | treward:  110\n",
            "episode:   64/100 | treward:   86\n",
            "episode:   65/100 | treward:   81\n",
            "episode:   66/100 | treward:  200\n",
            "episode:   67/100 | treward:   82\n",
            "episode:   68/100 | treward:  162\n",
            "episode:   69/100 | treward:  194\n",
            "episode:   70/100 | treward:   90\n",
            "episode:   71/100 | treward:   86\n",
            "episode:   72/100 | treward:  106\n",
            "episode:   73/100 | treward:   88\n",
            "episode:   74/100 | treward:  200\n",
            "episode:   75/100 | treward:  200\n",
            "episode:   76/100 | treward:  200\n",
            "episode:   77/100 | treward:  200\n",
            "episode:   78/100 | treward:  200\n",
            "episode:   79/100 | treward:  164\n",
            "episode:   80/100 | treward:   84\n",
            "episode:   81/100 | treward:  102\n",
            "episode:   82/100 | treward:   92\n",
            "episode:   83/100 | treward:  136\n",
            "episode:   84/100 | treward:   91\n",
            "episode:   85/100 | treward:  112\n",
            "episode:   86/100 | treward:  174\n",
            "episode:   87/100 | treward:  128\n",
            "episode:   88/100 | treward:  102\n",
            "episode:   89/100 | treward:  100\n",
            "episode:   90/100 | treward:  200\n",
            "episode:   91/100 | treward:  170\n",
            "episode:   92/100 | treward:  200\n",
            "episode:   93/100 | treward:  200\n",
            "episode:   94/100 | treward:   82\n",
            "episode:   95/100 | treward:   85\n",
            "episode:   96/100 | treward:  200\n",
            "episode:   97/100 | treward:  200\n",
            "episode:   98/100 | treward:  200\n",
            "episode:   99/100 | treward:  200\n",
            "episode:  100/100 | treward:  200\n"
          ]
        }
      ],
      "source": [
        "trewards = agent.test(100)"
      ]
    },
    {
      "cell_type": "code",
      "execution_count": null,
      "metadata": {
        "colab": {
          "base_uri": "https://localhost:8080/"
        },
        "id": "onSVhRhp1UOQ",
        "outputId": "84a3dd32-8d4b-4298-867b-1a6846ccad73"
      },
      "outputs": [
        {
          "output_type": "execute_result",
          "data": {
            "text/plain": [
              "159.03"
            ]
          },
          "metadata": {},
          "execution_count": 54
        }
      ],
      "source": [
        "sum(trewards) / len(trewards)"
      ]
    },
    {
      "cell_type": "markdown",
      "metadata": {
        "id": "FbRfFI2LPf9B"
      },
      "source": [
        "## Finance Environment"
      ]
    },
    {
      "cell_type": "code",
      "execution_count": null,
      "metadata": {
        "id": "-ZnPru-DPgaH"
      },
      "outputs": [],
      "source": [
        "class observation_space:\n",
        "    def __init__(self, n):\n",
        "        self.shape = (n,)"
      ]
    },
    {
      "cell_type": "code",
      "execution_count": null,
      "metadata": {
        "id": "bSOhdO8EPjYO"
      },
      "outputs": [],
      "source": [
        "class action_space:\n",
        "    def __init__(self, n):\n",
        "        self.n = n\n",
        "    def seed(self, seed):\n",
        "        pass\n",
        "    def sample(self):\n",
        "        return random.randint(0, self.n - 1)"
      ]
    },
    {
      "cell_type": "code",
      "execution_count": null,
      "metadata": {
        "id": "B93_C44tPkyj"
      },
      "outputs": [],
      "source": [
        "class Finance:\n",
        "    url = 'http://hilpisch.com/aiif_eikon_eod_data.csv'\n",
        "    def __init__(self, symbol, features):\n",
        "        self.symbol = symbol\n",
        "        self.features = features\n",
        "        self.observation_space = observation_space(4)\n",
        "        self.osn = self.observation_space.shape[0]\n",
        "        self.action_space = action_space(2)\n",
        "        self.min_accuracy = 0.475\n",
        "        self._get_data()\n",
        "        self._prepare_data()\n",
        "    def _get_data(self):\n",
        "        self.raw = pd.read_csv(self.url, index_col=0,\n",
        "                               parse_dates=True).dropna()\n",
        "    def _prepare_data(self):\n",
        "        self.data = pd.DataFrame(self.raw[self.symbol])\n",
        "        self.data['r'] = np.log(self.data / self.data.shift(1))\n",
        "        self.data.dropna(inplace=True)\n",
        "        self.data = (self.data - self.data.mean()) / self.data.std()\n",
        "        self.data['d'] = np.where(self.data['r'] > 0, 1, 0)\n",
        "    def _get_state(self):\n",
        "        return self.data[self.features].iloc[\n",
        "            self.bar - self.osn : self.bar].values\n",
        "    def seed(self, seed=None):\n",
        "        pass\n",
        "    def reset(self):\n",
        "        self.treward = 0\n",
        "        self.accuracy = 0\n",
        "        self.bar = self.osn\n",
        "        state = self.data[self.features].iloc[\n",
        "            self.bar - self.osn:self.bar]\n",
        "        return state.values\n",
        "    def step(self, action):\n",
        "        correct = action == self.data['d'].iloc[self.bar] # check whether the agent.\n",
        "        reward = 1 if correct else 0 #Define the reward the agent received\n",
        "        self.treward += reward\n",
        "        self.bar += 1\n",
        "        self.accuracy = self.treward / (self.bar - self.osn)\n",
        "        if self.bar >= len(self.data):\n",
        "            done = True\n",
        "        elif reward == 1:\n",
        "            done = False\n",
        "\n",
        "        #If, after some initial steps, the accuracy drops under minimum level\n",
        "        elif (self.accuracy < self.min_accuracy and\n",
        "              self.bar > self.osn + 10):\n",
        "            done = True\n",
        "        else:\n",
        "            done = False\n",
        "        state = self._get_state()\n",
        "        info = {}\n",
        "        return state, reward, done, info"
      ]
    },
    {
      "cell_type": "code",
      "execution_count": null,
      "metadata": {
        "id": "bJqMXbljPnM0"
      },
      "outputs": [],
      "source": [
        "env = Finance('EUR=', 'EUR=')"
      ]
    },
    {
      "cell_type": "code",
      "execution_count": null,
      "metadata": {
        "colab": {
          "base_uri": "https://localhost:8080/"
        },
        "id": "yaJGqgBMPoo9",
        "outputId": "056c636a-dff1-4a18-e4a8-d7b33017e4f2"
      },
      "outputs": [
        {
          "output_type": "execute_result",
          "data": {
            "text/plain": [
              "array([1.819 , 1.8579, 1.7749, 1.8579])"
            ]
          },
          "metadata": {},
          "execution_count": 59
        }
      ],
      "source": [
        "env.reset()"
      ]
    },
    {
      "cell_type": "code",
      "execution_count": null,
      "metadata": {
        "colab": {
          "base_uri": "https://localhost:8080/"
        },
        "id": "RC5clzmaPp7u",
        "outputId": "106cfb78-bca3-427d-8a23-ca3a72805840"
      },
      "outputs": [
        {
          "output_type": "execute_result",
          "data": {
            "text/plain": [
              "1"
            ]
          },
          "metadata": {},
          "execution_count": 61
        }
      ],
      "source": [
        "a = env.action_space.sample()\n",
        "a"
      ]
    },
    {
      "cell_type": "code",
      "source": [
        "env.data"
      ],
      "metadata": {
        "colab": {
          "base_uri": "https://localhost:8080/",
          "height": 455
        },
        "id": "6VVtbudqfExP",
        "outputId": "e948a8a2-0b4d-44d4-f538-eb0e3d932a37"
      },
      "execution_count": null,
      "outputs": [
        {
          "output_type": "execute_result",
          "data": {
            "text/html": [
              "\n",
              "  <div id=\"df-9514a18c-d5ee-429f-a955-f684fca4bf22\">\n",
              "    <div class=\"colab-df-container\">\n",
              "      <div>\n",
              "<style scoped>\n",
              "    .dataframe tbody tr th:only-of-type {\n",
              "        vertical-align: middle;\n",
              "    }\n",
              "\n",
              "    .dataframe tbody tr th {\n",
              "        vertical-align: top;\n",
              "    }\n",
              "\n",
              "    .dataframe thead th {\n",
              "        text-align: right;\n",
              "    }\n",
              "</style>\n",
              "<table border=\"1\" class=\"dataframe\">\n",
              "  <thead>\n",
              "    <tr style=\"text-align: right;\">\n",
              "      <th></th>\n",
              "      <th>EUR=</th>\n",
              "      <th>r</th>\n",
              "      <th>d</th>\n",
              "    </tr>\n",
              "    <tr>\n",
              "      <th>Date</th>\n",
              "      <th></th>\n",
              "      <th></th>\n",
              "      <th></th>\n",
              "    </tr>\n",
              "  </thead>\n",
              "  <tbody>\n",
              "    <tr>\n",
              "      <th>2010-01-05</th>\n",
              "      <td>1.819013</td>\n",
              "      <td>-0.512515</td>\n",
              "      <td>0</td>\n",
              "    </tr>\n",
              "    <tr>\n",
              "      <th>2010-01-06</th>\n",
              "      <td>1.857863</td>\n",
              "      <td>0.560271</td>\n",
              "      <td>1</td>\n",
              "    </tr>\n",
              "    <tr>\n",
              "      <th>2010-01-07</th>\n",
              "      <td>1.774864</td>\n",
              "      <td>-1.143381</td>\n",
              "      <td>0</td>\n",
              "    </tr>\n",
              "    <tr>\n",
              "      <th>2010-01-08</th>\n",
              "      <td>1.857863</td>\n",
              "      <td>1.178824</td>\n",
              "      <td>1</td>\n",
              "    </tr>\n",
              "    <tr>\n",
              "      <th>2010-01-11</th>\n",
              "      <td>1.947043</td>\n",
              "      <td>1.256879</td>\n",
              "      <td>1</td>\n",
              "    </tr>\n",
              "    <tr>\n",
              "      <th>...</th>\n",
              "      <td>...</td>\n",
              "      <td>...</td>\n",
              "      <td>...</td>\n",
              "    </tr>\n",
              "    <tr>\n",
              "      <th>2019-12-24</th>\n",
              "      <td>-1.078007</td>\n",
              "      <td>0.033726</td>\n",
              "      <td>1</td>\n",
              "    </tr>\n",
              "    <tr>\n",
              "      <th>2019-12-26</th>\n",
              "      <td>-1.070060</td>\n",
              "      <td>0.161701</td>\n",
              "      <td>1</td>\n",
              "    </tr>\n",
              "    <tr>\n",
              "      <th>2019-12-27</th>\n",
              "      <td>-1.000306</td>\n",
              "      <td>1.276548</td>\n",
              "      <td>1</td>\n",
              "    </tr>\n",
              "    <tr>\n",
              "      <th>2019-12-30</th>\n",
              "      <td>-0.980880</td>\n",
              "      <td>0.366697</td>\n",
              "      <td>1</td>\n",
              "    </tr>\n",
              "    <tr>\n",
              "      <th>2019-12-31</th>\n",
              "      <td>-0.969402</td>\n",
              "      <td>0.223612</td>\n",
              "      <td>1</td>\n",
              "    </tr>\n",
              "  </tbody>\n",
              "</table>\n",
              "<p>2515 rows × 3 columns</p>\n",
              "</div>\n",
              "      <button class=\"colab-df-convert\" onclick=\"convertToInteractive('df-9514a18c-d5ee-429f-a955-f684fca4bf22')\"\n",
              "              title=\"Convert this dataframe to an interactive table.\"\n",
              "              style=\"display:none;\">\n",
              "        \n",
              "  <svg xmlns=\"http://www.w3.org/2000/svg\" height=\"24px\"viewBox=\"0 0 24 24\"\n",
              "       width=\"24px\">\n",
              "    <path d=\"M0 0h24v24H0V0z\" fill=\"none\"/>\n",
              "    <path d=\"M18.56 5.44l.94 2.06.94-2.06 2.06-.94-2.06-.94-.94-2.06-.94 2.06-2.06.94zm-11 1L8.5 8.5l.94-2.06 2.06-.94-2.06-.94L8.5 2.5l-.94 2.06-2.06.94zm10 10l.94 2.06.94-2.06 2.06-.94-2.06-.94-.94-2.06-.94 2.06-2.06.94z\"/><path d=\"M17.41 7.96l-1.37-1.37c-.4-.4-.92-.59-1.43-.59-.52 0-1.04.2-1.43.59L10.3 9.45l-7.72 7.72c-.78.78-.78 2.05 0 2.83L4 21.41c.39.39.9.59 1.41.59.51 0 1.02-.2 1.41-.59l7.78-7.78 2.81-2.81c.8-.78.8-2.07 0-2.86zM5.41 20L4 18.59l7.72-7.72 1.47 1.35L5.41 20z\"/>\n",
              "  </svg>\n",
              "      </button>\n",
              "      \n",
              "  <style>\n",
              "    .colab-df-container {\n",
              "      display:flex;\n",
              "      flex-wrap:wrap;\n",
              "      gap: 12px;\n",
              "    }\n",
              "\n",
              "    .colab-df-convert {\n",
              "      background-color: #E8F0FE;\n",
              "      border: none;\n",
              "      border-radius: 50%;\n",
              "      cursor: pointer;\n",
              "      display: none;\n",
              "      fill: #1967D2;\n",
              "      height: 32px;\n",
              "      padding: 0 0 0 0;\n",
              "      width: 32px;\n",
              "    }\n",
              "\n",
              "    .colab-df-convert:hover {\n",
              "      background-color: #E2EBFA;\n",
              "      box-shadow: 0px 1px 2px rgba(60, 64, 67, 0.3), 0px 1px 3px 1px rgba(60, 64, 67, 0.15);\n",
              "      fill: #174EA6;\n",
              "    }\n",
              "\n",
              "    [theme=dark] .colab-df-convert {\n",
              "      background-color: #3B4455;\n",
              "      fill: #D2E3FC;\n",
              "    }\n",
              "\n",
              "    [theme=dark] .colab-df-convert:hover {\n",
              "      background-color: #434B5C;\n",
              "      box-shadow: 0px 1px 3px 1px rgba(0, 0, 0, 0.15);\n",
              "      filter: drop-shadow(0px 1px 2px rgba(0, 0, 0, 0.3));\n",
              "      fill: #FFFFFF;\n",
              "    }\n",
              "  </style>\n",
              "\n",
              "      <script>\n",
              "        const buttonEl =\n",
              "          document.querySelector('#df-9514a18c-d5ee-429f-a955-f684fca4bf22 button.colab-df-convert');\n",
              "        buttonEl.style.display =\n",
              "          google.colab.kernel.accessAllowed ? 'block' : 'none';\n",
              "\n",
              "        async function convertToInteractive(key) {\n",
              "          const element = document.querySelector('#df-9514a18c-d5ee-429f-a955-f684fca4bf22');\n",
              "          const dataTable =\n",
              "            await google.colab.kernel.invokeFunction('convertToInteractive',\n",
              "                                                     [key], {});\n",
              "          if (!dataTable) return;\n",
              "\n",
              "          const docLinkHtml = 'Like what you see? Visit the ' +\n",
              "            '<a target=\"_blank\" href=https://colab.research.google.com/notebooks/data_table.ipynb>data table notebook</a>'\n",
              "            + ' to learn more about interactive tables.';\n",
              "          element.innerHTML = '';\n",
              "          dataTable['output_type'] = 'display_data';\n",
              "          await google.colab.output.renderOutput(dataTable, element);\n",
              "          const docLink = document.createElement('div');\n",
              "          docLink.innerHTML = docLinkHtml;\n",
              "          element.appendChild(docLink);\n",
              "        }\n",
              "      </script>\n",
              "    </div>\n",
              "  </div>\n",
              "  "
            ],
            "text/plain": [
              "                EUR=         r  d\n",
              "Date                             \n",
              "2010-01-05  1.819013 -0.512515  0\n",
              "2010-01-06  1.857863  0.560271  1\n",
              "2010-01-07  1.774864 -1.143381  0\n",
              "2010-01-08  1.857863  1.178824  1\n",
              "2010-01-11  1.947043  1.256879  1\n",
              "...              ...       ... ..\n",
              "2019-12-24 -1.078007  0.033726  1\n",
              "2019-12-26 -1.070060  0.161701  1\n",
              "2019-12-27 -1.000306  1.276548  1\n",
              "2019-12-30 -0.980880  0.366697  1\n",
              "2019-12-31 -0.969402  0.223612  1\n",
              "\n",
              "[2515 rows x 3 columns]"
            ]
          },
          "metadata": {},
          "execution_count": 62
        }
      ]
    },
    {
      "cell_type": "code",
      "execution_count": null,
      "metadata": {
        "colab": {
          "base_uri": "https://localhost:8080/"
        },
        "id": "974cM4ASPrZW",
        "outputId": "d78b3ee8-b139-4d73-e97b-68e0c3b2137a"
      },
      "outputs": [
        {
          "output_type": "execute_result",
          "data": {
            "text/plain": [
              "(array([1.8579, 1.7749, 1.8579, 1.947 ]), 1, False, {})"
            ]
          },
          "metadata": {},
          "execution_count": 63
        }
      ],
      "source": [
        "env.step(a)"
      ]
    },
    {
      "cell_type": "code",
      "execution_count": null,
      "metadata": {
        "colab": {
          "base_uri": "https://localhost:8080/"
        },
        "id": "gc6DvK1gPsrk",
        "outputId": "49a9166d-cf9a-4709-f438-1d776e4ae0e0"
      },
      "outputs": [
        {
          "output_type": "stream",
          "name": "stderr",
          "text": [
            "/usr/local/lib/python3.7/dist-packages/keras/optimizer_v2/rmsprop.py:130: UserWarning: The `lr` argument is deprecated, use `learning_rate` instead.\n",
            "  super(RMSprop, self).__init__(name, **kwargs)\n"
          ]
        }
      ],
      "source": [
        "set_seeds(100)\n",
        "agent = DQLAgent(gamma=0.5, opt=RMSprop)"
      ]
    },
    {
      "cell_type": "code",
      "execution_count": null,
      "metadata": {
        "id": "2ideq8f1PuVo"
      },
      "outputs": [],
      "source": [
        "episodes = 1000"
      ]
    },
    {
      "cell_type": "code",
      "execution_count": null,
      "metadata": {
        "colab": {
          "base_uri": "https://localhost:8080/"
        },
        "id": "d4SGoHiePv8d",
        "outputId": "7b3d66b1-25e6-4488-93df-3cf137446f12"
      },
      "outputs": [
        {
          "output_type": "stream",
          "name": "stdout",
          "text": [
            ""
          ]
        },
        {
          "output_type": "stream",
          "name": "stderr",
          "text": [
            "/usr/local/lib/python3.7/dist-packages/keras/engine/training_v1.py:2079: UserWarning: `Model.state_updates` will be removed in a future version. This property should not be used in TensorFlow 2.0, as `updates` are applied automatically.\n",
            "  updates=self.state_updates,\n"
          ]
        },
        {
          "output_type": "stream",
          "name": "stdout",
          "text": [
            "CPU times: user 27min 43s, sys: 54.9 s, total: 28min 37s\n",
            "Wall time: 26min 36s\n"
          ]
        }
      ],
      "source": [
        "%time agent.learn(episodes)"
      ]
    },
    {
      "cell_type": "code",
      "execution_count": null,
      "metadata": {
        "colab": {
          "base_uri": "https://localhost:8080/"
        },
        "id": "YuzliqSBP0ty",
        "outputId": "c3a8b2fb-b0bf-4e55-cca4-5681fb57ede0"
      },
      "outputs": [
        {
          "output_type": "stream",
          "name": "stdout",
          "text": [
            "episode:    1/3 | treward:   11\n",
            "episode:    2/3 | treward:   11\n",
            "episode:    3/3 | treward:   11\n"
          ]
        },
        {
          "output_type": "execute_result",
          "data": {
            "text/plain": [
              "[11, 11, 11]"
            ]
          },
          "metadata": {},
          "execution_count": 72
        }
      ],
      "source": [
        "agent.test(3)"
      ]
    },
    {
      "cell_type": "code",
      "execution_count": null,
      "metadata": {
        "colab": {
          "base_uri": "https://localhost:8080/",
          "height": 387
        },
        "id": "Rt30QDGdP2WD",
        "outputId": "1a6d482e-cfa5-42dd-dc3a-018b542d4574"
      },
      "outputs": [
        {
          "output_type": "display_data",
          "data": {
            "image/png": "[encoded data removed]",
            "text/plain": [
              "<Figure size 720x432 with 1 Axes>"
            ]
          },
          "metadata": {
            "needs_background": "light"
          }
        }
      ],
      "source": [
        "plt.figure(figsize=(10, 6))\n",
        "x = range(len(agent.averages))\n",
        "y = np.polyval(np.polyfit(x, agent.averages, deg=3), x)\n",
        "plt.plot(agent.averages, label='moving average')\n",
        "plt.plot(x, y, 'r--', label='regression')\n",
        "plt.xlabel('episodes')\n",
        "plt.ylabel('average t reward (inter-env)')\n",
        "plt.legend();"
      ]
    },
    {
      "cell_type": "code",
      "execution_count": null,
      "metadata": {
        "id": "LwqMpKn2P6V4"
      },
      "outputs": [],
      "source": [
        ""
      ]
    }
  ],
  "metadata": {
    "colab": {
      "collapsed_sections": [],
      "name": "09_reinforcement_learning_a.ipynb",
      "provenance": [],
      "authorship_tag": "ABX9TyNCeD2nu0Q1Bj29shZMsF+D",
      "include_colab_link": true
    },
    "kernelspec": {
      "display_name": "Python 3",
      "name": "python3"
    },
    "language_info": {
      "name": "python"
    }
  },
  "nbformat": 4,
  "nbformat_minor": 0
}