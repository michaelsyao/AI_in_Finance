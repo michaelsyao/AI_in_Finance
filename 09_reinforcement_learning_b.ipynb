{
  "nbformat": 4,
  "nbformat_minor": 0,
  "metadata": {
    "colab": {
      "name": "09_reinforcement_learning_b.ipynb",
      "provenance": [],
      "collapsed_sections": [],
      "authorship_tag": "ABX9TyPSOzA/myUK71TGGQhYDkck",
      "include_colab_link": true
    },
    "kernelspec": {
      "name": "python3",
      "display_name": "Python 3"
    },
    "language_info": {
      "name": "python"
    }
  },
  "cells": [
    {
      "cell_type": "markdown",
      "metadata": {
        "id": "view-in-github",
        "colab_type": "text"
      },
      "source": [
        "<a href=\"https://colab.research.google.com/github/michaelsyao/AI_in_Finance/blob/main/09_reinforcement_learning_b.ipynb\" target=\"_parent\"><img src=\"https://colab.research.google.com/assets/colab-badge.svg\" alt=\"Open In Colab\"/></a>"
      ]
    },
    {
      "cell_type": "markdown",
      "source": [
        "## Imports"
      ],
      "metadata": {
        "id": "0OJGc1i7nArX"
      }
    },
    {
      "cell_type": "code",
      "source": [
        "import os\n",
        "import math\n",
        "import random\n",
        "import numpy as np\n",
        "import pandas as pd\n",
        "from pylab import plt, mpl\n",
        "plt.style.use('seaborn')\n",
        "mpl.rcParams['savefig.dpi'] = 300\n",
        "mpl.rcParams['font.family'] = 'serif'\n",
        "np.set_printoptions(precision=4, suppress=True)\n",
        "os.environ['PYTHONHASHSEED'] = '0'"
      ],
      "metadata": {
        "id": "h7Sz71arnBal"
      },
      "execution_count": 1,
      "outputs": []
    },
    {
      "cell_type": "code",
      "source": [
        "import logging\n",
        "import tensorflow as tf\n",
        "tf.get_logger().setLevel(logging.ERROR)"
      ],
      "metadata": {
        "id": "WUQAV-EunDxf"
      },
      "execution_count": 71,
      "outputs": []
    },
    {
      "cell_type": "code",
      "source": [
        "from tensorflow.python.framework.ops import disable_eager_execution\n",
        "#disable_eager_execution()"
      ],
      "metadata": {
        "id": "oWje-BhtnFQN"
      },
      "execution_count": 48,
      "outputs": []
    },
    {
      "cell_type": "code",
      "source": [
        "from keras.layers import Dense, Dropout\n",
        "from keras.models import Sequential\n",
        "from tensorflow.keras.optimizers import Adam, RMSprop\n",
        "from sklearn.metrics import accuracy_score"
      ],
      "metadata": {
        "id": "4xjc0pZBnGqR"
      },
      "execution_count": 49,
      "outputs": []
    },
    {
      "cell_type": "code",
      "source": [
        "def set_seeds(seed=100):\n",
        "    random.seed(seed)\n",
        "    np.random.seed(seed)\n",
        "    tf.random.set_seed(seed)\n",
        "    env.seed(seed)\n",
        "    env.action_space.seed(100)"
      ],
      "metadata": {
        "id": "yOXA8j5RnH74"
      },
      "execution_count": 50,
      "outputs": []
    },
    {
      "cell_type": "markdown",
      "source": [
        "## Improved Finance Environment"
      ],
      "metadata": {
        "id": "zsDn2-xzqU30"
      }
    },
    {
      "cell_type": "code",
      "source": [
        "class observation_space:\n",
        "    def __init__(self, n):\n",
        "        self.shape = (n,)"
      ],
      "metadata": {
        "id": "6qurPRo2qWt_"
      },
      "execution_count": 51,
      "outputs": []
    },
    {
      "cell_type": "code",
      "source": [
        "class action_space:\n",
        "    def __init__(self, n):\n",
        "        self.n = n\n",
        "    def seed(self, seed):\n",
        "        pass\n",
        "    def sample(self):\n",
        "        return random.randint(0, self.n - 1)"
      ],
      "metadata": {
        "id": "QAWrWYWCqZQj"
      },
      "execution_count": 52,
      "outputs": []
    },
    {
      "cell_type": "code",
      "source": [
        "class Finance:\n",
        "    url = 'http://hilpisch.com/aiif_eikon_eod_data.csv'\n",
        "    def __init__(self, symbol, features, window, lags,\n",
        "                 leverage=1, min_performance=0.85,\n",
        "                 start=0, end=None, mu=None, std=None):\n",
        "        self.symbol = symbol\n",
        "        self.features = features\n",
        "        self.n_features = len(features)\n",
        "        self.window = window\n",
        "        self.lags = lags\n",
        "        self.leverage = leverage\n",
        "        self.min_performance = min_performance\n",
        "        self.start = start\n",
        "        self.end = end\n",
        "        self.mu = mu\n",
        "        self.std = std\n",
        "        self.observation_space = observation_space(self.lags)\n",
        "        self.action_space = action_space(2)\n",
        "        self._get_data()\n",
        "        self._prepare_data()\n",
        "    def _get_data(self):\n",
        "        self.raw = pd.read_csv(self.url, index_col=0,\n",
        "                               parse_dates=True).dropna()\n",
        "    def _prepare_data(self):\n",
        "        self.data = pd.DataFrame(self.raw[self.symbol])\n",
        "        self.data = self.data.iloc[self.start:]\n",
        "        self.data['r'] = np.log(self.data / self.data.shift(1))\n",
        "        self.data.dropna(inplace=True)\n",
        "        self.data['s'] = self.data[self.symbol].rolling(\n",
        "                                              self.window).mean() \n",
        "        self.data['m'] = self.data['r'].rolling(self.window).mean()\n",
        "        self.data['v'] = self.data['r'].rolling(self.window).std()\n",
        "        self.data.dropna(inplace=True)\n",
        "\n",
        "        if self.mu is None:\n",
        "            self.mu = self.data.mean()\n",
        "            self.std = self.data.std()\n",
        "\n",
        "        self.data_ = (self.data - self.mu) / self.std\n",
        "\n",
        "        self.data_['d'] = np.where(self.data['r'] > 0, 1, 0)\n",
        "        self.data_['d'] = self.data_['d'].astype(int)\n",
        "\n",
        "        if self.end is not None:\n",
        "            self.data = self.data.iloc[:self.end - self.start]\n",
        "            self.data_ = self.data_.iloc[:self.end - self.start]\n",
        "\n",
        "    def _get_state(self):\n",
        "        return self.data_[self.features].iloc[self.bar - self.lags:self.bar]\n",
        "                                          # [6-6: 6]\n",
        "                                          # [7-6: 7]\n",
        "\n",
        "    def seed(self, seed):\n",
        "        random.seed(seed)\n",
        "        np.random.seed(seed)\n",
        "\n",
        "    def reset(self):\n",
        "        self.treward = 0\n",
        "        self.accuracy = 0\n",
        "        self.performance = 1\n",
        "        self.bar = self.lags\n",
        "        state = self.data_[self.features].iloc[self.bar- self.lags:self.bar]\n",
        "\n",
        "        return state.values\n",
        "\n",
        "    def step(self, action):\n",
        "        correct = action == self.data_['d'].iloc[self.bar]\n",
        "                # correct = TRUE or FALSE\n",
        "\n",
        "        ret = self.data['r'].iloc[self.bar] * self.leverage\n",
        "\n",
        "        reward_1 = 1 if correct else 0\n",
        "        reward_2 = abs(ret) if correct else -abs(ret)\n",
        "\n",
        "        factor = 1 if correct else -1\n",
        "\n",
        "        self.treward += reward_1\n",
        "        self.bar += 1\n",
        "\n",
        "        self.accuracy = self.treward / (self.bar - self.lags)\n",
        "\n",
        "        self.performance *= math.exp(reward_2)\n",
        "\n",
        "        if self.bar >= len(self.data):\n",
        "            done = True\n",
        "\n",
        "        elif reward_1 == 1:\n",
        "            done = False\n",
        "\n",
        "        elif (self.performance < self.min_performance and\n",
        "              self.bar > self.lags + 5):\n",
        "            done = True\n",
        "        else:\n",
        "            done = False\n",
        "            \n",
        "        state = self._get_state()\n",
        "        info = {}\n",
        "        return state.values, reward_1 + reward_2 * 5, done, info"
      ],
      "metadata": {
        "id": "YJR5-EsQuhPU"
      },
      "execution_count": 53,
      "outputs": []
    },
    {
      "cell_type": "code",
      "source": [
        "env = Finance('EUR=', ['EUR=', 'r'], 10, 5)"
      ],
      "metadata": {
        "id": "hhFPFURnYRGx"
      },
      "execution_count": 54,
      "outputs": []
    },
    {
      "cell_type": "code",
      "source": [
        "a = env.action_space.sample()\n",
        "a"
      ],
      "metadata": {
        "colab": {
          "base_uri": "https://localhost:8080/"
        },
        "id": "7Y6H2bSni6Ih",
        "outputId": "5ac0dd30-49aa-4899-d534-ff8762b07b4c"
      },
      "execution_count": 55,
      "outputs": [
        {
          "output_type": "execute_result",
          "data": {
            "text/plain": [
              "0"
            ]
          },
          "metadata": {},
          "execution_count": 55
        }
      ]
    },
    {
      "cell_type": "code",
      "source": [
        "env.reset()"
      ],
      "metadata": {
        "colab": {
          "base_uri": "https://localhost:8080/"
        },
        "id": "NrdHi7irjBW8",
        "outputId": "d12d0316-6d47-40e7-b7cc-86f5987f32a8"
      },
      "execution_count": 56,
      "outputs": [
        {
          "output_type": "execute_result",
          "data": {
            "text/plain": [
              "array([[ 1.7721, -1.0214],\n",
              "       [ 1.5973, -2.4432],\n",
              "       [ 1.5876, -0.1208],\n",
              "       [ 1.6292,  0.6083],\n",
              "       [ 1.6408,  0.1807]])"
            ]
          },
          "metadata": {},
          "execution_count": 56
        }
      ]
    },
    {
      "cell_type": "code",
      "source": [
        "env.step(a)"
      ],
      "metadata": {
        "colab": {
          "base_uri": "https://localhost:8080/"
        },
        "id": "xZADDLZrjDFq",
        "outputId": "8d6c490b-8b1d-47f0-d0bf-27ab33d88bbc"
      },
      "execution_count": 57,
      "outputs": [
        {
          "output_type": "execute_result",
          "data": {
            "text/plain": [
              "(array([[ 1.5973, -2.4432],\n",
              "        [ 1.5876, -0.1208],\n",
              "        [ 1.6292,  0.6083],\n",
              "        [ 1.6408,  0.1807],\n",
              "        [ 1.5725, -0.9502]]), 1.0272827803740798, False, {})"
            ]
          },
          "metadata": {},
          "execution_count": 57
        }
      ]
    },
    {
      "cell_type": "markdown",
      "source": [
        "## Improved Financial QL Agent"
      ],
      "metadata": {
        "id": "IE_4msqrjNXv"
      }
    },
    {
      "cell_type": "code",
      "source": [
        "from collections import deque"
      ],
      "metadata": {
        "id": "-T_x0vucjN2O"
      },
      "execution_count": 58,
      "outputs": []
    },
    {
      "cell_type": "code",
      "source": [
        "class FQLAgent:\n",
        "    def __init__(self, hidden_units, learning_rate, learn_env, valid_env):\n",
        "        self.learn_env = learn_env\n",
        "        self.valid_env = valid_env\n",
        "        self.epsilon = 1.0\n",
        "        self.epsilon_min = 0.1\n",
        "        self.epsilon_decay = 0.98\n",
        "        self.learning_rate = learning_rate\n",
        "        self.gamma = 0.95\n",
        "        self.batch_size = 128\n",
        "        self.max_treward = 0\n",
        "        self.trewards = list()\n",
        "        self.averages = list()\n",
        "        self.performances = list()\n",
        "        self.aperformances = list()\n",
        "        self.vperformances = list()\n",
        "        self.memory = deque(maxlen=2000)\n",
        "        self.model = self._build_model(hidden_units, learning_rate)\n",
        "        \n",
        "    def _build_model(self, hu, lr):\n",
        "        model = Sequential()\n",
        "        model.add(Dense(hu, input_shape=(\n",
        "            self.learn_env.lags, self.learn_env.n_features),\n",
        "                        activation='relu'))\n",
        "        model.add(Dropout(0.3, seed=100))\n",
        "        model.add(Dense(hu, activation='relu'))\n",
        "        model.add(Dropout(0.3, seed=100))\n",
        "        model.add(Dense(2, activation='linear'))\n",
        "        model.compile(\n",
        "            loss='mse',\n",
        "            optimizer=RMSprop(lr=lr)\n",
        "        )\n",
        "        return model\n",
        "        \n",
        "    def act(self, state):\n",
        "        if random.random() <= self.epsilon:\n",
        "            return self.learn_env.action_space.sample()\n",
        "        action = self.model.predict(state)[0, 0]\n",
        "        return np.argmax(action)\n",
        "    \n",
        "    def replay(self):\n",
        "        batch = random.sample(self.memory, self.batch_size)\n",
        "        for state, action, reward, next_state, done in batch:\n",
        "            if not done:\n",
        "                reward += self.gamma * np.amax(\n",
        "                    self.model.predict(next_state)[0, 0])\n",
        "            target = self.model.predict(state)\n",
        "            target[0, 0, action] = reward\n",
        "            self.model.fit(state, target, epochs=1,\n",
        "                           verbose=False)\n",
        "        if self.epsilon > self.epsilon_min:\n",
        "            self.epsilon *= self.epsilon_decay\n",
        "    \n",
        "    def learn(self, episodes):\n",
        "        for e in range(1, episodes + 1):\n",
        "            state = self.learn_env.reset()\n",
        "            state = np.reshape(state, [1, self.learn_env.lags,\n",
        "                                       self.learn_env.n_features])\n",
        "            for _ in range(10000):\n",
        "                action = self.act(state)\n",
        "                next_state, reward, done, info = \\\n",
        "                                self.learn_env.step(action)\n",
        "                next_state = np.reshape(next_state,\n",
        "                                [1, self.learn_env.lags,\n",
        "                                 self.learn_env.n_features])\n",
        "                self.memory.append([state, action, reward,\n",
        "                                     next_state, done])\n",
        "                state = next_state\n",
        "                if done:\n",
        "                    treward = _ + 1\n",
        "                    self.trewards.append(treward)\n",
        "                    av = sum(self.trewards[-25:]) / 25\n",
        "                    perf = self.learn_env.performance\n",
        "\n",
        "                    self.averages.append(av)\n",
        "                    self.performances.append(perf)\n",
        "                    self.aperformances.append(\n",
        "                        sum(self.performances[-25:]) / 25)\n",
        "                    self.max_treward = max(self.max_treward, treward)\n",
        "\n",
        "                    templ = 'episode: {:2d}/{} | treward: {:4d} | '\n",
        "                    templ += 'perf: {:5.3f} | av: {:5.1f} | max: {:4d}| eps: {:.2f}'\n",
        "                    # print(templ.format(e, episodes, treward, perf,\n",
        "                    #               av, self.max_treward), end='\\r')\n",
        "                    print(templ.format(e, episodes, treward, perf,\n",
        "                                  av, self.max_treward, self.epsilon))\n",
        "                    break\n",
        "            self.validate(e, episodes)\n",
        "            \n",
        "            if len(self.memory) > self.batch_size:\n",
        "                self.replay()\n",
        "\n",
        "    def validate(self, e, episodes):\n",
        "        state = self.valid_env.reset()\n",
        "        state = np.reshape(state, [1, self.valid_env.lags,\n",
        "                                   self.valid_env.n_features])\n",
        "        for _ in range(10000):\n",
        "            action = np.argmax(self.model.predict(state)[0, 0])\n",
        "            next_state, reward, done, info = self.valid_env.step(action)\n",
        "            state = np.reshape(next_state, [1, self.valid_env.lags,\n",
        "                                   self.valid_env.n_features])\n",
        "            if done:\n",
        "                treward = _ + 1\n",
        "                perf = self.valid_env.performance\n",
        "                self.vperformances.append(perf)\n",
        "                if e % 5 == 0:\n",
        "                    templ = 71 * '='\n",
        "                    templ += '\\nepisode: {:2d}/{} | VALIDATION | '\n",
        "                    templ += 'treward: {:4d} | perf: {:5.3f} | '\n",
        "                    templ += 'eps: {:.2f}\\n'\n",
        "                    templ += 71 * '='\n",
        "                    print(templ.format(e, episodes, treward,\n",
        "                                       perf, self.epsilon))\n",
        "                break"
      ],
      "metadata": {
        "id": "jb5N9SOdjRAb"
      },
      "execution_count": 89,
      "outputs": []
    },
    {
      "cell_type": "code",
      "source": [
        "symbol = 'EUR='\n",
        "features = [symbol, 'r', 's', 'm', 'v']"
      ],
      "metadata": {
        "id": "u5NXNCDejUCS"
      },
      "execution_count": 76,
      "outputs": []
    },
    {
      "cell_type": "code",
      "source": [
        "a = 0\n",
        "b = 2000\n",
        "c = 500"
      ],
      "metadata": {
        "id": "3LOd3jBdoWoO"
      },
      "execution_count": 77,
      "outputs": []
    },
    {
      "cell_type": "code",
      "source": [
        "learn_env = Finance(symbol, features, window=10, lags=6,\n",
        "                 leverage=1, min_performance=0.85,\n",
        "                 start=a, end=a + b, mu=None, std=None)"
      ],
      "metadata": {
        "id": "IOFyojceoYCY"
      },
      "execution_count": 78,
      "outputs": []
    },
    {
      "cell_type": "code",
      "source": [
        "learn_env.data.info()"
      ],
      "metadata": {
        "colab": {
          "base_uri": "https://localhost:8080/"
        },
        "id": "N1WDFDxnoZZY",
        "outputId": "331bf0d8-0de0-4174-877d-991c25549806"
      },
      "execution_count": 79,
      "outputs": [
        {
          "output_type": "stream",
          "name": "stdout",
          "text": [
            "<class 'pandas.core.frame.DataFrame'>\n",
            "DatetimeIndex: 2000 entries, 2010-01-19 to 2017-12-26\n",
            "Data columns (total 5 columns):\n",
            " #   Column  Non-Null Count  Dtype  \n",
            "---  ------  --------------  -----  \n",
            " 0   EUR=    2000 non-null   float64\n",
            " 1   r       2000 non-null   float64\n",
            " 2   s       2000 non-null   float64\n",
            " 3   m       2000 non-null   float64\n",
            " 4   v       2000 non-null   float64\n",
            "dtypes: float64(5)\n",
            "memory usage: 93.8 KB\n"
          ]
        }
      ]
    },
    {
      "cell_type": "code",
      "source": [
        "valid_env = Finance(symbol, features, window=learn_env.window,\n",
        "                 lags=learn_env.lags, leverage=learn_env.leverage,\n",
        "                 min_performance=learn_env.min_performance,\n",
        "                 start=a + b, end=a + b + c,\n",
        "                 mu=learn_env.mu, std=learn_env.std)"
      ],
      "metadata": {
        "id": "_lkBYmLVoaq0"
      },
      "execution_count": 80,
      "outputs": []
    },
    {
      "cell_type": "code",
      "source": [
        "valid_env.data.info()"
      ],
      "metadata": {
        "colab": {
          "base_uri": "https://localhost:8080/"
        },
        "id": "K1Ovokyyoc4c",
        "outputId": "1a8e8550-b557-4b94-a67a-6307626c11bb"
      },
      "execution_count": 81,
      "outputs": [
        {
          "output_type": "stream",
          "name": "stdout",
          "text": [
            "<class 'pandas.core.frame.DataFrame'>\n",
            "DatetimeIndex: 500 entries, 2017-12-27 to 2019-12-20\n",
            "Data columns (total 5 columns):\n",
            " #   Column  Non-Null Count  Dtype  \n",
            "---  ------  --------------  -----  \n",
            " 0   EUR=    500 non-null    float64\n",
            " 1   r       500 non-null    float64\n",
            " 2   s       500 non-null    float64\n",
            " 3   m       500 non-null    float64\n",
            " 4   v       500 non-null    float64\n",
            "dtypes: float64(5)\n",
            "memory usage: 23.4 KB\n"
          ]
        }
      ]
    },
    {
      "cell_type": "code",
      "source": [
        "set_seeds(100)\n",
        "agent = FQLAgent(24, 0.0001, learn_env, valid_env)"
      ],
      "metadata": {
        "colab": {
          "base_uri": "https://localhost:8080/"
        },
        "id": "PZMkwIvVogBE",
        "outputId": "766d7cd0-e9ed-426a-ead6-6086542bdb63"
      },
      "execution_count": 86,
      "outputs": [
        {
          "output_type": "stream",
          "name": "stderr",
          "text": [
            "/usr/local/lib/python3.7/dist-packages/keras/optimizer_v2/rmsprop.py:130: UserWarning: The `lr` argument is deprecated, use `learning_rate` instead.\n",
            "  super(RMSprop, self).__init__(name, **kwargs)\n"
          ]
        }
      ]
    },
    {
      "cell_type": "code",
      "source": [
        "episodes = 61"
      ],
      "metadata": {
        "id": "0dfCQAPvohz7"
      },
      "execution_count": 87,
      "outputs": []
    },
    {
      "cell_type": "code",
      "source": [
        "%time agent.learn(episodes)"
      ],
      "metadata": {
        "colab": {
          "base_uri": "https://localhost:8080/"
        },
        "id": "xCTlneobojbU",
        "outputId": "52cb4c21-0582-4cd8-e862-1acb7381ab09"
      },
      "execution_count": 88,
      "outputs": [
        {
          "output_type": "stream",
          "name": "stdout",
          "text": [
            "episode:  1/61 | treward:  210 | perf: 0.846 | av:   8.4 | max:  210| eps: 1.00\n"
          ]
        },
        {
          "output_type": "stream",
          "name": "stderr",
          "text": [
            "/usr/local/lib/python3.7/dist-packages/keras/engine/training_v1.py:2079: UserWarning: `Model.state_updates` will be removed in a future version. This property should not be used in TensorFlow 2.0, as `updates` are applied automatically.\n",
            "  updates=self.state_updates,\n"
          ]
        },
        {
          "output_type": "stream",
          "name": "stdout",
          "text": [
            "episode:  2/61 | treward:  137 | perf: 0.830 | av:  13.9 | max:  210| eps: 0.98\n",
            "episode:  3/61 | treward: 1323 | perf: 0.849 | av:  66.8 | max: 1323| eps: 0.96\n",
            "episode:  4/61 | treward: 1994 | perf: 1.102 | av: 146.6 | max: 1994| eps: 0.94\n",
            "episode:  5/61 | treward:  157 | perf: 0.850 | av: 152.8 | max: 1994| eps: 0.92\n",
            "episode:  6/61 | treward: 1994 | perf: 1.109 | av: 232.6 | max: 1994| eps: 0.90\n",
            "episode:  7/61 | treward:  170 | perf: 0.845 | av: 239.4 | max: 1994| eps: 0.89\n",
            "episode:  8/61 | treward: 1969 | perf: 0.849 | av: 318.2 | max: 1994| eps: 0.87\n",
            "episode:  9/61 | treward:  430 | perf: 0.849 | av: 335.4 | max: 1994| eps: 0.85\n",
            "episode: 10/61 | treward:  121 | perf: 0.848 | av: 340.2 | max: 1994| eps: 0.83\n",
            "episode: 11/61 | treward: 1994 | perf: 1.684 | av: 420.0 | max: 1994| eps: 0.82\n",
            "episode: 12/61 | treward: 1994 | perf: 1.459 | av: 499.7 | max: 1994| eps: 0.80\n",
            "episode: 13/61 | treward: 1994 | perf: 1.104 | av: 579.5 | max: 1994| eps: 0.78\n",
            "episode: 14/61 | treward: 1994 | perf: 0.957 | av: 659.2 | max: 1994| eps: 0.77\n",
            "episode: 15/61 | treward: 1966 | perf: 0.848 | av: 737.9 | max: 1994| eps: 0.75\n",
            "episode: 16/61 | treward: 1994 | perf: 1.034 | av: 817.6 | max: 1994| eps: 0.74\n",
            "episode: 17/61 | treward: 1994 | perf: 1.139 | av: 897.4 | max: 1994| eps: 0.72\n",
            "episode: 18/61 | treward: 1994 | perf: 1.487 | av: 977.2 | max: 1994| eps: 0.71\n",
            "episode: 19/61 | treward: 1994 | perf: 0.946 | av: 1056.9 | max: 1994| eps: 0.70\n",
            "episode: 20/61 | treward: 1243 | perf: 0.845 | av: 1106.6 | max: 1994| eps: 0.68\n",
            "=======================================================================\n",
            "episode: 20/61 | VALIDATION | treward:  494 | perf: 1.105 | eps: 0.68\n",
            "=======================================================================\n",
            "episode: 21/61 | treward: 1994 | perf: 0.936 | av: 1186.4 | max: 1994| eps: 0.67\n",
            "episode: 22/61 | treward: 1877 | perf: 0.849 | av: 1261.5 | max: 1994| eps: 0.65\n",
            "episode: 23/61 | treward: 1384 | perf: 0.848 | av: 1316.8 | max: 1994| eps: 0.64\n",
            "episode: 24/61 | treward: 1994 | perf: 1.391 | av: 1396.6 | max: 1994| eps: 0.63\n",
            "episode: 25/61 | treward: 1994 | perf: 0.992 | av: 1476.4 | max: 1994| eps: 0.62\n",
            "episode: 26/61 | treward: 1994 | perf: 1.483 | av: 1547.7 | max: 1994| eps: 0.60\n",
            "episode: 27/61 | treward:  772 | perf: 0.850 | av: 1573.1 | max: 1994| eps: 0.59\n",
            "episode: 28/61 | treward: 1994 | perf: 1.122 | av: 1600.0 | max: 1994| eps: 0.58\n",
            "episode: 29/61 | treward: 1994 | perf: 1.003 | av: 1600.0 | max: 1994| eps: 0.57\n",
            "episode: 30/61 | treward: 1994 | perf: 1.205 | av: 1673.4 | max: 1994| eps: 0.56\n",
            "episode: 31/61 | treward: 1994 | perf: 1.616 | av: 1673.4 | max: 1994| eps: 0.55\n",
            "episode: 32/61 | treward: 1994 | perf: 1.059 | av: 1746.4 | max: 1994| eps: 0.53\n",
            "episode: 33/61 | treward: 1994 | perf: 1.162 | av: 1747.4 | max: 1994| eps: 0.52\n",
            "episode: 34/61 | treward:  118 | perf: 0.844 | av: 1734.9 | max: 1994| eps: 0.51\n",
            "episode: 35/61 | treward: 1994 | perf: 1.410 | av: 1809.8 | max: 1994| eps: 0.50\n",
            "episode: 36/61 | treward: 1994 | perf: 1.066 | av: 1809.8 | max: 1994| eps: 0.49\n",
            "episode: 37/61 | treward: 1994 | perf: 1.375 | av: 1809.8 | max: 1994| eps: 0.48\n",
            "episode: 38/61 | treward:  176 | perf: 0.849 | av: 1737.1 | max: 1994| eps: 0.47\n",
            "episode: 39/61 | treward: 1994 | perf: 1.346 | av: 1737.1 | max: 1994| eps: 0.46\n",
            "episode: 40/61 | treward: 1994 | perf: 1.032 | av: 1738.2 | max: 1994| eps: 0.45\n",
            "=======================================================================\n",
            "episode: 40/61 | VALIDATION | treward:  494 | perf: 1.089 | eps: 0.45\n",
            "=======================================================================\n",
            "episode: 41/61 | treward: 1994 | perf: 1.189 | av: 1738.2 | max: 1994| eps: 0.45\n",
            "episode: 42/61 | treward: 1994 | perf: 1.516 | av: 1738.2 | max: 1994| eps: 0.44\n",
            "episode: 43/61 | treward: 1994 | perf: 1.057 | av: 1738.2 | max: 1994| eps: 0.43\n",
            "episode: 44/61 | treward: 1994 | perf: 1.558 | av: 1738.2 | max: 1994| eps: 0.42\n",
            "episode: 45/61 | treward: 1994 | perf: 1.707 | av: 1768.3 | max: 1994| eps: 0.41\n",
            "episode: 46/61 | treward:  279 | perf: 0.849 | av: 1699.7 | max: 1994| eps: 0.40\n",
            "episode: 47/61 | treward: 1994 | perf: 1.355 | av: 1704.4 | max: 1994| eps: 0.39\n",
            "episode: 48/61 | treward: 1994 | perf: 1.406 | av: 1728.8 | max: 1994| eps: 0.39\n",
            "episode: 49/61 | treward: 1994 | perf: 0.964 | av: 1728.8 | max: 1994| eps: 0.38\n",
            "episode: 50/61 | treward: 1994 | perf: 1.469 | av: 1728.8 | max: 1994| eps: 0.37\n",
            "episode: 51/61 | treward:  378 | perf: 0.847 | av: 1664.1 | max: 1994| eps: 0.36\n",
            "episode: 52/61 | treward: 1994 | perf: 1.322 | av: 1713.0 | max: 1994| eps: 0.36\n",
            "episode: 53/61 | treward: 1994 | perf: 0.923 | av: 1713.0 | max: 1994| eps: 0.35\n",
            "episode: 54/61 | treward: 1994 | perf: 1.421 | av: 1713.0 | max: 1994| eps: 0.34\n",
            "episode: 55/61 | treward:  316 | perf: 0.845 | av: 1645.9 | max: 1994| eps: 0.34\n",
            "episode: 56/61 | treward: 1994 | perf: 1.177 | av: 1645.9 | max: 1994| eps: 0.33\n",
            "episode: 57/61 | treward: 1994 | perf: 1.202 | av: 1645.9 | max: 1994| eps: 0.32\n",
            "episode: 58/61 | treward: 1994 | perf: 1.330 | av: 1645.9 | max: 1994| eps: 0.32\n",
            "episode: 59/61 | treward: 1862 | perf: 0.848 | av: 1715.6 | max: 1994| eps: 0.31\n",
            "episode: 60/61 | treward: 1994 | perf: 1.006 | av: 1715.6 | max: 1994| eps: 0.30\n",
            "=======================================================================\n",
            "episode: 60/61 | VALIDATION | treward:  494 | perf: 1.089 | eps: 0.30\n",
            "=======================================================================\n",
            "episode: 61/61 | treward: 1994 | perf: 1.089 | av: 1715.6 | max: 1994| eps: 0.30\n",
            "CPU times: user 3min 59s, sys: 5.07 s, total: 4min 5s\n",
            "Wall time: 3min 50s\n"
          ]
        }
      ]
    },
    {
      "cell_type": "code",
      "source": [
        "agent.epsilon"
      ],
      "metadata": {
        "colab": {
          "base_uri": "https://localhost:8080/"
        },
        "id": "3ZwHqbFyokwv",
        "outputId": "d48fa7af-0471-4a48-cfb8-ec8828a24ffa"
      },
      "execution_count": 91,
      "outputs": [
        {
          "output_type": "execute_result",
          "data": {
            "text/plain": [
              "0.291602079838278"
            ]
          },
          "metadata": {},
          "execution_count": 91
        }
      ]
    },
    {
      "cell_type": "code",
      "source": [
        "plt.figure(figsize=(10, 6))\n",
        "x = range(1, len(agent.averages) + 1)\n",
        "y = np.polyval(np.polyfit(x, agent.averages, deg=3), x)\n",
        "plt.plot(x,agent.averages, label='moving average')\n",
        "plt.plot(x, y, 'r--', label='regression')\n",
        "plt.xlabel('episodes')\n",
        "plt.ylabel('total reward')\n",
        "plt.legend();"
      ],
      "metadata": {
        "colab": {
          "base_uri": "https://localhost:8080/",
          "height": 387
        },
        "id": "H5VlHTv0orWK",
        "outputId": "ee66631a-b33c-47d9-ab1b-684861f7d738"
      },
      "execution_count": 93,
      "outputs": [
        {
          "output_type": "display_data",
          "data": {
            "image/png": "[encoded data removed]",
            "text/plain": [
              "<Figure size 720x432 with 1 Axes>"
            ]
          },
          "metadata": {
            "needs_background": "light"
          }
        }
      ]
    },
    {
      "cell_type": "code",
      "source": [
        "plt.figure(figsize=(10, 6))\n",
        "x = range(1, len(agent.performances) + 1)\n",
        "y = np.polyval(np.polyfit(x, agent.performances, deg=3), x)\n",
        "y_ = np.polyval(np.polyfit(x, agent.vperformances, deg=3), x)\n",
        "plt.plot(agent.performances[:], label='training')\n",
        "plt.plot(agent.vperformances[:], label='validation')\n",
        "plt.plot(x, y, 'r--', label='regression (train)')\n",
        "plt.plot(x, y_, 'r-.', label='regression (valid)')\n",
        "plt.xlabel('episodes')\n",
        "plt.ylabel('gross performance')\n",
        "plt.legend();"
      ],
      "metadata": {
        "colab": {
          "base_uri": "https://localhost:8080/",
          "height": 387
        },
        "id": "uOswDfPWOjXt",
        "outputId": "d6440574-edac-4ea1-8c2d-92f20aee1b8e"
      },
      "execution_count": 92,
      "outputs": [
        {
          "output_type": "display_data",
          "data": {
            "image/png": "[encoded data removed]",
            "text/plain": [
              "<Figure size 720x432 with 1 Axes>"
            ]
          },
          "metadata": {
            "needs_background": "light"
          }
        }
      ]
    },
    {
      "cell_type": "code",
      "source": [
        ""
      ],
      "metadata": {
        "id": "arK36Ml6Omvr"
      },
      "execution_count": null,
      "outputs": []
    }
  ]
}