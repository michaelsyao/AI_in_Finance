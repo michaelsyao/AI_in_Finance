{
  "nbformat": 4,
  "nbformat_minor": 0,
  "metadata": {
    "colab": {
      "name": "07_dense_networks.ipynb",
      "provenance": [],
      "authorship_tag": "ABX9TyPtcN1SfhE+EkpI0TIfADHD",
      "include_colab_link": true
    },
    "kernelspec": {
      "name": "python3",
      "display_name": "Python 3"
    },
    "language_info": {
      "name": "python"
    }
  },
  "cells": [
    {
      "cell_type": "markdown",
      "metadata": {
        "id": "view-in-github",
        "colab_type": "text"
      },
      "source": [
        "<a href=\"https://colab.research.google.com/github/michaelsyao/AI_in_Finance/blob/main/07_dense_networks.ipynb\" target=\"_parent\"><img src=\"https://colab.research.google.com/assets/colab-badge.svg\" alt=\"Open In Colab\"/></a>"
      ]
    },
    {
      "cell_type": "markdown",
      "source": [
        "## Dense Neural Networks"
      ],
      "metadata": {
        "id": "VdfCcgLArh2N"
      }
    },
    {
      "cell_type": "code",
      "source": [
        "import os\n",
        "import numpy as np\n",
        "import pandas as pd\n",
        "from pylab import plt, mpl\n",
        "plt.style.use('seaborn')\n",
        "mpl.rcParams['savefig.dpi'] = 300\n",
        "mpl.rcParams['font.family'] = 'serif'\n",
        "\n",
        "pd.set_option('precision', 4)\n",
        "np.set_printoptions(suppress=True, precision=4)\n",
        "\n",
        "os.environ['PYTHONHASHSEED'] = '0'"
      ],
      "metadata": {
        "id": "18YjPAsvrigG"
      },
      "execution_count": 1,
      "outputs": []
    },
    {
      "cell_type": "markdown",
      "source": [
        "## The Data"
      ],
      "metadata": {
        "id": "CmRHgqF8rmB4"
      }
    },
    {
      "cell_type": "code",
      "source": [
        "url = 'http://hilpisch.com/aiif_eikon_id_eur_usd.csv'"
      ],
      "metadata": {
        "id": "oyyOHrKYrn3T"
      },
      "execution_count": 2,
      "outputs": []
    },
    {
      "cell_type": "code",
      "source": [
        "symbol = 'EUR_USD'"
      ],
      "metadata": {
        "id": "g3ljTNsQrrJ6"
      },
      "execution_count": 3,
      "outputs": []
    },
    {
      "cell_type": "code",
      "source": [
        "raw = pd.read_csv(url, index_col=0, parse_dates=True)"
      ],
      "metadata": {
        "id": "6r3U1G_fry-j"
      },
      "execution_count": 4,
      "outputs": []
    },
    {
      "cell_type": "code",
      "source": [
        "raw.head()"
      ],
      "metadata": {
        "id": "9pVvYTNPr0Wg",
        "colab": {
          "base_uri": "https://localhost:8080/",
          "height": 238
        },
        "outputId": "680496c5-7892-48e8-faeb-2b19db1c4b21"
      },
      "execution_count": 5,
      "outputs": [
        {
          "output_type": "execute_result",
          "data": {
            "text/html": [
              "\n",
              "  <div id=\"df-900de449-1a88-44f9-a541-aa00eacace6f\">\n",
              "    <div class=\"colab-df-container\">\n",
              "      <div>\n",
              "<style scoped>\n",
              "    .dataframe tbody tr th:only-of-type {\n",
              "        vertical-align: middle;\n",
              "    }\n",
              "\n",
              "    .dataframe tbody tr th {\n",
              "        vertical-align: top;\n",
              "    }\n",
              "\n",
              "    .dataframe thead th {\n",
              "        text-align: right;\n",
              "    }\n",
              "</style>\n",
              "<table border=\"1\" class=\"dataframe\">\n",
              "  <thead>\n",
              "    <tr style=\"text-align: right;\">\n",
              "      <th></th>\n",
              "      <th>HIGH</th>\n",
              "      <th>LOW</th>\n",
              "      <th>OPEN</th>\n",
              "      <th>CLOSE</th>\n",
              "    </tr>\n",
              "    <tr>\n",
              "      <th>Date</th>\n",
              "      <th></th>\n",
              "      <th></th>\n",
              "      <th></th>\n",
              "      <th></th>\n",
              "    </tr>\n",
              "  </thead>\n",
              "  <tbody>\n",
              "    <tr>\n",
              "      <th>2019-10-01 00:00:00</th>\n",
              "      <td>1.0899</td>\n",
              "      <td>1.0897</td>\n",
              "      <td>1.0897</td>\n",
              "      <td>1.0899</td>\n",
              "    </tr>\n",
              "    <tr>\n",
              "      <th>2019-10-01 00:01:00</th>\n",
              "      <td>1.0899</td>\n",
              "      <td>1.0896</td>\n",
              "      <td>1.0899</td>\n",
              "      <td>1.0898</td>\n",
              "    </tr>\n",
              "    <tr>\n",
              "      <th>2019-10-01 00:02:00</th>\n",
              "      <td>1.0898</td>\n",
              "      <td>1.0896</td>\n",
              "      <td>1.0898</td>\n",
              "      <td>1.0896</td>\n",
              "    </tr>\n",
              "    <tr>\n",
              "      <th>2019-10-01 00:03:00</th>\n",
              "      <td>1.0898</td>\n",
              "      <td>1.0896</td>\n",
              "      <td>1.0897</td>\n",
              "      <td>1.0898</td>\n",
              "    </tr>\n",
              "    <tr>\n",
              "      <th>2019-10-01 00:04:00</th>\n",
              "      <td>1.0898</td>\n",
              "      <td>1.0896</td>\n",
              "      <td>1.0897</td>\n",
              "      <td>1.0898</td>\n",
              "    </tr>\n",
              "  </tbody>\n",
              "</table>\n",
              "</div>\n",
              "      <button class=\"colab-df-convert\" onclick=\"convertToInteractive('df-900de449-1a88-44f9-a541-aa00eacace6f')\"\n",
              "              title=\"Convert this dataframe to an interactive table.\"\n",
              "              style=\"display:none;\">\n",
              "        \n",
              "  <svg xmlns=\"http://www.w3.org/2000/svg\" height=\"24px\"viewBox=\"0 0 24 24\"\n",
              "       width=\"24px\">\n",
              "    <path d=\"M0 0h24v24H0V0z\" fill=\"none\"/>\n",
              "    <path d=\"M18.56 5.44l.94 2.06.94-2.06 2.06-.94-2.06-.94-.94-2.06-.94 2.06-2.06.94zm-11 1L8.5 8.5l.94-2.06 2.06-.94-2.06-.94L8.5 2.5l-.94 2.06-2.06.94zm10 10l.94 2.06.94-2.06 2.06-.94-2.06-.94-.94-2.06-.94 2.06-2.06.94z\"/><path d=\"M17.41 7.96l-1.37-1.37c-.4-.4-.92-.59-1.43-.59-.52 0-1.04.2-1.43.59L10.3 9.45l-7.72 7.72c-.78.78-.78 2.05 0 2.83L4 21.41c.39.39.9.59 1.41.59.51 0 1.02-.2 1.41-.59l7.78-7.78 2.81-2.81c.8-.78.8-2.07 0-2.86zM5.41 20L4 18.59l7.72-7.72 1.47 1.35L5.41 20z\"/>\n",
              "  </svg>\n",
              "      </button>\n",
              "      \n",
              "  <style>\n",
              "    .colab-df-container {\n",
              "      display:flex;\n",
              "      flex-wrap:wrap;\n",
              "      gap: 12px;\n",
              "    }\n",
              "\n",
              "    .colab-df-convert {\n",
              "      background-color: #E8F0FE;\n",
              "      border: none;\n",
              "      border-radius: 50%;\n",
              "      cursor: pointer;\n",
              "      display: none;\n",
              "      fill: #1967D2;\n",
              "      height: 32px;\n",
              "      padding: 0 0 0 0;\n",
              "      width: 32px;\n",
              "    }\n",
              "\n",
              "    .colab-df-convert:hover {\n",
              "      background-color: #E2EBFA;\n",
              "      box-shadow: 0px 1px 2px rgba(60, 64, 67, 0.3), 0px 1px 3px 1px rgba(60, 64, 67, 0.15);\n",
              "      fill: #174EA6;\n",
              "    }\n",
              "\n",
              "    [theme=dark] .colab-df-convert {\n",
              "      background-color: #3B4455;\n",
              "      fill: #D2E3FC;\n",
              "    }\n",
              "\n",
              "    [theme=dark] .colab-df-convert:hover {\n",
              "      background-color: #434B5C;\n",
              "      box-shadow: 0px 1px 3px 1px rgba(0, 0, 0, 0.15);\n",
              "      filter: drop-shadow(0px 1px 2px rgba(0, 0, 0, 0.3));\n",
              "      fill: #FFFFFF;\n",
              "    }\n",
              "  </style>\n",
              "\n",
              "      <script>\n",
              "        const buttonEl =\n",
              "          document.querySelector('#df-900de449-1a88-44f9-a541-aa00eacace6f button.colab-df-convert');\n",
              "        buttonEl.style.display =\n",
              "          google.colab.kernel.accessAllowed ? 'block' : 'none';\n",
              "\n",
              "        async function convertToInteractive(key) {\n",
              "          const element = document.querySelector('#df-900de449-1a88-44f9-a541-aa00eacace6f');\n",
              "          const dataTable =\n",
              "            await google.colab.kernel.invokeFunction('convertToInteractive',\n",
              "                                                     [key], {});\n",
              "          if (!dataTable) return;\n",
              "\n",
              "          const docLinkHtml = 'Like what you see? Visit the ' +\n",
              "            '<a target=\"_blank\" href=https://colab.research.google.com/notebooks/data_table.ipynb>data table notebook</a>'\n",
              "            + ' to learn more about interactive tables.';\n",
              "          element.innerHTML = '';\n",
              "          dataTable['output_type'] = 'display_data';\n",
              "          await google.colab.output.renderOutput(dataTable, element);\n",
              "          const docLink = document.createElement('div');\n",
              "          docLink.innerHTML = docLinkHtml;\n",
              "          element.appendChild(docLink);\n",
              "        }\n",
              "      </script>\n",
              "    </div>\n",
              "  </div>\n",
              "  "
            ],
            "text/plain": [
              "                       HIGH     LOW    OPEN   CLOSE\n",
              "Date                                               \n",
              "2019-10-01 00:00:00  1.0899  1.0897  1.0897  1.0899\n",
              "2019-10-01 00:01:00  1.0899  1.0896  1.0899  1.0898\n",
              "2019-10-01 00:02:00  1.0898  1.0896  1.0898  1.0896\n",
              "2019-10-01 00:03:00  1.0898  1.0896  1.0897  1.0898\n",
              "2019-10-01 00:04:00  1.0898  1.0896  1.0897  1.0898"
            ]
          },
          "metadata": {},
          "execution_count": 5
        }
      ]
    },
    {
      "cell_type": "code",
      "source": [
        "raw.info()"
      ],
      "metadata": {
        "colab": {
          "base_uri": "https://localhost:8080/"
        },
        "id": "Vg-hkthvMTUj",
        "outputId": "b3cded6c-81e7-432d-aa79-500e94d12039"
      },
      "execution_count": 6,
      "outputs": [
        {
          "output_type": "stream",
          "name": "stdout",
          "text": [
            "<class 'pandas.core.frame.DataFrame'>\n",
            "DatetimeIndex: 96526 entries, 2019-10-01 00:00:00 to 2019-12-31 23:06:00\n",
            "Data columns (total 4 columns):\n",
            " #   Column  Non-Null Count  Dtype  \n",
            "---  ------  --------------  -----  \n",
            " 0   HIGH    96526 non-null  float64\n",
            " 1   LOW     96526 non-null  float64\n",
            " 2   OPEN    96526 non-null  float64\n",
            " 3   CLOSE   96526 non-null  float64\n",
            "dtypes: float64(4)\n",
            "memory usage: 3.7 MB\n"
          ]
        }
      ]
    },
    {
      "cell_type": "code",
      "source": [
        "data = pd.DataFrame(raw['CLOSE'].loc[:])\n",
        "data.columns = [symbol]"
      ],
      "metadata": {
        "id": "Wjxclr9bMVaO"
      },
      "execution_count": 7,
      "outputs": []
    },
    {
      "cell_type": "code",
      "source": [
        "data = data.resample('1h', label='right').last().ffill()"
      ],
      "metadata": {
        "id": "sthVCknjMXpV"
      },
      "execution_count": 8,
      "outputs": []
    },
    {
      "cell_type": "code",
      "source": [
        "list(data.loc['2019-10-01 00:00:00':'2019-10-01 02:00:00'].resample('1h'))"
      ],
      "metadata": {
        "colab": {
          "base_uri": "https://localhost:8080/"
        },
        "id": "eapmdkXVDXzq",
        "outputId": "94beea1e-4e2b-4b2e-bf12-5e266444fe91"
      },
      "execution_count": 9,
      "outputs": [
        {
          "output_type": "execute_result",
          "data": {
            "text/plain": [
              "[(Timestamp('2019-10-01 01:00:00', freq='H'),                      EUR_USD\n",
              "  Date                        \n",
              "  2019-10-01 01:00:00   1.0896),\n",
              " (Timestamp('2019-10-01 02:00:00', freq='H'),                      EUR_USD\n",
              "  Date                        \n",
              "  2019-10-01 02:00:00    1.089)]"
            ]
          },
          "metadata": {},
          "execution_count": 9
        }
      ]
    },
    {
      "cell_type": "code",
      "source": [
        "data = data.resample('1h', label='right').last().ffill()"
      ],
      "metadata": {
        "id": "EMf2OZhvMa1x"
      },
      "execution_count": 10,
      "outputs": []
    },
    {
      "cell_type": "code",
      "source": [
        "data.info()"
      ],
      "metadata": {
        "colab": {
          "base_uri": "https://localhost:8080/"
        },
        "id": "seD7Da5nWjM3",
        "outputId": "36439ecf-6acf-412a-bd34-5836cf650a39"
      },
      "execution_count": 11,
      "outputs": [
        {
          "output_type": "stream",
          "name": "stdout",
          "text": [
            "<class 'pandas.core.frame.DataFrame'>\n",
            "DatetimeIndex: 2208 entries, 2019-10-01 02:00:00 to 2020-01-01 01:00:00\n",
            "Freq: H\n",
            "Data columns (total 1 columns):\n",
            " #   Column   Non-Null Count  Dtype  \n",
            "---  ------   --------------  -----  \n",
            " 0   EUR_USD  2208 non-null   float64\n",
            "dtypes: float64(1)\n",
            "memory usage: 34.5 KB\n"
          ]
        }
      ]
    },
    {
      "cell_type": "code",
      "source": [
        "data.plot(figsize=(10, 6));"
      ],
      "metadata": {
        "id": "gZp4OMDjWu-v",
        "outputId": "aa6b8e2e-3abd-47e9-e36b-813a4885ec5a",
        "colab": {
          "base_uri": "https://localhost:8080/",
          "height": 397
        }
      },
      "execution_count": 12,
      "outputs": [
        {
          "output_type": "display_data",
          "data": {
            "image/png": "[encoded data removed]",
            "text/plain": [
              "<Figure size 720x432 with 1 Axes>"
            ]
          },
          "metadata": {
            "needs_background": "light"
          }
        }
      ]
    },
    {
      "cell_type": "markdown",
      "source": [
        "## Baseline Prediction"
      ],
      "metadata": {
        "id": "fQYi2y_TEQNC"
      }
    },
    {
      "cell_type": "code",
      "source": [
        "lags = 5"
      ],
      "metadata": {
        "id": "QV4J7oVGEQm3"
      },
      "execution_count": 13,
      "outputs": []
    },
    {
      "cell_type": "code",
      "source": [
        "def add_lags(data, symbol, lags, window=20):\n",
        "    cols = []\n",
        "    df = data.copy()\n",
        "    df.dropna(inplace=True)\n",
        "    df['r'] = np.log(df / df.shift())\n",
        "    df['sma'] = df[symbol].rolling(window).mean()\n",
        "    df['min'] = df[symbol].rolling(window).min()\n",
        "    df['max'] = df[symbol].rolling(window).max()\n",
        "    df['mom'] = df['r'].rolling(window).mean()\n",
        "    df['vol'] = df['r'].rolling(window).std()\n",
        "    df.dropna(inplace=True)\n",
        "    df['d'] = np.where(df['r'] > 0, 1, 0)\n",
        "    features = [symbol, 'r', 'd', 'sma', 'min', 'max', 'mom', 'vol']\n",
        "    for f in features:\n",
        "        for lag in range(1, lags + 1):\n",
        "            col = f'{f}_lag_{lag}'\n",
        "            df[col] = df[f].shift(lag)\n",
        "            cols.append(col)\n",
        "    df.dropna(inplace=True)\n",
        "    return df, cols"
      ],
      "metadata": {
        "id": "9Om0rY-iET5W"
      },
      "execution_count": 14,
      "outputs": []
    },
    {
      "cell_type": "code",
      "source": [
        "data, cols = add_lags(data, symbol, lags)"
      ],
      "metadata": {
        "id": "z6SybeVXEVhM"
      },
      "execution_count": 15,
      "outputs": []
    },
    {
      "cell_type": "code",
      "source": [
        "data"
      ],
      "metadata": {
        "colab": {
          "base_uri": "https://localhost:8080/",
          "height": 866
        },
        "id": "lkeXtCduza79",
        "outputId": "73dce1e6-52d1-423d-af7b-b32345852272"
      },
      "execution_count": 16,
      "outputs": [
        {
          "output_type": "execute_result",
          "data": {
            "text/html": [
              "\n",
              "  <div id=\"df-ed40d8ef-8c1f-41ea-aa68-b1e4f7dd89d5\">\n",
              "    <div class=\"colab-df-container\">\n",
              "      <div>\n",
              "<style scoped>\n",
              "    .dataframe tbody tr th:only-of-type {\n",
              "        vertical-align: middle;\n",
              "    }\n",
              "\n",
              "    .dataframe tbody tr th {\n",
              "        vertical-align: top;\n",
              "    }\n",
              "\n",
              "    .dataframe thead th {\n",
              "        text-align: right;\n",
              "    }\n",
              "</style>\n",
              "<table border=\"1\" class=\"dataframe\">\n",
              "  <thead>\n",
              "    <tr style=\"text-align: right;\">\n",
              "      <th></th>\n",
              "      <th>EUR_USD</th>\n",
              "      <th>r</th>\n",
              "      <th>sma</th>\n",
              "      <th>min</th>\n",
              "      <th>max</th>\n",
              "      <th>mom</th>\n",
              "      <th>vol</th>\n",
              "      <th>d</th>\n",
              "      <th>EUR_USD_lag_1</th>\n",
              "      <th>EUR_USD_lag_2</th>\n",
              "      <th>EUR_USD_lag_3</th>\n",
              "      <th>EUR_USD_lag_4</th>\n",
              "      <th>EUR_USD_lag_5</th>\n",
              "      <th>r_lag_1</th>\n",
              "      <th>r_lag_2</th>\n",
              "      <th>r_lag_3</th>\n",
              "      <th>r_lag_4</th>\n",
              "      <th>r_lag_5</th>\n",
              "      <th>d_lag_1</th>\n",
              "      <th>d_lag_2</th>\n",
              "      <th>d_lag_3</th>\n",
              "      <th>d_lag_4</th>\n",
              "      <th>d_lag_5</th>\n",
              "      <th>sma_lag_1</th>\n",
              "      <th>sma_lag_2</th>\n",
              "      <th>sma_lag_3</th>\n",
              "      <th>sma_lag_4</th>\n",
              "      <th>sma_lag_5</th>\n",
              "      <th>min_lag_1</th>\n",
              "      <th>min_lag_2</th>\n",
              "      <th>min_lag_3</th>\n",
              "      <th>min_lag_4</th>\n",
              "      <th>min_lag_5</th>\n",
              "      <th>max_lag_1</th>\n",
              "      <th>max_lag_2</th>\n",
              "      <th>max_lag_3</th>\n",
              "      <th>max_lag_4</th>\n",
              "      <th>max_lag_5</th>\n",
              "      <th>mom_lag_1</th>\n",
              "      <th>mom_lag_2</th>\n",
              "      <th>mom_lag_3</th>\n",
              "      <th>mom_lag_4</th>\n",
              "      <th>mom_lag_5</th>\n",
              "      <th>vol_lag_1</th>\n",
              "      <th>vol_lag_2</th>\n",
              "      <th>vol_lag_3</th>\n",
              "      <th>vol_lag_4</th>\n",
              "      <th>vol_lag_5</th>\n",
              "    </tr>\n",
              "    <tr>\n",
              "      <th>Date</th>\n",
              "      <th></th>\n",
              "      <th></th>\n",
              "      <th></th>\n",
              "      <th></th>\n",
              "      <th></th>\n",
              "      <th></th>\n",
              "      <th></th>\n",
              "      <th></th>\n",
              "      <th></th>\n",
              "      <th></th>\n",
              "      <th></th>\n",
              "      <th></th>\n",
              "      <th></th>\n",
              "      <th></th>\n",
              "      <th></th>\n",
              "      <th></th>\n",
              "      <th></th>\n",
              "      <th></th>\n",
              "      <th></th>\n",
              "      <th></th>\n",
              "      <th></th>\n",
              "      <th></th>\n",
              "      <th></th>\n",
              "      <th></th>\n",
              "      <th></th>\n",
              "      <th></th>\n",
              "      <th></th>\n",
              "      <th></th>\n",
              "      <th></th>\n",
              "      <th></th>\n",
              "      <th></th>\n",
              "      <th></th>\n",
              "      <th></th>\n",
              "      <th></th>\n",
              "      <th></th>\n",
              "      <th></th>\n",
              "      <th></th>\n",
              "      <th></th>\n",
              "      <th></th>\n",
              "      <th></th>\n",
              "      <th></th>\n",
              "      <th></th>\n",
              "      <th></th>\n",
              "      <th></th>\n",
              "      <th></th>\n",
              "      <th></th>\n",
              "      <th></th>\n",
              "      <th></th>\n",
              "    </tr>\n",
              "  </thead>\n",
              "  <tbody>\n",
              "    <tr>\n",
              "      <th>2019-10-02 03:00:00</th>\n",
              "      <td>1.0937</td>\n",
              "      <td>-9.1429e-05</td>\n",
              "      <td>1.0916</td>\n",
              "      <td>1.0879</td>\n",
              "      <td>1.0938</td>\n",
              "      <td>2.2911e-04</td>\n",
              "      <td>0.0008</td>\n",
              "      <td>0</td>\n",
              "      <td>1.0938</td>\n",
              "      <td>1.0932</td>\n",
              "      <td>1.0931</td>\n",
              "      <td>1.0931</td>\n",
              "      <td>1.0931</td>\n",
              "      <td>5.4870e-04</td>\n",
              "      <td>9.1479e-05</td>\n",
              "      <td>0.0000e+00</td>\n",
              "      <td>0.0000e+00</td>\n",
              "      <td>-5.4875e-04</td>\n",
              "      <td>1.0</td>\n",
              "      <td>1.0</td>\n",
              "      <td>0.0</td>\n",
              "      <td>0.0</td>\n",
              "      <td>0.0</td>\n",
              "      <td>1.0913</td>\n",
              "      <td>1.0911</td>\n",
              "      <td>1.0908</td>\n",
              "      <td>1.0906</td>\n",
              "      <td>1.0904</td>\n",
              "      <td>1.0879</td>\n",
              "      <td>1.0879</td>\n",
              "      <td>1.0879</td>\n",
              "      <td>1.0879</td>\n",
              "      <td>1.0879</td>\n",
              "      <td>1.0938</td>\n",
              "      <td>1.0938</td>\n",
              "      <td>1.0938</td>\n",
              "      <td>1.0938</td>\n",
              "      <td>1.0938</td>\n",
              "      <td>2.2449e-04</td>\n",
              "      <td>2.0165e-04</td>\n",
              "      <td>2.0626e-04</td>\n",
              "      <td>1.8789e-04</td>\n",
              "      <td>1.6035e-04</td>\n",
              "      <td>0.0008</td>\n",
              "      <td>0.0008</td>\n",
              "      <td>0.0008</td>\n",
              "      <td>0.0008</td>\n",
              "      <td>0.0008</td>\n",
              "    </tr>\n",
              "    <tr>\n",
              "      <th>2019-10-02 04:00:00</th>\n",
              "      <td>1.0937</td>\n",
              "      <td>0.0000e+00</td>\n",
              "      <td>1.0918</td>\n",
              "      <td>1.0885</td>\n",
              "      <td>1.0938</td>\n",
              "      <td>2.6586e-04</td>\n",
              "      <td>0.0008</td>\n",
              "      <td>0</td>\n",
              "      <td>1.0937</td>\n",
              "      <td>1.0938</td>\n",
              "      <td>1.0932</td>\n",
              "      <td>1.0931</td>\n",
              "      <td>1.0931</td>\n",
              "      <td>-9.1429e-05</td>\n",
              "      <td>5.4870e-04</td>\n",
              "      <td>9.1479e-05</td>\n",
              "      <td>0.0000e+00</td>\n",
              "      <td>0.0000e+00</td>\n",
              "      <td>0.0</td>\n",
              "      <td>1.0</td>\n",
              "      <td>1.0</td>\n",
              "      <td>0.0</td>\n",
              "      <td>0.0</td>\n",
              "      <td>1.0916</td>\n",
              "      <td>1.0913</td>\n",
              "      <td>1.0911</td>\n",
              "      <td>1.0908</td>\n",
              "      <td>1.0906</td>\n",
              "      <td>1.0879</td>\n",
              "      <td>1.0879</td>\n",
              "      <td>1.0879</td>\n",
              "      <td>1.0879</td>\n",
              "      <td>1.0879</td>\n",
              "      <td>1.0938</td>\n",
              "      <td>1.0938</td>\n",
              "      <td>1.0938</td>\n",
              "      <td>1.0938</td>\n",
              "      <td>1.0938</td>\n",
              "      <td>2.2911e-04</td>\n",
              "      <td>2.2449e-04</td>\n",
              "      <td>2.0165e-04</td>\n",
              "      <td>2.0626e-04</td>\n",
              "      <td>1.8789e-04</td>\n",
              "      <td>0.0008</td>\n",
              "      <td>0.0008</td>\n",
              "      <td>0.0008</td>\n",
              "      <td>0.0008</td>\n",
              "      <td>0.0008</td>\n",
              "    </tr>\n",
              "    <tr>\n",
              "      <th>2019-10-02 05:00:00</th>\n",
              "      <td>1.0936</td>\n",
              "      <td>-9.1437e-05</td>\n",
              "      <td>1.0921</td>\n",
              "      <td>1.0886</td>\n",
              "      <td>1.0938</td>\n",
              "      <td>2.3372e-04</td>\n",
              "      <td>0.0008</td>\n",
              "      <td>0</td>\n",
              "      <td>1.0937</td>\n",
              "      <td>1.0937</td>\n",
              "      <td>1.0938</td>\n",
              "      <td>1.0932</td>\n",
              "      <td>1.0931</td>\n",
              "      <td>0.0000e+00</td>\n",
              "      <td>-9.1429e-05</td>\n",
              "      <td>5.4870e-04</td>\n",
              "      <td>9.1479e-05</td>\n",
              "      <td>0.0000e+00</td>\n",
              "      <td>0.0</td>\n",
              "      <td>0.0</td>\n",
              "      <td>1.0</td>\n",
              "      <td>1.0</td>\n",
              "      <td>0.0</td>\n",
              "      <td>1.0918</td>\n",
              "      <td>1.0916</td>\n",
              "      <td>1.0913</td>\n",
              "      <td>1.0911</td>\n",
              "      <td>1.0908</td>\n",
              "      <td>1.0885</td>\n",
              "      <td>1.0879</td>\n",
              "      <td>1.0879</td>\n",
              "      <td>1.0879</td>\n",
              "      <td>1.0879</td>\n",
              "      <td>1.0938</td>\n",
              "      <td>1.0938</td>\n",
              "      <td>1.0938</td>\n",
              "      <td>1.0938</td>\n",
              "      <td>1.0938</td>\n",
              "      <td>2.6586e-04</td>\n",
              "      <td>2.2911e-04</td>\n",
              "      <td>2.2449e-04</td>\n",
              "      <td>2.0165e-04</td>\n",
              "      <td>2.0626e-04</td>\n",
              "      <td>0.0008</td>\n",
              "      <td>0.0008</td>\n",
              "      <td>0.0008</td>\n",
              "      <td>0.0008</td>\n",
              "      <td>0.0008</td>\n",
              "    </tr>\n",
              "    <tr>\n",
              "      <th>2019-10-02 06:00:00</th>\n",
              "      <td>1.0933</td>\n",
              "      <td>-2.7436e-04</td>\n",
              "      <td>1.0923</td>\n",
              "      <td>1.0886</td>\n",
              "      <td>1.0938</td>\n",
              "      <td>1.8786e-04</td>\n",
              "      <td>0.0008</td>\n",
              "      <td>0</td>\n",
              "      <td>1.0936</td>\n",
              "      <td>1.0937</td>\n",
              "      <td>1.0937</td>\n",
              "      <td>1.0938</td>\n",
              "      <td>1.0932</td>\n",
              "      <td>-9.1437e-05</td>\n",
              "      <td>0.0000e+00</td>\n",
              "      <td>-9.1429e-05</td>\n",
              "      <td>5.4870e-04</td>\n",
              "      <td>9.1479e-05</td>\n",
              "      <td>0.0</td>\n",
              "      <td>0.0</td>\n",
              "      <td>0.0</td>\n",
              "      <td>1.0</td>\n",
              "      <td>1.0</td>\n",
              "      <td>1.0921</td>\n",
              "      <td>1.0918</td>\n",
              "      <td>1.0916</td>\n",
              "      <td>1.0913</td>\n",
              "      <td>1.0911</td>\n",
              "      <td>1.0886</td>\n",
              "      <td>1.0885</td>\n",
              "      <td>1.0879</td>\n",
              "      <td>1.0879</td>\n",
              "      <td>1.0879</td>\n",
              "      <td>1.0938</td>\n",
              "      <td>1.0938</td>\n",
              "      <td>1.0938</td>\n",
              "      <td>1.0938</td>\n",
              "      <td>1.0938</td>\n",
              "      <td>2.3372e-04</td>\n",
              "      <td>2.6586e-04</td>\n",
              "      <td>2.2911e-04</td>\n",
              "      <td>2.2449e-04</td>\n",
              "      <td>2.0165e-04</td>\n",
              "      <td>0.0008</td>\n",
              "      <td>0.0008</td>\n",
              "      <td>0.0008</td>\n",
              "      <td>0.0008</td>\n",
              "      <td>0.0008</td>\n",
              "    </tr>\n",
              "    <tr>\n",
              "      <th>2019-10-02 07:00:00</th>\n",
              "      <td>1.0935</td>\n",
              "      <td>1.8292e-04</td>\n",
              "      <td>1.0925</td>\n",
              "      <td>1.0886</td>\n",
              "      <td>1.0938</td>\n",
              "      <td>1.9700e-04</td>\n",
              "      <td>0.0008</td>\n",
              "      <td>1</td>\n",
              "      <td>1.0933</td>\n",
              "      <td>1.0936</td>\n",
              "      <td>1.0937</td>\n",
              "      <td>1.0937</td>\n",
              "      <td>1.0938</td>\n",
              "      <td>-2.7436e-04</td>\n",
              "      <td>-9.1437e-05</td>\n",
              "      <td>0.0000e+00</td>\n",
              "      <td>-9.1429e-05</td>\n",
              "      <td>5.4870e-04</td>\n",
              "      <td>0.0</td>\n",
              "      <td>0.0</td>\n",
              "      <td>0.0</td>\n",
              "      <td>0.0</td>\n",
              "      <td>1.0</td>\n",
              "      <td>1.0923</td>\n",
              "      <td>1.0921</td>\n",
              "      <td>1.0918</td>\n",
              "      <td>1.0916</td>\n",
              "      <td>1.0913</td>\n",
              "      <td>1.0886</td>\n",
              "      <td>1.0886</td>\n",
              "      <td>1.0885</td>\n",
              "      <td>1.0879</td>\n",
              "      <td>1.0879</td>\n",
              "      <td>1.0938</td>\n",
              "      <td>1.0938</td>\n",
              "      <td>1.0938</td>\n",
              "      <td>1.0938</td>\n",
              "      <td>1.0938</td>\n",
              "      <td>1.8786e-04</td>\n",
              "      <td>2.3372e-04</td>\n",
              "      <td>2.6586e-04</td>\n",
              "      <td>2.2911e-04</td>\n",
              "      <td>2.2449e-04</td>\n",
              "      <td>0.0008</td>\n",
              "      <td>0.0008</td>\n",
              "      <td>0.0008</td>\n",
              "      <td>0.0008</td>\n",
              "      <td>0.0008</td>\n",
              "    </tr>\n",
              "    <tr>\n",
              "      <th>...</th>\n",
              "      <td>...</td>\n",
              "      <td>...</td>\n",
              "      <td>...</td>\n",
              "      <td>...</td>\n",
              "      <td>...</td>\n",
              "      <td>...</td>\n",
              "      <td>...</td>\n",
              "      <td>...</td>\n",
              "      <td>...</td>\n",
              "      <td>...</td>\n",
              "      <td>...</td>\n",
              "      <td>...</td>\n",
              "      <td>...</td>\n",
              "      <td>...</td>\n",
              "      <td>...</td>\n",
              "      <td>...</td>\n",
              "      <td>...</td>\n",
              "      <td>...</td>\n",
              "      <td>...</td>\n",
              "      <td>...</td>\n",
              "      <td>...</td>\n",
              "      <td>...</td>\n",
              "      <td>...</td>\n",
              "      <td>...</td>\n",
              "      <td>...</td>\n",
              "      <td>...</td>\n",
              "      <td>...</td>\n",
              "      <td>...</td>\n",
              "      <td>...</td>\n",
              "      <td>...</td>\n",
              "      <td>...</td>\n",
              "      <td>...</td>\n",
              "      <td>...</td>\n",
              "      <td>...</td>\n",
              "      <td>...</td>\n",
              "      <td>...</td>\n",
              "      <td>...</td>\n",
              "      <td>...</td>\n",
              "      <td>...</td>\n",
              "      <td>...</td>\n",
              "      <td>...</td>\n",
              "      <td>...</td>\n",
              "      <td>...</td>\n",
              "      <td>...</td>\n",
              "      <td>...</td>\n",
              "      <td>...</td>\n",
              "      <td>...</td>\n",
              "      <td>...</td>\n",
              "    </tr>\n",
              "    <tr>\n",
              "      <th>2019-12-31 21:00:00</th>\n",
              "      <td>1.1216</td>\n",
              "      <td>-5.3481e-04</td>\n",
              "      <td>1.1216</td>\n",
              "      <td>1.1201</td>\n",
              "      <td>1.1238</td>\n",
              "      <td>4.9061e-05</td>\n",
              "      <td>0.0006</td>\n",
              "      <td>0</td>\n",
              "      <td>1.1222</td>\n",
              "      <td>1.1226</td>\n",
              "      <td>1.1224</td>\n",
              "      <td>1.1222</td>\n",
              "      <td>1.1217</td>\n",
              "      <td>-3.5638e-04</td>\n",
              "      <td>1.7817e-04</td>\n",
              "      <td>1.7821e-04</td>\n",
              "      <td>4.4565e-04</td>\n",
              "      <td>-1.8704e-03</td>\n",
              "      <td>0.0</td>\n",
              "      <td>1.0</td>\n",
              "      <td>1.0</td>\n",
              "      <td>1.0</td>\n",
              "      <td>0.0</td>\n",
              "      <td>1.1215</td>\n",
              "      <td>1.1214</td>\n",
              "      <td>1.1213</td>\n",
              "      <td>1.1212</td>\n",
              "      <td>1.1210</td>\n",
              "      <td>1.1201</td>\n",
              "      <td>1.1200</td>\n",
              "      <td>1.1200</td>\n",
              "      <td>1.1195</td>\n",
              "      <td>1.1195</td>\n",
              "      <td>1.1238</td>\n",
              "      <td>1.1238</td>\n",
              "      <td>1.1238</td>\n",
              "      <td>1.1238</td>\n",
              "      <td>1.1238</td>\n",
              "      <td>9.8118e-05</td>\n",
              "      <td>1.0255e-04</td>\n",
              "      <td>1.2935e-04</td>\n",
              "      <td>1.0258e-04</td>\n",
              "      <td>7.1371e-05</td>\n",
              "      <td>0.0006</td>\n",
              "      <td>0.0006</td>\n",
              "      <td>0.0006</td>\n",
              "      <td>0.0007</td>\n",
              "      <td>0.0007</td>\n",
              "    </tr>\n",
              "    <tr>\n",
              "      <th>2019-12-31 22:00:00</th>\n",
              "      <td>1.1215</td>\n",
              "      <td>-8.9162e-05</td>\n",
              "      <td>1.1216</td>\n",
              "      <td>1.1201</td>\n",
              "      <td>1.1238</td>\n",
              "      <td>3.5679e-05</td>\n",
              "      <td>0.0006</td>\n",
              "      <td>0</td>\n",
              "      <td>1.1216</td>\n",
              "      <td>1.1222</td>\n",
              "      <td>1.1226</td>\n",
              "      <td>1.1224</td>\n",
              "      <td>1.1222</td>\n",
              "      <td>-5.3481e-04</td>\n",
              "      <td>-3.5638e-04</td>\n",
              "      <td>1.7817e-04</td>\n",
              "      <td>1.7821e-04</td>\n",
              "      <td>4.4565e-04</td>\n",
              "      <td>0.0</td>\n",
              "      <td>0.0</td>\n",
              "      <td>1.0</td>\n",
              "      <td>1.0</td>\n",
              "      <td>1.0</td>\n",
              "      <td>1.1216</td>\n",
              "      <td>1.1215</td>\n",
              "      <td>1.1214</td>\n",
              "      <td>1.1213</td>\n",
              "      <td>1.1212</td>\n",
              "      <td>1.1201</td>\n",
              "      <td>1.1201</td>\n",
              "      <td>1.1200</td>\n",
              "      <td>1.1200</td>\n",
              "      <td>1.1195</td>\n",
              "      <td>1.1238</td>\n",
              "      <td>1.1238</td>\n",
              "      <td>1.1238</td>\n",
              "      <td>1.1238</td>\n",
              "      <td>1.1238</td>\n",
              "      <td>4.9061e-05</td>\n",
              "      <td>9.8118e-05</td>\n",
              "      <td>1.0255e-04</td>\n",
              "      <td>1.2935e-04</td>\n",
              "      <td>1.0258e-04</td>\n",
              "      <td>0.0006</td>\n",
              "      <td>0.0006</td>\n",
              "      <td>0.0006</td>\n",
              "      <td>0.0006</td>\n",
              "      <td>0.0007</td>\n",
              "    </tr>\n",
              "    <tr>\n",
              "      <th>2019-12-31 23:00:00</th>\n",
              "      <td>1.1208</td>\n",
              "      <td>-6.2436e-04</td>\n",
              "      <td>1.1216</td>\n",
              "      <td>1.1201</td>\n",
              "      <td>1.1238</td>\n",
              "      <td>-1.7841e-05</td>\n",
              "      <td>0.0007</td>\n",
              "      <td>0</td>\n",
              "      <td>1.1215</td>\n",
              "      <td>1.1216</td>\n",
              "      <td>1.1222</td>\n",
              "      <td>1.1226</td>\n",
              "      <td>1.1224</td>\n",
              "      <td>-8.9162e-05</td>\n",
              "      <td>-5.3481e-04</td>\n",
              "      <td>-3.5638e-04</td>\n",
              "      <td>1.7817e-04</td>\n",
              "      <td>1.7821e-04</td>\n",
              "      <td>0.0</td>\n",
              "      <td>0.0</td>\n",
              "      <td>0.0</td>\n",
              "      <td>1.0</td>\n",
              "      <td>1.0</td>\n",
              "      <td>1.1216</td>\n",
              "      <td>1.1216</td>\n",
              "      <td>1.1215</td>\n",
              "      <td>1.1214</td>\n",
              "      <td>1.1213</td>\n",
              "      <td>1.1201</td>\n",
              "      <td>1.1201</td>\n",
              "      <td>1.1201</td>\n",
              "      <td>1.1200</td>\n",
              "      <td>1.1200</td>\n",
              "      <td>1.1238</td>\n",
              "      <td>1.1238</td>\n",
              "      <td>1.1238</td>\n",
              "      <td>1.1238</td>\n",
              "      <td>1.1238</td>\n",
              "      <td>3.5679e-05</td>\n",
              "      <td>4.9061e-05</td>\n",
              "      <td>9.8118e-05</td>\n",
              "      <td>1.0255e-04</td>\n",
              "      <td>1.2935e-04</td>\n",
              "      <td>0.0006</td>\n",
              "      <td>0.0006</td>\n",
              "      <td>0.0006</td>\n",
              "      <td>0.0006</td>\n",
              "      <td>0.0006</td>\n",
              "    </tr>\n",
              "    <tr>\n",
              "      <th>2020-01-01 00:00:00</th>\n",
              "      <td>1.1211</td>\n",
              "      <td>2.6763e-04</td>\n",
              "      <td>1.1216</td>\n",
              "      <td>1.1201</td>\n",
              "      <td>1.1238</td>\n",
              "      <td>8.9206e-06</td>\n",
              "      <td>0.0007</td>\n",
              "      <td>1</td>\n",
              "      <td>1.1208</td>\n",
              "      <td>1.1215</td>\n",
              "      <td>1.1216</td>\n",
              "      <td>1.1222</td>\n",
              "      <td>1.1226</td>\n",
              "      <td>-6.2436e-04</td>\n",
              "      <td>-8.9162e-05</td>\n",
              "      <td>-5.3481e-04</td>\n",
              "      <td>-3.5638e-04</td>\n",
              "      <td>1.7817e-04</td>\n",
              "      <td>0.0</td>\n",
              "      <td>0.0</td>\n",
              "      <td>0.0</td>\n",
              "      <td>0.0</td>\n",
              "      <td>1.0</td>\n",
              "      <td>1.1216</td>\n",
              "      <td>1.1216</td>\n",
              "      <td>1.1216</td>\n",
              "      <td>1.1215</td>\n",
              "      <td>1.1214</td>\n",
              "      <td>1.1201</td>\n",
              "      <td>1.1201</td>\n",
              "      <td>1.1201</td>\n",
              "      <td>1.1201</td>\n",
              "      <td>1.1200</td>\n",
              "      <td>1.1238</td>\n",
              "      <td>1.1238</td>\n",
              "      <td>1.1238</td>\n",
              "      <td>1.1238</td>\n",
              "      <td>1.1238</td>\n",
              "      <td>-1.7841e-05</td>\n",
              "      <td>3.5679e-05</td>\n",
              "      <td>4.9061e-05</td>\n",
              "      <td>9.8118e-05</td>\n",
              "      <td>1.0255e-04</td>\n",
              "      <td>0.0007</td>\n",
              "      <td>0.0006</td>\n",
              "      <td>0.0006</td>\n",
              "      <td>0.0006</td>\n",
              "      <td>0.0006</td>\n",
              "    </tr>\n",
              "    <tr>\n",
              "      <th>2020-01-01 01:00:00</th>\n",
              "      <td>1.1211</td>\n",
              "      <td>0.0000e+00</td>\n",
              "      <td>1.1216</td>\n",
              "      <td>1.1201</td>\n",
              "      <td>1.1238</td>\n",
              "      <td>1.7843e-05</td>\n",
              "      <td>0.0007</td>\n",
              "      <td>0</td>\n",
              "      <td>1.1211</td>\n",
              "      <td>1.1208</td>\n",
              "      <td>1.1215</td>\n",
              "      <td>1.1216</td>\n",
              "      <td>1.1222</td>\n",
              "      <td>2.6763e-04</td>\n",
              "      <td>-6.2436e-04</td>\n",
              "      <td>-8.9162e-05</td>\n",
              "      <td>-5.3481e-04</td>\n",
              "      <td>-3.5638e-04</td>\n",
              "      <td>1.0</td>\n",
              "      <td>0.0</td>\n",
              "      <td>0.0</td>\n",
              "      <td>0.0</td>\n",
              "      <td>0.0</td>\n",
              "      <td>1.1216</td>\n",
              "      <td>1.1216</td>\n",
              "      <td>1.1216</td>\n",
              "      <td>1.1216</td>\n",
              "      <td>1.1215</td>\n",
              "      <td>1.1201</td>\n",
              "      <td>1.1201</td>\n",
              "      <td>1.1201</td>\n",
              "      <td>1.1201</td>\n",
              "      <td>1.1201</td>\n",
              "      <td>1.1238</td>\n",
              "      <td>1.1238</td>\n",
              "      <td>1.1238</td>\n",
              "      <td>1.1238</td>\n",
              "      <td>1.1238</td>\n",
              "      <td>8.9206e-06</td>\n",
              "      <td>-1.7841e-05</td>\n",
              "      <td>3.5679e-05</td>\n",
              "      <td>4.9061e-05</td>\n",
              "      <td>9.8118e-05</td>\n",
              "      <td>0.0007</td>\n",
              "      <td>0.0007</td>\n",
              "      <td>0.0006</td>\n",
              "      <td>0.0006</td>\n",
              "      <td>0.0006</td>\n",
              "    </tr>\n",
              "  </tbody>\n",
              "</table>\n",
              "<p>2183 rows × 48 columns</p>\n",
              "</div>\n",
              "      <button class=\"colab-df-convert\" onclick=\"convertToInteractive('df-ed40d8ef-8c1f-41ea-aa68-b1e4f7dd89d5')\"\n",
              "              title=\"Convert this dataframe to an interactive table.\"\n",
              "              style=\"display:none;\">\n",
              "        \n",
              "  <svg xmlns=\"http://www.w3.org/2000/svg\" height=\"24px\"viewBox=\"0 0 24 24\"\n",
              "       width=\"24px\">\n",
              "    <path d=\"M0 0h24v24H0V0z\" fill=\"none\"/>\n",
              "    <path d=\"M18.56 5.44l.94 2.06.94-2.06 2.06-.94-2.06-.94-.94-2.06-.94 2.06-2.06.94zm-11 1L8.5 8.5l.94-2.06 2.06-.94-2.06-.94L8.5 2.5l-.94 2.06-2.06.94zm10 10l.94 2.06.94-2.06 2.06-.94-2.06-.94-.94-2.06-.94 2.06-2.06.94z\"/><path d=\"M17.41 7.96l-1.37-1.37c-.4-.4-.92-.59-1.43-.59-.52 0-1.04.2-1.43.59L10.3 9.45l-7.72 7.72c-.78.78-.78 2.05 0 2.83L4 21.41c.39.39.9.59 1.41.59.51 0 1.02-.2 1.41-.59l7.78-7.78 2.81-2.81c.8-.78.8-2.07 0-2.86zM5.41 20L4 18.59l7.72-7.72 1.47 1.35L5.41 20z\"/>\n",
              "  </svg>\n",
              "      </button>\n",
              "      \n",
              "  <style>\n",
              "    .colab-df-container {\n",
              "      display:flex;\n",
              "      flex-wrap:wrap;\n",
              "      gap: 12px;\n",
              "    }\n",
              "\n",
              "    .colab-df-convert {\n",
              "      background-color: #E8F0FE;\n",
              "      border: none;\n",
              "      border-radius: 50%;\n",
              "      cursor: pointer;\n",
              "      display: none;\n",
              "      fill: #1967D2;\n",
              "      height: 32px;\n",
              "      padding: 0 0 0 0;\n",
              "      width: 32px;\n",
              "    }\n",
              "\n",
              "    .colab-df-convert:hover {\n",
              "      background-color: #E2EBFA;\n",
              "      box-shadow: 0px 1px 2px rgba(60, 64, 67, 0.3), 0px 1px 3px 1px rgba(60, 64, 67, 0.15);\n",
              "      fill: #174EA6;\n",
              "    }\n",
              "\n",
              "    [theme=dark] .colab-df-convert {\n",
              "      background-color: #3B4455;\n",
              "      fill: #D2E3FC;\n",
              "    }\n",
              "\n",
              "    [theme=dark] .colab-df-convert:hover {\n",
              "      background-color: #434B5C;\n",
              "      box-shadow: 0px 1px 3px 1px rgba(0, 0, 0, 0.15);\n",
              "      filter: drop-shadow(0px 1px 2px rgba(0, 0, 0, 0.3));\n",
              "      fill: #FFFFFF;\n",
              "    }\n",
              "  </style>\n",
              "\n",
              "      <script>\n",
              "        const buttonEl =\n",
              "          document.querySelector('#df-ed40d8ef-8c1f-41ea-aa68-b1e4f7dd89d5 button.colab-df-convert');\n",
              "        buttonEl.style.display =\n",
              "          google.colab.kernel.accessAllowed ? 'block' : 'none';\n",
              "\n",
              "        async function convertToInteractive(key) {\n",
              "          const element = document.querySelector('#df-ed40d8ef-8c1f-41ea-aa68-b1e4f7dd89d5');\n",
              "          const dataTable =\n",
              "            await google.colab.kernel.invokeFunction('convertToInteractive',\n",
              "                                                     [key], {});\n",
              "          if (!dataTable) return;\n",
              "\n",
              "          const docLinkHtml = 'Like what you see? Visit the ' +\n",
              "            '<a target=\"_blank\" href=https://colab.research.google.com/notebooks/data_table.ipynb>data table notebook</a>'\n",
              "            + ' to learn more about interactive tables.';\n",
              "          element.innerHTML = '';\n",
              "          dataTable['output_type'] = 'display_data';\n",
              "          await google.colab.output.renderOutput(dataTable, element);\n",
              "          const docLink = document.createElement('div');\n",
              "          docLink.innerHTML = docLinkHtml;\n",
              "          element.appendChild(docLink);\n",
              "        }\n",
              "      </script>\n",
              "    </div>\n",
              "  </div>\n",
              "  "
            ],
            "text/plain": [
              "                     EUR_USD           r  ...  vol_lag_4  vol_lag_5\n",
              "Date                                      ...                      \n",
              "2019-10-02 03:00:00   1.0937 -9.1429e-05  ...     0.0008     0.0008\n",
              "2019-10-02 04:00:00   1.0937  0.0000e+00  ...     0.0008     0.0008\n",
              "2019-10-02 05:00:00   1.0936 -9.1437e-05  ...     0.0008     0.0008\n",
              "2019-10-02 06:00:00   1.0933 -2.7436e-04  ...     0.0008     0.0008\n",
              "2019-10-02 07:00:00   1.0935  1.8292e-04  ...     0.0008     0.0008\n",
              "...                      ...         ...  ...        ...        ...\n",
              "2019-12-31 21:00:00   1.1216 -5.3481e-04  ...     0.0007     0.0007\n",
              "2019-12-31 22:00:00   1.1215 -8.9162e-05  ...     0.0006     0.0007\n",
              "2019-12-31 23:00:00   1.1208 -6.2436e-04  ...     0.0006     0.0006\n",
              "2020-01-01 00:00:00   1.1211  2.6763e-04  ...     0.0006     0.0006\n",
              "2020-01-01 01:00:00   1.1211  0.0000e+00  ...     0.0006     0.0006\n",
              "\n",
              "[2183 rows x 48 columns]"
            ]
          },
          "metadata": {},
          "execution_count": 16
        }
      ]
    },
    {
      "cell_type": "code",
      "source": [
        "data.iloc[:10, :14].round(4)"
      ],
      "metadata": {
        "colab": {
          "base_uri": "https://localhost:8080/",
          "height": 394
        },
        "id": "WsICcxhkzeRE",
        "outputId": "e2c2fa08-3f72-40f5-babc-6ac1af6179b5"
      },
      "execution_count": 17,
      "outputs": [
        {
          "output_type": "execute_result",
          "data": {
            "text/html": [
              "\n",
              "  <div id=\"df-c2356854-27b5-4533-93d8-17fa13c869ce\">\n",
              "    <div class=\"colab-df-container\">\n",
              "      <div>\n",
              "<style scoped>\n",
              "    .dataframe tbody tr th:only-of-type {\n",
              "        vertical-align: middle;\n",
              "    }\n",
              "\n",
              "    .dataframe tbody tr th {\n",
              "        vertical-align: top;\n",
              "    }\n",
              "\n",
              "    .dataframe thead th {\n",
              "        text-align: right;\n",
              "    }\n",
              "</style>\n",
              "<table border=\"1\" class=\"dataframe\">\n",
              "  <thead>\n",
              "    <tr style=\"text-align: right;\">\n",
              "      <th></th>\n",
              "      <th>EUR_USD</th>\n",
              "      <th>r</th>\n",
              "      <th>sma</th>\n",
              "      <th>min</th>\n",
              "      <th>max</th>\n",
              "      <th>mom</th>\n",
              "      <th>vol</th>\n",
              "      <th>d</th>\n",
              "      <th>EUR_USD_lag_1</th>\n",
              "      <th>EUR_USD_lag_2</th>\n",
              "      <th>EUR_USD_lag_3</th>\n",
              "      <th>EUR_USD_lag_4</th>\n",
              "      <th>EUR_USD_lag_5</th>\n",
              "      <th>r_lag_1</th>\n",
              "    </tr>\n",
              "    <tr>\n",
              "      <th>Date</th>\n",
              "      <th></th>\n",
              "      <th></th>\n",
              "      <th></th>\n",
              "      <th></th>\n",
              "      <th></th>\n",
              "      <th></th>\n",
              "      <th></th>\n",
              "      <th></th>\n",
              "      <th></th>\n",
              "      <th></th>\n",
              "      <th></th>\n",
              "      <th></th>\n",
              "      <th></th>\n",
              "      <th></th>\n",
              "    </tr>\n",
              "  </thead>\n",
              "  <tbody>\n",
              "    <tr>\n",
              "      <th>2019-10-02 03:00:00</th>\n",
              "      <td>1.0937</td>\n",
              "      <td>-0.0001</td>\n",
              "      <td>1.0916</td>\n",
              "      <td>1.0879</td>\n",
              "      <td>1.0938</td>\n",
              "      <td>0.0002</td>\n",
              "      <td>0.0008</td>\n",
              "      <td>0</td>\n",
              "      <td>1.0938</td>\n",
              "      <td>1.0932</td>\n",
              "      <td>1.0931</td>\n",
              "      <td>1.0931</td>\n",
              "      <td>1.0931</td>\n",
              "      <td>0.0005</td>\n",
              "    </tr>\n",
              "    <tr>\n",
              "      <th>2019-10-02 04:00:00</th>\n",
              "      <td>1.0937</td>\n",
              "      <td>0.0000</td>\n",
              "      <td>1.0918</td>\n",
              "      <td>1.0885</td>\n",
              "      <td>1.0938</td>\n",
              "      <td>0.0003</td>\n",
              "      <td>0.0008</td>\n",
              "      <td>0</td>\n",
              "      <td>1.0937</td>\n",
              "      <td>1.0938</td>\n",
              "      <td>1.0932</td>\n",
              "      <td>1.0931</td>\n",
              "      <td>1.0931</td>\n",
              "      <td>-0.0001</td>\n",
              "    </tr>\n",
              "    <tr>\n",
              "      <th>2019-10-02 05:00:00</th>\n",
              "      <td>1.0936</td>\n",
              "      <td>-0.0001</td>\n",
              "      <td>1.0921</td>\n",
              "      <td>1.0886</td>\n",
              "      <td>1.0938</td>\n",
              "      <td>0.0002</td>\n",
              "      <td>0.0008</td>\n",
              "      <td>0</td>\n",
              "      <td>1.0937</td>\n",
              "      <td>1.0937</td>\n",
              "      <td>1.0938</td>\n",
              "      <td>1.0932</td>\n",
              "      <td>1.0931</td>\n",
              "      <td>0.0000</td>\n",
              "    </tr>\n",
              "    <tr>\n",
              "      <th>2019-10-02 06:00:00</th>\n",
              "      <td>1.0933</td>\n",
              "      <td>-0.0003</td>\n",
              "      <td>1.0923</td>\n",
              "      <td>1.0886</td>\n",
              "      <td>1.0938</td>\n",
              "      <td>0.0002</td>\n",
              "      <td>0.0008</td>\n",
              "      <td>0</td>\n",
              "      <td>1.0936</td>\n",
              "      <td>1.0937</td>\n",
              "      <td>1.0937</td>\n",
              "      <td>1.0938</td>\n",
              "      <td>1.0932</td>\n",
              "      <td>-0.0001</td>\n",
              "    </tr>\n",
              "    <tr>\n",
              "      <th>2019-10-02 07:00:00</th>\n",
              "      <td>1.0935</td>\n",
              "      <td>0.0002</td>\n",
              "      <td>1.0925</td>\n",
              "      <td>1.0886</td>\n",
              "      <td>1.0938</td>\n",
              "      <td>0.0002</td>\n",
              "      <td>0.0008</td>\n",
              "      <td>1</td>\n",
              "      <td>1.0933</td>\n",
              "      <td>1.0936</td>\n",
              "      <td>1.0937</td>\n",
              "      <td>1.0937</td>\n",
              "      <td>1.0938</td>\n",
              "      <td>-0.0003</td>\n",
              "    </tr>\n",
              "    <tr>\n",
              "      <th>2019-10-02 08:00:00</th>\n",
              "      <td>1.0923</td>\n",
              "      <td>-0.0011</td>\n",
              "      <td>1.0926</td>\n",
              "      <td>1.0886</td>\n",
              "      <td>1.0938</td>\n",
              "      <td>0.0001</td>\n",
              "      <td>0.0008</td>\n",
              "      <td>0</td>\n",
              "      <td>1.0935</td>\n",
              "      <td>1.0933</td>\n",
              "      <td>1.0936</td>\n",
              "      <td>1.0937</td>\n",
              "      <td>1.0937</td>\n",
              "      <td>0.0002</td>\n",
              "    </tr>\n",
              "    <tr>\n",
              "      <th>2019-10-02 09:00:00</th>\n",
              "      <td>1.0918</td>\n",
              "      <td>-0.0005</td>\n",
              "      <td>1.0927</td>\n",
              "      <td>1.0886</td>\n",
              "      <td>1.0938</td>\n",
              "      <td>0.0001</td>\n",
              "      <td>0.0008</td>\n",
              "      <td>0</td>\n",
              "      <td>1.0923</td>\n",
              "      <td>1.0935</td>\n",
              "      <td>1.0933</td>\n",
              "      <td>1.0936</td>\n",
              "      <td>1.0937</td>\n",
              "      <td>-0.0011</td>\n",
              "    </tr>\n",
              "    <tr>\n",
              "      <th>2019-10-02 10:00:00</th>\n",
              "      <td>1.0904</td>\n",
              "      <td>-0.0013</td>\n",
              "      <td>1.0928</td>\n",
              "      <td>1.0886</td>\n",
              "      <td>1.0938</td>\n",
              "      <td>0.0000</td>\n",
              "      <td>0.0009</td>\n",
              "      <td>0</td>\n",
              "      <td>1.0918</td>\n",
              "      <td>1.0923</td>\n",
              "      <td>1.0935</td>\n",
              "      <td>1.0933</td>\n",
              "      <td>1.0936</td>\n",
              "      <td>-0.0005</td>\n",
              "    </tr>\n",
              "    <tr>\n",
              "      <th>2019-10-02 11:00:00</th>\n",
              "      <td>1.0916</td>\n",
              "      <td>0.0011</td>\n",
              "      <td>1.0929</td>\n",
              "      <td>1.0904</td>\n",
              "      <td>1.0938</td>\n",
              "      <td>0.0001</td>\n",
              "      <td>0.0009</td>\n",
              "      <td>1</td>\n",
              "      <td>1.0904</td>\n",
              "      <td>1.0918</td>\n",
              "      <td>1.0923</td>\n",
              "      <td>1.0935</td>\n",
              "      <td>1.0933</td>\n",
              "      <td>-0.0013</td>\n",
              "    </tr>\n",
              "    <tr>\n",
              "      <th>2019-10-02 12:00:00</th>\n",
              "      <td>1.0920</td>\n",
              "      <td>0.0004</td>\n",
              "      <td>1.0930</td>\n",
              "      <td>1.0904</td>\n",
              "      <td>1.0938</td>\n",
              "      <td>0.0000</td>\n",
              "      <td>0.0007</td>\n",
              "      <td>1</td>\n",
              "      <td>1.0916</td>\n",
              "      <td>1.0904</td>\n",
              "      <td>1.0918</td>\n",
              "      <td>1.0923</td>\n",
              "      <td>1.0935</td>\n",
              "      <td>0.0011</td>\n",
              "    </tr>\n",
              "  </tbody>\n",
              "</table>\n",
              "</div>\n",
              "      <button class=\"colab-df-convert\" onclick=\"convertToInteractive('df-c2356854-27b5-4533-93d8-17fa13c869ce')\"\n",
              "              title=\"Convert this dataframe to an interactive table.\"\n",
              "              style=\"display:none;\">\n",
              "        \n",
              "  <svg xmlns=\"http://www.w3.org/2000/svg\" height=\"24px\"viewBox=\"0 0 24 24\"\n",
              "       width=\"24px\">\n",
              "    <path d=\"M0 0h24v24H0V0z\" fill=\"none\"/>\n",
              "    <path d=\"M18.56 5.44l.94 2.06.94-2.06 2.06-.94-2.06-.94-.94-2.06-.94 2.06-2.06.94zm-11 1L8.5 8.5l.94-2.06 2.06-.94-2.06-.94L8.5 2.5l-.94 2.06-2.06.94zm10 10l.94 2.06.94-2.06 2.06-.94-2.06-.94-.94-2.06-.94 2.06-2.06.94z\"/><path d=\"M17.41 7.96l-1.37-1.37c-.4-.4-.92-.59-1.43-.59-.52 0-1.04.2-1.43.59L10.3 9.45l-7.72 7.72c-.78.78-.78 2.05 0 2.83L4 21.41c.39.39.9.59 1.41.59.51 0 1.02-.2 1.41-.59l7.78-7.78 2.81-2.81c.8-.78.8-2.07 0-2.86zM5.41 20L4 18.59l7.72-7.72 1.47 1.35L5.41 20z\"/>\n",
              "  </svg>\n",
              "      </button>\n",
              "      \n",
              "  <style>\n",
              "    .colab-df-container {\n",
              "      display:flex;\n",
              "      flex-wrap:wrap;\n",
              "      gap: 12px;\n",
              "    }\n",
              "\n",
              "    .colab-df-convert {\n",
              "      background-color: #E8F0FE;\n",
              "      border: none;\n",
              "      border-radius: 50%;\n",
              "      cursor: pointer;\n",
              "      display: none;\n",
              "      fill: #1967D2;\n",
              "      height: 32px;\n",
              "      padding: 0 0 0 0;\n",
              "      width: 32px;\n",
              "    }\n",
              "\n",
              "    .colab-df-convert:hover {\n",
              "      background-color: #E2EBFA;\n",
              "      box-shadow: 0px 1px 2px rgba(60, 64, 67, 0.3), 0px 1px 3px 1px rgba(60, 64, 67, 0.15);\n",
              "      fill: #174EA6;\n",
              "    }\n",
              "\n",
              "    [theme=dark] .colab-df-convert {\n",
              "      background-color: #3B4455;\n",
              "      fill: #D2E3FC;\n",
              "    }\n",
              "\n",
              "    [theme=dark] .colab-df-convert:hover {\n",
              "      background-color: #434B5C;\n",
              "      box-shadow: 0px 1px 3px 1px rgba(0, 0, 0, 0.15);\n",
              "      filter: drop-shadow(0px 1px 2px rgba(0, 0, 0, 0.3));\n",
              "      fill: #FFFFFF;\n",
              "    }\n",
              "  </style>\n",
              "\n",
              "      <script>\n",
              "        const buttonEl =\n",
              "          document.querySelector('#df-c2356854-27b5-4533-93d8-17fa13c869ce button.colab-df-convert');\n",
              "        buttonEl.style.display =\n",
              "          google.colab.kernel.accessAllowed ? 'block' : 'none';\n",
              "\n",
              "        async function convertToInteractive(key) {\n",
              "          const element = document.querySelector('#df-c2356854-27b5-4533-93d8-17fa13c869ce');\n",
              "          const dataTable =\n",
              "            await google.colab.kernel.invokeFunction('convertToInteractive',\n",
              "                                                     [key], {});\n",
              "          if (!dataTable) return;\n",
              "\n",
              "          const docLinkHtml = 'Like what you see? Visit the ' +\n",
              "            '<a target=\"_blank\" href=https://colab.research.google.com/notebooks/data_table.ipynb>data table notebook</a>'\n",
              "            + ' to learn more about interactive tables.';\n",
              "          element.innerHTML = '';\n",
              "          dataTable['output_type'] = 'display_data';\n",
              "          await google.colab.output.renderOutput(dataTable, element);\n",
              "          const docLink = document.createElement('div');\n",
              "          docLink.innerHTML = docLinkHtml;\n",
              "          element.appendChild(docLink);\n",
              "        }\n",
              "      </script>\n",
              "    </div>\n",
              "  </div>\n",
              "  "
            ],
            "text/plain": [
              "                     EUR_USD       r  ...  EUR_USD_lag_5  r_lag_1\n",
              "Date                                  ...                        \n",
              "2019-10-02 03:00:00   1.0937 -0.0001  ...         1.0931   0.0005\n",
              "2019-10-02 04:00:00   1.0937  0.0000  ...         1.0931  -0.0001\n",
              "2019-10-02 05:00:00   1.0936 -0.0001  ...         1.0931   0.0000\n",
              "2019-10-02 06:00:00   1.0933 -0.0003  ...         1.0932  -0.0001\n",
              "2019-10-02 07:00:00   1.0935  0.0002  ...         1.0938  -0.0003\n",
              "2019-10-02 08:00:00   1.0923 -0.0011  ...         1.0937   0.0002\n",
              "2019-10-02 09:00:00   1.0918 -0.0005  ...         1.0937  -0.0011\n",
              "2019-10-02 10:00:00   1.0904 -0.0013  ...         1.0936  -0.0005\n",
              "2019-10-02 11:00:00   1.0916  0.0011  ...         1.0933  -0.0013\n",
              "2019-10-02 12:00:00   1.0920  0.0004  ...         1.0935   0.0011\n",
              "\n",
              "[10 rows x 14 columns]"
            ]
          },
          "metadata": {},
          "execution_count": 17
        }
      ]
    },
    {
      "cell_type": "code",
      "source": [
        "c = data['d'].value_counts()\n",
        "c"
      ],
      "metadata": {
        "colab": {
          "base_uri": "https://localhost:8080/"
        },
        "id": "3jykECXfzgK8",
        "outputId": "23b5daa5-2ceb-45bd-8ba9-a79fdd0bbdc9"
      },
      "execution_count": 18,
      "outputs": [
        {
          "output_type": "execute_result",
          "data": {
            "text/plain": [
              "0    1445\n",
              "1     738\n",
              "Name: d, dtype: int64"
            ]
          },
          "metadata": {},
          "execution_count": 18
        }
      ]
    },
    {
      "cell_type": "code",
      "source": [
        "def cw(df):\n",
        "    c0, c1 = np.bincount(df['d'])\n",
        "    w0 = (1 / c0) * (len(df)) / 2\n",
        "    w1 = (1 / c1) * (len(df)) / 2\n",
        "    return {0: w0, 1: w1}"
      ],
      "metadata": {
        "id": "hJbxN7hazyp7"
      },
      "execution_count": 19,
      "outputs": []
    },
    {
      "cell_type": "code",
      "source": [
        "class_weight = cw(data)"
      ],
      "metadata": {
        "id": "HaCm9syPTdz8"
      },
      "execution_count": 20,
      "outputs": []
    },
    {
      "cell_type": "code",
      "source": [
        "class_weight"
      ],
      "metadata": {
        "colab": {
          "base_uri": "https://localhost:8080/"
        },
        "id": "SF-GV4zwUP_p",
        "outputId": "ede0a9d7-dd05-4aa2-961e-38616ae07ac3"
      },
      "execution_count": 21,
      "outputs": [
        {
          "output_type": "execute_result",
          "data": {
            "text/plain": [
              "{0: 0.755363321799308, 1: 1.4789972899728998}"
            ]
          },
          "metadata": {},
          "execution_count": 21
        }
      ]
    },
    {
      "cell_type": "code",
      "source": [
        "class_weight[0] * c[0]"
      ],
      "metadata": {
        "colab": {
          "base_uri": "https://localhost:8080/"
        },
        "id": "swfsYH6RURf3",
        "outputId": "c97af0e5-bb23-4a28-d96c-9376c925bc83"
      },
      "execution_count": 22,
      "outputs": [
        {
          "output_type": "execute_result",
          "data": {
            "text/plain": [
              "1091.5"
            ]
          },
          "metadata": {},
          "execution_count": 22
        }
      ]
    },
    {
      "cell_type": "code",
      "source": [
        "class_weight[1] * c[1]"
      ],
      "metadata": {
        "colab": {
          "base_uri": "https://localhost:8080/"
        },
        "id": "54VX6m8qUUh5",
        "outputId": "ff86377f-d635-4f72-843b-94d4fb798bfa"
      },
      "execution_count": 23,
      "outputs": [
        {
          "output_type": "execute_result",
          "data": {
            "text/plain": [
              "1091.5"
            ]
          },
          "metadata": {},
          "execution_count": 23
        }
      ]
    },
    {
      "cell_type": "code",
      "source": [
        "import random\n",
        "import logging\n",
        "import tensorflow as tf\n",
        "from keras.layers import Dense\n",
        "from keras.models import Sequential\n",
        "#from keras.optimizers import Adam\n",
        "from tensorflow.keras.optimizers import Adam\n",
        "from sklearn.metrics import accuracy_score\n",
        "tf.get_logger().setLevel(logging.ERROR)"
      ],
      "metadata": {
        "id": "dFIiFIgSUY56"
      },
      "execution_count": 25,
      "outputs": []
    },
    {
      "cell_type": "code",
      "source": [
        "def set_seeds(seed=100):\n",
        "    random.seed(seed)\n",
        "    np.random.seed(seed)\n",
        "    tf.random.set_seed(seed)"
      ],
      "metadata": {
        "id": "rDxCqouPUbQg"
      },
      "execution_count": 26,
      "outputs": []
    },
    {
      "cell_type": "code",
      "source": [
        "#optimizer = Adam(lr=0.001)\n",
        "optimizer = Adam(learning_rate=0.001)"
      ],
      "metadata": {
        "id": "Q9Ur2IYnVRJE"
      },
      "execution_count": 28,
      "outputs": []
    },
    {
      "cell_type": "code",
      "source": [
        "def create_model(hl=1, hu=128, optimizer=optimizer):\n",
        "    model = Sequential()\n",
        "    model.add(Dense(hu, input_dim=len(cols),\n",
        "                    activation='relu'))\n",
        "    for _ in range(hl):\n",
        "        model.add(Dense(hu, activation='relu'))\n",
        "    model.add(Dense(1, activation='sigmoid'))\n",
        "    model.compile(loss='binary_crossentropy',\n",
        "                  optimizer=optimizer,\n",
        "                  metrics=['accuracy'])\n",
        "    return model"
      ],
      "metadata": {
        "id": "_iKbOaqUVTbE"
      },
      "execution_count": 29,
      "outputs": []
    },
    {
      "cell_type": "code",
      "source": [
        "set_seeds()\n",
        "model = create_model(hl=1, hu=128)"
      ],
      "metadata": {
        "id": "Z6yP-hnPVfVD"
      },
      "execution_count": 30,
      "outputs": []
    },
    {
      "cell_type": "code",
      "source": [
        "model.summary()"
      ],
      "metadata": {
        "colab": {
          "base_uri": "https://localhost:8080/"
        },
        "id": "ZmwlF3Z-WeYO",
        "outputId": "35d7358e-f08c-48ac-c747-7c7e1a814983"
      },
      "execution_count": 31,
      "outputs": [
        {
          "output_type": "stream",
          "name": "stdout",
          "text": [
            "Model: \"sequential\"\n",
            "_________________________________________________________________\n",
            " Layer (type)                Output Shape              Param #   \n",
            "=================================================================\n",
            " dense (Dense)               (None, 128)               5248      \n",
            "                                                                 \n",
            " dense_1 (Dense)             (None, 128)               16512     \n",
            "                                                                 \n",
            " dense_2 (Dense)             (None, 1)                 129       \n",
            "                                                                 \n",
            "=================================================================\n",
            "Total params: 21,889\n",
            "Trainable params: 21,889\n",
            "Non-trainable params: 0\n",
            "_________________________________________________________________\n"
          ]
        }
      ]
    },
    {
      "cell_type": "code",
      "source": [
        "# First Layer: (40+1)*128\n",
        "# 1 is intercept\n",
        "# 40 is 40 columns"
      ],
      "metadata": {
        "id": "L1PZSawcWigu"
      },
      "execution_count": 34,
      "outputs": []
    },
    {
      "cell_type": "code",
      "source": [
        "# Second Layer: (128+1)*128\n",
        "# 1 is intercept\n",
        "# 128 is unit in prior layer"
      ],
      "metadata": {
        "id": "UbJ2E2bsXLCS"
      },
      "execution_count": null,
      "outputs": []
    },
    {
      "cell_type": "code",
      "source": [
        "# Final Layer: 128+1"
      ],
      "metadata": {
        "id": "owsyxKkIXdA8"
      },
      "execution_count": null,
      "outputs": []
    },
    {
      "cell_type": "code",
      "source": [
        "%%time\n",
        "model.fit(data[cols], data['d'], epochs=50,\n",
        "          verbose=False, class_weight=cw(data))"
      ],
      "metadata": {
        "colab": {
          "base_uri": "https://localhost:8080/"
        },
        "id": "3s3zisZzW6PX",
        "outputId": "e3701834-ddd6-4e76-dc55-22163675b841"
      },
      "execution_count": 37,
      "outputs": [
        {
          "output_type": "stream",
          "name": "stdout",
          "text": [
            "CPU times: user 8.4 s, sys: 551 ms, total: 8.95 s\n",
            "Wall time: 11.8 s\n"
          ]
        },
        {
          "output_type": "execute_result",
          "data": {
            "text/plain": [
              "<keras.callbacks.History at 0x7fbaf034de10>"
            ]
          },
          "metadata": {},
          "execution_count": 37
        }
      ]
    },
    {
      "cell_type": "code",
      "source": [
        "model.evaluate(data[cols], data['d'])"
      ],
      "metadata": {
        "colab": {
          "base_uri": "https://localhost:8080/"
        },
        "id": "zL1c5EHYW4cb",
        "outputId": "bbb7742e-5359-41b9-af77-75201d412f8f"
      },
      "execution_count": 39,
      "outputs": [
        {
          "output_type": "stream",
          "name": "stdout",
          "text": [
            "69/69 [==============================] - 1s 3ms/step - loss: 0.5937 - accuracy: 0.6015\n"
          ]
        },
        {
          "output_type": "execute_result",
          "data": {
            "text/plain": [
              "[0.5937384963035583, 0.6014658808708191]"
            ]
          },
          "metadata": {},
          "execution_count": 39
        }
      ]
    },
    {
      "cell_type": "code",
      "source": [
        "data['p'] = np.where(model.predict(data[cols]) > 0.5, 1, 0)"
      ],
      "metadata": {
        "id": "YOWUEKgyYJTv"
      },
      "execution_count": 40,
      "outputs": []
    },
    {
      "cell_type": "code",
      "source": [
        "data['p'].value_counts()"
      ],
      "metadata": {
        "colab": {
          "base_uri": "https://localhost:8080/"
        },
        "id": "ZCPP6jIsYU_a",
        "outputId": "6d156060-2a9e-4566-bc3a-1728051e6521"
      },
      "execution_count": 41,
      "outputs": [
        {
          "output_type": "execute_result",
          "data": {
            "text/plain": [
              "1    1410\n",
              "0     773\n",
              "Name: p, dtype: int64"
            ]
          },
          "metadata": {},
          "execution_count": 41
        }
      ]
    },
    {
      "cell_type": "code",
      "source": [
        "split = int(len(data) * 0.8)"
      ],
      "metadata": {
        "id": "jV2BB-KbYsWl"
      },
      "execution_count": 42,
      "outputs": []
    },
    {
      "cell_type": "code",
      "source": [
        "train = data.iloc[:split].copy()"
      ],
      "metadata": {
        "id": "7LojecV0bcVs"
      },
      "execution_count": 43,
      "outputs": []
    },
    {
      "cell_type": "code",
      "source": [
        "test = data.iloc[split:].copy()"
      ],
      "metadata": {
        "id": "fB4HnWGqbeYS"
      },
      "execution_count": 44,
      "outputs": []
    },
    {
      "cell_type": "code",
      "source": [
        "set_seeds()\n",
        "model = create_model(hl=1, hu=128)"
      ],
      "metadata": {
        "id": "cq9HyhX9bgMC"
      },
      "execution_count": 45,
      "outputs": []
    },
    {
      "cell_type": "code",
      "source": [
        "%%time \n",
        "h = model.fit(train[cols], train['d'],\n",
        "          epochs=50, verbose=False,\n",
        "          validation_split=0.2, shuffle=False,\n",
        "          class_weight=cw(train))"
      ],
      "metadata": {
        "colab": {
          "base_uri": "https://localhost:8080/"
        },
        "id": "qvRt1zKbbhwq",
        "outputId": "b87dfbec-ebc1-41c9-c09b-fb4d82a5a8f2"
      },
      "execution_count": 46,
      "outputs": [
        {
          "output_type": "stream",
          "name": "stdout",
          "text": [
            "CPU times: user 7.39 s, sys: 409 ms, total: 7.8 s\n",
            "Wall time: 6.76 s\n"
          ]
        }
      ]
    },
    {
      "cell_type": "code",
      "source": [
        "model.evaluate(train[cols], train['d'])"
      ],
      "metadata": {
        "colab": {
          "base_uri": "https://localhost:8080/"
        },
        "id": "Xwmc3zJlbj2V",
        "outputId": "684e6b62-f31e-44fe-df47-261189c2975a"
      },
      "execution_count": 47,
      "outputs": [
        {
          "output_type": "stream",
          "name": "stdout",
          "text": [
            "55/55 [==============================] - 0s 2ms/step - loss: 0.6096 - accuracy: 0.5934\n"
          ]
        },
        {
          "output_type": "execute_result",
          "data": {
            "text/plain": [
              "[0.6096417903900146, 0.5933562517166138]"
            ]
          },
          "metadata": {},
          "execution_count": 47
        }
      ]
    },
    {
      "cell_type": "code",
      "source": [
        "model.evaluate(test[cols], test['d'])"
      ],
      "metadata": {
        "colab": {
          "base_uri": "https://localhost:8080/"
        },
        "id": "vd2x7X5ybn7t",
        "outputId": "23789c39-d46c-495c-fded-6e203ebf41af"
      },
      "execution_count": 48,
      "outputs": [
        {
          "output_type": "stream",
          "name": "stdout",
          "text": [
            "14/14 [==============================] - 0s 2ms/step - loss: 0.5931 - accuracy: 0.6133\n"
          ]
        },
        {
          "output_type": "execute_result",
          "data": {
            "text/plain": [
              "[0.5931045413017273, 0.6132723093032837]"
            ]
          },
          "metadata": {},
          "execution_count": 48
        }
      ]
    },
    {
      "cell_type": "code",
      "source": [
        "test['p'] = np.where(model.predict(test[cols]) > 0.5, 1, 0)"
      ],
      "metadata": {
        "id": "l64gJlX4bpd_"
      },
      "execution_count": 49,
      "outputs": []
    },
    {
      "cell_type": "code",
      "source": [
        "test['p'].value_counts()"
      ],
      "metadata": {
        "colab": {
          "base_uri": "https://localhost:8080/"
        },
        "id": "bFkbDkGYbvRL",
        "outputId": "39070018-20c3-40ec-b421-4f603751f439"
      },
      "execution_count": 50,
      "outputs": [
        {
          "output_type": "execute_result",
          "data": {
            "text/plain": [
              "1    284\n",
              "0    153\n",
              "Name: p, dtype: int64"
            ]
          },
          "metadata": {},
          "execution_count": 50
        }
      ]
    },
    {
      "cell_type": "code",
      "source": [
        "res = pd.DataFrame(h.history)"
      ],
      "metadata": {
        "id": "sMYMcBcGbxnT"
      },
      "execution_count": 51,
      "outputs": []
    },
    {
      "cell_type": "code",
      "source": [
        "res.head()"
      ],
      "metadata": {
        "colab": {
          "base_uri": "https://localhost:8080/",
          "height": 206
        },
        "id": "ZA3d22_NdHhR",
        "outputId": "d434bbe6-f708-4a22-a5c0-52dbbce3dc8d"
      },
      "execution_count": 55,
      "outputs": [
        {
          "output_type": "execute_result",
          "data": {
            "text/html": [
              "\n",
              "  <div id=\"df-476f4a30-dc52-46bd-9284-161116d0ad4f\">\n",
              "    <div class=\"colab-df-container\">\n",
              "      <div>\n",
              "<style scoped>\n",
              "    .dataframe tbody tr th:only-of-type {\n",
              "        vertical-align: middle;\n",
              "    }\n",
              "\n",
              "    .dataframe tbody tr th {\n",
              "        vertical-align: top;\n",
              "    }\n",
              "\n",
              "    .dataframe thead th {\n",
              "        text-align: right;\n",
              "    }\n",
              "</style>\n",
              "<table border=\"1\" class=\"dataframe\">\n",
              "  <thead>\n",
              "    <tr style=\"text-align: right;\">\n",
              "      <th></th>\n",
              "      <th>loss</th>\n",
              "      <th>accuracy</th>\n",
              "      <th>val_loss</th>\n",
              "      <th>val_accuracy</th>\n",
              "    </tr>\n",
              "  </thead>\n",
              "  <tbody>\n",
              "    <tr>\n",
              "      <th>0</th>\n",
              "      <td>0.7036</td>\n",
              "      <td>0.5509</td>\n",
              "      <td>0.6735</td>\n",
              "      <td>0.5686</td>\n",
              "    </tr>\n",
              "    <tr>\n",
              "      <th>1</th>\n",
              "      <td>0.6428</td>\n",
              "      <td>0.5745</td>\n",
              "      <td>0.6462</td>\n",
              "      <td>0.5686</td>\n",
              "    </tr>\n",
              "    <tr>\n",
              "      <th>2</th>\n",
              "      <td>0.6239</td>\n",
              "      <td>0.5774</td>\n",
              "      <td>0.6376</td>\n",
              "      <td>0.5543</td>\n",
              "    </tr>\n",
              "    <tr>\n",
              "      <th>3</th>\n",
              "      <td>0.6149</td>\n",
              "      <td>0.5695</td>\n",
              "      <td>0.6304</td>\n",
              "      <td>0.5743</td>\n",
              "    </tr>\n",
              "    <tr>\n",
              "      <th>4</th>\n",
              "      <td>0.6101</td>\n",
              "      <td>0.5695</td>\n",
              "      <td>0.6248</td>\n",
              "      <td>0.5743</td>\n",
              "    </tr>\n",
              "  </tbody>\n",
              "</table>\n",
              "</div>\n",
              "      <button class=\"colab-df-convert\" onclick=\"convertToInteractive('df-476f4a30-dc52-46bd-9284-161116d0ad4f')\"\n",
              "              title=\"Convert this dataframe to an interactive table.\"\n",
              "              style=\"display:none;\">\n",
              "        \n",
              "  <svg xmlns=\"http://www.w3.org/2000/svg\" height=\"24px\"viewBox=\"0 0 24 24\"\n",
              "       width=\"24px\">\n",
              "    <path d=\"M0 0h24v24H0V0z\" fill=\"none\"/>\n",
              "    <path d=\"M18.56 5.44l.94 2.06.94-2.06 2.06-.94-2.06-.94-.94-2.06-.94 2.06-2.06.94zm-11 1L8.5 8.5l.94-2.06 2.06-.94-2.06-.94L8.5 2.5l-.94 2.06-2.06.94zm10 10l.94 2.06.94-2.06 2.06-.94-2.06-.94-.94-2.06-.94 2.06-2.06.94z\"/><path d=\"M17.41 7.96l-1.37-1.37c-.4-.4-.92-.59-1.43-.59-.52 0-1.04.2-1.43.59L10.3 9.45l-7.72 7.72c-.78.78-.78 2.05 0 2.83L4 21.41c.39.39.9.59 1.41.59.51 0 1.02-.2 1.41-.59l7.78-7.78 2.81-2.81c.8-.78.8-2.07 0-2.86zM5.41 20L4 18.59l7.72-7.72 1.47 1.35L5.41 20z\"/>\n",
              "  </svg>\n",
              "      </button>\n",
              "      \n",
              "  <style>\n",
              "    .colab-df-container {\n",
              "      display:flex;\n",
              "      flex-wrap:wrap;\n",
              "      gap: 12px;\n",
              "    }\n",
              "\n",
              "    .colab-df-convert {\n",
              "      background-color: #E8F0FE;\n",
              "      border: none;\n",
              "      border-radius: 50%;\n",
              "      cursor: pointer;\n",
              "      display: none;\n",
              "      fill: #1967D2;\n",
              "      height: 32px;\n",
              "      padding: 0 0 0 0;\n",
              "      width: 32px;\n",
              "    }\n",
              "\n",
              "    .colab-df-convert:hover {\n",
              "      background-color: #E2EBFA;\n",
              "      box-shadow: 0px 1px 2px rgba(60, 64, 67, 0.3), 0px 1px 3px 1px rgba(60, 64, 67, 0.15);\n",
              "      fill: #174EA6;\n",
              "    }\n",
              "\n",
              "    [theme=dark] .colab-df-convert {\n",
              "      background-color: #3B4455;\n",
              "      fill: #D2E3FC;\n",
              "    }\n",
              "\n",
              "    [theme=dark] .colab-df-convert:hover {\n",
              "      background-color: #434B5C;\n",
              "      box-shadow: 0px 1px 3px 1px rgba(0, 0, 0, 0.15);\n",
              "      filter: drop-shadow(0px 1px 2px rgba(0, 0, 0, 0.3));\n",
              "      fill: #FFFFFF;\n",
              "    }\n",
              "  </style>\n",
              "\n",
              "      <script>\n",
              "        const buttonEl =\n",
              "          document.querySelector('#df-476f4a30-dc52-46bd-9284-161116d0ad4f button.colab-df-convert');\n",
              "        buttonEl.style.display =\n",
              "          google.colab.kernel.accessAllowed ? 'block' : 'none';\n",
              "\n",
              "        async function convertToInteractive(key) {\n",
              "          const element = document.querySelector('#df-476f4a30-dc52-46bd-9284-161116d0ad4f');\n",
              "          const dataTable =\n",
              "            await google.colab.kernel.invokeFunction('convertToInteractive',\n",
              "                                                     [key], {});\n",
              "          if (!dataTable) return;\n",
              "\n",
              "          const docLinkHtml = 'Like what you see? Visit the ' +\n",
              "            '<a target=\"_blank\" href=https://colab.research.google.com/notebooks/data_table.ipynb>data table notebook</a>'\n",
              "            + ' to learn more about interactive tables.';\n",
              "          element.innerHTML = '';\n",
              "          dataTable['output_type'] = 'display_data';\n",
              "          await google.colab.output.renderOutput(dataTable, element);\n",
              "          const docLink = document.createElement('div');\n",
              "          docLink.innerHTML = docLinkHtml;\n",
              "          element.appendChild(docLink);\n",
              "        }\n",
              "      </script>\n",
              "    </div>\n",
              "  </div>\n",
              "  "
            ],
            "text/plain": [
              "     loss  accuracy  val_loss  val_accuracy\n",
              "0  0.7036    0.5509    0.6735        0.5686\n",
              "1  0.6428    0.5745    0.6462        0.5686\n",
              "2  0.6239    0.5774    0.6376        0.5543\n",
              "3  0.6149    0.5695    0.6304        0.5743\n",
              "4  0.6101    0.5695    0.6248        0.5743"
            ]
          },
          "metadata": {},
          "execution_count": 55
        }
      ]
    },
    {
      "cell_type": "code",
      "source": [
        "res[['loss', 'val_loss']].plot(figsize=(10, 6), style='--');"
      ],
      "metadata": {
        "colab": {
          "base_uri": "https://localhost:8080/",
          "height": 373
        },
        "id": "R2A-1IISdR40",
        "outputId": "21109ec0-5e19-45bb-af89-8220a6f30f60"
      },
      "execution_count": 56,
      "outputs": [
        {
          "output_type": "display_data",
          "data": {
            "image/png": "[encoded data removed]",
            "text/plain": [
              "<Figure size 720x432 with 1 Axes>"
            ]
          },
          "metadata": {
            "needs_background": "light"
          }
        }
      ]
    },
    {
      "cell_type": "code",
      "source": [
        "res[['accuracy', 'val_accuracy']].plot(figsize=(10, 6), style='--');"
      ],
      "metadata": {
        "colab": {
          "base_uri": "https://localhost:8080/",
          "height": 373
        },
        "id": "_uh6UqKRbze-",
        "outputId": "5dc6ad8b-ef11-467f-999a-dc7d50efbaca"
      },
      "execution_count": 52,
      "outputs": [
        {
          "output_type": "display_data",
          "data": {
            "image/png": "[encoded data removed]",
            "text/plain": [
              "<Figure size 720x432 with 1 Axes>"
            ]
          },
          "metadata": {
            "needs_background": "light"
          }
        }
      ]
    },
    {
      "cell_type": "markdown",
      "source": [
        "## Normalization"
      ],
      "metadata": {
        "id": "Q4zH8ciyb94j"
      }
    },
    {
      "cell_type": "code",
      "source": [
        "mu, std = train.mean(), train.std()"
      ],
      "metadata": {
        "id": "Uzx4rgWwcAOL"
      },
      "execution_count": 53,
      "outputs": []
    },
    {
      "cell_type": "code",
      "source": [
        "train_ = (train - mu) / std"
      ],
      "metadata": {
        "id": "6QubhtpscD3w"
      },
      "execution_count": 57,
      "outputs": []
    },
    {
      "cell_type": "code",
      "source": [
        "#train_.std().round(3)"
      ],
      "metadata": {
        "id": "UodHMZjfdiH2"
      },
      "execution_count": 59,
      "outputs": []
    },
    {
      "cell_type": "code",
      "source": [
        "set_seeds()\n",
        "model = create_model(hl=2, hu=128)"
      ],
      "metadata": {
        "id": "krVvfPzYdlCP"
      },
      "execution_count": 60,
      "outputs": []
    },
    {
      "cell_type": "code",
      "source": [
        ""
      ],
      "metadata": {
        "id": "JL2Eu6qcdp0J"
      },
      "execution_count": null,
      "outputs": []
    }
  ]
}