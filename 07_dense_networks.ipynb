{
  "nbformat": 4,
  "nbformat_minor": 0,
  "metadata": {
    "colab": {
      "name": "07_dense_networks.ipynb",
      "provenance": [],
      "collapsed_sections": [],
      "authorship_tag": "ABX9TyMu6UxcQZsvs9gP7ZHH90zZ",
      "include_colab_link": true
    },
    "kernelspec": {
      "name": "python3",
      "display_name": "Python 3"
    },
    "language_info": {
      "name": "python"
    }
  },
  "cells": [
    {
      "cell_type": "markdown",
      "metadata": {
        "id": "view-in-github",
        "colab_type": "text"
      },
      "source": [
        "<a href=\"https://colab.research.google.com/github/michaelsyao/AI_in_Finance/blob/main/07_dense_networks.ipynb\" target=\"_parent\"><img src=\"https://colab.research.google.com/assets/colab-badge.svg\" alt=\"Open In Colab\"/></a>"
      ]
    },
    {
      "cell_type": "markdown",
      "source": [
        "## Dense Neural Networks"
      ],
      "metadata": {
        "id": "VdfCcgLArh2N"
      }
    },
    {
      "cell_type": "code",
      "source": [
        "import os\n",
        "import numpy as np\n",
        "import pandas as pd\n",
        "from pylab import plt, mpl\n",
        "plt.style.use('seaborn')\n",
        "mpl.rcParams['savefig.dpi'] = 300\n",
        "mpl.rcParams['font.family'] = 'serif'\n",
        "\n",
        "pd.set_option('precision', 4)\n",
        "np.set_printoptions(suppress=True, precision=4)\n",
        "\n",
        "os.environ['PYTHONHASHSEED'] = '0'"
      ],
      "metadata": {
        "id": "18YjPAsvrigG"
      },
      "execution_count": 1,
      "outputs": []
    },
    {
      "cell_type": "markdown",
      "source": [
        "## The Data"
      ],
      "metadata": {
        "id": "CmRHgqF8rmB4"
      }
    },
    {
      "cell_type": "code",
      "source": [
        "url = 'http://hilpisch.com/aiif_eikon_id_eur_usd.csv'"
      ],
      "metadata": {
        "id": "oyyOHrKYrn3T"
      },
      "execution_count": 2,
      "outputs": []
    },
    {
      "cell_type": "code",
      "source": [
        "symbol = 'EUR_USD'"
      ],
      "metadata": {
        "id": "g3ljTNsQrrJ6"
      },
      "execution_count": 3,
      "outputs": []
    },
    {
      "cell_type": "code",
      "source": [
        "raw = pd.read_csv(url, index_col=0, parse_dates=True)"
      ],
      "metadata": {
        "id": "6r3U1G_fry-j"
      },
      "execution_count": 4,
      "outputs": []
    },
    {
      "cell_type": "code",
      "source": [
        "raw.head()"
      ],
      "metadata": {
        "id": "9pVvYTNPr0Wg",
        "colab": {
          "base_uri": "https://localhost:8080/",
          "height": 237
        },
        "outputId": "ae3d2e78-8ea7-487a-b272-e30192c9c0e2"
      },
      "execution_count": 5,
      "outputs": [
        {
          "output_type": "execute_result",
          "data": {
            "text/html": [
              "\n",
              "  <div id=\"df-652c70ae-dd86-4d8c-84ee-f7a384a74f9a\">\n",
              "    <div class=\"colab-df-container\">\n",
              "      <div>\n",
              "<style scoped>\n",
              "    .dataframe tbody tr th:only-of-type {\n",
              "        vertical-align: middle;\n",
              "    }\n",
              "\n",
              "    .dataframe tbody tr th {\n",
              "        vertical-align: top;\n",
              "    }\n",
              "\n",
              "    .dataframe thead th {\n",
              "        text-align: right;\n",
              "    }\n",
              "</style>\n",
              "<table border=\"1\" class=\"dataframe\">\n",
              "  <thead>\n",
              "    <tr style=\"text-align: right;\">\n",
              "      <th></th>\n",
              "      <th>HIGH</th>\n",
              "      <th>LOW</th>\n",
              "      <th>OPEN</th>\n",
              "      <th>CLOSE</th>\n",
              "    </tr>\n",
              "    <tr>\n",
              "      <th>Date</th>\n",
              "      <th></th>\n",
              "      <th></th>\n",
              "      <th></th>\n",
              "      <th></th>\n",
              "    </tr>\n",
              "  </thead>\n",
              "  <tbody>\n",
              "    <tr>\n",
              "      <th>2019-10-01 00:00:00</th>\n",
              "      <td>1.0899</td>\n",
              "      <td>1.0897</td>\n",
              "      <td>1.0897</td>\n",
              "      <td>1.0899</td>\n",
              "    </tr>\n",
              "    <tr>\n",
              "      <th>2019-10-01 00:01:00</th>\n",
              "      <td>1.0899</td>\n",
              "      <td>1.0896</td>\n",
              "      <td>1.0899</td>\n",
              "      <td>1.0898</td>\n",
              "    </tr>\n",
              "    <tr>\n",
              "      <th>2019-10-01 00:02:00</th>\n",
              "      <td>1.0898</td>\n",
              "      <td>1.0896</td>\n",
              "      <td>1.0898</td>\n",
              "      <td>1.0896</td>\n",
              "    </tr>\n",
              "    <tr>\n",
              "      <th>2019-10-01 00:03:00</th>\n",
              "      <td>1.0898</td>\n",
              "      <td>1.0896</td>\n",
              "      <td>1.0897</td>\n",
              "      <td>1.0898</td>\n",
              "    </tr>\n",
              "    <tr>\n",
              "      <th>2019-10-01 00:04:00</th>\n",
              "      <td>1.0898</td>\n",
              "      <td>1.0896</td>\n",
              "      <td>1.0897</td>\n",
              "      <td>1.0898</td>\n",
              "    </tr>\n",
              "  </tbody>\n",
              "</table>\n",
              "</div>\n",
              "      <button class=\"colab-df-convert\" onclick=\"convertToInteractive('df-652c70ae-dd86-4d8c-84ee-f7a384a74f9a')\"\n",
              "              title=\"Convert this dataframe to an interactive table.\"\n",
              "              style=\"display:none;\">\n",
              "        \n",
              "  <svg xmlns=\"http://www.w3.org/2000/svg\" height=\"24px\"viewBox=\"0 0 24 24\"\n",
              "       width=\"24px\">\n",
              "    <path d=\"M0 0h24v24H0V0z\" fill=\"none\"/>\n",
              "    <path d=\"M18.56 5.44l.94 2.06.94-2.06 2.06-.94-2.06-.94-.94-2.06-.94 2.06-2.06.94zm-11 1L8.5 8.5l.94-2.06 2.06-.94-2.06-.94L8.5 2.5l-.94 2.06-2.06.94zm10 10l.94 2.06.94-2.06 2.06-.94-2.06-.94-.94-2.06-.94 2.06-2.06.94z\"/><path d=\"M17.41 7.96l-1.37-1.37c-.4-.4-.92-.59-1.43-.59-.52 0-1.04.2-1.43.59L10.3 9.45l-7.72 7.72c-.78.78-.78 2.05 0 2.83L4 21.41c.39.39.9.59 1.41.59.51 0 1.02-.2 1.41-.59l7.78-7.78 2.81-2.81c.8-.78.8-2.07 0-2.86zM5.41 20L4 18.59l7.72-7.72 1.47 1.35L5.41 20z\"/>\n",
              "  </svg>\n",
              "      </button>\n",
              "      \n",
              "  <style>\n",
              "    .colab-df-container {\n",
              "      display:flex;\n",
              "      flex-wrap:wrap;\n",
              "      gap: 12px;\n",
              "    }\n",
              "\n",
              "    .colab-df-convert {\n",
              "      background-color: #E8F0FE;\n",
              "      border: none;\n",
              "      border-radius: 50%;\n",
              "      cursor: pointer;\n",
              "      display: none;\n",
              "      fill: #1967D2;\n",
              "      height: 32px;\n",
              "      padding: 0 0 0 0;\n",
              "      width: 32px;\n",
              "    }\n",
              "\n",
              "    .colab-df-convert:hover {\n",
              "      background-color: #E2EBFA;\n",
              "      box-shadow: 0px 1px 2px rgba(60, 64, 67, 0.3), 0px 1px 3px 1px rgba(60, 64, 67, 0.15);\n",
              "      fill: #174EA6;\n",
              "    }\n",
              "\n",
              "    [theme=dark] .colab-df-convert {\n",
              "      background-color: #3B4455;\n",
              "      fill: #D2E3FC;\n",
              "    }\n",
              "\n",
              "    [theme=dark] .colab-df-convert:hover {\n",
              "      background-color: #434B5C;\n",
              "      box-shadow: 0px 1px 3px 1px rgba(0, 0, 0, 0.15);\n",
              "      filter: drop-shadow(0px 1px 2px rgba(0, 0, 0, 0.3));\n",
              "      fill: #FFFFFF;\n",
              "    }\n",
              "  </style>\n",
              "\n",
              "      <script>\n",
              "        const buttonEl =\n",
              "          document.querySelector('#df-652c70ae-dd86-4d8c-84ee-f7a384a74f9a button.colab-df-convert');\n",
              "        buttonEl.style.display =\n",
              "          google.colab.kernel.accessAllowed ? 'block' : 'none';\n",
              "\n",
              "        async function convertToInteractive(key) {\n",
              "          const element = document.querySelector('#df-652c70ae-dd86-4d8c-84ee-f7a384a74f9a');\n",
              "          const dataTable =\n",
              "            await google.colab.kernel.invokeFunction('convertToInteractive',\n",
              "                                                     [key], {});\n",
              "          if (!dataTable) return;\n",
              "\n",
              "          const docLinkHtml = 'Like what you see? Visit the ' +\n",
              "            '<a target=\"_blank\" href=https://colab.research.google.com/notebooks/data_table.ipynb>data table notebook</a>'\n",
              "            + ' to learn more about interactive tables.';\n",
              "          element.innerHTML = '';\n",
              "          dataTable['output_type'] = 'display_data';\n",
              "          await google.colab.output.renderOutput(dataTable, element);\n",
              "          const docLink = document.createElement('div');\n",
              "          docLink.innerHTML = docLinkHtml;\n",
              "          element.appendChild(docLink);\n",
              "        }\n",
              "      </script>\n",
              "    </div>\n",
              "  </div>\n",
              "  "
            ],
            "text/plain": [
              "                       HIGH     LOW    OPEN   CLOSE\n",
              "Date                                               \n",
              "2019-10-01 00:00:00  1.0899  1.0897  1.0897  1.0899\n",
              "2019-10-01 00:01:00  1.0899  1.0896  1.0899  1.0898\n",
              "2019-10-01 00:02:00  1.0898  1.0896  1.0898  1.0896\n",
              "2019-10-01 00:03:00  1.0898  1.0896  1.0897  1.0898\n",
              "2019-10-01 00:04:00  1.0898  1.0896  1.0897  1.0898"
            ]
          },
          "metadata": {},
          "execution_count": 5
        }
      ]
    },
    {
      "cell_type": "code",
      "source": [
        "raw.info()"
      ],
      "metadata": {
        "colab": {
          "base_uri": "https://localhost:8080/"
        },
        "id": "Vg-hkthvMTUj",
        "outputId": "ab05d590-d61d-42c0-fcd9-1ba2510a127c"
      },
      "execution_count": 6,
      "outputs": [
        {
          "output_type": "stream",
          "name": "stdout",
          "text": [
            "<class 'pandas.core.frame.DataFrame'>\n",
            "DatetimeIndex: 96526 entries, 2019-10-01 00:00:00 to 2019-12-31 23:06:00\n",
            "Data columns (total 4 columns):\n",
            " #   Column  Non-Null Count  Dtype  \n",
            "---  ------  --------------  -----  \n",
            " 0   HIGH    96526 non-null  float64\n",
            " 1   LOW     96526 non-null  float64\n",
            " 2   OPEN    96526 non-null  float64\n",
            " 3   CLOSE   96526 non-null  float64\n",
            "dtypes: float64(4)\n",
            "memory usage: 3.7 MB\n"
          ]
        }
      ]
    },
    {
      "cell_type": "code",
      "source": [
        "data = pd.DataFrame(raw['CLOSE'].loc[:])\n",
        "data.columns = [symbol]"
      ],
      "metadata": {
        "id": "Wjxclr9bMVaO"
      },
      "execution_count": 7,
      "outputs": []
    },
    {
      "cell_type": "code",
      "source": [
        "data = data.resample('1h', label='right').last().ffill()"
      ],
      "metadata": {
        "id": "sthVCknjMXpV"
      },
      "execution_count": 8,
      "outputs": []
    },
    {
      "cell_type": "code",
      "source": [
        "list(data.loc['2019-10-01 00:00:00':'2019-10-01 02:00:00'].resample('1h'))"
      ],
      "metadata": {
        "colab": {
          "base_uri": "https://localhost:8080/"
        },
        "id": "eapmdkXVDXzq",
        "outputId": "cb7ad0fe-9825-4509-e3d0-07b1ce32a33f"
      },
      "execution_count": 9,
      "outputs": [
        {
          "output_type": "execute_result",
          "data": {
            "text/plain": [
              "[(Timestamp('2019-10-01 01:00:00', freq='H'),                      EUR_USD\n",
              "  Date                        \n",
              "  2019-10-01 01:00:00   1.0896),\n",
              " (Timestamp('2019-10-01 02:00:00', freq='H'),                      EUR_USD\n",
              "  Date                        \n",
              "  2019-10-01 02:00:00    1.089)]"
            ]
          },
          "metadata": {},
          "execution_count": 9
        }
      ]
    },
    {
      "cell_type": "code",
      "source": [
        "data = data.resample('1h', label='right').last().ffill()"
      ],
      "metadata": {
        "id": "EMf2OZhvMa1x"
      },
      "execution_count": 10,
      "outputs": []
    },
    {
      "cell_type": "code",
      "source": [
        "data.info()"
      ],
      "metadata": {
        "colab": {
          "base_uri": "https://localhost:8080/"
        },
        "id": "seD7Da5nWjM3",
        "outputId": "ca8fff6f-6ba8-4517-fe8c-ef1707eb35b2"
      },
      "execution_count": 11,
      "outputs": [
        {
          "output_type": "stream",
          "name": "stdout",
          "text": [
            "<class 'pandas.core.frame.DataFrame'>\n",
            "DatetimeIndex: 2208 entries, 2019-10-01 02:00:00 to 2020-01-01 01:00:00\n",
            "Freq: H\n",
            "Data columns (total 1 columns):\n",
            " #   Column   Non-Null Count  Dtype  \n",
            "---  ------   --------------  -----  \n",
            " 0   EUR_USD  2208 non-null   float64\n",
            "dtypes: float64(1)\n",
            "memory usage: 34.5 KB\n"
          ]
        }
      ]
    },
    {
      "cell_type": "code",
      "source": [
        "data.plot(figsize=(10, 6));"
      ],
      "metadata": {
        "id": "gZp4OMDjWu-v",
        "outputId": "eff66fa3-6eb2-40fa-8eea-9169547a4851",
        "colab": {
          "base_uri": "https://localhost:8080/",
          "height": 397
        }
      },
      "execution_count": 12,
      "outputs": [
        {
          "output_type": "display_data",
          "data": {
            "image/png": "[encoded data removed]",
            "text/plain": [
              "<Figure size 720x432 with 1 Axes>"
            ]
          },
          "metadata": {
            "needs_background": "light"
          }
        }
      ]
    },
    {
      "cell_type": "markdown",
      "source": [
        "## Baseline Prediction"
      ],
      "metadata": {
        "id": "fQYi2y_TEQNC"
      }
    },
    {
      "cell_type": "code",
      "source": [
        "lags = 5"
      ],
      "metadata": {
        "id": "QV4J7oVGEQm3"
      },
      "execution_count": 13,
      "outputs": []
    },
    {
      "cell_type": "code",
      "source": [
        "def add_lags(data, symbol, lags, window=20):\n",
        "    cols = []\n",
        "    df = data.copy()\n",
        "    df.dropna(inplace=True)\n",
        "    df['r'] = np.log(df / df.shift())\n",
        "    df['sma'] = df[symbol].rolling(window).mean()\n",
        "    df['min'] = df[symbol].rolling(window).min()\n",
        "    df['max'] = df[symbol].rolling(window).max()\n",
        "    df['mom'] = df['r'].rolling(window).mean()\n",
        "    df['vol'] = df['r'].rolling(window).std()\n",
        "    df.dropna(inplace=True)\n",
        "    df['d'] = np.where(df['r'] > 0, 1, 0)\n",
        "    features = [symbol, 'r', 'd', 'sma', 'min', 'max', 'mom', 'vol']\n",
        "    for f in features:\n",
        "        for lag in range(1, lags + 1):\n",
        "            col = f'{f}_lag_{lag}'\n",
        "            df[col] = df[f].shift(lag)\n",
        "            cols.append(col)\n",
        "    df.dropna(inplace=True)\n",
        "    return df, cols"
      ],
      "metadata": {
        "id": "9Om0rY-iET5W"
      },
      "execution_count": 14,
      "outputs": []
    },
    {
      "cell_type": "code",
      "source": [
        "data, cols = add_lags(data, symbol, lags)"
      ],
      "metadata": {
        "id": "z6SybeVXEVhM"
      },
      "execution_count": 15,
      "outputs": []
    },
    {
      "cell_type": "code",
      "source": [
        "data"
      ],
      "metadata": {
        "colab": {
          "base_uri": "https://localhost:8080/",
          "height": 866
        },
        "id": "lkeXtCduza79",
        "outputId": "2fd43e74-9521-4606-e5b1-9ac483870d70"
      },
      "execution_count": 16,
      "outputs": [
        {
          "output_type": "execute_result",
          "data": {
            "text/html": [
              "\n",
              "  <div id=\"df-228ef98d-08fa-4859-bf86-7fdee8b990eb\">\n",
              "    <div class=\"colab-df-container\">\n",
              "      <div>\n",
              "<style scoped>\n",
              "    .dataframe tbody tr th:only-of-type {\n",
              "        vertical-align: middle;\n",
              "    }\n",
              "\n",
              "    .dataframe tbody tr th {\n",
              "        vertical-align: top;\n",
              "    }\n",
              "\n",
              "    .dataframe thead th {\n",
              "        text-align: right;\n",
              "    }\n",
              "</style>\n",
              "<table border=\"1\" class=\"dataframe\">\n",
              "  <thead>\n",
              "    <tr style=\"text-align: right;\">\n",
              "      <th></th>\n",
              "      <th>EUR_USD</th>\n",
              "      <th>r</th>\n",
              "      <th>sma</th>\n",
              "      <th>min</th>\n",
              "      <th>max</th>\n",
              "      <th>mom</th>\n",
              "      <th>vol</th>\n",
              "      <th>d</th>\n",
              "      <th>EUR_USD_lag_1</th>\n",
              "      <th>EUR_USD_lag_2</th>\n",
              "      <th>EUR_USD_lag_3</th>\n",
              "      <th>EUR_USD_lag_4</th>\n",
              "      <th>EUR_USD_lag_5</th>\n",
              "      <th>r_lag_1</th>\n",
              "      <th>r_lag_2</th>\n",
              "      <th>r_lag_3</th>\n",
              "      <th>r_lag_4</th>\n",
              "      <th>r_lag_5</th>\n",
              "      <th>d_lag_1</th>\n",
              "      <th>d_lag_2</th>\n",
              "      <th>d_lag_3</th>\n",
              "      <th>d_lag_4</th>\n",
              "      <th>d_lag_5</th>\n",
              "      <th>sma_lag_1</th>\n",
              "      <th>sma_lag_2</th>\n",
              "      <th>sma_lag_3</th>\n",
              "      <th>sma_lag_4</th>\n",
              "      <th>sma_lag_5</th>\n",
              "      <th>min_lag_1</th>\n",
              "      <th>min_lag_2</th>\n",
              "      <th>min_lag_3</th>\n",
              "      <th>min_lag_4</th>\n",
              "      <th>min_lag_5</th>\n",
              "      <th>max_lag_1</th>\n",
              "      <th>max_lag_2</th>\n",
              "      <th>max_lag_3</th>\n",
              "      <th>max_lag_4</th>\n",
              "      <th>max_lag_5</th>\n",
              "      <th>mom_lag_1</th>\n",
              "      <th>mom_lag_2</th>\n",
              "      <th>mom_lag_3</th>\n",
              "      <th>mom_lag_4</th>\n",
              "      <th>mom_lag_5</th>\n",
              "      <th>vol_lag_1</th>\n",
              "      <th>vol_lag_2</th>\n",
              "      <th>vol_lag_3</th>\n",
              "      <th>vol_lag_4</th>\n",
              "      <th>vol_lag_5</th>\n",
              "    </tr>\n",
              "    <tr>\n",
              "      <th>Date</th>\n",
              "      <th></th>\n",
              "      <th></th>\n",
              "      <th></th>\n",
              "      <th></th>\n",
              "      <th></th>\n",
              "      <th></th>\n",
              "      <th></th>\n",
              "      <th></th>\n",
              "      <th></th>\n",
              "      <th></th>\n",
              "      <th></th>\n",
              "      <th></th>\n",
              "      <th></th>\n",
              "      <th></th>\n",
              "      <th></th>\n",
              "      <th></th>\n",
              "      <th></th>\n",
              "      <th></th>\n",
              "      <th></th>\n",
              "      <th></th>\n",
              "      <th></th>\n",
              "      <th></th>\n",
              "      <th></th>\n",
              "      <th></th>\n",
              "      <th></th>\n",
              "      <th></th>\n",
              "      <th></th>\n",
              "      <th></th>\n",
              "      <th></th>\n",
              "      <th></th>\n",
              "      <th></th>\n",
              "      <th></th>\n",
              "      <th></th>\n",
              "      <th></th>\n",
              "      <th></th>\n",
              "      <th></th>\n",
              "      <th></th>\n",
              "      <th></th>\n",
              "      <th></th>\n",
              "      <th></th>\n",
              "      <th></th>\n",
              "      <th></th>\n",
              "      <th></th>\n",
              "      <th></th>\n",
              "      <th></th>\n",
              "      <th></th>\n",
              "      <th></th>\n",
              "      <th></th>\n",
              "    </tr>\n",
              "  </thead>\n",
              "  <tbody>\n",
              "    <tr>\n",
              "      <th>2019-10-02 03:00:00</th>\n",
              "      <td>1.0937</td>\n",
              "      <td>-9.1429e-05</td>\n",
              "      <td>1.0916</td>\n",
              "      <td>1.0879</td>\n",
              "      <td>1.0938</td>\n",
              "      <td>2.2911e-04</td>\n",
              "      <td>0.0008</td>\n",
              "      <td>0</td>\n",
              "      <td>1.0938</td>\n",
              "      <td>1.0932</td>\n",
              "      <td>1.0931</td>\n",
              "      <td>1.0931</td>\n",
              "      <td>1.0931</td>\n",
              "      <td>5.4870e-04</td>\n",
              "      <td>9.1479e-05</td>\n",
              "      <td>0.0000e+00</td>\n",
              "      <td>0.0000e+00</td>\n",
              "      <td>-5.4875e-04</td>\n",
              "      <td>1.0</td>\n",
              "      <td>1.0</td>\n",
              "      <td>0.0</td>\n",
              "      <td>0.0</td>\n",
              "      <td>0.0</td>\n",
              "      <td>1.0913</td>\n",
              "      <td>1.0911</td>\n",
              "      <td>1.0908</td>\n",
              "      <td>1.0906</td>\n",
              "      <td>1.0904</td>\n",
              "      <td>1.0879</td>\n",
              "      <td>1.0879</td>\n",
              "      <td>1.0879</td>\n",
              "      <td>1.0879</td>\n",
              "      <td>1.0879</td>\n",
              "      <td>1.0938</td>\n",
              "      <td>1.0938</td>\n",
              "      <td>1.0938</td>\n",
              "      <td>1.0938</td>\n",
              "      <td>1.0938</td>\n",
              "      <td>2.2449e-04</td>\n",
              "      <td>2.0165e-04</td>\n",
              "      <td>2.0626e-04</td>\n",
              "      <td>1.8789e-04</td>\n",
              "      <td>1.6035e-04</td>\n",
              "      <td>0.0008</td>\n",
              "      <td>0.0008</td>\n",
              "      <td>0.0008</td>\n",
              "      <td>0.0008</td>\n",
              "      <td>0.0008</td>\n",
              "    </tr>\n",
              "    <tr>\n",
              "      <th>2019-10-02 04:00:00</th>\n",
              "      <td>1.0937</td>\n",
              "      <td>0.0000e+00</td>\n",
              "      <td>1.0918</td>\n",
              "      <td>1.0885</td>\n",
              "      <td>1.0938</td>\n",
              "      <td>2.6586e-04</td>\n",
              "      <td>0.0008</td>\n",
              "      <td>0</td>\n",
              "      <td>1.0937</td>\n",
              "      <td>1.0938</td>\n",
              "      <td>1.0932</td>\n",
              "      <td>1.0931</td>\n",
              "      <td>1.0931</td>\n",
              "      <td>-9.1429e-05</td>\n",
              "      <td>5.4870e-04</td>\n",
              "      <td>9.1479e-05</td>\n",
              "      <td>0.0000e+00</td>\n",
              "      <td>0.0000e+00</td>\n",
              "      <td>0.0</td>\n",
              "      <td>1.0</td>\n",
              "      <td>1.0</td>\n",
              "      <td>0.0</td>\n",
              "      <td>0.0</td>\n",
              "      <td>1.0916</td>\n",
              "      <td>1.0913</td>\n",
              "      <td>1.0911</td>\n",
              "      <td>1.0908</td>\n",
              "      <td>1.0906</td>\n",
              "      <td>1.0879</td>\n",
              "      <td>1.0879</td>\n",
              "      <td>1.0879</td>\n",
              "      <td>1.0879</td>\n",
              "      <td>1.0879</td>\n",
              "      <td>1.0938</td>\n",
              "      <td>1.0938</td>\n",
              "      <td>1.0938</td>\n",
              "      <td>1.0938</td>\n",
              "      <td>1.0938</td>\n",
              "      <td>2.2911e-04</td>\n",
              "      <td>2.2449e-04</td>\n",
              "      <td>2.0165e-04</td>\n",
              "      <td>2.0626e-04</td>\n",
              "      <td>1.8789e-04</td>\n",
              "      <td>0.0008</td>\n",
              "      <td>0.0008</td>\n",
              "      <td>0.0008</td>\n",
              "      <td>0.0008</td>\n",
              "      <td>0.0008</td>\n",
              "    </tr>\n",
              "    <tr>\n",
              "      <th>2019-10-02 05:00:00</th>\n",
              "      <td>1.0936</td>\n",
              "      <td>-9.1437e-05</td>\n",
              "      <td>1.0921</td>\n",
              "      <td>1.0886</td>\n",
              "      <td>1.0938</td>\n",
              "      <td>2.3372e-04</td>\n",
              "      <td>0.0008</td>\n",
              "      <td>0</td>\n",
              "      <td>1.0937</td>\n",
              "      <td>1.0937</td>\n",
              "      <td>1.0938</td>\n",
              "      <td>1.0932</td>\n",
              "      <td>1.0931</td>\n",
              "      <td>0.0000e+00</td>\n",
              "      <td>-9.1429e-05</td>\n",
              "      <td>5.4870e-04</td>\n",
              "      <td>9.1479e-05</td>\n",
              "      <td>0.0000e+00</td>\n",
              "      <td>0.0</td>\n",
              "      <td>0.0</td>\n",
              "      <td>1.0</td>\n",
              "      <td>1.0</td>\n",
              "      <td>0.0</td>\n",
              "      <td>1.0918</td>\n",
              "      <td>1.0916</td>\n",
              "      <td>1.0913</td>\n",
              "      <td>1.0911</td>\n",
              "      <td>1.0908</td>\n",
              "      <td>1.0885</td>\n",
              "      <td>1.0879</td>\n",
              "      <td>1.0879</td>\n",
              "      <td>1.0879</td>\n",
              "      <td>1.0879</td>\n",
              "      <td>1.0938</td>\n",
              "      <td>1.0938</td>\n",
              "      <td>1.0938</td>\n",
              "      <td>1.0938</td>\n",
              "      <td>1.0938</td>\n",
              "      <td>2.6586e-04</td>\n",
              "      <td>2.2911e-04</td>\n",
              "      <td>2.2449e-04</td>\n",
              "      <td>2.0165e-04</td>\n",
              "      <td>2.0626e-04</td>\n",
              "      <td>0.0008</td>\n",
              "      <td>0.0008</td>\n",
              "      <td>0.0008</td>\n",
              "      <td>0.0008</td>\n",
              "      <td>0.0008</td>\n",
              "    </tr>\n",
              "    <tr>\n",
              "      <th>2019-10-02 06:00:00</th>\n",
              "      <td>1.0933</td>\n",
              "      <td>-2.7436e-04</td>\n",
              "      <td>1.0923</td>\n",
              "      <td>1.0886</td>\n",
              "      <td>1.0938</td>\n",
              "      <td>1.8786e-04</td>\n",
              "      <td>0.0008</td>\n",
              "      <td>0</td>\n",
              "      <td>1.0936</td>\n",
              "      <td>1.0937</td>\n",
              "      <td>1.0937</td>\n",
              "      <td>1.0938</td>\n",
              "      <td>1.0932</td>\n",
              "      <td>-9.1437e-05</td>\n",
              "      <td>0.0000e+00</td>\n",
              "      <td>-9.1429e-05</td>\n",
              "      <td>5.4870e-04</td>\n",
              "      <td>9.1479e-05</td>\n",
              "      <td>0.0</td>\n",
              "      <td>0.0</td>\n",
              "      <td>0.0</td>\n",
              "      <td>1.0</td>\n",
              "      <td>1.0</td>\n",
              "      <td>1.0921</td>\n",
              "      <td>1.0918</td>\n",
              "      <td>1.0916</td>\n",
              "      <td>1.0913</td>\n",
              "      <td>1.0911</td>\n",
              "      <td>1.0886</td>\n",
              "      <td>1.0885</td>\n",
              "      <td>1.0879</td>\n",
              "      <td>1.0879</td>\n",
              "      <td>1.0879</td>\n",
              "      <td>1.0938</td>\n",
              "      <td>1.0938</td>\n",
              "      <td>1.0938</td>\n",
              "      <td>1.0938</td>\n",
              "      <td>1.0938</td>\n",
              "      <td>2.3372e-04</td>\n",
              "      <td>2.6586e-04</td>\n",
              "      <td>2.2911e-04</td>\n",
              "      <td>2.2449e-04</td>\n",
              "      <td>2.0165e-04</td>\n",
              "      <td>0.0008</td>\n",
              "      <td>0.0008</td>\n",
              "      <td>0.0008</td>\n",
              "      <td>0.0008</td>\n",
              "      <td>0.0008</td>\n",
              "    </tr>\n",
              "    <tr>\n",
              "      <th>2019-10-02 07:00:00</th>\n",
              "      <td>1.0935</td>\n",
              "      <td>1.8292e-04</td>\n",
              "      <td>1.0925</td>\n",
              "      <td>1.0886</td>\n",
              "      <td>1.0938</td>\n",
              "      <td>1.9700e-04</td>\n",
              "      <td>0.0008</td>\n",
              "      <td>1</td>\n",
              "      <td>1.0933</td>\n",
              "      <td>1.0936</td>\n",
              "      <td>1.0937</td>\n",
              "      <td>1.0937</td>\n",
              "      <td>1.0938</td>\n",
              "      <td>-2.7436e-04</td>\n",
              "      <td>-9.1437e-05</td>\n",
              "      <td>0.0000e+00</td>\n",
              "      <td>-9.1429e-05</td>\n",
              "      <td>5.4870e-04</td>\n",
              "      <td>0.0</td>\n",
              "      <td>0.0</td>\n",
              "      <td>0.0</td>\n",
              "      <td>0.0</td>\n",
              "      <td>1.0</td>\n",
              "      <td>1.0923</td>\n",
              "      <td>1.0921</td>\n",
              "      <td>1.0918</td>\n",
              "      <td>1.0916</td>\n",
              "      <td>1.0913</td>\n",
              "      <td>1.0886</td>\n",
              "      <td>1.0886</td>\n",
              "      <td>1.0885</td>\n",
              "      <td>1.0879</td>\n",
              "      <td>1.0879</td>\n",
              "      <td>1.0938</td>\n",
              "      <td>1.0938</td>\n",
              "      <td>1.0938</td>\n",
              "      <td>1.0938</td>\n",
              "      <td>1.0938</td>\n",
              "      <td>1.8786e-04</td>\n",
              "      <td>2.3372e-04</td>\n",
              "      <td>2.6586e-04</td>\n",
              "      <td>2.2911e-04</td>\n",
              "      <td>2.2449e-04</td>\n",
              "      <td>0.0008</td>\n",
              "      <td>0.0008</td>\n",
              "      <td>0.0008</td>\n",
              "      <td>0.0008</td>\n",
              "      <td>0.0008</td>\n",
              "    </tr>\n",
              "    <tr>\n",
              "      <th>...</th>\n",
              "      <td>...</td>\n",
              "      <td>...</td>\n",
              "      <td>...</td>\n",
              "      <td>...</td>\n",
              "      <td>...</td>\n",
              "      <td>...</td>\n",
              "      <td>...</td>\n",
              "      <td>...</td>\n",
              "      <td>...</td>\n",
              "      <td>...</td>\n",
              "      <td>...</td>\n",
              "      <td>...</td>\n",
              "      <td>...</td>\n",
              "      <td>...</td>\n",
              "      <td>...</td>\n",
              "      <td>...</td>\n",
              "      <td>...</td>\n",
              "      <td>...</td>\n",
              "      <td>...</td>\n",
              "      <td>...</td>\n",
              "      <td>...</td>\n",
              "      <td>...</td>\n",
              "      <td>...</td>\n",
              "      <td>...</td>\n",
              "      <td>...</td>\n",
              "      <td>...</td>\n",
              "      <td>...</td>\n",
              "      <td>...</td>\n",
              "      <td>...</td>\n",
              "      <td>...</td>\n",
              "      <td>...</td>\n",
              "      <td>...</td>\n",
              "      <td>...</td>\n",
              "      <td>...</td>\n",
              "      <td>...</td>\n",
              "      <td>...</td>\n",
              "      <td>...</td>\n",
              "      <td>...</td>\n",
              "      <td>...</td>\n",
              "      <td>...</td>\n",
              "      <td>...</td>\n",
              "      <td>...</td>\n",
              "      <td>...</td>\n",
              "      <td>...</td>\n",
              "      <td>...</td>\n",
              "      <td>...</td>\n",
              "      <td>...</td>\n",
              "      <td>...</td>\n",
              "    </tr>\n",
              "    <tr>\n",
              "      <th>2019-12-31 21:00:00</th>\n",
              "      <td>1.1216</td>\n",
              "      <td>-5.3481e-04</td>\n",
              "      <td>1.1216</td>\n",
              "      <td>1.1201</td>\n",
              "      <td>1.1238</td>\n",
              "      <td>4.9061e-05</td>\n",
              "      <td>0.0006</td>\n",
              "      <td>0</td>\n",
              "      <td>1.1222</td>\n",
              "      <td>1.1226</td>\n",
              "      <td>1.1224</td>\n",
              "      <td>1.1222</td>\n",
              "      <td>1.1217</td>\n",
              "      <td>-3.5638e-04</td>\n",
              "      <td>1.7817e-04</td>\n",
              "      <td>1.7821e-04</td>\n",
              "      <td>4.4565e-04</td>\n",
              "      <td>-1.8704e-03</td>\n",
              "      <td>0.0</td>\n",
              "      <td>1.0</td>\n",
              "      <td>1.0</td>\n",
              "      <td>1.0</td>\n",
              "      <td>0.0</td>\n",
              "      <td>1.1215</td>\n",
              "      <td>1.1214</td>\n",
              "      <td>1.1213</td>\n",
              "      <td>1.1212</td>\n",
              "      <td>1.1210</td>\n",
              "      <td>1.1201</td>\n",
              "      <td>1.1200</td>\n",
              "      <td>1.1200</td>\n",
              "      <td>1.1195</td>\n",
              "      <td>1.1195</td>\n",
              "      <td>1.1238</td>\n",
              "      <td>1.1238</td>\n",
              "      <td>1.1238</td>\n",
              "      <td>1.1238</td>\n",
              "      <td>1.1238</td>\n",
              "      <td>9.8118e-05</td>\n",
              "      <td>1.0255e-04</td>\n",
              "      <td>1.2935e-04</td>\n",
              "      <td>1.0258e-04</td>\n",
              "      <td>7.1371e-05</td>\n",
              "      <td>0.0006</td>\n",
              "      <td>0.0006</td>\n",
              "      <td>0.0006</td>\n",
              "      <td>0.0007</td>\n",
              "      <td>0.0007</td>\n",
              "    </tr>\n",
              "    <tr>\n",
              "      <th>2019-12-31 22:00:00</th>\n",
              "      <td>1.1215</td>\n",
              "      <td>-8.9162e-05</td>\n",
              "      <td>1.1216</td>\n",
              "      <td>1.1201</td>\n",
              "      <td>1.1238</td>\n",
              "      <td>3.5679e-05</td>\n",
              "      <td>0.0006</td>\n",
              "      <td>0</td>\n",
              "      <td>1.1216</td>\n",
              "      <td>1.1222</td>\n",
              "      <td>1.1226</td>\n",
              "      <td>1.1224</td>\n",
              "      <td>1.1222</td>\n",
              "      <td>-5.3481e-04</td>\n",
              "      <td>-3.5638e-04</td>\n",
              "      <td>1.7817e-04</td>\n",
              "      <td>1.7821e-04</td>\n",
              "      <td>4.4565e-04</td>\n",
              "      <td>0.0</td>\n",
              "      <td>0.0</td>\n",
              "      <td>1.0</td>\n",
              "      <td>1.0</td>\n",
              "      <td>1.0</td>\n",
              "      <td>1.1216</td>\n",
              "      <td>1.1215</td>\n",
              "      <td>1.1214</td>\n",
              "      <td>1.1213</td>\n",
              "      <td>1.1212</td>\n",
              "      <td>1.1201</td>\n",
              "      <td>1.1201</td>\n",
              "      <td>1.1200</td>\n",
              "      <td>1.1200</td>\n",
              "      <td>1.1195</td>\n",
              "      <td>1.1238</td>\n",
              "      <td>1.1238</td>\n",
              "      <td>1.1238</td>\n",
              "      <td>1.1238</td>\n",
              "      <td>1.1238</td>\n",
              "      <td>4.9061e-05</td>\n",
              "      <td>9.8118e-05</td>\n",
              "      <td>1.0255e-04</td>\n",
              "      <td>1.2935e-04</td>\n",
              "      <td>1.0258e-04</td>\n",
              "      <td>0.0006</td>\n",
              "      <td>0.0006</td>\n",
              "      <td>0.0006</td>\n",
              "      <td>0.0006</td>\n",
              "      <td>0.0007</td>\n",
              "    </tr>\n",
              "    <tr>\n",
              "      <th>2019-12-31 23:00:00</th>\n",
              "      <td>1.1208</td>\n",
              "      <td>-6.2436e-04</td>\n",
              "      <td>1.1216</td>\n",
              "      <td>1.1201</td>\n",
              "      <td>1.1238</td>\n",
              "      <td>-1.7841e-05</td>\n",
              "      <td>0.0007</td>\n",
              "      <td>0</td>\n",
              "      <td>1.1215</td>\n",
              "      <td>1.1216</td>\n",
              "      <td>1.1222</td>\n",
              "      <td>1.1226</td>\n",
              "      <td>1.1224</td>\n",
              "      <td>-8.9162e-05</td>\n",
              "      <td>-5.3481e-04</td>\n",
              "      <td>-3.5638e-04</td>\n",
              "      <td>1.7817e-04</td>\n",
              "      <td>1.7821e-04</td>\n",
              "      <td>0.0</td>\n",
              "      <td>0.0</td>\n",
              "      <td>0.0</td>\n",
              "      <td>1.0</td>\n",
              "      <td>1.0</td>\n",
              "      <td>1.1216</td>\n",
              "      <td>1.1216</td>\n",
              "      <td>1.1215</td>\n",
              "      <td>1.1214</td>\n",
              "      <td>1.1213</td>\n",
              "      <td>1.1201</td>\n",
              "      <td>1.1201</td>\n",
              "      <td>1.1201</td>\n",
              "      <td>1.1200</td>\n",
              "      <td>1.1200</td>\n",
              "      <td>1.1238</td>\n",
              "      <td>1.1238</td>\n",
              "      <td>1.1238</td>\n",
              "      <td>1.1238</td>\n",
              "      <td>1.1238</td>\n",
              "      <td>3.5679e-05</td>\n",
              "      <td>4.9061e-05</td>\n",
              "      <td>9.8118e-05</td>\n",
              "      <td>1.0255e-04</td>\n",
              "      <td>1.2935e-04</td>\n",
              "      <td>0.0006</td>\n",
              "      <td>0.0006</td>\n",
              "      <td>0.0006</td>\n",
              "      <td>0.0006</td>\n",
              "      <td>0.0006</td>\n",
              "    </tr>\n",
              "    <tr>\n",
              "      <th>2020-01-01 00:00:00</th>\n",
              "      <td>1.1211</td>\n",
              "      <td>2.6763e-04</td>\n",
              "      <td>1.1216</td>\n",
              "      <td>1.1201</td>\n",
              "      <td>1.1238</td>\n",
              "      <td>8.9206e-06</td>\n",
              "      <td>0.0007</td>\n",
              "      <td>1</td>\n",
              "      <td>1.1208</td>\n",
              "      <td>1.1215</td>\n",
              "      <td>1.1216</td>\n",
              "      <td>1.1222</td>\n",
              "      <td>1.1226</td>\n",
              "      <td>-6.2436e-04</td>\n",
              "      <td>-8.9162e-05</td>\n",
              "      <td>-5.3481e-04</td>\n",
              "      <td>-3.5638e-04</td>\n",
              "      <td>1.7817e-04</td>\n",
              "      <td>0.0</td>\n",
              "      <td>0.0</td>\n",
              "      <td>0.0</td>\n",
              "      <td>0.0</td>\n",
              "      <td>1.0</td>\n",
              "      <td>1.1216</td>\n",
              "      <td>1.1216</td>\n",
              "      <td>1.1216</td>\n",
              "      <td>1.1215</td>\n",
              "      <td>1.1214</td>\n",
              "      <td>1.1201</td>\n",
              "      <td>1.1201</td>\n",
              "      <td>1.1201</td>\n",
              "      <td>1.1201</td>\n",
              "      <td>1.1200</td>\n",
              "      <td>1.1238</td>\n",
              "      <td>1.1238</td>\n",
              "      <td>1.1238</td>\n",
              "      <td>1.1238</td>\n",
              "      <td>1.1238</td>\n",
              "      <td>-1.7841e-05</td>\n",
              "      <td>3.5679e-05</td>\n",
              "      <td>4.9061e-05</td>\n",
              "      <td>9.8118e-05</td>\n",
              "      <td>1.0255e-04</td>\n",
              "      <td>0.0007</td>\n",
              "      <td>0.0006</td>\n",
              "      <td>0.0006</td>\n",
              "      <td>0.0006</td>\n",
              "      <td>0.0006</td>\n",
              "    </tr>\n",
              "    <tr>\n",
              "      <th>2020-01-01 01:00:00</th>\n",
              "      <td>1.1211</td>\n",
              "      <td>0.0000e+00</td>\n",
              "      <td>1.1216</td>\n",
              "      <td>1.1201</td>\n",
              "      <td>1.1238</td>\n",
              "      <td>1.7843e-05</td>\n",
              "      <td>0.0007</td>\n",
              "      <td>0</td>\n",
              "      <td>1.1211</td>\n",
              "      <td>1.1208</td>\n",
              "      <td>1.1215</td>\n",
              "      <td>1.1216</td>\n",
              "      <td>1.1222</td>\n",
              "      <td>2.6763e-04</td>\n",
              "      <td>-6.2436e-04</td>\n",
              "      <td>-8.9162e-05</td>\n",
              "      <td>-5.3481e-04</td>\n",
              "      <td>-3.5638e-04</td>\n",
              "      <td>1.0</td>\n",
              "      <td>0.0</td>\n",
              "      <td>0.0</td>\n",
              "      <td>0.0</td>\n",
              "      <td>0.0</td>\n",
              "      <td>1.1216</td>\n",
              "      <td>1.1216</td>\n",
              "      <td>1.1216</td>\n",
              "      <td>1.1216</td>\n",
              "      <td>1.1215</td>\n",
              "      <td>1.1201</td>\n",
              "      <td>1.1201</td>\n",
              "      <td>1.1201</td>\n",
              "      <td>1.1201</td>\n",
              "      <td>1.1201</td>\n",
              "      <td>1.1238</td>\n",
              "      <td>1.1238</td>\n",
              "      <td>1.1238</td>\n",
              "      <td>1.1238</td>\n",
              "      <td>1.1238</td>\n",
              "      <td>8.9206e-06</td>\n",
              "      <td>-1.7841e-05</td>\n",
              "      <td>3.5679e-05</td>\n",
              "      <td>4.9061e-05</td>\n",
              "      <td>9.8118e-05</td>\n",
              "      <td>0.0007</td>\n",
              "      <td>0.0007</td>\n",
              "      <td>0.0006</td>\n",
              "      <td>0.0006</td>\n",
              "      <td>0.0006</td>\n",
              "    </tr>\n",
              "  </tbody>\n",
              "</table>\n",
              "<p>2183 rows × 48 columns</p>\n",
              "</div>\n",
              "      <button class=\"colab-df-convert\" onclick=\"convertToInteractive('df-228ef98d-08fa-4859-bf86-7fdee8b990eb')\"\n",
              "              title=\"Convert this dataframe to an interactive table.\"\n",
              "              style=\"display:none;\">\n",
              "        \n",
              "  <svg xmlns=\"http://www.w3.org/2000/svg\" height=\"24px\"viewBox=\"0 0 24 24\"\n",
              "       width=\"24px\">\n",
              "    <path d=\"M0 0h24v24H0V0z\" fill=\"none\"/>\n",
              "    <path d=\"M18.56 5.44l.94 2.06.94-2.06 2.06-.94-2.06-.94-.94-2.06-.94 2.06-2.06.94zm-11 1L8.5 8.5l.94-2.06 2.06-.94-2.06-.94L8.5 2.5l-.94 2.06-2.06.94zm10 10l.94 2.06.94-2.06 2.06-.94-2.06-.94-.94-2.06-.94 2.06-2.06.94z\"/><path d=\"M17.41 7.96l-1.37-1.37c-.4-.4-.92-.59-1.43-.59-.52 0-1.04.2-1.43.59L10.3 9.45l-7.72 7.72c-.78.78-.78 2.05 0 2.83L4 21.41c.39.39.9.59 1.41.59.51 0 1.02-.2 1.41-.59l7.78-7.78 2.81-2.81c.8-.78.8-2.07 0-2.86zM5.41 20L4 18.59l7.72-7.72 1.47 1.35L5.41 20z\"/>\n",
              "  </svg>\n",
              "      </button>\n",
              "      \n",
              "  <style>\n",
              "    .colab-df-container {\n",
              "      display:flex;\n",
              "      flex-wrap:wrap;\n",
              "      gap: 12px;\n",
              "    }\n",
              "\n",
              "    .colab-df-convert {\n",
              "      background-color: #E8F0FE;\n",
              "      border: none;\n",
              "      border-radius: 50%;\n",
              "      cursor: pointer;\n",
              "      display: none;\n",
              "      fill: #1967D2;\n",
              "      height: 32px;\n",
              "      padding: 0 0 0 0;\n",
              "      width: 32px;\n",
              "    }\n",
              "\n",
              "    .colab-df-convert:hover {\n",
              "      background-color: #E2EBFA;\n",
              "      box-shadow: 0px 1px 2px rgba(60, 64, 67, 0.3), 0px 1px 3px 1px rgba(60, 64, 67, 0.15);\n",
              "      fill: #174EA6;\n",
              "    }\n",
              "\n",
              "    [theme=dark] .colab-df-convert {\n",
              "      background-color: #3B4455;\n",
              "      fill: #D2E3FC;\n",
              "    }\n",
              "\n",
              "    [theme=dark] .colab-df-convert:hover {\n",
              "      background-color: #434B5C;\n",
              "      box-shadow: 0px 1px 3px 1px rgba(0, 0, 0, 0.15);\n",
              "      filter: drop-shadow(0px 1px 2px rgba(0, 0, 0, 0.3));\n",
              "      fill: #FFFFFF;\n",
              "    }\n",
              "  </style>\n",
              "\n",
              "      <script>\n",
              "        const buttonEl =\n",
              "          document.querySelector('#df-228ef98d-08fa-4859-bf86-7fdee8b990eb button.colab-df-convert');\n",
              "        buttonEl.style.display =\n",
              "          google.colab.kernel.accessAllowed ? 'block' : 'none';\n",
              "\n",
              "        async function convertToInteractive(key) {\n",
              "          const element = document.querySelector('#df-228ef98d-08fa-4859-bf86-7fdee8b990eb');\n",
              "          const dataTable =\n",
              "            await google.colab.kernel.invokeFunction('convertToInteractive',\n",
              "                                                     [key], {});\n",
              "          if (!dataTable) return;\n",
              "\n",
              "          const docLinkHtml = 'Like what you see? Visit the ' +\n",
              "            '<a target=\"_blank\" href=https://colab.research.google.com/notebooks/data_table.ipynb>data table notebook</a>'\n",
              "            + ' to learn more about interactive tables.';\n",
              "          element.innerHTML = '';\n",
              "          dataTable['output_type'] = 'display_data';\n",
              "          await google.colab.output.renderOutput(dataTable, element);\n",
              "          const docLink = document.createElement('div');\n",
              "          docLink.innerHTML = docLinkHtml;\n",
              "          element.appendChild(docLink);\n",
              "        }\n",
              "      </script>\n",
              "    </div>\n",
              "  </div>\n",
              "  "
            ],
            "text/plain": [
              "                     EUR_USD           r  ...  vol_lag_4  vol_lag_5\n",
              "Date                                      ...                      \n",
              "2019-10-02 03:00:00   1.0937 -9.1429e-05  ...     0.0008     0.0008\n",
              "2019-10-02 04:00:00   1.0937  0.0000e+00  ...     0.0008     0.0008\n",
              "2019-10-02 05:00:00   1.0936 -9.1437e-05  ...     0.0008     0.0008\n",
              "2019-10-02 06:00:00   1.0933 -2.7436e-04  ...     0.0008     0.0008\n",
              "2019-10-02 07:00:00   1.0935  1.8292e-04  ...     0.0008     0.0008\n",
              "...                      ...         ...  ...        ...        ...\n",
              "2019-12-31 21:00:00   1.1216 -5.3481e-04  ...     0.0007     0.0007\n",
              "2019-12-31 22:00:00   1.1215 -8.9162e-05  ...     0.0006     0.0007\n",
              "2019-12-31 23:00:00   1.1208 -6.2436e-04  ...     0.0006     0.0006\n",
              "2020-01-01 00:00:00   1.1211  2.6763e-04  ...     0.0006     0.0006\n",
              "2020-01-01 01:00:00   1.1211  0.0000e+00  ...     0.0006     0.0006\n",
              "\n",
              "[2183 rows x 48 columns]"
            ]
          },
          "metadata": {},
          "execution_count": 16
        }
      ]
    },
    {
      "cell_type": "code",
      "source": [
        "data.iloc[:10, :14].round(4)"
      ],
      "metadata": {
        "colab": {
          "base_uri": "https://localhost:8080/",
          "height": 394
        },
        "id": "WsICcxhkzeRE",
        "outputId": "a0800b2f-eec1-4059-d471-d2645d11125f"
      },
      "execution_count": 17,
      "outputs": [
        {
          "output_type": "execute_result",
          "data": {
            "text/html": [
              "\n",
              "  <div id=\"df-9e83677c-3ea3-4403-be3f-0c7c449d68b0\">\n",
              "    <div class=\"colab-df-container\">\n",
              "      <div>\n",
              "<style scoped>\n",
              "    .dataframe tbody tr th:only-of-type {\n",
              "        vertical-align: middle;\n",
              "    }\n",
              "\n",
              "    .dataframe tbody tr th {\n",
              "        vertical-align: top;\n",
              "    }\n",
              "\n",
              "    .dataframe thead th {\n",
              "        text-align: right;\n",
              "    }\n",
              "</style>\n",
              "<table border=\"1\" class=\"dataframe\">\n",
              "  <thead>\n",
              "    <tr style=\"text-align: right;\">\n",
              "      <th></th>\n",
              "      <th>EUR_USD</th>\n",
              "      <th>r</th>\n",
              "      <th>sma</th>\n",
              "      <th>min</th>\n",
              "      <th>max</th>\n",
              "      <th>mom</th>\n",
              "      <th>vol</th>\n",
              "      <th>d</th>\n",
              "      <th>EUR_USD_lag_1</th>\n",
              "      <th>EUR_USD_lag_2</th>\n",
              "      <th>EUR_USD_lag_3</th>\n",
              "      <th>EUR_USD_lag_4</th>\n",
              "      <th>EUR_USD_lag_5</th>\n",
              "      <th>r_lag_1</th>\n",
              "    </tr>\n",
              "    <tr>\n",
              "      <th>Date</th>\n",
              "      <th></th>\n",
              "      <th></th>\n",
              "      <th></th>\n",
              "      <th></th>\n",
              "      <th></th>\n",
              "      <th></th>\n",
              "      <th></th>\n",
              "      <th></th>\n",
              "      <th></th>\n",
              "      <th></th>\n",
              "      <th></th>\n",
              "      <th></th>\n",
              "      <th></th>\n",
              "      <th></th>\n",
              "    </tr>\n",
              "  </thead>\n",
              "  <tbody>\n",
              "    <tr>\n",
              "      <th>2019-10-02 03:00:00</th>\n",
              "      <td>1.0937</td>\n",
              "      <td>-0.0001</td>\n",
              "      <td>1.0916</td>\n",
              "      <td>1.0879</td>\n",
              "      <td>1.0938</td>\n",
              "      <td>0.0002</td>\n",
              "      <td>0.0008</td>\n",
              "      <td>0</td>\n",
              "      <td>1.0938</td>\n",
              "      <td>1.0932</td>\n",
              "      <td>1.0931</td>\n",
              "      <td>1.0931</td>\n",
              "      <td>1.0931</td>\n",
              "      <td>0.0005</td>\n",
              "    </tr>\n",
              "    <tr>\n",
              "      <th>2019-10-02 04:00:00</th>\n",
              "      <td>1.0937</td>\n",
              "      <td>0.0000</td>\n",
              "      <td>1.0918</td>\n",
              "      <td>1.0885</td>\n",
              "      <td>1.0938</td>\n",
              "      <td>0.0003</td>\n",
              "      <td>0.0008</td>\n",
              "      <td>0</td>\n",
              "      <td>1.0937</td>\n",
              "      <td>1.0938</td>\n",
              "      <td>1.0932</td>\n",
              "      <td>1.0931</td>\n",
              "      <td>1.0931</td>\n",
              "      <td>-0.0001</td>\n",
              "    </tr>\n",
              "    <tr>\n",
              "      <th>2019-10-02 05:00:00</th>\n",
              "      <td>1.0936</td>\n",
              "      <td>-0.0001</td>\n",
              "      <td>1.0921</td>\n",
              "      <td>1.0886</td>\n",
              "      <td>1.0938</td>\n",
              "      <td>0.0002</td>\n",
              "      <td>0.0008</td>\n",
              "      <td>0</td>\n",
              "      <td>1.0937</td>\n",
              "      <td>1.0937</td>\n",
              "      <td>1.0938</td>\n",
              "      <td>1.0932</td>\n",
              "      <td>1.0931</td>\n",
              "      <td>0.0000</td>\n",
              "    </tr>\n",
              "    <tr>\n",
              "      <th>2019-10-02 06:00:00</th>\n",
              "      <td>1.0933</td>\n",
              "      <td>-0.0003</td>\n",
              "      <td>1.0923</td>\n",
              "      <td>1.0886</td>\n",
              "      <td>1.0938</td>\n",
              "      <td>0.0002</td>\n",
              "      <td>0.0008</td>\n",
              "      <td>0</td>\n",
              "      <td>1.0936</td>\n",
              "      <td>1.0937</td>\n",
              "      <td>1.0937</td>\n",
              "      <td>1.0938</td>\n",
              "      <td>1.0932</td>\n",
              "      <td>-0.0001</td>\n",
              "    </tr>\n",
              "    <tr>\n",
              "      <th>2019-10-02 07:00:00</th>\n",
              "      <td>1.0935</td>\n",
              "      <td>0.0002</td>\n",
              "      <td>1.0925</td>\n",
              "      <td>1.0886</td>\n",
              "      <td>1.0938</td>\n",
              "      <td>0.0002</td>\n",
              "      <td>0.0008</td>\n",
              "      <td>1</td>\n",
              "      <td>1.0933</td>\n",
              "      <td>1.0936</td>\n",
              "      <td>1.0937</td>\n",
              "      <td>1.0937</td>\n",
              "      <td>1.0938</td>\n",
              "      <td>-0.0003</td>\n",
              "    </tr>\n",
              "    <tr>\n",
              "      <th>2019-10-02 08:00:00</th>\n",
              "      <td>1.0923</td>\n",
              "      <td>-0.0011</td>\n",
              "      <td>1.0926</td>\n",
              "      <td>1.0886</td>\n",
              "      <td>1.0938</td>\n",
              "      <td>0.0001</td>\n",
              "      <td>0.0008</td>\n",
              "      <td>0</td>\n",
              "      <td>1.0935</td>\n",
              "      <td>1.0933</td>\n",
              "      <td>1.0936</td>\n",
              "      <td>1.0937</td>\n",
              "      <td>1.0937</td>\n",
              "      <td>0.0002</td>\n",
              "    </tr>\n",
              "    <tr>\n",
              "      <th>2019-10-02 09:00:00</th>\n",
              "      <td>1.0918</td>\n",
              "      <td>-0.0005</td>\n",
              "      <td>1.0927</td>\n",
              "      <td>1.0886</td>\n",
              "      <td>1.0938</td>\n",
              "      <td>0.0001</td>\n",
              "      <td>0.0008</td>\n",
              "      <td>0</td>\n",
              "      <td>1.0923</td>\n",
              "      <td>1.0935</td>\n",
              "      <td>1.0933</td>\n",
              "      <td>1.0936</td>\n",
              "      <td>1.0937</td>\n",
              "      <td>-0.0011</td>\n",
              "    </tr>\n",
              "    <tr>\n",
              "      <th>2019-10-02 10:00:00</th>\n",
              "      <td>1.0904</td>\n",
              "      <td>-0.0013</td>\n",
              "      <td>1.0928</td>\n",
              "      <td>1.0886</td>\n",
              "      <td>1.0938</td>\n",
              "      <td>0.0000</td>\n",
              "      <td>0.0009</td>\n",
              "      <td>0</td>\n",
              "      <td>1.0918</td>\n",
              "      <td>1.0923</td>\n",
              "      <td>1.0935</td>\n",
              "      <td>1.0933</td>\n",
              "      <td>1.0936</td>\n",
              "      <td>-0.0005</td>\n",
              "    </tr>\n",
              "    <tr>\n",
              "      <th>2019-10-02 11:00:00</th>\n",
              "      <td>1.0916</td>\n",
              "      <td>0.0011</td>\n",
              "      <td>1.0929</td>\n",
              "      <td>1.0904</td>\n",
              "      <td>1.0938</td>\n",
              "      <td>0.0001</td>\n",
              "      <td>0.0009</td>\n",
              "      <td>1</td>\n",
              "      <td>1.0904</td>\n",
              "      <td>1.0918</td>\n",
              "      <td>1.0923</td>\n",
              "      <td>1.0935</td>\n",
              "      <td>1.0933</td>\n",
              "      <td>-0.0013</td>\n",
              "    </tr>\n",
              "    <tr>\n",
              "      <th>2019-10-02 12:00:00</th>\n",
              "      <td>1.0920</td>\n",
              "      <td>0.0004</td>\n",
              "      <td>1.0930</td>\n",
              "      <td>1.0904</td>\n",
              "      <td>1.0938</td>\n",
              "      <td>0.0000</td>\n",
              "      <td>0.0007</td>\n",
              "      <td>1</td>\n",
              "      <td>1.0916</td>\n",
              "      <td>1.0904</td>\n",
              "      <td>1.0918</td>\n",
              "      <td>1.0923</td>\n",
              "      <td>1.0935</td>\n",
              "      <td>0.0011</td>\n",
              "    </tr>\n",
              "  </tbody>\n",
              "</table>\n",
              "</div>\n",
              "      <button class=\"colab-df-convert\" onclick=\"convertToInteractive('df-9e83677c-3ea3-4403-be3f-0c7c449d68b0')\"\n",
              "              title=\"Convert this dataframe to an interactive table.\"\n",
              "              style=\"display:none;\">\n",
              "        \n",
              "  <svg xmlns=\"http://www.w3.org/2000/svg\" height=\"24px\"viewBox=\"0 0 24 24\"\n",
              "       width=\"24px\">\n",
              "    <path d=\"M0 0h24v24H0V0z\" fill=\"none\"/>\n",
              "    <path d=\"M18.56 5.44l.94 2.06.94-2.06 2.06-.94-2.06-.94-.94-2.06-.94 2.06-2.06.94zm-11 1L8.5 8.5l.94-2.06 2.06-.94-2.06-.94L8.5 2.5l-.94 2.06-2.06.94zm10 10l.94 2.06.94-2.06 2.06-.94-2.06-.94-.94-2.06-.94 2.06-2.06.94z\"/><path d=\"M17.41 7.96l-1.37-1.37c-.4-.4-.92-.59-1.43-.59-.52 0-1.04.2-1.43.59L10.3 9.45l-7.72 7.72c-.78.78-.78 2.05 0 2.83L4 21.41c.39.39.9.59 1.41.59.51 0 1.02-.2 1.41-.59l7.78-7.78 2.81-2.81c.8-.78.8-2.07 0-2.86zM5.41 20L4 18.59l7.72-7.72 1.47 1.35L5.41 20z\"/>\n",
              "  </svg>\n",
              "      </button>\n",
              "      \n",
              "  <style>\n",
              "    .colab-df-container {\n",
              "      display:flex;\n",
              "      flex-wrap:wrap;\n",
              "      gap: 12px;\n",
              "    }\n",
              "\n",
              "    .colab-df-convert {\n",
              "      background-color: #E8F0FE;\n",
              "      border: none;\n",
              "      border-radius: 50%;\n",
              "      cursor: pointer;\n",
              "      display: none;\n",
              "      fill: #1967D2;\n",
              "      height: 32px;\n",
              "      padding: 0 0 0 0;\n",
              "      width: 32px;\n",
              "    }\n",
              "\n",
              "    .colab-df-convert:hover {\n",
              "      background-color: #E2EBFA;\n",
              "      box-shadow: 0px 1px 2px rgba(60, 64, 67, 0.3), 0px 1px 3px 1px rgba(60, 64, 67, 0.15);\n",
              "      fill: #174EA6;\n",
              "    }\n",
              "\n",
              "    [theme=dark] .colab-df-convert {\n",
              "      background-color: #3B4455;\n",
              "      fill: #D2E3FC;\n",
              "    }\n",
              "\n",
              "    [theme=dark] .colab-df-convert:hover {\n",
              "      background-color: #434B5C;\n",
              "      box-shadow: 0px 1px 3px 1px rgba(0, 0, 0, 0.15);\n",
              "      filter: drop-shadow(0px 1px 2px rgba(0, 0, 0, 0.3));\n",
              "      fill: #FFFFFF;\n",
              "    }\n",
              "  </style>\n",
              "\n",
              "      <script>\n",
              "        const buttonEl =\n",
              "          document.querySelector('#df-9e83677c-3ea3-4403-be3f-0c7c449d68b0 button.colab-df-convert');\n",
              "        buttonEl.style.display =\n",
              "          google.colab.kernel.accessAllowed ? 'block' : 'none';\n",
              "\n",
              "        async function convertToInteractive(key) {\n",
              "          const element = document.querySelector('#df-9e83677c-3ea3-4403-be3f-0c7c449d68b0');\n",
              "          const dataTable =\n",
              "            await google.colab.kernel.invokeFunction('convertToInteractive',\n",
              "                                                     [key], {});\n",
              "          if (!dataTable) return;\n",
              "\n",
              "          const docLinkHtml = 'Like what you see? Visit the ' +\n",
              "            '<a target=\"_blank\" href=https://colab.research.google.com/notebooks/data_table.ipynb>data table notebook</a>'\n",
              "            + ' to learn more about interactive tables.';\n",
              "          element.innerHTML = '';\n",
              "          dataTable['output_type'] = 'display_data';\n",
              "          await google.colab.output.renderOutput(dataTable, element);\n",
              "          const docLink = document.createElement('div');\n",
              "          docLink.innerHTML = docLinkHtml;\n",
              "          element.appendChild(docLink);\n",
              "        }\n",
              "      </script>\n",
              "    </div>\n",
              "  </div>\n",
              "  "
            ],
            "text/plain": [
              "                     EUR_USD       r  ...  EUR_USD_lag_5  r_lag_1\n",
              "Date                                  ...                        \n",
              "2019-10-02 03:00:00   1.0937 -0.0001  ...         1.0931   0.0005\n",
              "2019-10-02 04:00:00   1.0937  0.0000  ...         1.0931  -0.0001\n",
              "2019-10-02 05:00:00   1.0936 -0.0001  ...         1.0931   0.0000\n",
              "2019-10-02 06:00:00   1.0933 -0.0003  ...         1.0932  -0.0001\n",
              "2019-10-02 07:00:00   1.0935  0.0002  ...         1.0938  -0.0003\n",
              "2019-10-02 08:00:00   1.0923 -0.0011  ...         1.0937   0.0002\n",
              "2019-10-02 09:00:00   1.0918 -0.0005  ...         1.0937  -0.0011\n",
              "2019-10-02 10:00:00   1.0904 -0.0013  ...         1.0936  -0.0005\n",
              "2019-10-02 11:00:00   1.0916  0.0011  ...         1.0933  -0.0013\n",
              "2019-10-02 12:00:00   1.0920  0.0004  ...         1.0935   0.0011\n",
              "\n",
              "[10 rows x 14 columns]"
            ]
          },
          "metadata": {},
          "execution_count": 17
        }
      ]
    },
    {
      "cell_type": "code",
      "source": [
        "c = data['d'].value_counts()\n",
        "c"
      ],
      "metadata": {
        "colab": {
          "base_uri": "https://localhost:8080/"
        },
        "id": "3jykECXfzgK8",
        "outputId": "6ac60b2c-0d2b-4361-a5ce-b14fbbd7b202"
      },
      "execution_count": 18,
      "outputs": [
        {
          "output_type": "execute_result",
          "data": {
            "text/plain": [
              "0    1445\n",
              "1     738\n",
              "Name: d, dtype: int64"
            ]
          },
          "metadata": {},
          "execution_count": 18
        }
      ]
    },
    {
      "cell_type": "code",
      "source": [
        "def cw(df):\n",
        "    c0, c1 = np.bincount(df['d'])\n",
        "    w0 = (1 / c0) * (len(df)) / 2\n",
        "    w1 = (1 / c1) * (len(df)) / 2\n",
        "    return {0: w0, 1: w1}"
      ],
      "metadata": {
        "id": "hJbxN7hazyp7"
      },
      "execution_count": 19,
      "outputs": []
    },
    {
      "cell_type": "code",
      "source": [
        "class_weight = cw(data)"
      ],
      "metadata": {
        "id": "HaCm9syPTdz8"
      },
      "execution_count": 20,
      "outputs": []
    },
    {
      "cell_type": "code",
      "source": [
        "class_weight"
      ],
      "metadata": {
        "colab": {
          "base_uri": "https://localhost:8080/"
        },
        "id": "SF-GV4zwUP_p",
        "outputId": "38f48e53-0b04-4771-9a7b-6bfc5424db60"
      },
      "execution_count": 21,
      "outputs": [
        {
          "output_type": "execute_result",
          "data": {
            "text/plain": [
              "{0: 0.755363321799308, 1: 1.4789972899728998}"
            ]
          },
          "metadata": {},
          "execution_count": 21
        }
      ]
    },
    {
      "cell_type": "code",
      "source": [
        "class_weight[0] * c[0]"
      ],
      "metadata": {
        "colab": {
          "base_uri": "https://localhost:8080/"
        },
        "id": "swfsYH6RURf3",
        "outputId": "063847bc-f299-4f76-e614-d539dc1b5869"
      },
      "execution_count": 22,
      "outputs": [
        {
          "output_type": "execute_result",
          "data": {
            "text/plain": [
              "1091.5"
            ]
          },
          "metadata": {},
          "execution_count": 22
        }
      ]
    },
    {
      "cell_type": "code",
      "source": [
        "class_weight[1] * c[1]"
      ],
      "metadata": {
        "colab": {
          "base_uri": "https://localhost:8080/"
        },
        "id": "54VX6m8qUUh5",
        "outputId": "18427f08-c34c-4318-99b1-3fd7cfbcef66"
      },
      "execution_count": 23,
      "outputs": [
        {
          "output_type": "execute_result",
          "data": {
            "text/plain": [
              "1091.5"
            ]
          },
          "metadata": {},
          "execution_count": 23
        }
      ]
    },
    {
      "cell_type": "code",
      "source": [
        "import random\n",
        "import logging\n",
        "import tensorflow as tf\n",
        "from keras.layers import Dense\n",
        "from keras.models import Sequential\n",
        "#from keras.optimizers import Adam\n",
        "from tensorflow.keras.optimizers import Adam\n",
        "from sklearn.metrics import accuracy_score\n",
        "tf.get_logger().setLevel(logging.ERROR)"
      ],
      "metadata": {
        "id": "dFIiFIgSUY56"
      },
      "execution_count": 24,
      "outputs": []
    },
    {
      "cell_type": "code",
      "source": [
        "def set_seeds(seed=100):\n",
        "    random.seed(seed)\n",
        "    np.random.seed(seed)\n",
        "    tf.random.set_seed(seed)"
      ],
      "metadata": {
        "id": "rDxCqouPUbQg"
      },
      "execution_count": 25,
      "outputs": []
    },
    {
      "cell_type": "code",
      "source": [
        "#optimizer = Adam(lr=0.001)\n",
        "optimizer = Adam(learning_rate=0.001)"
      ],
      "metadata": {
        "id": "Q9Ur2IYnVRJE"
      },
      "execution_count": 26,
      "outputs": []
    },
    {
      "cell_type": "code",
      "source": [
        "def create_model(hl=1, hu=128, optimizer=optimizer):\n",
        "    model = Sequential()\n",
        "    model.add(Dense(hu, input_dim=len(cols),\n",
        "                    activation='relu'))\n",
        "    for _ in range(hl):\n",
        "        model.add(Dense(hu, activation='relu'))\n",
        "    model.add(Dense(1, activation='sigmoid'))\n",
        "    model.compile(loss='binary_crossentropy',\n",
        "                  optimizer=optimizer,\n",
        "                  metrics=['accuracy'])\n",
        "    return model"
      ],
      "metadata": {
        "id": "_iKbOaqUVTbE"
      },
      "execution_count": 27,
      "outputs": []
    },
    {
      "cell_type": "code",
      "source": [
        "set_seeds()\n",
        "model = create_model(hl=1, hu=128)"
      ],
      "metadata": {
        "id": "Z6yP-hnPVfVD"
      },
      "execution_count": 28,
      "outputs": []
    },
    {
      "cell_type": "code",
      "source": [
        "model.summary()"
      ],
      "metadata": {
        "colab": {
          "base_uri": "https://localhost:8080/"
        },
        "id": "ZmwlF3Z-WeYO",
        "outputId": "7d533403-b46f-465e-a711-840eced27142"
      },
      "execution_count": 29,
      "outputs": [
        {
          "output_type": "stream",
          "name": "stdout",
          "text": [
            "Model: \"sequential\"\n",
            "_________________________________________________________________\n",
            " Layer (type)                Output Shape              Param #   \n",
            "=================================================================\n",
            " dense (Dense)               (None, 128)               5248      \n",
            "                                                                 \n",
            " dense_1 (Dense)             (None, 128)               16512     \n",
            "                                                                 \n",
            " dense_2 (Dense)             (None, 1)                 129       \n",
            "                                                                 \n",
            "=================================================================\n",
            "Total params: 21,889\n",
            "Trainable params: 21,889\n",
            "Non-trainable params: 0\n",
            "_________________________________________________________________\n"
          ]
        }
      ]
    },
    {
      "cell_type": "code",
      "source": [
        "# First Layer: (40+1)*128\n",
        "# 1 is intercept\n",
        "# 40 is 40 columns"
      ],
      "metadata": {
        "id": "L1PZSawcWigu"
      },
      "execution_count": 30,
      "outputs": []
    },
    {
      "cell_type": "code",
      "source": [
        "# Second Layer: (128+1)*128\n",
        "# 1 is intercept\n",
        "# 128 is unit in prior layer"
      ],
      "metadata": {
        "id": "UbJ2E2bsXLCS"
      },
      "execution_count": 31,
      "outputs": []
    },
    {
      "cell_type": "code",
      "source": [
        "# Final Layer: 128+1"
      ],
      "metadata": {
        "id": "owsyxKkIXdA8"
      },
      "execution_count": 32,
      "outputs": []
    },
    {
      "cell_type": "code",
      "source": [
        "%%time\n",
        "model.fit(data[cols], data['d'], epochs=50,\n",
        "          verbose=False, class_weight=cw(data))"
      ],
      "metadata": {
        "colab": {
          "base_uri": "https://localhost:8080/"
        },
        "id": "3s3zisZzW6PX",
        "outputId": "e7f5b789-50ef-4eb3-b3bb-43b07d56764d"
      },
      "execution_count": 33,
      "outputs": [
        {
          "output_type": "stream",
          "name": "stdout",
          "text": [
            "CPU times: user 11.5 s, sys: 597 ms, total: 12.1 s\n",
            "Wall time: 14.8 s\n"
          ]
        },
        {
          "output_type": "execute_result",
          "data": {
            "text/plain": [
              "<keras.callbacks.History at 0x7f86604bbb50>"
            ]
          },
          "metadata": {},
          "execution_count": 33
        }
      ]
    },
    {
      "cell_type": "code",
      "source": [
        "model.evaluate(data[cols], data['d'])"
      ],
      "metadata": {
        "colab": {
          "base_uri": "https://localhost:8080/"
        },
        "id": "zL1c5EHYW4cb",
        "outputId": "00b32e4d-4e48-4b5e-97c4-fcefc908a0d9"
      },
      "execution_count": 34,
      "outputs": [
        {
          "output_type": "stream",
          "name": "stdout",
          "text": [
            "69/69 [==============================] - 1s 3ms/step - loss: 0.5937 - accuracy: 0.6015\n"
          ]
        },
        {
          "output_type": "execute_result",
          "data": {
            "text/plain": [
              "[0.5937384963035583, 0.6014658808708191]"
            ]
          },
          "metadata": {},
          "execution_count": 34
        }
      ]
    },
    {
      "cell_type": "code",
      "source": [
        "data['p'] = np.where(model.predict(data[cols]) > 0.5, 1, 0)"
      ],
      "metadata": {
        "id": "YOWUEKgyYJTv"
      },
      "execution_count": 35,
      "outputs": []
    },
    {
      "cell_type": "code",
      "source": [
        "data['p'].value_counts()"
      ],
      "metadata": {
        "colab": {
          "base_uri": "https://localhost:8080/"
        },
        "id": "ZCPP6jIsYU_a",
        "outputId": "e7c70a56-d726-44d8-c766-64f900a4bd8e"
      },
      "execution_count": 36,
      "outputs": [
        {
          "output_type": "execute_result",
          "data": {
            "text/plain": [
              "1    1410\n",
              "0     773\n",
              "Name: p, dtype: int64"
            ]
          },
          "metadata": {},
          "execution_count": 36
        }
      ]
    },
    {
      "cell_type": "code",
      "source": [
        "split = int(len(data) * 0.8)"
      ],
      "metadata": {
        "id": "jV2BB-KbYsWl"
      },
      "execution_count": 37,
      "outputs": []
    },
    {
      "cell_type": "code",
      "source": [
        "train = data.iloc[:split].copy()"
      ],
      "metadata": {
        "id": "7LojecV0bcVs"
      },
      "execution_count": 38,
      "outputs": []
    },
    {
      "cell_type": "code",
      "source": [
        "test = data.iloc[split:].copy()"
      ],
      "metadata": {
        "id": "fB4HnWGqbeYS"
      },
      "execution_count": 39,
      "outputs": []
    },
    {
      "cell_type": "code",
      "source": [
        "set_seeds()\n",
        "model = create_model(hl=1, hu=128)"
      ],
      "metadata": {
        "id": "cq9HyhX9bgMC"
      },
      "execution_count": 40,
      "outputs": []
    },
    {
      "cell_type": "code",
      "source": [
        "%%time \n",
        "h = model.fit(train[cols], train['d'],\n",
        "          epochs=50, verbose=False,\n",
        "          validation_split=0.2, shuffle=False,\n",
        "          class_weight=cw(train))"
      ],
      "metadata": {
        "colab": {
          "base_uri": "https://localhost:8080/"
        },
        "id": "qvRt1zKbbhwq",
        "outputId": "caa4fee5-01dd-4471-c383-d7bf1b09d294"
      },
      "execution_count": 41,
      "outputs": [
        {
          "output_type": "stream",
          "name": "stdout",
          "text": [
            "CPU times: user 8.39 s, sys: 544 ms, total: 8.93 s\n",
            "Wall time: 8.76 s\n"
          ]
        }
      ]
    },
    {
      "cell_type": "code",
      "source": [
        "model.evaluate(train[cols], train['d'])"
      ],
      "metadata": {
        "colab": {
          "base_uri": "https://localhost:8080/"
        },
        "id": "Xwmc3zJlbj2V",
        "outputId": "3d8bdd35-6510-4574-d550-fbbe9351276c"
      },
      "execution_count": 42,
      "outputs": [
        {
          "output_type": "stream",
          "name": "stdout",
          "text": [
            "55/55 [==============================] - 0s 2ms/step - loss: 0.6096 - accuracy: 0.5934\n"
          ]
        },
        {
          "output_type": "execute_result",
          "data": {
            "text/plain": [
              "[0.6096417903900146, 0.5933562517166138]"
            ]
          },
          "metadata": {},
          "execution_count": 42
        }
      ]
    },
    {
      "cell_type": "code",
      "source": [
        "model.evaluate(test[cols], test['d'])"
      ],
      "metadata": {
        "colab": {
          "base_uri": "https://localhost:8080/"
        },
        "id": "vd2x7X5ybn7t",
        "outputId": "bc7d1082-7bb0-4067-d355-63727e674628"
      },
      "execution_count": 43,
      "outputs": [
        {
          "output_type": "stream",
          "name": "stdout",
          "text": [
            "14/14 [==============================] - 0s 2ms/step - loss: 0.5931 - accuracy: 0.6133\n"
          ]
        },
        {
          "output_type": "execute_result",
          "data": {
            "text/plain": [
              "[0.5931045413017273, 0.6132723093032837]"
            ]
          },
          "metadata": {},
          "execution_count": 43
        }
      ]
    },
    {
      "cell_type": "code",
      "source": [
        "test['p'] = np.where(model.predict(test[cols]) > 0.5, 1, 0)"
      ],
      "metadata": {
        "id": "l64gJlX4bpd_"
      },
      "execution_count": 44,
      "outputs": []
    },
    {
      "cell_type": "code",
      "source": [
        "test['p'].value_counts()"
      ],
      "metadata": {
        "colab": {
          "base_uri": "https://localhost:8080/"
        },
        "id": "bFkbDkGYbvRL",
        "outputId": "7a977e33-f368-403f-daf3-cbb6addfab40"
      },
      "execution_count": 45,
      "outputs": [
        {
          "output_type": "execute_result",
          "data": {
            "text/plain": [
              "1    284\n",
              "0    153\n",
              "Name: p, dtype: int64"
            ]
          },
          "metadata": {},
          "execution_count": 45
        }
      ]
    },
    {
      "cell_type": "code",
      "source": [
        "res = pd.DataFrame(h.history)"
      ],
      "metadata": {
        "id": "sMYMcBcGbxnT"
      },
      "execution_count": 46,
      "outputs": []
    },
    {
      "cell_type": "code",
      "source": [
        "res.head()"
      ],
      "metadata": {
        "colab": {
          "base_uri": "https://localhost:8080/",
          "height": 206
        },
        "id": "ZA3d22_NdHhR",
        "outputId": "93b3d268-91c1-4dba-b405-67b290cdf5f3"
      },
      "execution_count": 47,
      "outputs": [
        {
          "output_type": "execute_result",
          "data": {
            "text/html": [
              "\n",
              "  <div id=\"df-241e120c-29b7-4f00-b2f8-f53fa325534c\">\n",
              "    <div class=\"colab-df-container\">\n",
              "      <div>\n",
              "<style scoped>\n",
              "    .dataframe tbody tr th:only-of-type {\n",
              "        vertical-align: middle;\n",
              "    }\n",
              "\n",
              "    .dataframe tbody tr th {\n",
              "        vertical-align: top;\n",
              "    }\n",
              "\n",
              "    .dataframe thead th {\n",
              "        text-align: right;\n",
              "    }\n",
              "</style>\n",
              "<table border=\"1\" class=\"dataframe\">\n",
              "  <thead>\n",
              "    <tr style=\"text-align: right;\">\n",
              "      <th></th>\n",
              "      <th>loss</th>\n",
              "      <th>accuracy</th>\n",
              "      <th>val_loss</th>\n",
              "      <th>val_accuracy</th>\n",
              "    </tr>\n",
              "  </thead>\n",
              "  <tbody>\n",
              "    <tr>\n",
              "      <th>0</th>\n",
              "      <td>0.7036</td>\n",
              "      <td>0.5509</td>\n",
              "      <td>0.6735</td>\n",
              "      <td>0.5686</td>\n",
              "    </tr>\n",
              "    <tr>\n",
              "      <th>1</th>\n",
              "      <td>0.6428</td>\n",
              "      <td>0.5745</td>\n",
              "      <td>0.6462</td>\n",
              "      <td>0.5686</td>\n",
              "    </tr>\n",
              "    <tr>\n",
              "      <th>2</th>\n",
              "      <td>0.6239</td>\n",
              "      <td>0.5774</td>\n",
              "      <td>0.6376</td>\n",
              "      <td>0.5543</td>\n",
              "    </tr>\n",
              "    <tr>\n",
              "      <th>3</th>\n",
              "      <td>0.6149</td>\n",
              "      <td>0.5695</td>\n",
              "      <td>0.6304</td>\n",
              "      <td>0.5743</td>\n",
              "    </tr>\n",
              "    <tr>\n",
              "      <th>4</th>\n",
              "      <td>0.6101</td>\n",
              "      <td>0.5695</td>\n",
              "      <td>0.6248</td>\n",
              "      <td>0.5743</td>\n",
              "    </tr>\n",
              "  </tbody>\n",
              "</table>\n",
              "</div>\n",
              "      <button class=\"colab-df-convert\" onclick=\"convertToInteractive('df-241e120c-29b7-4f00-b2f8-f53fa325534c')\"\n",
              "              title=\"Convert this dataframe to an interactive table.\"\n",
              "              style=\"display:none;\">\n",
              "        \n",
              "  <svg xmlns=\"http://www.w3.org/2000/svg\" height=\"24px\"viewBox=\"0 0 24 24\"\n",
              "       width=\"24px\">\n",
              "    <path d=\"M0 0h24v24H0V0z\" fill=\"none\"/>\n",
              "    <path d=\"M18.56 5.44l.94 2.06.94-2.06 2.06-.94-2.06-.94-.94-2.06-.94 2.06-2.06.94zm-11 1L8.5 8.5l.94-2.06 2.06-.94-2.06-.94L8.5 2.5l-.94 2.06-2.06.94zm10 10l.94 2.06.94-2.06 2.06-.94-2.06-.94-.94-2.06-.94 2.06-2.06.94z\"/><path d=\"M17.41 7.96l-1.37-1.37c-.4-.4-.92-.59-1.43-.59-.52 0-1.04.2-1.43.59L10.3 9.45l-7.72 7.72c-.78.78-.78 2.05 0 2.83L4 21.41c.39.39.9.59 1.41.59.51 0 1.02-.2 1.41-.59l7.78-7.78 2.81-2.81c.8-.78.8-2.07 0-2.86zM5.41 20L4 18.59l7.72-7.72 1.47 1.35L5.41 20z\"/>\n",
              "  </svg>\n",
              "      </button>\n",
              "      \n",
              "  <style>\n",
              "    .colab-df-container {\n",
              "      display:flex;\n",
              "      flex-wrap:wrap;\n",
              "      gap: 12px;\n",
              "    }\n",
              "\n",
              "    .colab-df-convert {\n",
              "      background-color: #E8F0FE;\n",
              "      border: none;\n",
              "      border-radius: 50%;\n",
              "      cursor: pointer;\n",
              "      display: none;\n",
              "      fill: #1967D2;\n",
              "      height: 32px;\n",
              "      padding: 0 0 0 0;\n",
              "      width: 32px;\n",
              "    }\n",
              "\n",
              "    .colab-df-convert:hover {\n",
              "      background-color: #E2EBFA;\n",
              "      box-shadow: 0px 1px 2px rgba(60, 64, 67, 0.3), 0px 1px 3px 1px rgba(60, 64, 67, 0.15);\n",
              "      fill: #174EA6;\n",
              "    }\n",
              "\n",
              "    [theme=dark] .colab-df-convert {\n",
              "      background-color: #3B4455;\n",
              "      fill: #D2E3FC;\n",
              "    }\n",
              "\n",
              "    [theme=dark] .colab-df-convert:hover {\n",
              "      background-color: #434B5C;\n",
              "      box-shadow: 0px 1px 3px 1px rgba(0, 0, 0, 0.15);\n",
              "      filter: drop-shadow(0px 1px 2px rgba(0, 0, 0, 0.3));\n",
              "      fill: #FFFFFF;\n",
              "    }\n",
              "  </style>\n",
              "\n",
              "      <script>\n",
              "        const buttonEl =\n",
              "          document.querySelector('#df-241e120c-29b7-4f00-b2f8-f53fa325534c button.colab-df-convert');\n",
              "        buttonEl.style.display =\n",
              "          google.colab.kernel.accessAllowed ? 'block' : 'none';\n",
              "\n",
              "        async function convertToInteractive(key) {\n",
              "          const element = document.querySelector('#df-241e120c-29b7-4f00-b2f8-f53fa325534c');\n",
              "          const dataTable =\n",
              "            await google.colab.kernel.invokeFunction('convertToInteractive',\n",
              "                                                     [key], {});\n",
              "          if (!dataTable) return;\n",
              "\n",
              "          const docLinkHtml = 'Like what you see? Visit the ' +\n",
              "            '<a target=\"_blank\" href=https://colab.research.google.com/notebooks/data_table.ipynb>data table notebook</a>'\n",
              "            + ' to learn more about interactive tables.';\n",
              "          element.innerHTML = '';\n",
              "          dataTable['output_type'] = 'display_data';\n",
              "          await google.colab.output.renderOutput(dataTable, element);\n",
              "          const docLink = document.createElement('div');\n",
              "          docLink.innerHTML = docLinkHtml;\n",
              "          element.appendChild(docLink);\n",
              "        }\n",
              "      </script>\n",
              "    </div>\n",
              "  </div>\n",
              "  "
            ],
            "text/plain": [
              "     loss  accuracy  val_loss  val_accuracy\n",
              "0  0.7036    0.5509    0.6735        0.5686\n",
              "1  0.6428    0.5745    0.6462        0.5686\n",
              "2  0.6239    0.5774    0.6376        0.5543\n",
              "3  0.6149    0.5695    0.6304        0.5743\n",
              "4  0.6101    0.5695    0.6248        0.5743"
            ]
          },
          "metadata": {},
          "execution_count": 47
        }
      ]
    },
    {
      "cell_type": "code",
      "source": [
        "res[['loss', 'val_loss']].plot(figsize=(10, 6), style='--');"
      ],
      "metadata": {
        "colab": {
          "base_uri": "https://localhost:8080/",
          "height": 373
        },
        "id": "R2A-1IISdR40",
        "outputId": "155f96df-b5a8-472c-8c84-73b0b362776a"
      },
      "execution_count": 48,
      "outputs": [
        {
          "output_type": "display_data",
          "data": {
            "image/png": "[encoded data removed]",
            "text/plain": [
              "<Figure size 720x432 with 1 Axes>"
            ]
          },
          "metadata": {
            "needs_background": "light"
          }
        }
      ]
    },
    {
      "cell_type": "code",
      "source": [
        "res[['accuracy', 'val_accuracy']].plot(figsize=(10, 6), style='--');"
      ],
      "metadata": {
        "colab": {
          "base_uri": "https://localhost:8080/",
          "height": 373
        },
        "id": "_uh6UqKRbze-",
        "outputId": "c6bd90a6-db40-4fd0-9018-fbd4fea946b9"
      },
      "execution_count": 49,
      "outputs": [
        {
          "output_type": "display_data",
          "data": {
            "image/png": "[encoded data removed]",
            "text/plain": [
              "<Figure size 720x432 with 1 Axes>"
            ]
          },
          "metadata": {
            "needs_background": "light"
          }
        }
      ]
    },
    {
      "cell_type": "markdown",
      "source": [
        "## Normalization"
      ],
      "metadata": {
        "id": "Q4zH8ciyb94j"
      }
    },
    {
      "cell_type": "code",
      "source": [
        "mu, std = train.mean(), train.std()"
      ],
      "metadata": {
        "id": "Uzx4rgWwcAOL"
      },
      "execution_count": 50,
      "outputs": []
    },
    {
      "cell_type": "code",
      "source": [
        "train_ = (train - mu) / std"
      ],
      "metadata": {
        "id": "6QubhtpscD3w"
      },
      "execution_count": 51,
      "outputs": []
    },
    {
      "cell_type": "code",
      "source": [
        "#train_.std().round(3)"
      ],
      "metadata": {
        "id": "UodHMZjfdiH2"
      },
      "execution_count": 52,
      "outputs": []
    },
    {
      "cell_type": "code",
      "source": [
        "set_seeds()\n",
        "model = create_model(hl=2, hu=128)"
      ],
      "metadata": {
        "id": "krVvfPzYdlCP"
      },
      "execution_count": 53,
      "outputs": []
    },
    {
      "cell_type": "code",
      "source": [
        "%%time \n",
        "h = model.fit(train_[cols], train['d'],\n",
        "          epochs=50, verbose=False,\n",
        "          validation_split=0.2, shuffle=False,\n",
        "          class_weight=cw(train))"
      ],
      "metadata": {
        "id": "JL2Eu6qcdp0J",
        "colab": {
          "base_uri": "https://localhost:8080/"
        },
        "outputId": "0d703f15-9a69-4b2a-d1fa-3817059e5c44"
      },
      "execution_count": 54,
      "outputs": [
        {
          "output_type": "stream",
          "name": "stdout",
          "text": [
            "CPU times: user 8.61 s, sys: 536 ms, total: 9.14 s\n",
            "Wall time: 11.1 s\n"
          ]
        }
      ]
    },
    {
      "cell_type": "code",
      "source": [
        "model.evaluate(train_[cols], train['d'])"
      ],
      "metadata": {
        "colab": {
          "base_uri": "https://localhost:8080/"
        },
        "id": "DwAjtuaJG8Cz",
        "outputId": "7b656168-b742-4bbe-8b2b-6e97cd00a63e"
      },
      "execution_count": 55,
      "outputs": [
        {
          "output_type": "stream",
          "name": "stdout",
          "text": [
            "55/55 [==============================] - 0s 2ms/step - loss: 0.4191 - accuracy: 0.9198\n"
          ]
        },
        {
          "output_type": "execute_result",
          "data": {
            "text/plain": [
              "[0.41909292340278625, 0.9198167324066162]"
            ]
          },
          "metadata": {},
          "execution_count": 55
        }
      ]
    },
    {
      "cell_type": "code",
      "source": [
        "test_ = (test - mu) / std"
      ],
      "metadata": {
        "id": "xSqdLFlyG-DY"
      },
      "execution_count": 56,
      "outputs": []
    },
    {
      "cell_type": "code",
      "source": [
        "model.evaluate(test_[cols], test['d'])"
      ],
      "metadata": {
        "colab": {
          "base_uri": "https://localhost:8080/"
        },
        "id": "-6Qrij9YHFev",
        "outputId": "dbd6af7f-84cb-45f9-b8ee-71739ff96605"
      },
      "execution_count": 57,
      "outputs": [
        {
          "output_type": "stream",
          "name": "stdout",
          "text": [
            "14/14 [==============================] - 0s 2ms/step - loss: 1.4679 - accuracy: 0.6682\n"
          ]
        },
        {
          "output_type": "execute_result",
          "data": {
            "text/plain": [
              "[1.467904806137085, 0.6681922078132629]"
            ]
          },
          "metadata": {},
          "execution_count": 57
        }
      ]
    },
    {
      "cell_type": "code",
      "source": [
        "model.summary()"
      ],
      "metadata": {
        "colab": {
          "base_uri": "https://localhost:8080/"
        },
        "id": "jNbgmseZKv54",
        "outputId": "51f31626-7d9b-4215-9e93-65cde482dd9c"
      },
      "execution_count": 58,
      "outputs": [
        {
          "output_type": "stream",
          "name": "stdout",
          "text": [
            "Model: \"sequential_2\"\n",
            "_________________________________________________________________\n",
            " Layer (type)                Output Shape              Param #   \n",
            "=================================================================\n",
            " dense_6 (Dense)             (None, 128)               5248      \n",
            "                                                                 \n",
            " dense_7 (Dense)             (None, 128)               16512     \n",
            "                                                                 \n",
            " dense_8 (Dense)             (None, 128)               16512     \n",
            "                                                                 \n",
            " dense_9 (Dense)             (None, 1)                 129       \n",
            "                                                                 \n",
            "=================================================================\n",
            "Total params: 38,401\n",
            "Trainable params: 38,401\n",
            "Non-trainable params: 0\n",
            "_________________________________________________________________\n"
          ]
        }
      ]
    },
    {
      "cell_type": "code",
      "source": [
        "test['p'] = np.where(model.predict(test_[cols]) > 0.5, 1, 0)"
      ],
      "metadata": {
        "id": "hQeLF32YHIZD"
      },
      "execution_count": 59,
      "outputs": []
    },
    {
      "cell_type": "code",
      "source": [
        "test['p'].value_counts()"
      ],
      "metadata": {
        "colab": {
          "base_uri": "https://localhost:8080/"
        },
        "id": "D3725RmAHNIC",
        "outputId": "0b1fe15d-355e-4fb2-8c0d-63958acd1f40"
      },
      "execution_count": 60,
      "outputs": [
        {
          "output_type": "execute_result",
          "data": {
            "text/plain": [
              "0    285\n",
              "1    152\n",
              "Name: p, dtype: int64"
            ]
          },
          "metadata": {},
          "execution_count": 60
        }
      ]
    },
    {
      "cell_type": "code",
      "source": [
        "res = pd.DataFrame(h.history)"
      ],
      "metadata": {
        "id": "rq2ZB3vpHOlS"
      },
      "execution_count": 61,
      "outputs": []
    },
    {
      "cell_type": "code",
      "source": [
        "res[['loss','val_loss']].plot(figsize=(10,6),style='--');"
      ],
      "metadata": {
        "colab": {
          "base_uri": "https://localhost:8080/",
          "height": 373
        },
        "id": "U_4BsaO0H910",
        "outputId": "2c4521ab-ac5f-44e2-d339-e6f80eaac9d9"
      },
      "execution_count": 62,
      "outputs": [
        {
          "output_type": "display_data",
          "data": {
            "image/png": "[encoded data removed]",
            "text/plain": [
              "<Figure size 720x432 with 1 Axes>"
            ]
          },
          "metadata": {
            "needs_background": "light"
          }
        }
      ]
    },
    {
      "cell_type": "code",
      "source": [
        "res[['accuracy', 'val_accuracy']].plot(figsize=(10, 6), style='--');"
      ],
      "metadata": {
        "colab": {
          "base_uri": "https://localhost:8080/",
          "height": 373
        },
        "id": "6Em9OLJnHQpN",
        "outputId": "b1830c77-7175-40fe-fcbd-cbcb6d3f4eea"
      },
      "execution_count": 63,
      "outputs": [
        {
          "output_type": "display_data",
          "data": {
            "image/png": "[encoded data removed]",
            "text/plain": [
              "<Figure size 720x432 with 1 Axes>"
            ]
          },
          "metadata": {
            "needs_background": "light"
          }
        }
      ]
    },
    {
      "cell_type": "markdown",
      "source": [
        "## Dropout "
      ],
      "metadata": {
        "id": "CqnwNeTaHWeF"
      }
    },
    {
      "cell_type": "code",
      "source": [
        "from keras.layers import Dropout"
      ],
      "metadata": {
        "id": "u5vF_hCsHZVy"
      },
      "execution_count": 64,
      "outputs": []
    },
    {
      "cell_type": "code",
      "source": [
        "def create_model(hl=1, hu=128, dropout=True, rate=0.3,\n",
        "                 optimizer=optimizer):\n",
        "    model = Sequential()\n",
        "    model.add(Dense(hu, input_dim=len(cols),\n",
        "                    activation='relu'))\n",
        "    if dropout:\n",
        "        model.add(Dropout(rate, seed=100))\n",
        "    for _ in range(hl):\n",
        "        model.add(Dense(hu, activation='relu'))\n",
        "        if dropout:\n",
        "            model.add(Dropout(rate, seed=100))\n",
        "    model.add(Dense(1, activation='sigmoid'))\n",
        "    model.compile(loss='binary_crossentropy', optimizer=optimizer,\n",
        "                 metrics=['accuracy'])\n",
        "    return model"
      ],
      "metadata": {
        "id": "sBThWXVeHcnZ"
      },
      "execution_count": 65,
      "outputs": []
    },
    {
      "cell_type": "code",
      "source": [
        "set_seeds()\n",
        "model = create_model(hl=1, hu=128, rate=0.3)"
      ],
      "metadata": {
        "id": "LlyGQ5JxIWEY"
      },
      "execution_count": 66,
      "outputs": []
    },
    {
      "cell_type": "code",
      "source": [
        "model.summary()"
      ],
      "metadata": {
        "colab": {
          "base_uri": "https://localhost:8080/"
        },
        "id": "9xRl99thyat5",
        "outputId": "4488f701-0efe-47b9-fe60-5a3c6eebd6fc"
      },
      "execution_count": 67,
      "outputs": [
        {
          "output_type": "stream",
          "name": "stdout",
          "text": [
            "Model: \"sequential_3\"\n",
            "_________________________________________________________________\n",
            " Layer (type)                Output Shape              Param #   \n",
            "=================================================================\n",
            " dense_10 (Dense)            (None, 128)               5248      \n",
            "                                                                 \n",
            " dropout (Dropout)           (None, 128)               0         \n",
            "                                                                 \n",
            " dense_11 (Dense)            (None, 128)               16512     \n",
            "                                                                 \n",
            " dropout_1 (Dropout)         (None, 128)               0         \n",
            "                                                                 \n",
            " dense_12 (Dense)            (None, 1)                 129       \n",
            "                                                                 \n",
            "=================================================================\n",
            "Total params: 21,889\n",
            "Trainable params: 21,889\n",
            "Non-trainable params: 0\n",
            "_________________________________________________________________\n"
          ]
        }
      ]
    },
    {
      "cell_type": "code",
      "source": [
        "%%time \n",
        "h = model.fit(train_[cols], train['d'],\n",
        "          epochs=50, verbose=False,\n",
        "          validation_split=0.15, shuffle=False,\n",
        "          class_weight=cw(train))"
      ],
      "metadata": {
        "colab": {
          "base_uri": "https://localhost:8080/"
        },
        "id": "uQ2MpbuBLV-I",
        "outputId": "ef209bac-7d02-4485-e3c5-532a5cbe4325"
      },
      "execution_count": 68,
      "outputs": [
        {
          "output_type": "stream",
          "name": "stdout",
          "text": [
            "CPU times: user 8.19 s, sys: 526 ms, total: 8.71 s\n",
            "Wall time: 10.9 s\n"
          ]
        }
      ]
    },
    {
      "cell_type": "code",
      "source": [
        "model.evaluate(train_[cols], train['d'])"
      ],
      "metadata": {
        "colab": {
          "base_uri": "https://localhost:8080/"
        },
        "id": "93UJBIyhLXgK",
        "outputId": "7c0b4e48-a884-48a7-ecea-74e6034751b3"
      },
      "execution_count": 69,
      "outputs": [
        {
          "output_type": "stream",
          "name": "stdout",
          "text": [
            "55/55 [==============================] - 0s 1ms/step - loss: 0.4455 - accuracy: 0.7772\n"
          ]
        },
        {
          "output_type": "execute_result",
          "data": {
            "text/plain": [
              "[0.44549334049224854, 0.7772050499916077]"
            ]
          },
          "metadata": {},
          "execution_count": 69
        }
      ]
    },
    {
      "cell_type": "code",
      "source": [
        "model.evaluate(test_[cols], test['d'])"
      ],
      "metadata": {
        "colab": {
          "base_uri": "https://localhost:8080/"
        },
        "id": "qTUh1a8NLa1Y",
        "outputId": "45b0a7ae-ed3b-432b-eefc-4afd09165697"
      },
      "execution_count": 70,
      "outputs": [
        {
          "output_type": "stream",
          "name": "stdout",
          "text": [
            "14/14 [==============================] - 0s 3ms/step - loss: 0.5741 - accuracy: 0.6407\n"
          ]
        },
        {
          "output_type": "execute_result",
          "data": {
            "text/plain": [
              "[0.5741218328475952, 0.6407322883605957]"
            ]
          },
          "metadata": {},
          "execution_count": 70
        }
      ]
    },
    {
      "cell_type": "code",
      "source": [
        "res = pd.DataFrame(h.history)"
      ],
      "metadata": {
        "id": "azZjoeXRLdMw"
      },
      "execution_count": 71,
      "outputs": []
    },
    {
      "cell_type": "code",
      "source": [
        "res[['loss','val_loss']].plot(figsize=(10,6),style='--');"
      ],
      "metadata": {
        "colab": {
          "base_uri": "https://localhost:8080/",
          "height": 373
        },
        "id": "cvR1LmoALiGE",
        "outputId": "d3746faa-bfa8-4cef-be24-4b3dab01e683"
      },
      "execution_count": 72,
      "outputs": [
        {
          "output_type": "display_data",
          "data": {
            "image/png": "[encoded data removed]",
            "text/plain": [
              "<Figure size 720x432 with 1 Axes>"
            ]
          },
          "metadata": {
            "needs_background": "light"
          }
        }
      ]
    },
    {
      "cell_type": "code",
      "source": [
        "res[['accuracy', 'val_accuracy']].plot(figsize=(10, 6), style='--');"
      ],
      "metadata": {
        "colab": {
          "base_uri": "https://localhost:8080/",
          "height": 373
        },
        "id": "5kR3bnHaLfE0",
        "outputId": "eae41377-aece-4441-cb3f-d5efad0e757e"
      },
      "execution_count": 73,
      "outputs": [
        {
          "output_type": "display_data",
          "data": {
            "image/png": "[encoded data removed]",
            "text/plain": [
              "<Figure size 720x432 with 1 Axes>"
            ]
          },
          "metadata": {
            "needs_background": "light"
          }
        }
      ]
    },
    {
      "cell_type": "markdown",
      "source": [
        "## Regularization "
      ],
      "metadata": {
        "id": "CUPlXsO-Lw9-"
      }
    },
    {
      "cell_type": "code",
      "source": [
        "from keras.regularizers import l1, l2"
      ],
      "metadata": {
        "id": "t8vhsq7hLxp0"
      },
      "execution_count": 74,
      "outputs": []
    },
    {
      "cell_type": "code",
      "source": [
        "def create_model(hl=1, hu=128, dropout=False, rate=0.3, \n",
        "                 regularize=False, reg=l1(0.0005),\n",
        "                 optimizer=optimizer, input_dim=len(cols)):\n",
        "    if not regularize:\n",
        "        reg = None\n",
        "    model = Sequential()\n",
        "    model.add(Dense(hu, input_dim=input_dim,\n",
        "                    activity_regularizer=reg,\n",
        "                    activation='relu'))\n",
        "    if dropout:\n",
        "        model.add(Dropout(rate, seed=100))\n",
        "    for _ in range(hl):\n",
        "        model.add(Dense(hu, activation='relu',\n",
        "                        activity_regularizer=reg))\n",
        "        if dropout:\n",
        "            model.add(Dropout(rate, seed=100))\n",
        "    model.add(Dense(1, activation='sigmoid'))\n",
        "    model.compile(loss='binary_crossentropy', optimizer=optimizer,\n",
        "                 metrics=['accuracy'])\n",
        "    return model"
      ],
      "metadata": {
        "id": "45gb2V_IL0uC"
      },
      "execution_count": 75,
      "outputs": []
    },
    {
      "cell_type": "code",
      "source": [
        "set_seeds()\n",
        "model = create_model(hl=1, hu=128, regularize=True)"
      ],
      "metadata": {
        "id": "tirvmoRcL2gs"
      },
      "execution_count": 76,
      "outputs": []
    },
    {
      "cell_type": "code",
      "source": [
        "%%time \n",
        "h = model.fit(train_[cols], train['d'],\n",
        "          epochs=50, verbose=False,\n",
        "          validation_split=0.2, shuffle=False,\n",
        "          class_weight=cw(train))"
      ],
      "metadata": {
        "colab": {
          "base_uri": "https://localhost:8080/"
        },
        "id": "lGBGWV6sL4Li",
        "outputId": "36c9e847-73a3-426e-f7a4-ed3625470174"
      },
      "execution_count": 77,
      "outputs": [
        {
          "output_type": "stream",
          "name": "stdout",
          "text": [
            "CPU times: user 7.92 s, sys: 488 ms, total: 8.41 s\n",
            "Wall time: 11 s\n"
          ]
        }
      ]
    },
    {
      "cell_type": "code",
      "source": [
        "model.evaluate(train_[cols], train['d'])"
      ],
      "metadata": {
        "id": "uRSZaxFoL5dg",
        "colab": {
          "base_uri": "https://localhost:8080/"
        },
        "outputId": "3eae7497-23b9-458c-8d39-7d97e66f736b"
      },
      "execution_count": 78,
      "outputs": [
        {
          "output_type": "stream",
          "name": "stdout",
          "text": [
            "55/55 [==============================] - 0s 2ms/step - loss: 0.3610 - accuracy: 0.9026\n"
          ]
        },
        {
          "output_type": "execute_result",
          "data": {
            "text/plain": [
              "[0.36104270815849304, 0.9026346206665039]"
            ]
          },
          "metadata": {},
          "execution_count": 78
        }
      ]
    },
    {
      "cell_type": "code",
      "source": [
        "model.evaluate(test_[cols], test['d'])"
      ],
      "metadata": {
        "colab": {
          "base_uri": "https://localhost:8080/"
        },
        "id": "TDaPnLCM8HGK",
        "outputId": "ceb01ebb-0b35-484f-8c0a-b31441512572"
      },
      "execution_count": 79,
      "outputs": [
        {
          "output_type": "stream",
          "name": "stdout",
          "text": [
            "14/14 [==============================] - 0s 2ms/step - loss: 0.8612 - accuracy: 0.6636\n"
          ]
        },
        {
          "output_type": "execute_result",
          "data": {
            "text/plain": [
              "[0.8611990809440613, 0.6636155843734741]"
            ]
          },
          "metadata": {},
          "execution_count": 79
        }
      ]
    },
    {
      "cell_type": "code",
      "source": [
        "res = pd.DataFrame(h.history)"
      ],
      "metadata": {
        "id": "-9sHz33t8IbX"
      },
      "execution_count": 80,
      "outputs": []
    },
    {
      "cell_type": "code",
      "source": [
        "res[['accuracy', 'val_accuracy']].plot(figsize=(10, 6), style='--');"
      ],
      "metadata": {
        "colab": {
          "base_uri": "https://localhost:8080/",
          "height": 373
        },
        "id": "ZOTxnH-H8KLA",
        "outputId": "405bd346-1a66-4473-9770-d255546b8a54"
      },
      "execution_count": 81,
      "outputs": [
        {
          "output_type": "display_data",
          "data": {
            "image/png": "[encoded data removed]",
            "text/plain": [
              "<Figure size 720x432 with 1 Axes>"
            ]
          },
          "metadata": {
            "needs_background": "light"
          }
        }
      ]
    },
    {
      "cell_type": "code",
      "source": [
        "res.mean()['accuracy'] - res.mean()['val_accuracy']"
      ],
      "metadata": {
        "colab": {
          "base_uri": "https://localhost:8080/"
        },
        "id": "BYN_4avK8MbJ",
        "outputId": "4bd54dd4-3d2f-4d94-936a-79c91e5a9c62"
      },
      "execution_count": 82,
      "outputs": [
        {
          "output_type": "execute_result",
          "data": {
            "text/plain": [
              "0.1791486680507659"
            ]
          },
          "metadata": {},
          "execution_count": 82
        }
      ]
    },
    {
      "cell_type": "markdown",
      "source": [
        "## Bagging"
      ],
      "metadata": {
        "id": "5g0clSnf8Pfq"
      }
    },
    {
      "cell_type": "code",
      "source": [
        "from sklearn.ensemble import BaggingClassifier\n",
        "from keras.wrappers.scikit_learn import KerasClassifier"
      ],
      "metadata": {
        "id": "-k22q2S_8SHB"
      },
      "execution_count": 83,
      "outputs": []
    },
    {
      "cell_type": "code",
      "source": [
        "len(cols)"
      ],
      "metadata": {
        "colab": {
          "base_uri": "https://localhost:8080/"
        },
        "id": "iaFPvkpo8VIq",
        "outputId": "ef34a88c-2399-4491-f402-5dddb1cd6e29"
      },
      "execution_count": 84,
      "outputs": [
        {
          "output_type": "execute_result",
          "data": {
            "text/plain": [
              "40"
            ]
          },
          "metadata": {},
          "execution_count": 84
        }
      ]
    },
    {
      "cell_type": "code",
      "source": [
        "max_features = 0.75"
      ],
      "metadata": {
        "id": "LxGYnxxE8ncH"
      },
      "execution_count": 85,
      "outputs": []
    },
    {
      "cell_type": "code",
      "source": [
        "set_seeds()\n",
        "base_estimator = KerasClassifier(build_fn=create_model,\n",
        "                        verbose=False, epochs=20, hl=1, hu=128,\n",
        "                        dropout=True, regularize=False,\n",
        "                        input_dim=int(len(cols) * max_features))"
      ],
      "metadata": {
        "colab": {
          "base_uri": "https://localhost:8080/"
        },
        "id": "j664ATsf8pGQ",
        "outputId": "77ea0e52-0579-482c-e081-f3c4a4de3b3e"
      },
      "execution_count": 86,
      "outputs": [
        {
          "output_type": "stream",
          "name": "stderr",
          "text": [
            "/usr/local/lib/python3.7/dist-packages/ipykernel_launcher.py:5: DeprecationWarning: KerasClassifier is deprecated, use Sci-Keras (https://github.com/adriangb/scikeras) instead.\n",
            "  \"\"\"\n"
          ]
        }
      ]
    },
    {
      "cell_type": "code",
      "source": [
        "model_bag = BaggingClassifier(base_estimator=base_estimator,\n",
        "                          n_estimators=15,\n",
        "                          max_samples=0.75,\n",
        "                          max_features=max_features,\n",
        "                          bootstrap=True,\n",
        "                          bootstrap_features=True,\n",
        "                          n_jobs=1,\n",
        "                          random_state=100,\n",
        "                         )"
      ],
      "metadata": {
        "id": "XUoaYzvP8q49"
      },
      "execution_count": 87,
      "outputs": []
    },
    {
      "cell_type": "code",
      "source": [
        "%time model_bag.fit(train_[cols], train['d'])"
      ],
      "metadata": {
        "id": "Sk4dgjWb82X4",
        "colab": {
          "base_uri": "https://localhost:8080/"
        },
        "outputId": "50ef56a8-41cd-4d9a-fc2e-a27a9f44b5a3"
      },
      "execution_count": 88,
      "outputs": [
        {
          "output_type": "stream",
          "name": "stdout",
          "text": [
            "CPU times: user 44.3 s, sys: 2.09 s, total: 46.4 s\n",
            "Wall time: 48.6 s\n"
          ]
        },
        {
          "output_type": "execute_result",
          "data": {
            "text/plain": [
              "BaggingClassifier(base_estimator=<keras.wrappers.scikit_learn.KerasClassifier object at 0x7f865b5e2d90>,\n",
              "                  bootstrap_features=True, max_features=0.75, max_samples=0.75,\n",
              "                  n_estimators=15, n_jobs=1, random_state=100)"
            ]
          },
          "metadata": {},
          "execution_count": 88
        }
      ]
    },
    {
      "cell_type": "code",
      "source": [
        "model_bag.score(train_[cols], train['d'])"
      ],
      "metadata": {
        "colab": {
          "base_uri": "https://localhost:8080/"
        },
        "id": "cumvxki8ZUrW",
        "outputId": "a9f8dbc9-0905-4044-c918-cc6b6a59ec8d"
      },
      "execution_count": 89,
      "outputs": [
        {
          "output_type": "execute_result",
          "data": {
            "text/plain": [
              "0.7605956471935853"
            ]
          },
          "metadata": {},
          "execution_count": 89
        }
      ]
    },
    {
      "cell_type": "code",
      "source": [
        "model_bag.score(test_[cols], test['d'])"
      ],
      "metadata": {
        "colab": {
          "base_uri": "https://localhost:8080/"
        },
        "id": "jXCEJUN5ZXUz",
        "outputId": "132bd97d-08d9-4419-a755-ddd2e1e64767"
      },
      "execution_count": 90,
      "outputs": [
        {
          "output_type": "execute_result",
          "data": {
            "text/plain": [
              "0.665903890160183"
            ]
          },
          "metadata": {},
          "execution_count": 90
        }
      ]
    },
    {
      "cell_type": "code",
      "source": [
        "test['p'] = model_bag.predict(test_[cols])"
      ],
      "metadata": {
        "id": "Qb1gN9rCZZGg"
      },
      "execution_count": 91,
      "outputs": []
    },
    {
      "cell_type": "code",
      "source": [
        "test['p'].value_counts()"
      ],
      "metadata": {
        "colab": {
          "base_uri": "https://localhost:8080/"
        },
        "id": "kXT8WYY5ZafP",
        "outputId": "0f71d7c5-69e7-4e18-ec1c-e5753ff6a4cd"
      },
      "execution_count": 92,
      "outputs": [
        {
          "output_type": "execute_result",
          "data": {
            "text/plain": [
              "0    380\n",
              "1     57\n",
              "Name: p, dtype: int64"
            ]
          },
          "metadata": {},
          "execution_count": 92
        }
      ]
    },
    {
      "cell_type": "markdown",
      "source": [
        "## Optimizers"
      ],
      "metadata": {
        "id": "Ch1lpJPxZv51"
      }
    },
    {
      "cell_type": "code",
      "source": [
        "import time"
      ],
      "metadata": {
        "id": "_VvtMH3qZzK3"
      },
      "execution_count": 93,
      "outputs": []
    },
    {
      "cell_type": "code",
      "source": [
        "optimizers = ['sgd', 'rmsprop', 'adagrad', 'adadelta',\n",
        "              'adam', 'adamax', 'nadam']"
      ],
      "metadata": {
        "id": "B2Zd7-xVZ0w_"
      },
      "execution_count": 94,
      "outputs": []
    },
    {
      "cell_type": "code",
      "source": [
        "%%time\n",
        "for optimizer in optimizers:\n",
        "    set_seeds()\n",
        "    model = create_model(hl=1, hu=128,\n",
        "                     dropout=True, rate=0.3,\n",
        "                     regularize=False, reg=l2(0.001),\n",
        "                     optimizer=optimizer\n",
        "                    )\n",
        "    t0 = time.time()\n",
        "    model.fit(train_[cols], train['d'],\n",
        "              epochs=50, verbose=False,\n",
        "              validation_split=0.2, shuffle=False,\n",
        "              class_weight=cw(train))\n",
        "    t1 = time.time()\n",
        "    t = t1 - t0\n",
        "    acc_tr = model.evaluate(train_[cols], train['d'], verbose=False)[1]\n",
        "    acc_te = model.evaluate(test_[cols], test['d'], verbose=False)[1]\n",
        "    out = f'{optimizer:10s} | time[s]: {t:.4f} | in-sample={acc_tr:.4f}'\n",
        "    out += f' | out-of-sample={acc_te:.4f}'\n",
        "    print(out)"
      ],
      "metadata": {
        "colab": {
          "base_uri": "https://localhost:8080/"
        },
        "id": "uxbfV-tHZ2G1",
        "outputId": "ccc486ce-452d-4087-9647-83750e0cc9f6"
      },
      "execution_count": 95,
      "outputs": [
        {
          "output_type": "stream",
          "name": "stdout",
          "text": [
            "sgd        | time[s]: 8.0911 | in-sample=0.6077 | out-of-sample=0.6499\n",
            "rmsprop    | time[s]: 11.3056 | in-sample=0.7176 | out-of-sample=0.6293\n",
            "adagrad    | time[s]: 6.5107 | in-sample=0.5630 | out-of-sample=0.6293\n",
            "adadelta   | time[s]: 10.8806 | in-sample=0.6438 | out-of-sample=0.6545\n",
            "adam       | time[s]: 7.2118 | in-sample=0.7056 | out-of-sample=0.6522\n",
            "adamax     | time[s]: 6.6877 | in-sample=0.6357 | out-of-sample=0.6613\n",
            "nadam      | time[s]: 7.4873 | in-sample=0.7371 | out-of-sample=0.6499\n",
            "CPU times: user 59.2 s, sys: 3.1 s, total: 1min 2s\n",
            "Wall time: 1min\n"
          ]
        }
      ]
    },
    {
      "cell_type": "code",
      "source": [
        "test['p'] = np.where(model.predict(test_[cols]) > 0.5, 1, 0)"
      ],
      "metadata": {
        "id": "1XIhORK7Z48R"
      },
      "execution_count": 96,
      "outputs": []
    },
    {
      "cell_type": "code",
      "source": [
        "test['p'].value_counts()"
      ],
      "metadata": {
        "colab": {
          "base_uri": "https://localhost:8080/"
        },
        "id": "NPWDPVEWh9yC",
        "outputId": "fc823e7c-8fb9-4730-e1ed-7a3dbec154da"
      },
      "execution_count": 97,
      "outputs": [
        {
          "output_type": "execute_result",
          "data": {
            "text/plain": [
              "0    247\n",
              "1    190\n",
              "Name: p, dtype: int64"
            ]
          },
          "metadata": {},
          "execution_count": 97
        }
      ]
    },
    {
      "cell_type": "code",
      "source": [
        "accuracy_score(test['p'], test['d'])"
      ],
      "metadata": {
        "colab": {
          "base_uri": "https://localhost:8080/"
        },
        "id": "zcs9koZeh_CW",
        "outputId": "28ed4daf-c38d-4363-ed37-c863ec4e9cba"
      },
      "execution_count": 98,
      "outputs": [
        {
          "output_type": "execute_result",
          "data": {
            "text/plain": [
              "0.6498855835240275"
            ]
          },
          "metadata": {},
          "execution_count": 98
        }
      ]
    },
    {
      "cell_type": "code",
      "source": [
        "%%time\n",
        "for optimizer in optimizers:\n",
        "    set_seeds()\n",
        "    model = create_model(hl=1, hu=128,\n",
        "                     dropout=True, rate=0.3,\n",
        "                     regularize=False, reg=l2(0.001),\n",
        "                     optimizer=optimizer\n",
        "                    )\n",
        "    t0 = time.time()\n",
        "    h = model.fit(train_[cols], train['d'],\n",
        "              epochs=50, verbose=False,\n",
        "              validation_split=0.2, shuffle=False,\n",
        "              class_weight=cw(train))\n",
        "    t1 = time.time()\n",
        "    t = t1 - t0\n",
        "\n",
        "    acc_tr = h.history['accuracy'][-1]\n",
        "    acc_va = h.history['val_accuracy'][-1]\n",
        "\n",
        "    out = f'{optimizer:10s} | time[s]: {t:.4f} | in-sample={acc_tr:.4f}'\n",
        "    out += f' | out-of-sample={acc_va:.4f}'\n",
        "    print(out)"
      ],
      "metadata": {
        "colab": {
          "base_uri": "https://localhost:8080/"
        },
        "id": "LRtovkRGiBNd",
        "outputId": "04e82c77-e7f0-43c7-8ce7-894dc3f4d54f"
      },
      "execution_count": 101,
      "outputs": [
        {
          "output_type": "stream",
          "name": "stdout",
          "text": [
            "sgd        | time[s]: 8.5313 | in-sample=0.6454 | out-of-sample=0.5829\n",
            "rmsprop    | time[s]: 6.8924 | in-sample=0.7178 | out-of-sample=0.6143\n",
            "adagrad    | time[s]: 6.4438 | in-sample=0.6196 | out-of-sample=0.5057\n",
            "adadelta   | time[s]: 6.6232 | in-sample=0.6261 | out-of-sample=0.6114\n",
            "adam       | time[s]: 10.8755 | in-sample=0.7393 | out-of-sample=0.6257\n",
            "adamax     | time[s]: 10.8980 | in-sample=0.6848 | out-of-sample=0.6000\n",
            "nadam      | time[s]: 8.0639 | in-sample=0.7328 | out-of-sample=0.6229\n",
            "CPU times: user 57.8 s, sys: 2.79 s, total: 1min\n",
            "Wall time: 58.7 s\n"
          ]
        }
      ]
    },
    {
      "cell_type": "code",
      "source": [
        "optimizers = ['sgd', 'rmsprop', 'adagrad', 'adadelta',\n",
        "              'adam', 'adamax', 'nadam']"
      ],
      "metadata": {
        "id": "MPb9EKHGtFA1"
      },
      "execution_count": 109,
      "outputs": []
    },
    {
      "cell_type": "code",
      "source": [
        "%%time\n",
        "\n",
        "optimizers = optimizers[4]\n",
        "set_seeds()\n",
        "model = create_model(hl=1, hu=128,\n",
        "                     dropout=True, rate=0.3,\n",
        "                     regularize=False, reg=l2(0.001),\n",
        "                     optimizer=optimizer\n",
        "                    )\n",
        "\n",
        "t0 = time.time()\n",
        "\n",
        "h = model.fit(train_[cols], train['d'],\n",
        "              epochs=50, verbose=False,\n",
        "              validation_split=0.2, shuffle=False,\n",
        "              class_weight=cw(train))\n",
        "\n",
        "t1 = time.time()\n",
        "t = t1 - t0\n",
        "\n",
        "acc_te = h.history['val_accuracy'][-1]\n",
        "\n",
        "out = f'{optimizer:10s} | time[s]: {t:.4f} | out-of-sample={acc_te:.4f}'\n",
        "\n",
        "print(out)"
      ],
      "metadata": {
        "colab": {
          "base_uri": "https://localhost:8080/"
        },
        "id": "73f_RmFHqbGA",
        "outputId": "2303b1af-f6fb-4c05-d7e8-1923f5250ba5"
      },
      "execution_count": 110,
      "outputs": [
        {
          "output_type": "stream",
          "name": "stdout",
          "text": [
            "nadam      | time[s]: 7.4790 | out-of-sample=0.6229\n",
            "CPU times: user 9.23 s, sys: 390 ms, total: 9.62 s\n",
            "Wall time: 7.53 s\n"
          ]
        }
      ]
    },
    {
      "cell_type": "code",
      "source": [
        ""
      ],
      "metadata": {
        "id": "YruW7Hvqrj9V"
      },
      "execution_count": null,
      "outputs": []
    }
  ]
}