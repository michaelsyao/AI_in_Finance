{
  "nbformat": 4,
  "nbformat_minor": 0,
  "metadata": {
    "colab": {
      "name": "01.ipynb",
      "provenance": [],
      "collapsed_sections": [],
      "authorship_tag": "ABX9TyMA1UmdBY02SUuTwouJgrx3",
      "include_colab_link": true
    },
    "kernelspec": {
      "name": "python3",
      "display_name": "Python 3"
    },
    "language_info": {
      "name": "python"
    }
  },
  "cells": [
    {
      "cell_type": "markdown",
      "metadata": {
        "id": "view-in-github",
        "colab_type": "text"
      },
      "source": [
        "<a href=\"https://colab.research.google.com/github/michaelsyao/AI_in_Finance/blob/main/01.ipynb\" target=\"_parent\"><img src=\"https://colab.research.google.com/assets/colab-badge.svg\" alt=\"Open In Colab\"/></a>"
      ]
    },
    {
      "cell_type": "code",
      "execution_count": 3,
      "metadata": {
        "id": "IqxnCczcA2vm"
      },
      "outputs": [],
      "source": [
        "import numpy as np\n",
        "import pandas as pd\n",
        "from pylab import plt, mpl\n",
        "plt.style.use('seaborn')\n",
        "mpl.rcParams['savefig.dpi'] = 300\n",
        "mpl.rcParams['font.family'] = 'serif'\n",
        "np.set_printoptions(precision=4, suppress=True)"
      ]
    },
    {
      "cell_type": "code",
      "source": [
        "from sklearn.cluster import KMeans\n",
        "from sklearn.datasets import make_blobs"
      ],
      "metadata": {
        "id": "d1Rxie0cBKFV"
      },
      "execution_count": 4,
      "outputs": []
    },
    {
      "cell_type": "code",
      "source": [
        "x, y = make_blobs(n_samples=100, centers=4,\n",
        "                  random_state=500, cluster_std=1.25)"
      ],
      "metadata": {
        "id": "yasJ1_n8BxTu"
      },
      "execution_count": 5,
      "outputs": []
    },
    {
      "cell_type": "code",
      "source": [
        "y"
      ],
      "metadata": {
        "colab": {
          "base_uri": "https://localhost:8080/"
        },
        "id": "ihG2yrs3Bzwx",
        "outputId": "2c0e7609-4362-4e6e-b39c-45e6a6c6ca7f"
      },
      "execution_count": 6,
      "outputs": [
        {
          "output_type": "execute_result",
          "data": {
            "text/plain": [
              "array([1, 1, 2, 3, 2, 2, 1, 3, 2, 3, 3, 1, 3, 0, 0, 1, 3, 0, 3, 0, 0, 1,\n",
              "       2, 3, 2, 2, 0, 0, 2, 1, 3, 2, 2, 0, 2, 1, 2, 1, 3, 3, 3, 2, 0, 0,\n",
              "       1, 2, 3, 0, 3, 0, 1, 0, 2, 0, 2, 1, 2, 3, 0, 1, 2, 0, 1, 3, 1, 0,\n",
              "       2, 2, 2, 3, 1, 2, 3, 0, 3, 1, 3, 0, 3, 3, 2, 1, 2, 1, 3, 3, 1, 3,\n",
              "       0, 0, 0, 1, 1, 1, 1, 0, 1, 2, 0, 0])"
            ]
          },
          "metadata": {},
          "execution_count": 6
        }
      ]
    },
    {
      "cell_type": "code",
      "source": [
        "model = KMeans(n_clusters=4, random_state=0)"
      ],
      "metadata": {
        "id": "VKccXCxYB1zA"
      },
      "execution_count": 7,
      "outputs": []
    },
    {
      "cell_type": "code",
      "source": [
        "model.fit(x)"
      ],
      "metadata": {
        "colab": {
          "base_uri": "https://localhost:8080/"
        },
        "id": "PVMLEXQ7B6pX",
        "outputId": "41e64180-73b9-4913-ecde-d9f3e19110b2"
      },
      "execution_count": 8,
      "outputs": [
        {
          "output_type": "execute_result",
          "data": {
            "text/plain": [
              "KMeans(n_clusters=4, random_state=0)"
            ]
          },
          "metadata": {},
          "execution_count": 8
        }
      ]
    },
    {
      "cell_type": "code",
      "source": [
        "y_ = model.predict(x)"
      ],
      "metadata": {
        "id": "zVtHYOFrB814"
      },
      "execution_count": 9,
      "outputs": []
    },
    {
      "cell_type": "code",
      "source": [
        "y_"
      ],
      "metadata": {
        "colab": {
          "base_uri": "https://localhost:8080/"
        },
        "id": "pMoR4s2fB-_y",
        "outputId": "84bc9d01-27aa-4360-8288-5cce4fa8a1c9"
      },
      "execution_count": 12,
      "outputs": [
        {
          "output_type": "execute_result",
          "data": {
            "text/plain": [
              "array([0, 0, 2, 1, 2, 2, 0, 1, 2, 1, 1, 0, 1, 3, 3, 0, 1, 3, 1, 3, 3, 0,\n",
              "       2, 1, 2, 2, 3, 3, 2, 0, 1, 2, 2, 3, 2, 0, 2, 0, 1, 1, 1, 2, 3, 3,\n",
              "       0, 2, 1, 3, 1, 3, 0, 3, 2, 3, 2, 0, 2, 1, 3, 0, 2, 3, 0, 1, 0, 3,\n",
              "       2, 2, 2, 1, 0, 2, 1, 3, 1, 0, 1, 3, 1, 1, 2, 0, 2, 0, 1, 1, 0, 1,\n",
              "       3, 3, 3, 0, 0, 0, 0, 3, 0, 2, 3, 3], dtype=int32)"
            ]
          },
          "metadata": {},
          "execution_count": 12
        }
      ]
    },
    {
      "cell_type": "code",
      "source": [
        "plt.figure(figsize=(10, 6))\n",
        "plt.scatter(x[:, 0], x[:, 1], c=y_,  cmap='coolwarm');"
      ],
      "metadata": {
        "colab": {
          "base_uri": "https://localhost:8080/",
          "height": 373
        },
        "id": "TG_LnogrCBmh",
        "outputId": "18febdf3-2eaf-4fdc-b524-a2e25e2f18a3"
      },
      "execution_count": 13,
      "outputs": [
        {
          "output_type": "display_data",
          "data": {
            "image/png": "[encoded data removed]",
            "text/plain": [
              "<Figure size 720x432 with 1 Axes>"
            ]
          },
          "metadata": {}
        }
      ]
    },
    {
      "cell_type": "markdown",
      "source": [
        "## Reinforement Learning"
      ],
      "metadata": {
        "id": "hldCdCKeDLWz"
      }
    },
    {
      "cell_type": "code",
      "source": [
        "ssp = [1, 1, 1, 1, 0]"
      ],
      "metadata": {
        "id": "4eEsBSi5DXaz"
      },
      "execution_count": 14,
      "outputs": []
    },
    {
      "cell_type": "code",
      "source": [
        "asp = [1, 0]"
      ],
      "metadata": {
        "id": "IklCnAUdDbeD"
      },
      "execution_count": 15,
      "outputs": []
    },
    {
      "cell_type": "code",
      "source": [
        "def epoch():\n",
        "    tr = 0\n",
        "    for _ in range(100):\n",
        "        a = np.random.choice(asp)\n",
        "        s = np.random.choice(ssp)\n",
        "        if a == s:\n",
        "            tr += 1\n",
        "    return tr"
      ],
      "metadata": {
        "id": "bIT9NFiLDffP"
      },
      "execution_count": 26,
      "outputs": []
    },
    {
      "cell_type": "code",
      "source": [
        "rl = np.array([epoch() for _ in range(15)])\n",
        "rl"
      ],
      "metadata": {
        "colab": {
          "base_uri": "https://localhost:8080/"
        },
        "id": "0iQYt46xDiLs",
        "outputId": "60d97110-c291-4c01-821f-bb042f6ca4bb"
      },
      "execution_count": 27,
      "outputs": [
        {
          "output_type": "execute_result",
          "data": {
            "text/plain": [
              "array([50, 43, 49, 52, 47, 46, 45, 52, 60, 54, 51, 51, 49, 49, 48])"
            ]
          },
          "metadata": {},
          "execution_count": 27
        }
      ]
    },
    {
      "cell_type": "code",
      "source": [
        "rl.mean()"
      ],
      "metadata": {
        "colab": {
          "base_uri": "https://localhost:8080/"
        },
        "id": "ZSRleq7NDrrA",
        "outputId": "d9ab5b6f-6389-4a69-f6c4-311f9b18f8d7"
      },
      "execution_count": 28,
      "outputs": [
        {
          "output_type": "execute_result",
          "data": {
            "text/plain": [
              "49.733333333333334"
            ]
          },
          "metadata": {},
          "execution_count": 28
        }
      ]
    },
    {
      "cell_type": "code",
      "source": [
        "ssp = [1, 1, 1, 1, 0]"
      ],
      "metadata": {
        "id": "k1tXCI14DxUa"
      },
      "execution_count": 29,
      "outputs": []
    },
    {
      "cell_type": "code",
      "source": [
        "def epoch():\n",
        "    tr = 0\n",
        "    asp = [0, 1]\n",
        "    for _ in range(100):\n",
        "        a = np.random.choice(asp)\n",
        "        s = np.random.choice(ssp)\n",
        "        if a == s:\n",
        "            tr += 1\n",
        "        asp.append(s)\n",
        "    return tr"
      ],
      "metadata": {
        "id": "pkdAOYRHDzRy"
      },
      "execution_count": 30,
      "outputs": []
    },
    {
      "cell_type": "code",
      "source": [
        "rl = np.array([epoch() for _ in range(15)])\n",
        "rl"
      ],
      "metadata": {
        "colab": {
          "base_uri": "https://localhost:8080/"
        },
        "id": "i0JJjL2OD1U5",
        "outputId": "3a190ead-fe37-458c-a375-cce5bca6bc06"
      },
      "execution_count": 32,
      "outputs": [
        {
          "output_type": "execute_result",
          "data": {
            "text/plain": [
              "array([63, 67, 66, 66, 84, 58, 72, 67, 65, 59, 74, 59, 68, 58, 69])"
            ]
          },
          "metadata": {},
          "execution_count": 32
        }
      ]
    },
    {
      "cell_type": "code",
      "source": [
        "rl.mean()"
      ],
      "metadata": {
        "colab": {
          "base_uri": "https://localhost:8080/"
        },
        "id": "uOwCnHzsGcEw",
        "outputId": "0e77a132-4ef1-44b6-9013-26f4b23ab18b"
      },
      "execution_count": 33,
      "outputs": [
        {
          "output_type": "execute_result",
          "data": {
            "text/plain": [
              "66.33333333333333"
            ]
          },
          "metadata": {},
          "execution_count": 33
        }
      ]
    },
    {
      "cell_type": "markdown",
      "source": [
        "## Supervised Learning"
      ],
      "metadata": {
        "id": "pqqbjzmKHyof"
      }
    },
    {
      "cell_type": "code",
      "source": [
        "def f(x):\n",
        "    return 2 * x ** 2 - x ** 3 / 3"
      ],
      "metadata": {
        "id": "e6onXDvwH1cS"
      },
      "execution_count": 34,
      "outputs": []
    },
    {
      "cell_type": "code",
      "source": [
        "x = np.linspace(-2, 4, 25)\n",
        "x"
      ],
      "metadata": {
        "colab": {
          "base_uri": "https://localhost:8080/"
        },
        "id": "luEQ01orH6o7",
        "outputId": "57e0e175-056d-438e-83bc-a69448654ee3"
      },
      "execution_count": 36,
      "outputs": [
        {
          "output_type": "execute_result",
          "data": {
            "text/plain": [
              "array([-2.  , -1.75, -1.5 , -1.25, -1.  , -0.75, -0.5 , -0.25,  0.  ,\n",
              "        0.25,  0.5 ,  0.75,  1.  ,  1.25,  1.5 ,  1.75,  2.  ,  2.25,\n",
              "        2.5 ,  2.75,  3.  ,  3.25,  3.5 ,  3.75,  4.  ])"
            ]
          },
          "metadata": {},
          "execution_count": 36
        }
      ]
    },
    {
      "cell_type": "code",
      "source": [
        "y=f(x)"
      ],
      "metadata": {
        "colab": {
          "base_uri": "https://localhost:8080/"
        },
        "id": "xnXV7WrtIBL9",
        "outputId": "719f5067-55d8-4948-8025-27832c7aa395"
      },
      "execution_count": 38,
      "outputs": [
        {
          "output_type": "execute_result",
          "data": {
            "text/plain": [
              "array([10.6667,  7.9115,  5.625 ,  3.776 ,  2.3333,  1.2656,  0.5417,\n",
              "        0.1302,  0.    ,  0.1198,  0.4583,  0.9844,  1.6667,  2.474 ,\n",
              "        3.375 ,  4.3385,  5.3333,  6.3281,  7.2917,  8.1927,  9.    ,\n",
              "        9.6823, 10.2083, 10.5469, 10.6667])"
            ]
          },
          "metadata": {},
          "execution_count": 38
        }
      ]
    },
    {
      "cell_type": "code",
      "source": [
        "plt.figure(figsize = (10,6))\n",
        "plt.plot(x, y, 'ro');"
      ],
      "metadata": {
        "colab": {
          "base_uri": "https://localhost:8080/",
          "height": 373
        },
        "id": "VxIGJkR3IT7k",
        "outputId": "382070a0-c6f0-400e-d2ba-f42204467107"
      },
      "execution_count": 39,
      "outputs": [
        {
          "output_type": "display_data",
          "data": {
            "image/png": "[encoded data removed]",
            "text/plain": [
              "<Figure size 720x432 with 1 Axes>"
            ]
          },
          "metadata": {}
        }
      ]
    },
    {
      "cell_type": "code",
      "source": [
        "beta = np.cov(x, y, ddof=0)[0,1] / np.var(x)\n",
        "beta"
      ],
      "metadata": {
        "colab": {
          "base_uri": "https://localhost:8080/"
        },
        "id": "aXX5OymHIikn",
        "outputId": "e9686b2e-495e-412c-d492-b9af36584e93"
      },
      "execution_count": 40,
      "outputs": [
        {
          "output_type": "execute_result",
          "data": {
            "text/plain": [
              "1.0541666666666667"
            ]
          },
          "metadata": {},
          "execution_count": 40
        }
      ]
    },
    {
      "cell_type": "code",
      "source": [
        "alpha = y.mean() - beta * x.mean()\n",
        "alpha"
      ],
      "metadata": {
        "colab": {
          "base_uri": "https://localhost:8080/"
        },
        "id": "KWYePlPMI-IO",
        "outputId": "b3dcc670-f4b4-4b90-a68b-9e9106b90625"
      },
      "execution_count": 41,
      "outputs": [
        {
          "output_type": "execute_result",
          "data": {
            "text/plain": [
              "3.8625000000000003"
            ]
          },
          "metadata": {},
          "execution_count": 41
        }
      ]
    },
    {
      "cell_type": "code",
      "source": [
        "y_ = alpha + beta * x"
      ],
      "metadata": {
        "id": "lx80oePxJF0v"
      },
      "execution_count": 42,
      "outputs": []
    },
    {
      "cell_type": "code",
      "source": [
        "MSE = ((y - y_) ** 2).mean()\n",
        "MSE"
      ],
      "metadata": {
        "colab": {
          "base_uri": "https://localhost:8080/"
        },
        "id": "PSH06MHsJMHy",
        "outputId": "3a5907a3-d053-4348-e2c8-da1d87d01d47"
      },
      "execution_count": 43,
      "outputs": [
        {
          "output_type": "execute_result",
          "data": {
            "text/plain": [
              "10.721953125"
            ]
          },
          "metadata": {},
          "execution_count": 43
        }
      ]
    },
    {
      "cell_type": "code",
      "source": [
        ""
      ],
      "metadata": {
        "id": "fk8IUR4HJgr1"
      },
      "execution_count": null,
      "outputs": []
    }
  ]
}